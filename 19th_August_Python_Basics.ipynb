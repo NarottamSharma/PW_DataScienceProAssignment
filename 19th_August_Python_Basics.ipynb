{
 "cells": [
  {
   "cell_type": "markdown",
   "id": "58eb7d09-29ce-4098-a786-2d2667fed70f",
   "metadata": {},
   "source": [
    "TOPIC: Python Basics Variable"
   ]
  },
  {
   "cell_type": "markdown",
   "id": "04a9f778-751e-4ba2-b035-45b78c73f701",
   "metadata": {},
   "source": [
    "1. Declare two variables, `x` and `y`, and assign them integer values. Swap the values of these variables without using any temporary variable."
   ]
  },
  {
   "cell_type": "code",
   "execution_count": 1,
   "id": "820adaa6-e55a-4efb-bc31-6f4f9e4f1038",
   "metadata": {},
   "outputs": [
    {
     "name": "stdout",
     "output_type": "stream",
     "text": [
      "The value of x after swapping:  11\n",
      "The value of y after swapping:  10\n"
     ]
    }
   ],
   "source": [
    "x=10 \n",
    "y=11 \n",
    "x,y=y,x # The value swap the two topmost stack item [Rot_Two()]\n",
    "print(\"The value of x after swapping: \",x)\n",
    "print(\"The value of y after swapping: \",y)"
   ]
  },
  {
   "cell_type": "markdown",
   "id": "a75fae28-7515-42f5-9f9c-192cf2512fe3",
   "metadata": {},
   "source": [
    "2. Create a program that calculates the area of a rectangle. Take the length and width as inputs from the user and store them in variables. Calculate and display the area."
   ]
  },
  {
   "cell_type": "code",
   "execution_count": 37,
   "id": "0c68cd61-1358-475b-9c02-f4b0803b3e9c",
   "metadata": {},
   "outputs": [
    {
     "name": "stdin",
     "output_type": "stream",
     "text": [
      "Enter the length of Rectangle : 12\n",
      "Enter the width of Rectangle : 4\n"
     ]
    },
    {
     "name": "stdout",
     "output_type": "stream",
     "text": [
      "Area of Rectangle is: 48.0\n"
     ]
    }
   ],
   "source": [
    "length=float(input(\"Enter the length of Rectangle :\"))\n",
    "width=float(input(\"Enter the width of Rectangle :\"))\n",
    "area_rectangles=length*width # Multiplication \n",
    "print(\"Area of Rectangle is:\",area_rectangles)\n"
   ]
  },
  {
   "cell_type": "markdown",
   "id": "182055fe-f141-4b88-8250-997ff30191b9",
   "metadata": {},
   "source": [
    "3. Write a Python program that converts temperatures from Celsius to Fahrenheit. Take the temperature in Celsius as input, store it in a variable, convert it to Fahrenheit, and display the result."
   ]
  },
  {
   "cell_type": "code",
   "execution_count": 27,
   "id": "6f561257-4c88-4c89-8ac4-7509672d9e44",
   "metadata": {},
   "outputs": [
    {
     "name": "stdin",
     "output_type": "stream",
     "text": [
      "Enter value in celsius : 3\n"
     ]
    },
    {
     "name": "stdout",
     "output_type": "stream",
     "text": [
      "Fahrenheit temperature : 37.4\n"
     ]
    }
   ],
   "source": [
    "celsius = int(input(\"Enter value in celsius :\")) # Temperature in celsius degree\n",
    "fahrenheit = (celsius * 1.8) + 32 # Converting the temperature to fehrenheit using the formula\n",
    "print(\"Fahrenheit temperature :\",fahrenheit)\n"
   ]
  },
  {
   "cell_type": "markdown",
   "id": "77053dd4-40ff-411b-b4ff-c823f8ca641c",
   "metadata": {},
   "source": [
    "TOPIC: String Based Questions"
   ]
  },
  {
   "cell_type": "markdown",
   "id": "9fa6bed9-6aa3-4de1-955b-7e6bb6ea9d65",
   "metadata": {},
   "source": [
    "1. Write a Python program that takes a string as input and prints the length of the string.\n"
   ]
  },
  {
   "cell_type": "code",
   "execution_count": 30,
   "id": "6bd8ec80-bfaa-4d84-b5f1-4f98f9b1d163",
   "metadata": {},
   "outputs": [
    {
     "name": "stdin",
     "output_type": "stream",
     "text": [
      "Enter a String : Radha\n"
     ]
    },
    {
     "name": "stdout",
     "output_type": "stream",
     "text": [
      "The length of string : 5\n"
     ]
    }
   ],
   "source": [
    "# 1st method\n",
    "string=input(\"Enter a String :\")\n",
    "count=0 #Initial length of string is 0\n",
    "for i in string:  \n",
    "    count=count+1 # for every character in string it incremates\n",
    "print(\"The length of string :\",count)\n",
    "    "
   ]
  },
  {
   "cell_type": "code",
   "execution_count": 33,
   "id": "f21a85bf-2493-4c5d-8fdd-c1605ae1b1b5",
   "metadata": {},
   "outputs": [
    {
     "name": "stdin",
     "output_type": "stream",
     "text": [
      "Enter a String : Narottam\n"
     ]
    },
    {
     "data": {
      "text/plain": [
       "8"
      ]
     },
     "execution_count": 33,
     "metadata": {},
     "output_type": "execute_result"
    }
   ],
   "source": [
    "# 2nd method\n",
    "string=input(\"Enter a String :\")\n",
    "len(string) # The len() function return sthe number of items in an object."
   ]
  },
  {
   "cell_type": "markdown",
   "id": "3947e6b2-f726-4368-8892-3ebfe5f20ad7",
   "metadata": {},
   "source": [
    "2. Create a program that takes a sentence from the user and counts the number of vowels (a, e, i, o, u) in the string."
   ]
  },
  {
   "cell_type": "code",
   "execution_count": 34,
   "id": "32af9b09-fd35-4068-8308-2e1bbb7baf14",
   "metadata": {},
   "outputs": [
    {
     "name": "stdin",
     "output_type": "stream",
     "text": [
      "Enter the sentences : Hari OM, This is Narottam\n"
     ]
    },
    {
     "name": "stdout",
     "output_type": "stream",
     "text": [
      "The number of vowels in sentences : 8\n"
     ]
    }
   ],
   "source": [
    "sentence=input(\"Enter the sentences :\") \n",
    "count=0 #initiated initial count as 0 for vowels\n",
    "for i in sentence:\n",
    "    if(i=='a' or i=='e' or i=='i' or i=='o' or i=='u' or i=='A' or i=='E' or i=='I' or i=='O' or i=='U'):# checking condition for vowels in sentence\n",
    "        count=count+1 # for every vowel in sentence the value of count increases \n",
    "print(\"The number of vowels in sentences :\",count)\n",
    "        "
   ]
  },
  {
   "cell_type": "markdown",
   "id": "2aa5ecf6-e6ae-4c97-8b50-174965f4fe38",
   "metadata": {},
   "source": [
    "3. Given a string, reverse the order of characters using string slicing and print the reversed string."
   ]
  },
  {
   "cell_type": "code",
   "execution_count": 37,
   "id": "02514c33-1be2-4f83-b087-41c04e9263fd",
   "metadata": {},
   "outputs": [
    {
     "name": "stdin",
     "output_type": "stream",
     "text": [
      " radha\n"
     ]
    },
    {
     "data": {
      "text/plain": [
       "'ahdar'"
      ]
     },
     "execution_count": 37,
     "metadata": {},
     "output_type": "execute_result"
    }
   ],
   "source": [
    "input(\"Enter a string :\")[::-1]# Taking input and slicing in reverse direction\n",
    "# slice(start, end, step) -1 jump slicing from backward"
   ]
  },
  {
   "cell_type": "markdown",
   "id": "d7263bb0-3a5b-4ff7-8daf-26f0612ff79d",
   "metadata": {},
   "source": [
    "4. Write a program that takes a string as input and checks if it is a palindrome (reads the same forwards and backwards)."
   ]
  },
  {
   "cell_type": "code",
   "execution_count": 36,
   "id": "406c639f-7f64-4509-9a94-f6b5157046e1",
   "metadata": {},
   "outputs": [
    {
     "name": "stdin",
     "output_type": "stream",
     "text": [
      "Enter a string : madam\n"
     ]
    },
    {
     "name": "stdout",
     "output_type": "stream",
     "text": [
      "palindrome\n"
     ]
    }
   ],
   "source": [
    "string=input(\"Enter a string :\")\n",
    "if string==string[::-1]:\n",
    "    print(\"palindrome\")\n",
    "else:\n",
    "    print(\"Not palindrome\")"
   ]
  },
  {
   "cell_type": "markdown",
   "id": "6034093d-38d8-440e-884a-a96b2558499f",
   "metadata": {},
   "source": [
    "5. Create a program that takes a string as input and removes all the spaces from it. Print the modified string without spaces."
   ]
  },
  {
   "cell_type": "code",
   "execution_count": 28,
   "id": "74a616aa-e315-495e-9651-f5d96688b91d",
   "metadata": {},
   "outputs": [
    {
     "name": "stdin",
     "output_type": "stream",
     "text": [
      "Enter a string :    Narottam  \n"
     ]
    },
    {
     "data": {
      "text/plain": [
       "'Narottam'"
      ]
     },
     "execution_count": 28,
     "metadata": {},
     "output_type": "execute_result"
    }
   ],
   "source": [
    "s=input(\"Enter a string :\")\n",
    "s.strip()"
   ]
  }
 ],
 "metadata": {
  "kernelspec": {
   "display_name": "Python 3 (ipykernel)",
   "language": "python",
   "name": "python3"
  },
  "language_info": {
   "codemirror_mode": {
    "name": "ipython",
    "version": 3
   },
   "file_extension": ".py",
   "mimetype": "text/x-python",
   "name": "python",
   "nbconvert_exporter": "python",
   "pygments_lexer": "ipython3",
   "version": "3.10.9"
  }
 },
 "nbformat": 4,
 "nbformat_minor": 5
}

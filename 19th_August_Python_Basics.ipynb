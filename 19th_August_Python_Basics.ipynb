{
 "cells": [
  {
   "cell_type": "markdown",
   "id": "ec0e3835",
   "metadata": {},
   "source": [
    "TOPIC: Python Basics Variable"
   ]
  },
  {
   "cell_type": "markdown",
   "id": "572b5c1d",
   "metadata": {},
   "source": [
    "1. Declare two variables, x and y, and assign them integer values. Swap the values of these variables without using any temporary variable."
   ]
  },
  {
   "cell_type": "code",
   "execution_count": 1,
   "id": "e8bfb72d",
   "metadata": {},
   "outputs": [
    {
     "name": "stdout",
     "output_type": "stream",
     "text": [
      "The value of x after swapping:  11\n",
      "The value of y after swapping:  10\n"
     ]
    }
   ],
   "source": [
    "x=10 \n",
    "y=11 \n",
    "x,y=y,x # The value swap the two topmost stack item [Rot_Two()]\n",
    "print(\"The value of x after swapping: \",x)\n",
    "print(\"The value of y after swapping: \",y)"
   ]
  },
  {
   "cell_type": "markdown",
   "id": "41d96b0e",
   "metadata": {},
   "source": [
    "2. Create a program that calculates the area of a rectangle. Take the length and width as inputs from the user and store them in variables. Calculate and display the area."
   ]
  },
  {
   "cell_type": "code",
   "execution_count": 2,
   "id": "ac3c823b",
   "metadata": {
    "scrolled": true
   },
   "outputs": [
    {
     "name": "stdout",
     "output_type": "stream",
     "text": [
      "Enter the length of Rectangle :12\n",
      "Enter the width of Rectangle :3\n",
      "Area of Rectangle is: 36.0\n"
     ]
    }
   ],
   "source": [
    "length=float(input(\"Enter the length of Rectangle :\"))\n",
    "width=float(input(\"Enter the width of Rectangle :\"))\n",
    "area_rectangles=length*width # Multiplication \n",
    "print(\"Area of Rectangle is:\",area_rectangles)"
   ]
  },
  {
   "cell_type": "markdown",
   "id": "c0059e96",
   "metadata": {},
   "source": [
    "3. Write a Python program that converts temperatures from Celsius to Fahrenheit. Take the temperature in Celsius as input, store it in a variable, convert it to Fahrenheit, and display the result."
   ]
  },
  {
   "cell_type": "code",
   "execution_count": 3,
   "id": "ee2da24f",
   "metadata": {},
   "outputs": [
    {
     "name": "stdout",
     "output_type": "stream",
     "text": [
      "Enter value in celsius :20\n",
      "Fahrenheit temperature : 68.0\n"
     ]
    }
   ],
   "source": [
    "celsius = int(input(\"Enter value in celsius :\")) # Temperature in celsius degree\n",
    "fahrenheit = (celsius * 1.8) + 32 # Converting the temperature to fehrenheit using the formula\n",
    "print(\"Fahrenheit temperature :\",fahrenheit)"
   ]
  },
  {
   "cell_type": "markdown",
   "id": "c6a3d87a",
   "metadata": {},
   "source": [
    "TOPIC: String Based Questions"
   ]
  },
  {
   "cell_type": "markdown",
   "id": "9356dad3",
   "metadata": {},
   "source": [
    "1. Write a Python program that takes a string as input and prints the length of the string."
   ]
  },
  {
   "cell_type": "code",
   "execution_count": 6,
   "id": "aada93b5",
   "metadata": {},
   "outputs": [
    {
     "name": "stdout",
     "output_type": "stream",
     "text": [
      "Enter a String :Radha\n",
      "The length of string : 5\n"
     ]
    }
   ],
   "source": [
    "# 1st method\n",
    "string=input(\"Enter a String :\")\n",
    "count=0 #Initial length of string is 0\n",
    "for i in string:  \n",
    "    count=count+1 # for every character in string it incremates\n",
    "print(\"The length of string :\",count)"
   ]
  },
  {
   "cell_type": "code",
   "execution_count": 7,
   "id": "e1205459",
   "metadata": {},
   "outputs": [
    {
     "name": "stdout",
     "output_type": "stream",
     "text": [
      "Enter a String :Narottam\n"
     ]
    },
    {
     "data": {
      "text/plain": [
       "8"
      ]
     },
     "execution_count": 7,
     "metadata": {},
     "output_type": "execute_result"
    }
   ],
   "source": [
    "# 2nd method\n",
    "string=input(\"Enter a String :\")\n",
    "len(string) # The len() function return sthe number of items in an object."
   ]
  },
  {
   "cell_type": "markdown",
   "id": "c7dccde1",
   "metadata": {},
   "source": [
    "2. Create a program that takes a sentence from the user and counts the number of vowels (a, e, i, o, u) in the string."
   ]
  },
  {
   "cell_type": "code",
   "execution_count": 9,
   "id": "b4f76dea",
   "metadata": {},
   "outputs": [
    {
     "name": "stdout",
     "output_type": "stream",
     "text": [
      "Enter the sentences :Hari Om, This is Narottam\n",
      "The number of vowels in sentences : 8\n"
     ]
    }
   ],
   "source": [
    "sentence=input(\"Enter the sentences :\") \n",
    "count=0 #initiated initial count as 0 for vowels\n",
    "for i in sentence:\n",
    "    if(i=='a' or i=='e' or i=='i' or i=='o' or i=='u' or i=='A' or i=='E' or i=='I' or i=='O' or i=='U'):# checking condition for vowels in sentence\n",
    "        count=count+1 # for every vowel in sentence the value of count increases \n",
    "print(\"The number of vowels in sentences :\",count)"
   ]
  },
  {
   "cell_type": "markdown",
   "id": "dfd791a4",
   "metadata": {},
   "source": [
    "3. Given a string, reverse the order of characters using string slicing and print the reversed string."
   ]
  },
  {
   "cell_type": "code",
   "execution_count": 10,
   "id": "5356d7d5",
   "metadata": {},
   "outputs": [
    {
     "name": "stdout",
     "output_type": "stream",
     "text": [
      "Enter a string :Radha\n"
     ]
    },
    {
     "data": {
      "text/plain": [
       "'ahdaR'"
      ]
     },
     "execution_count": 10,
     "metadata": {},
     "output_type": "execute_result"
    }
   ],
   "source": [
    "input(\"Enter a string :\")[::-1]# Taking input and slicing in reverse direction\n",
    "# slice(start, end, step) -1 jump slicing from backward"
   ]
  },
  {
   "cell_type": "markdown",
   "id": "cf754f63",
   "metadata": {},
   "source": [
    "4. Write a program that takes a string as input and checks if it is a palindrome (reads the same forwards and backwards)."
   ]
  },
  {
   "cell_type": "code",
   "execution_count": 13,
   "id": "5737b466",
   "metadata": {},
   "outputs": [
    {
     "name": "stdout",
     "output_type": "stream",
     "text": [
      "Enter a string :malayalam\n",
      "palindrome\n"
     ]
    }
   ],
   "source": [
    "string=input(\"Enter a string :\")\n",
    "if string==string[::-1]:\n",
    "    print(\"palindrome\")\n",
    "else:\n",
    "    print(\"Not palindrome\")"
   ]
  },
  {
   "cell_type": "markdown",
   "id": "64fe7c7b",
   "metadata": {},
   "source": [
    "5. Create a program that takes a string as input and removes all the spaces from it. Print the modified string without spaces."
   ]
  },
  {
   "cell_type": "code",
   "execution_count": 14,
   "id": "793e616c",
   "metadata": {},
   "outputs": [
    {
     "name": "stdout",
     "output_type": "stream",
     "text": [
      "Enter a string :     Narottam   \n"
     ]
    },
    {
     "data": {
      "text/plain": [
       "'Narottam'"
      ]
     },
     "execution_count": 14,
     "metadata": {},
     "output_type": "execute_result"
    }
   ],
   "source": [
    "s=input(\"Enter a string :\")\n",
    "# The strip() method removes any spaces at the beginning and spaces at the end characters\n",
    "s.strip()"
   ]
  }
 ],
 "metadata": {
  "kernelspec": {
   "display_name": "Python 3 (ipykernel)",
   "language": "python",
   "name": "python3"
  },
  "language_info": {
   "codemirror_mode": {
    "name": "ipython",
    "version": 3
   },
   "file_extension": ".py",
   "mimetype": "text/x-python",
   "name": "python",
   "nbconvert_exporter": "python",
   "pygments_lexer": "ipython3",
   "version": "3.10.9"
  }
 },
 "nbformat": 4,
 "nbformat_minor": 5
}

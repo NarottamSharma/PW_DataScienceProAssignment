{
 "cells": [
  {
   "cell_type": "markdown",
   "id": "9a6208d0-567a-43ca-9c2d-9ab97c923974",
   "metadata": {},
   "source": [
    "## Basic If-Else Statements:"
   ]
  },
  {
   "cell_type": "markdown",
   "id": "104aa9fa-133b-41fb-a6fd-4b8bdf830e2b",
   "metadata": {},
   "source": [
    "1. Write a Python program to check if a given number is positive or negative."
   ]
  },
  {
   "cell_type": "code",
   "execution_count": 4,
   "id": "36e5e948-de6d-4652-971d-dcd8ffb5e0a3",
   "metadata": {},
   "outputs": [
    {
     "name": "stdin",
     "output_type": "stream",
     "text": [
      "Enter a Integer :  1\n"
     ]
    },
    {
     "name": "stdout",
     "output_type": "stream",
     "text": [
      "Number is positive\n"
     ]
    }
   ],
   "source": [
    "num=int(input(\"Enter a Integer : \"))\n",
    "if num==0:\n",
    "    print('Neither positive nor Negative')\n",
    "elif num>0:\n",
    "    print('Number is positive')\n",
    "else:\n",
    "    print('Number is Negative')"
   ]
  },
  {
   "cell_type": "markdown",
   "id": "e818881c-d9ec-4a1e-bd0d-5f1b0195f603",
   "metadata": {},
   "source": [
    "2. Create a program that determines if a person is eligible to vote based on their age."
   ]
  },
  {
   "cell_type": "code",
   "execution_count": 6,
   "id": "02cfe708-08cf-4f2e-8f4e-a1a097048341",
   "metadata": {},
   "outputs": [
    {
     "name": "stdin",
     "output_type": "stream",
     "text": [
      "Enter your age 18\n"
     ]
    },
    {
     "name": "stdout",
     "output_type": "stream",
     "text": [
      "Eligible for Vote\n"
     ]
    }
   ],
   "source": [
    "age=int(input('Enter your age'))\n",
    "if age>=18:\n",
    "    print('Eligible for Vote')\n",
    "else:\n",
    "    print('Not eligible for Vote')"
   ]
  },
  {
   "cell_type": "markdown",
   "id": "95656c44-bbd3-438c-8885-ad61b940c697",
   "metadata": {},
   "source": [
    "3. Develop a program to find the maximum of two numbers using if-else statements."
   ]
  },
  {
   "cell_type": "code",
   "execution_count": 8,
   "id": "10152286-946f-4124-a5a2-bd50d6920478",
   "metadata": {},
   "outputs": [
    {
     "name": "stdin",
     "output_type": "stream",
     "text": [
      "Enter number 1 12\n",
      "Enter number 2 13\n"
     ]
    },
    {
     "name": "stdout",
     "output_type": "stream",
     "text": [
      "Number 2 is max\n"
     ]
    }
   ],
   "source": [
    "num1=int(input(\"Enter number 1\"))\n",
    "num2=int(input('Enter number 2'))\n",
    "if num1>num2:\n",
    "    print('Number 1 is max')\n",
    "elif num1<num2:\n",
    "    print('Number 2 is max')\n",
    "else:\n",
    "    print('Both are Equal')"
   ]
  },
  {
   "cell_type": "markdown",
   "id": "a24d18a9-1ea4-4f2d-8b75-aa7bbf7f458a",
   "metadata": {},
   "source": [
    "4. Write a Python script to classify a given year as a leap year or not."
   ]
  },
  {
   "cell_type": "code",
   "execution_count": 13,
   "id": "c7529e41-a479-4de9-8310-e792d80a133d",
   "metadata": {},
   "outputs": [
    {
     "name": "stdin",
     "output_type": "stream",
     "text": [
      "Enter a year  2012\n"
     ]
    },
    {
     "name": "stdout",
     "output_type": "stream",
     "text": [
      "Leap Year\n"
     ]
    }
   ],
   "source": [
    "year=int(input(\"Enter a year \"))\n",
    "if (year%4==0 and year%100!=0) or year%400==0:\n",
    "    print('Leap Year')\n",
    "else:\n",
    "    print('Not Leap year')"
   ]
  },
  {
   "cell_type": "markdown",
   "id": "bea700b3-ccfc-46e5-b85c-2cd533603588",
   "metadata": {},
   "source": [
    "5. Create a program that checks whether a character is a vowel or a consonant."
   ]
  },
  {
   "cell_type": "code",
   "execution_count": 20,
   "id": "ff191e85-b175-468d-8fa5-60f6ed6e3943",
   "metadata": {},
   "outputs": [
    {
     "name": "stdin",
     "output_type": "stream",
     "text": [
      "Enter a character : u\n"
     ]
    },
    {
     "name": "stdout",
     "output_type": "stream",
     "text": [
      "It is vowel\n"
     ]
    }
   ],
   "source": [
    "char=input('Enter a character :')\n",
    "if char=='a' or char=='e' or char=='i' or char=='o'or char=='u' or char =='A' or char=='E' or char=='I' or char=='O' or char=='U':\n",
    "    print('It is vowel')\n",
    "else:\n",
    "    print('It is not vowel')"
   ]
  },
  {
   "cell_type": "markdown",
   "id": "311de9c8-0658-42ca-a72c-7e93282d2810",
   "metadata": {},
   "source": [
    "6. Implement a program to determine whether a given number is even or odd."
   ]
  },
  {
   "cell_type": "code",
   "execution_count": null,
   "id": "e9d97f6e-79dd-4e3c-8ee7-a0bc062939a9",
   "metadata": {},
   "outputs": [],
   "source": [
    "num=int(input('Enter a Number'))\n",
    "print('Invalid' if num<0 else ('Even' if num%2==0 else 'Odd'))"
   ]
  },
  {
   "cell_type": "markdown",
   "id": "f5e6c6f1-06da-4bfa-9f65-8b67a3c41757",
   "metadata": {},
   "source": [
    "7. Write a Python function to calculate the absolute value of a number without using the `abs()` function."
   ]
  },
  {
   "cell_type": "code",
   "execution_count": 33,
   "id": "747554f1-cefd-4b61-b443-195ca60fb669",
   "metadata": {},
   "outputs": [
    {
     "name": "stdin",
     "output_type": "stream",
     "text": [
      "Enter a number -12\n"
     ]
    },
    {
     "name": "stdout",
     "output_type": "stream",
     "text": [
      "The absolute value of -12 is 12\n"
     ]
    }
   ],
   "source": [
    "num=int(input(\"Enter a number\"))\n",
    "if num < 0:\n",
    "    print(f\"The absolute value of {num} is {-(num)}\")\n",
    "else:\n",
    "    print(f\"The absolute value of {num} is {num}\")"
   ]
  },
  {
   "cell_type": "markdown",
   "id": "ebeb6eb8-1a16-49a5-9a48-2dac35828368",
   "metadata": {},
   "source": [
    "8. Develop a program that determines the largest of three given numbers using if-else statements."
   ]
  },
  {
   "cell_type": "code",
   "execution_count": 39,
   "id": "6141e2a3-d9e6-406a-adcb-5114f62d7e1e",
   "metadata": {},
   "outputs": [
    {
     "name": "stdin",
     "output_type": "stream",
     "text": [
      "Enter a number 1:  1\n",
      "Enter a number 2:  2\n",
      "Enter a number 3:  3\n"
     ]
    },
    {
     "name": "stdout",
     "output_type": "stream",
     "text": [
      "Number 3 is Largest\n"
     ]
    }
   ],
   "source": [
    "num1=int(input(\"Enter a number 1: \"))\n",
    "num2=int(input(\"Enter a number 2: \"))\n",
    "num3=int(input(\"Enter a number 3: \"))\n",
    "if num1>num2 and num1>num3:\n",
    "    print(\"Number 1 is Largest\")\n",
    "elif num2>num1 and num2>num3:\n",
    "    print(\"Number 2 is Largest\")\n",
    "elif num3>num1 and num3>num2:\n",
    "    print(\"Number 3 is Largest\")\n",
    "else:\n",
    "    print('All are equal')"
   ]
  },
  {
   "cell_type": "markdown",
   "id": "473eabbb-97dd-4c73-b0ca-ce59197252c4",
   "metadata": {},
   "source": [
    "9. Create a program that checks if a given string is a palindrome."
   ]
  },
  {
   "cell_type": "code",
   "execution_count": 42,
   "id": "3800721e-b492-4407-b946-d7642b14d3d1",
   "metadata": {},
   "outputs": [
    {
     "name": "stdin",
     "output_type": "stream",
     "text": [
      "Enter a string : malayalaM\n"
     ]
    },
    {
     "name": "stdout",
     "output_type": "stream",
     "text": [
      "palindrome\n"
     ]
    }
   ],
   "source": [
    "string=input(\"Enter a string :\").lower()\n",
    "if string==string[::-1]:\n",
    "    print(\"palindrome\")\n",
    "else:\n",
    "    print(\"Not palindrome\")"
   ]
  },
  {
   "cell_type": "markdown",
   "id": "1d201c12-f765-4d88-b5ae-303e6dabe162",
   "metadata": {},
   "source": [
    "10. Write a Python program to calculate the grade based on a student's score."
   ]
  },
  {
   "cell_type": "code",
   "execution_count": 90,
   "id": "6128bdb9-f2e5-459d-88b7-c67f51dba3c0",
   "metadata": {},
   "outputs": [
    {
     "name": "stdin",
     "output_type": "stream",
     "text": [
      "Enter the student's score:  70\n"
     ]
    },
    {
     "name": "stdout",
     "output_type": "stream",
     "text": [
      "The student's grade is: C\n"
     ]
    }
   ],
   "source": [
    "score = float(input(\"Enter the student's score: \"))\n",
    "\n",
    "if 90 <= score <= 100:\n",
    "    grade = \"A\"\n",
    "elif 80 <= score < 90:\n",
    "    grade = \"B\"\n",
    "elif 70 <= score < 80:\n",
    "    grade = \"C\"\n",
    "elif 50 <= score < 70:\n",
    "    grade = \"D\"\n",
    "else:\n",
    "    grade = \"F\"\n",
    "print(f\"The student's grade is: {grade}\")"
   ]
  },
  {
   "cell_type": "markdown",
   "id": "dedf08ac-a8d0-4eda-848a-263b37ac82bb",
   "metadata": {},
   "source": [
    "## Nested If-Else Statements:"
   ]
  },
  {
   "cell_type": "markdown",
   "id": "49e3506e-6f6d-4be7-9611-5e9ea6470ad5",
   "metadata": {},
   "source": [
    " 11. Write a program to find the largest among three numbers using nested if-else statements."
   ]
  },
  {
   "cell_type": "code",
   "execution_count": 92,
   "id": "e44b2697-35d3-4fc3-ab46-56fcd2c70942",
   "metadata": {},
   "outputs": [
    {
     "name": "stdin",
     "output_type": "stream",
     "text": [
      "Enter the first number:  1.1\n",
      "Enter the second number:  1.2\n",
      "Enter the third number:  1.3\n"
     ]
    },
    {
     "name": "stdout",
     "output_type": "stream",
     "text": [
      "The largest number among 1.1, 1.2, and 1.3 is: 1.3\n"
     ]
    }
   ],
   "source": [
    "# Input three numbers from the user\n",
    "num1 = float(input(\"Enter the first number: \"))\n",
    "num2 = float(input(\"Enter the second number: \"))\n",
    "num3 = float(input(\"Enter the third number: \"))\n",
    "\n",
    "\n",
    "if num1 >= num2:\n",
    "    if num1 >= num3:\n",
    "        largest = num1\n",
    "    else:\n",
    "        largest = num3\n",
    "else:\n",
    "    if num2 >= num3:\n",
    "        largest = num2\n",
    "    else:\n",
    "        largest = num3\n",
    "# Display the largest number\n",
    "print(f\"The largest number among {num1}, {num2}, and {num3} is: {largest}\")\n"
   ]
  },
  {
   "cell_type": "markdown",
   "id": "d0567246-314c-47d1-b552-4c2a435d053b",
   "metadata": {},
   "source": [
    "12. Implement a program to determine if a triangle is equilateral, isosceles, or scalene."
   ]
  },
  {
   "cell_type": "code",
   "execution_count": 7,
   "id": "6d7af3b6-8de1-4e8f-8fe2-c23df10f1824",
   "metadata": {},
   "outputs": [
    {
     "name": "stdin",
     "output_type": "stream",
     "text": [
      "Enter the length of side 1:  3\n",
      "Enter the length of side 2:  4\n",
      "Enter the length of side 3:  5\n"
     ]
    },
    {
     "name": "stdout",
     "output_type": "stream",
     "text": [
      "It's a scalene triangle.\n"
     ]
    }
   ],
   "source": [
    "#  Input sides of the triangle\n",
    "side1 = float(input(\"Enter the length of side 1: \"))\n",
    "side2 = float(input(\"Enter the length of side 2: \"))\n",
    "side3 = float(input(\"Enter the length of side 3: \"))\n",
    "\n",
    "# Check if it's a valid triangle\n",
    "if side1 + side2 > side3 and side1 + side3 > side2 and side2 + side3 > side1:\n",
    "    if side1 == side2 == side3:\n",
    "        print(\"It's an equilateral triangle.\")\n",
    "    elif side1 == side2 or side1 == side3 or side2 == side3:\n",
    "        print(\"It's an isosceles triangle.\")\n",
    "    else:\n",
    "        print(\"It's a scalene triangle.\")\n",
    "else:\n",
    "    print(\"It's not a valid triangle.\")\n"
   ]
  },
  {
   "cell_type": "code",
   "execution_count": 9,
   "id": "26990462-7228-48aa-945a-97665dc52f80",
   "metadata": {},
   "outputs": [
    {
     "name": "stdin",
     "output_type": "stream",
     "text": [
      "Enter a year:  2000\n"
     ]
    },
    {
     "name": "stdout",
     "output_type": "stream",
     "text": [
      "2000 is a leap year and a century year.\n"
     ]
    }
   ],
   "source": [
    "# Input a year\n",
    "year = int(input(\"Enter a year: \"))\n",
    "\n",
    "# Check if it's a leap year\n",
    "if year % 4 == 0:\n",
    "    if year % 100 == 0:\n",
    "        if year % 400 == 0:\n",
    "            print(f\"{year} is a leap year and a century year.\")\n",
    "        else:\n",
    "            print(f\"{year} is not a leap year but a century year.\")\n",
    "    else:\n",
    "        print(f\"{year} is a leap year but not a century year.\")\n",
    "else:\n",
    "    print(f\"{year} is not a leap year and not a century year.\")\n"
   ]
  },
  {
   "cell_type": "markdown",
   "id": "80ca29df-8092-4053-a148-3c982c906728",
   "metadata": {},
   "source": [
    "14. Write a Python script to determine if a number is positive, negative, or zero."
   ]
  },
  {
   "cell_type": "code",
   "execution_count": 13,
   "id": "d97ca9f7-7786-427b-b9b8-72874472d05b",
   "metadata": {},
   "outputs": [
    {
     "name": "stdin",
     "output_type": "stream",
     "text": [
      " -0\n"
     ]
    },
    {
     "name": "stdout",
     "output_type": "stream",
     "text": [
      "Zero\n"
     ]
    }
   ],
   "source": [
    "num=int(input())\n",
    "if num <= 0:\n",
    "    if num==0:\n",
    "        print('Zero')\n",
    "    else:\n",
    "        print('Negative')\n",
    "else:\n",
    "    print('Positive')"
   ]
  },
  {
   "cell_type": "markdown",
   "id": "f9430519-52f4-4b1c-b9ac-812995354eba",
   "metadata": {},
   "source": [
    "15. Create a program to check if a person is a teenager (between 13 and 19 years old)."
   ]
  },
  {
   "cell_type": "code",
   "execution_count": 20,
   "id": "4b63ed84-052a-44ff-8983-78d52346d46f",
   "metadata": {},
   "outputs": [
    {
     "name": "stdin",
     "output_type": "stream",
     "text": [
      " 12\n"
     ]
    },
    {
     "name": "stdout",
     "output_type": "stream",
     "text": [
      "You are not Teenager\n"
     ]
    }
   ],
   "source": [
    "age=int(input())\n",
    "if 13 <= age <= 19:\n",
    "    print('You are Tennager')\n",
    "else:\n",
    "    print('You are not Teenager')"
   ]
  },
  {
   "cell_type": "markdown",
   "id": "9f208bb8-e845-4a21-9a93-cd00ac1297b6",
   "metadata": {},
   "source": [
    "16. Develop a program that determines the type of angle based on its measure (acute, obtuse, or right)."
   ]
  },
  {
   "cell_type": "code",
   "execution_count": 28,
   "id": "47d14da4-11a4-4752-b4fd-85c0e9111acf",
   "metadata": {},
   "outputs": [
    {
     "name": "stdin",
     "output_type": "stream",
     "text": [
      "Enter the angle measure in degrees:  -120\n"
     ]
    },
    {
     "name": "stdout",
     "output_type": "stream",
     "text": [
      "The angle is Acute.\n"
     ]
    }
   ],
   "source": [
    "# Get the angle measure from the user\n",
    "angle_measure = float(input(\"Enter the angle measure in degrees: \"))\n",
    "\n",
    "# Check the type of angle using nested if-else statements\n",
    "if angle_measure < 90:\n",
    "    angle_type = \"Acute\"\n",
    "else:\n",
    "    if angle_measure == 90:\n",
    "        angle_type = \"Right\"\n",
    "    elif angle_measure < 180:\n",
    "        angle_type = \"Obtuse\"\n",
    "    else:\n",
    "        angle_type = \"Invalid\"\n",
    "\n",
    "# Display the result\n",
    "if angle_type != \"Invalid\":\n",
    "    print(f\"The angle is {angle_type}.\")\n",
    "else:\n",
    "    print(\"Please enter a valid angle measure between 0 and 180 degrees.\")\n"
   ]
  },
  {
   "cell_type": "markdown",
   "id": "da6778fb-9325-4818-b1e0-bb80450b536a",
   "metadata": {},
   "source": [
    "17. Write a Python program to calculate the roots of a quadratic equation."
   ]
  },
  {
   "cell_type": "code",
   "execution_count": 33,
   "id": "3627c75c-3359-4085-8a5e-09ec65efbfe3",
   "metadata": {},
   "outputs": [
    {
     "name": "stdin",
     "output_type": "stream",
     "text": [
      "Enter coefficient a:  2\n",
      "Enter coefficient b:  3\n",
      "Enter coefficient c:  4\n"
     ]
    },
    {
     "name": "stdout",
     "output_type": "stream",
     "text": [
      "Root 1: (-0.75+1.1989578808281798j)\n",
      "Root 2: (-0.75-1.1989578808281798j)\n"
     ]
    }
   ],
   "source": [
    "import cmath\n",
    "# Input coefficients a, b, and c from the user\n",
    "a = float(input(\"Enter coefficient a: \"))\n",
    "b = float(input(\"Enter coefficient b: \"))\n",
    "c = float(input(\"Enter coefficient c: \"))\n",
    "\n",
    "# Calculate the discriminant\n",
    "discriminant = b**2 - 4*a*c\n",
    "\n",
    "# Calculate the roots using the quadratic formula\n",
    "root1 = (-b + cmath.sqrt(discriminant)) / (2*a)\n",
    "root2 = (-b - cmath.sqrt(discriminant)) / (2*a)\n",
    "\n",
    "# Display the roots, including complex roots if necessary\n",
    "print(f\"Root 1: {root1}\")\n",
    "print(f\"Root 2: {root2}\")\n"
   ]
  },
  {
   "cell_type": "markdown",
   "id": "2eb1c542-27ee-4faa-939d-8d8d2f86b2ad",
   "metadata": {},
   "source": [
    "18. Implement a program to determine the day of the week based on a user-provided number (1 for Monday, 2\n",
    "for Tuesday, etc.)."
   ]
  },
  {
   "cell_type": "code",
   "execution_count": 36,
   "id": "64f8afa9-73e5-43c8-9826-bf8181871e74",
   "metadata": {},
   "outputs": [
    {
     "name": "stdin",
     "output_type": "stream",
     "text": [
      "Enter a number (1-7) to determine the day of the week:  3\n"
     ]
    },
    {
     "name": "stdout",
     "output_type": "stream",
     "text": [
      "The day of the week for 3 is Wednesday.\n"
     ]
    }
   ],
   "source": [
    "day = {\n",
    "    1: \"Monday\",\n",
    "    2: \"Tuesday\",\n",
    "    3: \"Wednesday\",\n",
    "    4: \"Thursday\",\n",
    "    5: \"Friday\",\n",
    "    6: \"Saturday\",\n",
    "    7: \"Sunday\"\n",
    "}\n",
    "user_number = int(input(\"Enter a number (1-7) to determine the day of the week: \"))\n",
    "if 1 <= user_number <= 7:\n",
    "    day_of_week = day[user_number]\n",
    "    print(f\"The day of the week for {user_number} is {day_of_week}.\")\n",
    "else:\n",
    "    print(\"Please enter a number between 1 and 7.\")\n"
   ]
  },
  {
   "cell_type": "markdown",
   "id": "1d5b5e82-1adc-440d-a8cc-1d3d65eced01",
   "metadata": {},
   "source": [
    "19. Create a program that determines if a year is a leap year and also if it is evenly divisible by 400."
   ]
  },
  {
   "cell_type": "code",
   "execution_count": 37,
   "id": "3813f1e8-e710-4cb3-8eba-158cb5faf2e7",
   "metadata": {},
   "outputs": [
    {
     "name": "stdin",
     "output_type": "stream",
     "text": [
      "Enter a year  2000\n"
     ]
    },
    {
     "name": "stdout",
     "output_type": "stream",
     "text": [
      "Leap Year and evenly divisible by 400 \n"
     ]
    }
   ],
   "source": [
    "year=int(input(\"Enter a year \"))\n",
    "if (year%4==0 and year%100!=0) or year%400==0:\n",
    "    print('Leap Year and evenly divisible by 400 ')\n",
    "else:\n",
    "    print('Not Leap year')"
   ]
  },
  {
   "cell_type": "markdown",
   "id": "59b2fa00-5949-41f7-929c-df3466810754",
   "metadata": {},
   "source": [
    "20. Develop a program that checks if a given number is prime or not using nested if-else statements."
   ]
  },
  {
   "cell_type": "code",
   "execution_count": 38,
   "id": "5f476a82-a78e-4707-9aa4-4350c4b49121",
   "metadata": {},
   "outputs": [
    {
     "name": "stdin",
     "output_type": "stream",
     "text": [
      "Enter a number:  3\n"
     ]
    },
    {
     "name": "stdout",
     "output_type": "stream",
     "text": [
      "3 is a prime number.\n"
     ]
    }
   ],
   "source": [
    "# Get the number from the user\n",
    "num = int(input(\"Enter a number: \"))\n",
    "\n",
    "# Check if the number is greater than 1\n",
    "if num > 1:\n",
    "    # Check for factors\n",
    "    for i in range(2, num):\n",
    "        if (num % i) == 0:\n",
    "            print(f\"{num} is not a prime number.\")\n",
    "            break\n",
    "    else:\n",
    "        print(f\"{num} is a prime number.\")\n",
    "else:\n",
    "    print(f\"{num} is not a prime number.\")\n"
   ]
  },
  {
   "cell_type": "markdown",
   "id": "8fd3dc50-a72b-43b8-846f-e162d369c003",
   "metadata": {},
   "source": [
    "## Elif Statements:"
   ]
  },
  {
   "cell_type": "markdown",
   "id": "8f91525c-1adc-44bf-96fe-feea11c5a362",
   "metadata": {},
   "source": [
    "21. Write a Python program to assign grades based on different ranges of scores using elif statements."
   ]
  },
  {
   "cell_type": "code",
   "execution_count": 39,
   "id": "9bebe84c-7421-4f8c-aec0-df112866772d",
   "metadata": {},
   "outputs": [
    {
     "name": "stdin",
     "output_type": "stream",
     "text": [
      "Enter the student's score:  90\n"
     ]
    },
    {
     "name": "stdout",
     "output_type": "stream",
     "text": [
      "The student's grade is: A\n"
     ]
    }
   ],
   "source": [
    "score = float(input(\"Enter the student's score: \"))\n",
    "\n",
    "if 90 <= score <= 100:\n",
    "    grade = \"A\"\n",
    "elif 80 <= score < 90:\n",
    "    grade = \"B\"\n",
    "elif 70 <= score < 80:\n",
    "    grade = \"C\"\n",
    "elif 50 <= score < 70:\n",
    "    grade = \"D\"\n",
    "else:\n",
    "    grade = \"F\"\n",
    "print(f\"The student's grade is: {grade}\")"
   ]
  },
  {
   "cell_type": "markdown",
   "id": "3f8da574-824b-480c-823b-4df746ba29fd",
   "metadata": {},
   "source": [
    "22. Implement a program to determine the type of a triangle based on its angles."
   ]
  },
  {
   "cell_type": "code",
   "execution_count": 42,
   "id": "a2aa41af-07a1-4c29-9057-314c7c7cdd64",
   "metadata": {},
   "outputs": [
    {
     "name": "stdin",
     "output_type": "stream",
     "text": [
      "Enter the angle measure in degrees:  90\n"
     ]
    },
    {
     "name": "stdout",
     "output_type": "stream",
     "text": [
      "The angle is Right.\n"
     ]
    }
   ],
   "source": [
    "# Get the angle measure from the user\n",
    "angle_measure = float(input(\"Enter the angle measure in degrees: \"))\n",
    "\n",
    "# Check the type of angle using nested if-else statements\n",
    "if angle_measure < 90:\n",
    "    angle_type = \"Acute\"\n",
    "else:\n",
    "    if angle_measure == 90:\n",
    "        angle_type = \"Right\"\n",
    "    elif angle_measure < 180:\n",
    "        angle_type = \"Obtuse\"\n",
    "    else:\n",
    "        angle_type = \"Invalid\"\n",
    "\n",
    "# Display the result\n",
    "if angle_type != \"Invalid\":\n",
    "    print(f\"The angle is {angle_type}.\")\n",
    "else:\n",
    "    print(\"Please enter a valid angle measure between 0 and 180 degrees.\")"
   ]
  },
  {
   "cell_type": "markdown",
   "id": "7f7f0a53-eccb-4522-ab0d-b9341a8570a7",
   "metadata": {},
   "source": [
    "23. Develop a program to categorize a given person's BMI into underweight, normal, overweight, or obese using\n",
    "elif statements."
   ]
  },
  {
   "cell_type": "code",
   "execution_count": 2,
   "id": "5a2701f7-6cac-4c5c-a728-31261ca77316",
   "metadata": {
    "tags": []
   },
   "outputs": [
    {
     "name": "stdin",
     "output_type": "stream",
     "text": [
      "Enter weight in kilograms:  55\n",
      "Enter height in meters:  1.55\n"
     ]
    },
    {
     "name": "stdout",
     "output_type": "stream",
     "text": [
      "Your BMI is 22.89, and you are categorized as Normal.\n"
     ]
    }
   ],
   "source": [
    "# Function to calculate BMI\n",
    "def calculate_bmi(weight, height):\n",
    "    return weight / (height ** 2)\n",
    "\n",
    "# Input the person's weight (in kilograms) and height (in meters)\n",
    "weight = float(input(\"Enter weight in kilograms: \"))\n",
    "height = float(input(\"Enter height in meters: \"))\n",
    "\n",
    "# Calculate BMI\n",
    "bmi = calculate_bmi(weight, height)\n",
    "\n",
    "# Categorize the BMI\n",
    "if bmi < 18.5:\n",
    "    category = \"Underweight\"\n",
    "elif 18.5 <= bmi < 24.9:\n",
    "    category = \"Normal\"\n",
    "elif 25 <= bmi < 29.9:\n",
    "    category = \"Overweight\"\n",
    "else:\n",
    "    category = \"Obese\"\n",
    "\n",
    "# Display the BMI category\n",
    "print(f\"Your BMI is {bmi:.2f}, and you are categorized as {category}.\")\n"
   ]
  },
  {
   "cell_type": "markdown",
   "id": "fd094cf2-6152-47d3-8402-2f3fd4505b10",
   "metadata": {},
   "source": [
    "24. Create a program that determines whether a given number is positive, negative, or zero using elif\n",
    "statements."
   ]
  },
  {
   "cell_type": "code",
   "execution_count": 1,
   "id": "4dae31ef-1d21-4e18-b4d0-d4d5a3baabc2",
   "metadata": {},
   "outputs": [
    {
     "name": "stdin",
     "output_type": "stream",
     "text": [
      "Enter a Number : 8\n"
     ]
    },
    {
     "name": "stdout",
     "output_type": "stream",
     "text": [
      "The number 8 is Positive\n"
     ]
    }
   ],
   "source": [
    "num=int(input('Enter a Number :'))\n",
    "if num > 0:\n",
    "    print(f\"The number {num} is Positive\")\n",
    "elif num<0:\n",
    "    print(f\"The number {num} is Negative\")\n",
    "else:\n",
    "    print(f\"The number {num} is Zero\")\n",
    "    "
   ]
  },
  {
   "cell_type": "markdown",
   "id": "273e2e50-9a26-49eb-b4a7-04bd9bc6999f",
   "metadata": {},
   "source": [
    "25. Write a Python script to determine the type of a character (uppercase, lowercase, or special) using elif\n",
    "statements."
   ]
  },
  {
   "cell_type": "code",
   "execution_count": 10,
   "id": "90bef3d3-fc90-4d1f-aa63-24ee8280a841",
   "metadata": {
    "tags": []
   },
   "outputs": [
    {
     "name": "stdin",
     "output_type": "stream",
     "text": [
      "Enter a string:  narottam\n"
     ]
    },
    {
     "name": "stdout",
     "output_type": "stream",
     "text": [
      "The string is in lowercase\n"
     ]
    }
   ],
   "source": [
    "string = input('Enter a string: ')\n",
    "\n",
    "if string.isalpha():\n",
    "    if string.isupper():\n",
    "        print('The string is in uppercase')\n",
    "    elif string.islower():\n",
    "        print('The string is in lowercase')\n",
    "else:\n",
    "    print('The string is special or contains non-alphabetical characters')\n"
   ]
  },
  {
   "cell_type": "markdown",
   "id": "f346cfb7-5301-482d-b003-efc857c23c94",
   "metadata": {},
   "source": [
    "26. Implement a program to calculate the discounted price based on different purchase amounts using elif\n",
    "statements."
   ]
  },
  {
   "cell_type": "code",
   "execution_count": 12,
   "id": "13e9098a-1fe6-4ccf-a903-d5e64b469deb",
   "metadata": {
    "tags": []
   },
   "outputs": [
    {
     "name": "stdin",
     "output_type": "stream",
     "text": [
      "Enter the purchase amount in ₹:  78\n"
     ]
    },
    {
     "name": "stdout",
     "output_type": "stream",
     "text": [
      "Original Price: ₹78.00\n",
      "Discount Rate: 5.0%\n",
      "Discounted Price: ₹74.10\n"
     ]
    }
   ],
   "source": [
    "purchase_amount = float(input(\"Enter the purchase amount in ₹: \"))\n",
    "\n",
    "if purchase_amount >= 100:\n",
    "    discount_rate = 0.10  \n",
    "elif purchase_amount >= 50:\n",
    "    discount_rate = 0.05  \n",
    "    \n",
    "discounted_price = purchase_amount - (purchase_amount * discount_rate)\n",
    "\n",
    "print(f\"Original Price: ₹{purchase_amount:.2f}\")\n",
    "print(f\"Discount Rate: {discount_rate * 100}%\")\n",
    "print(f\"Discounted Price: ₹{discounted_price:.2f}\")"
   ]
  },
  {
   "cell_type": "markdown",
   "id": "5063c4b5-f25d-4d2a-abb1-9409717d52be",
   "metadata": {},
   "source": [
    "27. Develop a program to calculate the electricity bill based on different consumption slabs using elif\n",
    "statements."
   ]
  },
  {
   "cell_type": "code",
   "execution_count": 13,
   "id": "87c572af-d880-4bf5-b27e-de4e7d58dc91",
   "metadata": {
    "tags": []
   },
   "outputs": [
    {
     "name": "stdin",
     "output_type": "stream",
     "text": [
      "Enter your electricity consumption in kilowatt-hours:  550\n"
     ]
    },
    {
     "name": "stdout",
     "output_type": "stream",
     "text": [
      "Your electricity bill is: ₹1725.00\n"
     ]
    }
   ],
   "source": [
    "consumption = float(input(\"Enter your electricity consumption in kilowatt-hours: \"))\n",
    "\n",
    "rate_slab_1 = 2.50  \n",
    "rate_slab_2 = 3.00 \n",
    "rate_slab_3 = 3.50  \n",
    "bill = 0.0\n",
    "\n",
    "if consumption <= 100:\n",
    "    bill = consumption * rate_slab_1\n",
    "elif consumption <= 300:\n",
    "    bill = (100 * rate_slab_1) + ((consumption - 100) * rate_slab_2)\n",
    "else:\n",
    "    bill = (100 * rate_slab_1) + (200 * rate_slab_2) + ((consumption - 300) * rate_slab_3)\n",
    "\n",
    "print(f\"Your electricity bill is: ₹{bill:.2f}\")\n"
   ]
  },
  {
   "cell_type": "markdown",
   "id": "002e30dd-0ee7-4b21-bf13-f4f365ad33f6",
   "metadata": {},
   "source": [
    "28. Create a program to determine the type of quadrilateral based on its angles and sides using elif\n",
    "statements."
   ]
  },
  {
   "cell_type": "code",
   "execution_count": 14,
   "id": "44d9f016-ff6c-4f57-99b7-ff8ba53266b6",
   "metadata": {
    "tags": []
   },
   "outputs": [
    {
     "name": "stdin",
     "output_type": "stream",
     "text": [
      "Enter the length of the first side:  5\n",
      "Enter the length of the second side:  5\n",
      "Enter the length of the third side:  5\n",
      "Enter the length of the fourth side:  5\n",
      "Enter the measure of the first angle (in degrees):  90\n",
      "Enter the measure of the second angle (in degrees):  90\n",
      "Enter the measure of the third angle (in degrees):  90\n",
      "Enter the measure of the fourth angle (in degrees):  90\n"
     ]
    },
    {
     "name": "stdout",
     "output_type": "stream",
     "text": [
      "It's a square.\n"
     ]
    }
   ],
   "source": [
    "# Get the lengths of the four sides and the measures of the four angles\n",
    "side1 = float(input(\"Enter the length of the first side: \"))\n",
    "side2 = float(input(\"Enter the length of the second side: \"))\n",
    "side3 = float(input(\"Enter the length of the third side: \"))\n",
    "side4 = float(input(\"Enter the length of the fourth side: \"))\n",
    "angle1 = float(input(\"Enter the measure of the first angle (in degrees): \"))\n",
    "angle2 = float(input(\"Enter the measure of the second angle (in degrees): \"))\n",
    "angle3 = float(input(\"Enter the measure of the third angle (in degrees): \"))\n",
    "angle4 = float(input(\"Enter the measure of the fourth angle (in degrees): \"))\n",
    "\n",
    "# Determine the type of quadrilateral\n",
    "if side1 == side2 == side3 == side4:\n",
    "    print(\"It's a square.\")\n",
    "elif (side1 == side3 and side2 == side4) or (side1 == side2 and side3 == side4):\n",
    "    print(\"It's a rectangle.\")\n",
    "elif (side1 == side2 == side3 == side4) and (angle1 == angle2 == angle3 == angle4 == 90):\n",
    "    print(\"It's a square.\")\n",
    "elif (side1 == side3 and side2 == side4) and (angle1 == angle3 and angle2 == angle4):\n",
    "    print(\"It's a parallelogram.\")\n",
    "elif (side1 == side2 == side3 == side4) and (angle1 == angle2 == angle3 == angle4):\n",
    "    print(\"It's a rhombus.\")\n",
    "else:\n",
    "    print(\"It's a general quadrilateral.\")\n"
   ]
  },
  {
   "cell_type": "markdown",
   "id": "b94a64a5-8229-4ce6-8f64-a9accbcf3b35",
   "metadata": {},
   "source": [
    "29. Write a Python script to determine the season based on a user-provided month using elif statements."
   ]
  },
  {
   "cell_type": "code",
   "execution_count": 15,
   "id": "f2393b14-1630-478e-be3d-010e65aab229",
   "metadata": {
    "tags": []
   },
   "outputs": [
    {
     "name": "stdin",
     "output_type": "stream",
     "text": [
      "Enter a month (e.g., January, February, etc.):  October\n"
     ]
    },
    {
     "name": "stdout",
     "output_type": "stream",
     "text": [
      "The season for october is Autumn (Fall).\n"
     ]
    }
   ],
   "source": [
    "month = input(\"Enter a month (e.g., January, February, etc.): \")\n",
    "month = month.lower()\n",
    "\n",
    "if month in [\"december\", \"january\", \"february\"]:\n",
    "    season = \"Winter\"\n",
    "elif month in [\"march\", \"april\", \"may\"]:\n",
    "    season = \"Spring\"\n",
    "elif month in [\"june\", \"july\", \"august\"]:\n",
    "    season = \"Summer\"\n",
    "elif month in [\"september\", \"october\", \"november\"]:\n",
    "    season = \"Autumn (Fall)\"\n",
    "else:\n",
    "    season = \"Invalid input. Please enter a valid month.\"\n",
    "\n",
    "if season != \"Invalid input. Please enter a valid month.\":\n",
    "    print(f\"The season for {month} is {season}.\")\n",
    "else:\n",
    "    print(season)\n"
   ]
  },
  {
   "cell_type": "markdown",
   "id": "b4530c72-ceaa-4983-883a-069f86d6eab2",
   "metadata": {},
   "source": [
    "30. Implement a program to determine the type of a year (leap or common) and month (30 or 31 days) using\n",
    "elif statements."
   ]
  },
  {
   "cell_type": "code",
   "execution_count": 16,
   "id": "63cfb37b-6545-4698-bd99-eb1f0846dff5",
   "metadata": {
    "tags": []
   },
   "outputs": [
    {
     "name": "stdin",
     "output_type": "stream",
     "text": [
      "Enter a year:  2000\n",
      "Enter a month (e.g., January, February, etc.):  january\n"
     ]
    },
    {
     "name": "stdout",
     "output_type": "stream",
     "text": [
      "The year 2000 is a Leap year, and January has 31 days.\n"
     ]
    }
   ],
   "source": [
    "# Get the year and month from the user\n",
    "year = int(input(\"Enter a year: \"))\n",
    "month = input(\"Enter a month (e.g., January, February, etc.): \")\n",
    "\n",
    "# Convert the month to lowercase for case-insensitive comparison\n",
    "month = month.lower()\n",
    "\n",
    "# Determine if it's a leap year\n",
    "is_leap_year = (year % 4 == 0 and year % 100 != 0) or (year % 400 == 0)\n",
    "\n",
    "# Determine the number of days in the month\n",
    "if month in [\"january\", \"march\", \"may\", \"july\", \"august\", \"october\", \"december\"]:\n",
    "    days_in_month = 31\n",
    "elif month in [\"april\", \"june\", \"september\", \"november\"]:\n",
    "    days_in_month = 30\n",
    "elif month == \"february\":\n",
    "    days_in_month = 29 if is_leap_year else 28\n",
    "else:\n",
    "    days_in_month = \"Invalid input. Please enter a valid month.\"\n",
    "\n",
    "# Determine the type of year\n",
    "year_type = \"Leap\" if is_leap_year else \"Common\"\n",
    "\n",
    "# Display the result\n",
    "if days_in_month != \"Invalid input. Please enter a valid month.\":\n",
    "    print(f\"The year {year} is a {year_type} year, and {month.capitalize()} has {days_in_month} days.\")\n",
    "else:\n",
    "    print(days_in_month)\n"
   ]
  },
  {
   "cell_type": "markdown",
   "id": "55bb7868-8e6c-4ecf-8fe2-82d509f49de2",
   "metadata": {},
   "source": [
    "## Basic Level:"
   ]
  },
  {
   "cell_type": "markdown",
   "id": "8d09d88f-23ac-4388-b15b-7f5484974a94",
   "metadata": {},
   "source": [
    "Write a Python program that checks if a given number is positive, negative, or zero."
   ]
  },
  {
   "cell_type": "code",
   "execution_count": 17,
   "id": "14767590-be55-4a88-af4c-4550b131bf1f",
   "metadata": {
    "tags": []
   },
   "outputs": [
    {
     "name": "stdin",
     "output_type": "stream",
     "text": [
      "Enter a number:  565.0\n"
     ]
    },
    {
     "name": "stdout",
     "output_type": "stream",
     "text": [
      "The number is positive.\n"
     ]
    }
   ],
   "source": [
    "number = float(input(\"Enter a number: \"))\n",
    "\n",
    "if number > 0:\n",
    "    print(\"The number is positive.\")\n",
    "elif number < 0:\n",
    "    print(\"The number is negative.\")\n",
    "else:\n",
    "    print(\"The number is zero.\")"
   ]
  },
  {
   "cell_type": "markdown",
   "id": "5128b55a-1b44-4e22-9a84-5cc481a5009e",
   "metadata": {},
   "source": [
    "2. Create a program to determine if a person is eligible to vote based on their age."
   ]
  },
  {
   "cell_type": "code",
   "execution_count": 18,
   "id": "a50fddd4-7faf-4759-9720-d160a2c50335",
   "metadata": {
    "tags": []
   },
   "outputs": [
    {
     "name": "stdin",
     "output_type": "stream",
     "text": [
      "Enter your age:  17\n"
     ]
    },
    {
     "name": "stdout",
     "output_type": "stream",
     "text": [
      "You are not eligible to vote.\n"
     ]
    }
   ],
   "source": [
    "age = int(input(\"Enter your age: \"))\n",
    "\n",
    "if age >= 18:\n",
    "    print(\"You are eligible to vote.\")\n",
    "else:\n",
    "    print(\"You are not eligible to vote.\")\n"
   ]
  },
  {
   "cell_type": "markdown",
   "id": "fd197908-b324-4449-83a3-3cb4fab4938d",
   "metadata": {},
   "source": [
    "3. Write a program to find the maximum of two given numbers using conditional statements."
   ]
  },
  {
   "cell_type": "code",
   "execution_count": 19,
   "id": "5eef182f-9a63-4796-9748-234246df1d9a",
   "metadata": {
    "tags": []
   },
   "outputs": [
    {
     "name": "stdin",
     "output_type": "stream",
     "text": [
      "Enter the first number:  1\n",
      "Enter the second number:  2\n"
     ]
    },
    {
     "name": "stdout",
     "output_type": "stream",
     "text": [
      "The maximum number between 1.0 and 2.0 is 2.0.\n"
     ]
    }
   ],
   "source": [
    "number1 = float(input(\"Enter the first number: \"))\n",
    "number2 = float(input(\"Enter the second number: \"))\n",
    "\n",
    "if number1 > number2:\n",
    "    max_number = number1\n",
    "else:\n",
    "    max_number = number2\n",
    "\n",
    "print(f\"The maximum number between {number1} and {number2} is {max_number}.\")\n"
   ]
  },
  {
   "cell_type": "markdown",
   "id": "a0ba6e3e-37dd-4872-9756-9f1aa1d2f8df",
   "metadata": {},
   "source": [
    "4. Develop a program that calculates the grade of a student based on their exam score."
   ]
  },
  {
   "cell_type": "code",
   "execution_count": 22,
   "id": "23fc62ba-2b94-408a-b729-640462d9e84b",
   "metadata": {
    "tags": []
   },
   "outputs": [
    {
     "name": "stdin",
     "output_type": "stream",
     "text": [
      "Enter the exam score:  78\n"
     ]
    },
    {
     "name": "stdout",
     "output_type": "stream",
     "text": [
      "The student's grade is: C\n"
     ]
    }
   ],
   "source": [
    "exam_score = float(input(\"Enter the exam score: \"))\n",
    "\n",
    "if 90 <= exam_score <= 100:\n",
    "    grade = \"A\"\n",
    "elif 80 <= exam_score < 90:\n",
    "    grade = \"B\"\n",
    "elif 70 <= exam_score < 80:\n",
    "    grade = \"C\"\n",
    "elif 60 <= exam_score < 70:\n",
    "    grade = \"D\"\n",
    "elif 0 <= exam_score < 60:\n",
    "    grade = \"F\"\n",
    "else:\n",
    "    grade = \"Invalid input. Please enter a score between 0 and 100.\"\n",
    "\n",
    "if grade != \"Invalid input. Please enter a score between 0 and 100.\":\n",
    "    print(f\"The student's grade is: {grade}\")\n",
    "else:\n",
    "    print(grade)\n"
   ]
  },
  {
   "cell_type": "markdown",
   "id": "3779192a-b042-4b29-9939-08542f39a688",
   "metadata": {},
   "source": [
    "5. Create a program that checks if a year is a leap year or not."
   ]
  },
  {
   "cell_type": "code",
   "execution_count": 24,
   "id": "6e9fda9a-2fc9-4bbf-bba5-1ac12805d9df",
   "metadata": {
    "tags": []
   },
   "outputs": [
    {
     "name": "stdin",
     "output_type": "stream",
     "text": [
      "Enter a Year : 2002\n"
     ]
    },
    {
     "name": "stdout",
     "output_type": "stream",
     "text": [
      "The year 2002 is not Leap Year\n"
     ]
    }
   ],
   "source": [
    "year=int(input('Enter a Year :'))\n",
    "if (year % 4 == 0 and year % 100 != 0) or (year % 400 == 0):\n",
    "    print(f\"The year {year} is Leap Year\")\n",
    "else:\n",
    "    print(f\"The year {year} is not Leap Year\")"
   ]
  },
  {
   "cell_type": "markdown",
   "id": "aa94de58-eb31-4da4-afd4-7760a94389c0",
   "metadata": {},
   "source": [
    "6. Write a program to classify a triangle based on its sides' lengths."
   ]
  },
  {
   "cell_type": "code",
   "execution_count": 25,
   "id": "ede260b9-ecfa-4e41-aa4a-fa27f0951d03",
   "metadata": {
    "tags": []
   },
   "outputs": [
    {
     "name": "stdin",
     "output_type": "stream",
     "text": [
      "Enter the length of the first side:  3\n",
      "Enter the length of the second side:  3\n",
      "Enter the length of the third side:  3\n"
     ]
    },
    {
     "name": "stdout",
     "output_type": "stream",
     "text": [
      "The triangle with sides 3.0, 3.0, and 3.0 is a Equilateral triangle.\n"
     ]
    }
   ],
   "source": [
    "side1 = float(input(\"Enter the length of the first side: \"))\n",
    "side2 = float(input(\"Enter the length of the second side: \"))\n",
    "side3 = float(input(\"Enter the length of the third side: \"))\n",
    "\n",
    "if side1 == side2 == side3:\n",
    "    triangle_type = \"Equilateral\"\n",
    "elif side1 == side2 or side1 == side3 or side2 == side3:\n",
    "    triangle_type = \"Isosceles\"\n",
    "else:\n",
    "    triangle_type = \"Scalene\"\n",
    "\n",
    "if side1 + side2 > side3 and side1 + side3 > side2 and side2 + side3 > side1:\n",
    "    print(f\"The triangle with sides {side1}, {side2}, and {side3} is a {triangle_type} triangle.\")\n",
    "else:\n",
    "    print(f\"The side lengths {side1}, {side2}, and {side3} do not form a valid triangle.\")\n"
   ]
  },
  {
   "cell_type": "markdown",
   "id": "19d6f3eb-934f-4e6a-9aee-0ebae34ef6e9",
   "metadata": {},
   "source": [
    "7. Build a program that determines the largest of three given numbers."
   ]
  },
  {
   "cell_type": "code",
   "execution_count": 1,
   "id": "9abfdce7-0d78-4c3a-96ac-e021c6677ccc",
   "metadata": {},
   "outputs": [
    {
     "name": "stdout",
     "output_type": "stream",
     "text": [
      "Enter the first number: 1\n",
      "Enter the second number: 2\n",
      "Enter the third number: 3\n",
      "The largest number is: 3.0\n"
     ]
    }
   ],
   "source": [
    "def find_largest_number(num1, num2, num3):\n",
    "    if num1 >= num2 and num1 >= num3:\n",
    "        return num1\n",
    "    elif num2 >= num1 and num2 >= num3:\n",
    "        return num2\n",
    "    else:\n",
    "        return num3\n",
    "    \n",
    "num1 = float(input(\"Enter the first number: \"))\n",
    "num2 = float(input(\"Enter the second number: \"))\n",
    "num3 = float(input(\"Enter the third number: \"))\n",
    "\n",
    "largest = find_largest_number(num1, num2, num3)\n",
    "print(\"The largest number is:\", largest)\n"
   ]
  },
  {
   "cell_type": "markdown",
   "id": "92dc1496",
   "metadata": {},
   "source": [
    "8. Develop a program that checks whether a character is a vowel or a consonant."
   ]
  },
  {
   "cell_type": "code",
   "execution_count": 3,
   "id": "e61a149c",
   "metadata": {},
   "outputs": [
    {
     "name": "stdout",
     "output_type": "stream",
     "text": [
      "Enter a character: u\n",
      "The character 'u' is a Vowel.\n"
     ]
    }
   ],
   "source": [
    "def check_vowel_or_consonant(char):\n",
    "    char = char.lower()\n",
    "\n",
    "    if char in 'aeiou':\n",
    "        return \"Vowel\"\n",
    "    else:\n",
    "        return \"Consonant\"\n",
    "\n",
    "character = input(\"Enter a character: \")\n",
    "\n",
    "result = check_vowel_or_consonant(character)\n",
    "print(f\"The character '{character}' is a {result}.\")\n"
   ]
  },
  {
   "cell_type": "markdown",
   "id": "d2d784c3",
   "metadata": {},
   "source": [
    "9. Create a program to calculate the total cost of a shopping cart based on discounts."
   ]
  },
  {
   "cell_type": "code",
   "execution_count": 6,
   "id": "62daa0fd",
   "metadata": {},
   "outputs": [
    {
     "name": "stdout",
     "output_type": "stream",
     "text": [
      "Total cost of the shopping cart: ₹70.00\n"
     ]
    }
   ],
   "source": [
    "def calculate_total_cost(cart):\n",
    "    total_cost = 0\n",
    "\n",
    "    for item, quantity, price, discount_threshold, discount in cart:\n",
    "        item_cost = quantity * price\n",
    "\n",
    "        if quantity >= discount_threshold:\n",
    "            item_cost -= quantity * discount\n",
    "\n",
    "        total_cost += item_cost\n",
    "\n",
    "    return total_cost\n",
    "\n",
    "cart = [\n",
    "    (\"Item A\", 5, 10.00, 4, 5.00),  \n",
    "    (\"Item B\", 3, 7.50, 2, 2.50),   \n",
    "    (\"Item C\", 2, 15.00, 0, 0.00)   \n",
    "]\n",
    "\n",
    "total_cost = calculate_total_cost(cart)\n",
    "print(\"Total cost of the shopping cart: ₹{:.2f}\".format(total_cost))\n"
   ]
  },
  {
   "cell_type": "markdown",
   "id": "3949f978",
   "metadata": {},
   "source": [
    "10. Write a program that checks if a given number is even or odd."
   ]
  },
  {
   "cell_type": "code",
   "execution_count": 7,
   "id": "97743b59",
   "metadata": {},
   "outputs": [
    {
     "name": "stdout",
     "output_type": "stream",
     "text": [
      "Enter a number: 23\n",
      "The number 23 is Odd.\n"
     ]
    }
   ],
   "source": [
    "def check_even_or_odd(number):\n",
    "    if number % 2 == 0:\n",
    "        return \"Even\"\n",
    "    else:\n",
    "        return \"Odd\"\n",
    "\n",
    "number = int(input(\"Enter a number: \"))\n",
    "\n",
    "result = check_even_or_odd(number)\n",
    "print(f\"The number {number} is {result}.\")\n"
   ]
  },
  {
   "cell_type": "markdown",
   "id": "2b61aa5b",
   "metadata": {},
   "source": [
    "## Intermediate Level:"
   ]
  },
  {
   "cell_type": "markdown",
   "id": "31f02807",
   "metadata": {},
   "source": [
    "11. Write a program that calculates the roots of a quadratic equation ."
   ]
  },
  {
   "cell_type": "code",
   "execution_count": 8,
   "id": "b6a0ef58",
   "metadata": {},
   "outputs": [
    {
     "name": "stdout",
     "output_type": "stream",
     "text": [
      "Enter the coefficient a: 23\n",
      "Enter the coefficient b: 43\n",
      "Enter the coefficient c: 5\n",
      "The roots of the quadratic equation are: -0.12458064549633811 and -1.7449845718949661\n"
     ]
    }
   ],
   "source": [
    "import math\n",
    "\n",
    "def calculate_quadratic_roots(a, b, c):\n",
    "    discriminant = b**2 - 4*a*c\n",
    "\n",
    "    if discriminant > 0:\n",
    "        root1 = (-b + math.sqrt(discriminant)) / (2*a)\n",
    "        root2 = (-b - math.sqrt(discriminant)) / (2*a)\n",
    "        return root1, root2\n",
    "    elif discriminant == 0:\n",
    "        root1 = -b / (2*a)\n",
    "        return root1\n",
    "    else:\n",
    "        return \"No real roots\"\n",
    "\n",
    "a = float(input(\"Enter the coefficient a: \"))\n",
    "b = float(input(\"Enter the coefficient b: \"))\n",
    "c = float(input(\"Enter the coefficient c: \"))\n",
    "\n",
    "roots = calculate_quadratic_roots(a, b, c)\n",
    "if isinstance(roots, tuple):\n",
    "    root1, root2 = roots\n",
    "    print(f\"The roots of the quadratic equation are: {root1} and {root2}\")\n",
    "elif isinstance(roots, float):\n",
    "    print(f\"The root of the quadratic equation is: {roots}\")\n",
    "else:\n",
    "    print(roots)\n"
   ]
  },
  {
   "cell_type": "markdown",
   "id": "0e3c5b40",
   "metadata": {},
   "source": [
    "12. Create a program that determines the day of the week based on the day number (1-7)."
   ]
  },
  {
   "cell_type": "code",
   "execution_count": 12,
   "id": "c26a2cd4",
   "metadata": {},
   "outputs": [
    {
     "name": "stdout",
     "output_type": "stream",
     "text": [
      "Enter a day number (1-7): 2\n",
      "The day with number 2 is Monday.\n"
     ]
    }
   ],
   "source": [
    "days = [\"Sunday\", \"Monday\", \"Tuesday\", \"Wednesday\", \"Thursday\", \"Friday\", \"Saturday\"]\n",
    "\n",
    "day_number = int(input(\"Enter a day number (1-7): \"))\n",
    "\n",
    "if 1 <= day_number <= 7:\n",
    "    day_name = days[day_number - 1] \n",
    "    print(f\"The day with number {day_number} is {day_name}.\")\n",
    "else:\n",
    "    print(\"Invalid day number. Please enter a number between 1 and 7.\")\n"
   ]
  },
  {
   "cell_type": "markdown",
   "id": "34b2e44d",
   "metadata": {},
   "source": [
    "13. Develop a program that calculates the factorial of a given number using recursion."
   ]
  },
  {
   "cell_type": "code",
   "execution_count": 17,
   "id": "1d37f3b0",
   "metadata": {},
   "outputs": [
    {
     "name": "stdout",
     "output_type": "stream",
     "text": [
      "Enter a Number :5\n",
      "The factorial of 5 is 120\n"
     ]
    }
   ],
   "source": [
    "def fact(n):\n",
    "    if n==0 or n==1:\n",
    "        return 1\n",
    "    else:\n",
    "        return n*fact(n-1)\n",
    "n=int(input(\"Enter a Number :\"))\n",
    "print(f'The factorial of {n} is {fact(n)}')"
   ]
  },
  {
   "cell_type": "markdown",
   "id": "0be70372",
   "metadata": {},
   "source": [
    "14. Write a program to find the largest among three numbers without using the `max()` function."
   ]
  },
  {
   "cell_type": "code",
   "execution_count": 19,
   "id": "ad4c4444",
   "metadata": {},
   "outputs": [
    {
     "name": "stdout",
     "output_type": "stream",
     "text": [
      "Enter the first number: 3\n",
      "Enter the second number: 67\n",
      "Enter the third number: 100\n",
      "The largest number is: 100.0\n"
     ]
    }
   ],
   "source": [
    "num1 = float(input(\"Enter the first number: \"))\n",
    "num2 = float(input(\"Enter the second number: \"))\n",
    "num3 = float(input(\"Enter the third number: \"))\n",
    "\n",
    "if num1 >= num2 and num1 >= num3:\n",
    "    largest = num1\n",
    "elif num2 >= num1 and num2 >= num3:\n",
    "    largest = num2\n",
    "else:\n",
    "    largest = num3\n",
    "\n",
    "print(f\"The largest number is: {largest}\")\n"
   ]
  },
  {
   "cell_type": "markdown",
   "id": "9057c636",
   "metadata": {},
   "source": [
    "15. Create a program that simulates a basic ATM transaction menu."
   ]
  },
  {
   "cell_type": "code",
   "execution_count": 20,
   "id": "f4b3ed3c",
   "metadata": {},
   "outputs": [
    {
     "name": "stdout",
     "output_type": "stream",
     "text": [
      "\n",
      "ATM Menu:\n",
      "1. Display Balance\n",
      "2. Deposit\n",
      "3. Withdraw\n",
      "4. Exit\n",
      "Enter your choice (1/2/3/4): 2\n",
      "Enter the amount to deposit: $500\n",
      "$500.00 has been deposited into your account.\n",
      "\n",
      "ATM Menu:\n",
      "1. Display Balance\n",
      "2. Deposit\n",
      "3. Withdraw\n",
      "4. Exit\n",
      "Enter your choice (1/2/3/4): 1\n",
      "Your account balance is $1500.00\n",
      "\n",
      "ATM Menu:\n",
      "1. Display Balance\n",
      "2. Deposit\n",
      "3. Withdraw\n",
      "4. Exit\n",
      "Enter your choice (1/2/3/4): 4\n",
      "Thank you for using the ATM. Goodbye!\n"
     ]
    }
   ],
   "source": [
    "balance = 1000.0\n",
    "\n",
    "def display_balance():\n",
    "    print(f\"Your account balance is ${balance:.2f}\")\n",
    "\n",
    "def deposit():\n",
    "    global balance\n",
    "    amount = float(input(\"Enter the amount to deposit: $\"))\n",
    "    if amount > 0:\n",
    "        balance += amount\n",
    "        print(f\"${amount:.2f} has been deposited into your account.\")\n",
    "    else:\n",
    "        print(\"Invalid deposit amount. Please enter a positive amount.\")\n",
    "\n",
    "def withdraw():\n",
    "    global balance\n",
    "    amount = float(input(\"Enter the amount to withdraw: $\"))\n",
    "    if amount > 0 and amount <= balance:\n",
    "        balance -= amount\n",
    "        print(f\"You have withdrawn ${amount:.2f}.\")\n",
    "    elif amount > balance:\n",
    "        print(\"Insufficient funds. Cannot withdraw.\")\n",
    "    else:\n",
    "        print(\"Invalid withdrawal amount. Please enter a positive amount.\")\n",
    "\n",
    "menu_options = {\n",
    "    '1': display_balance,\n",
    "    '2': deposit,\n",
    "    '3': withdraw,\n",
    "    '4': exit\n",
    "}\n",
    "\n",
    "while True:\n",
    "    print(\"\\nATM Menu:\")\n",
    "    print(\"1. Display Balance\")\n",
    "    print(\"2. Deposit\")\n",
    "    print(\"3. Withdraw\")\n",
    "    print(\"4. Exit\")\n",
    "\n",
    "    choice = input(\"Enter your choice (1/2/3/4): \")\n",
    "\n",
    "    if choice in menu_options:\n",
    "        if choice == '4':\n",
    "            print(\"Thank you for using the ATM. Goodbye!\")\n",
    "            break\n",
    "        menu_options[choice]()\n",
    "    else:\n",
    "        print(\"Invalid choice. Please enter 1, 2, 3, or 4.\")\n"
   ]
  },
  {
   "cell_type": "code",
   "execution_count": 21,
   "id": "5334bb3a",
   "metadata": {},
   "outputs": [
    {
     "name": "stdout",
     "output_type": "stream",
     "text": [
      "\n",
      "ATM Menu:\n",
      "1. Display Balance\n",
      "2. Deposit\n",
      "3. Withdraw\n",
      "4. Exit\n",
      "Enter your choice (1/2/3/4): 2\n",
      "Enter the amount to deposit: $100000\n",
      "$100000.00 has been deposited into your account.\n",
      "\n",
      "ATM Menu:\n",
      "1. Display Balance\n",
      "2. Deposit\n",
      "3. Withdraw\n",
      "4. Exit\n",
      "Enter your choice (1/2/3/4): 1\n",
      "Your account balance is $101000.00\n",
      "\n",
      "ATM Menu:\n",
      "1. Display Balance\n",
      "2. Deposit\n",
      "3. Withdraw\n",
      "4. Exit\n",
      "Enter your choice (1/2/3/4): 4\n",
      "Thank you for using the ATM. Goodbye!\n"
     ]
    }
   ],
   "source": [
    "balance = 1000.0\n",
    "\n",
    "def display_balance():\n",
    "    print(f\"Your account balance is ${balance:.2f}\")\n",
    "\n",
    "def deposit():\n",
    "    global balance\n",
    "    amount = float(input(\"Enter the amount to deposit: $\"))\n",
    "    if amount > 0:\n",
    "        balance += amount\n",
    "        print(f\"${amount:.2f} has been deposited into your account.\")\n",
    "    else:\n",
    "        print(\"Invalid deposit amount. Please enter a positive amount.\")\n",
    "\n",
    "def withdraw():\n",
    "    global balance\n",
    "    amount = float(input(\"Enter the amount to withdraw: $\"))\n",
    "    if amount > 0 and amount <= balance:\n",
    "        balance -= amount\n",
    "        print(f\"You have withdrawn ${amount:.2f}.\")\n",
    "    elif amount > balance:\n",
    "        print(\"Insufficient funds. Cannot withdraw.\")\n",
    "    else:\n",
    "        print(\"Invalid withdrawal amount. Please enter a positive amount.\")\n",
    "\n",
    "menu_options = {\n",
    "    '1': display_balance,\n",
    "    '2': deposit,\n",
    "    '3': withdraw,\n",
    "    '4': exit\n",
    "}\n",
    "\n",
    "while True:\n",
    "    print(\"\\nATM Menu:\")\n",
    "    print(\"1. Display Balance\")\n",
    "    print(\"2. Deposit\")\n",
    "    print(\"3. Withdraw\")\n",
    "    print(\"4. Exit\")\n",
    "\n",
    "    choice = input(\"Enter your choice (1/2/3/4): \")\n",
    "\n",
    "    if choice in menu_options:\n",
    "        if choice == '4':\n",
    "            print(\"Thank you for using the ATM. Goodbye!\")\n",
    "            break\n",
    "        menu_options[choice]()\n",
    "    else:\n",
    "        print(\"Invalid choice. Please enter 1, 2, 3, or 4.\")\n"
   ]
  },
  {
   "cell_type": "code",
   "execution_count": 22,
   "id": "db13ed91",
   "metadata": {},
   "outputs": [
    {
     "name": "stdout",
     "output_type": "stream",
     "text": [
      "\n",
      "ATM Menu:\n",
      "1. Display Balance\n",
      "2. Deposit\n",
      "3. Withdraw\n",
      "4. Exit\n",
      "Enter your choice (1/2/3/4): 2\n",
      "Enter the amount to deposit: $1000000\n",
      "$1000000.00 has been deposited into your account.\n",
      "\n",
      "ATM Menu:\n",
      "1. Display Balance\n",
      "2. Deposit\n",
      "3. Withdraw\n",
      "4. Exit\n",
      "Enter your choice (1/2/3/4): 1\n",
      "Your account balance is $1001000.00\n",
      "\n",
      "ATM Menu:\n",
      "1. Display Balance\n",
      "2. Deposit\n",
      "3. Withdraw\n",
      "4. Exit\n",
      "Enter your choice (1/2/3/4): 4\n",
      "Thank you for using the ATM. Goodbye!\n"
     ]
    }
   ],
   "source": [
    "# Initialize account balance\n",
    "balance = 1000.0\n",
    "\n",
    "# Function to display account balance\n",
    "def display_balance():\n",
    "    print(f\"Your account balance is ${balance:.2f}\")\n",
    "\n",
    "# Function to deposit money\n",
    "def deposit():\n",
    "    global balance\n",
    "    amount = float(input(\"Enter the amount to deposit: $\"))\n",
    "    if amount > 0:\n",
    "        balance += amount\n",
    "        print(f\"${amount:.2f} has been deposited into your account.\")\n",
    "    else:\n",
    "        print(\"Invalid deposit amount. Please enter a positive amount.\")\n",
    "\n",
    "# Function to withdraw money\n",
    "def withdraw():\n",
    "    global balance\n",
    "    amount = float(input(\"Enter the amount to withdraw: $\"))\n",
    "    if amount > 0 and amount <= balance:\n",
    "        balance -= amount\n",
    "        print(f\"You have withdrawn ${amount:.2f}.\")\n",
    "    elif amount > balance:\n",
    "        print(\"Insufficient funds. Cannot withdraw.\")\n",
    "    else:\n",
    "        print(\"Invalid withdrawal amount. Please enter a positive amount.\")\n",
    "\n",
    "# Define the ATM menu options\n",
    "menu_options = {\n",
    "    '1': display_balance,\n",
    "    '2': deposit,\n",
    "    '3': withdraw,\n",
    "    '4': exit\n",
    "}\n",
    "\n",
    "# ATM transaction menu\n",
    "while True:\n",
    "    print(\"\\nATM Menu:\")\n",
    "    print(\"1. Display Balance\")\n",
    "    print(\"2. Deposit\")\n",
    "    print(\"3. Withdraw\")\n",
    "    print(\"4. Exit\")\n",
    "\n",
    "    choice = input(\"Enter your choice (1/2/3/4): \")\n",
    "\n",
    "    if choice in menu_options:\n",
    "        if choice == '4':\n",
    "            print(\"Thank you for using the ATM. Goodbye!\")\n",
    "            break\n",
    "        menu_options[choice]()\n",
    "    else:\n",
    "        print(\"Invalid choice. Please enter 1, 2, 3, or 4.\")\n"
   ]
  },
  {
   "cell_type": "markdown",
   "id": "0086de86",
   "metadata": {},
   "source": [
    "16. Build a program that checks if a given string is a palindrome or not."
   ]
  },
  {
   "cell_type": "code",
   "execution_count": 24,
   "id": "3c0d6897",
   "metadata": {},
   "outputs": [
    {
     "name": "stdout",
     "output_type": "stream",
     "text": [
      "Enter a string: malayalam\n",
      "'malayalam' is a palindrome.\n"
     ]
    }
   ],
   "source": [
    "def is_palindrome(input_string):\n",
    "    input_string = input_string.replace(\" \", \"\").lower()\n",
    "    \n",
    "    return input_string == input_string[::-1]\n",
    "\n",
    "string = input(\"Enter a string: \")\n",
    "\n",
    "if is_palindrome(string):\n",
    "    print(f\"'{string}' is a palindrome.\")\n",
    "else:\n",
    "    print(f\"'{string}' is not a palindrome.\")\n"
   ]
  },
  {
   "cell_type": "markdown",
   "id": "b2e0c699",
   "metadata": {},
   "source": [
    "17. Write a program that calculates the average of a list of numbers, excluding the smallest and largest values."
   ]
  },
  {
   "cell_type": "code",
   "execution_count": 25,
   "id": "40d2ab78",
   "metadata": {},
   "outputs": [
    {
     "name": "stdout",
     "output_type": "stream",
     "text": [
      "Enter a list of numbers separated by spaces: 1 2 3 4 5 6\n",
      "The average excluding the smallest and largest values is: 3.50\n"
     ]
    }
   ],
   "source": [
    "def calculate_average_excluding_extremes(numbers):\n",
    "    if len(numbers) <= 2:\n",
    "        return 0.0  \n",
    "    \n",
    "    sorted_numbers = sorted(numbers)\n",
    "\n",
    "    trimmed_numbers = sorted_numbers[1:-1]\n",
    "\n",
    "    average = sum(trimmed_numbers) / len(trimmed_numbers)\n",
    "\n",
    "    return average\n",
    "\n",
    "numbers = input(\"Enter a list of numbers separated by spaces: \").split()\n",
    "numbers = [float(num) for num in numbers]\n",
    "\n",
    "average = calculate_average_excluding_extremes(numbers)\n",
    "print(f\"The average excluding the smallest and largest values is: {average:.2f}\")\n"
   ]
  },
  {
   "cell_type": "markdown",
   "id": "d4c76ff2",
   "metadata": {},
   "source": [
    "18. Develop a program that converts a given temperature from Celsius to Fahrenheit."
   ]
  },
  {
   "cell_type": "code",
   "execution_count": 26,
   "id": "e6edfe7f",
   "metadata": {},
   "outputs": [
    {
     "name": "stdout",
     "output_type": "stream",
     "text": [
      "Enter temperature in Celsius: 36\n",
      "36.0 degrees Celsius is equal to 96.80 degrees Fahrenheit.\n"
     ]
    }
   ],
   "source": [
    "def celsius_to_fahrenheit(celsius):\n",
    "    fahrenheit = (celsius * 9/5) + 32\n",
    "    return fahrenheit\n",
    "\n",
    "celsius = float(input(\"Enter temperature in Celsius: \"))\n",
    "\n",
    "fahrenheit = celsius_to_fahrenheit(celsius)\n",
    "print(f\"{celsius} degrees Celsius is equal to {fahrenheit:.2f} degrees Fahrenheit.\")\n"
   ]
  },
  {
   "cell_type": "markdown",
   "id": "7a03c63f",
   "metadata": {},
   "source": [
    "19. Create a program that simulates a basic calculator for addition, subtraction, multiplication, and division."
   ]
  },
  {
   "cell_type": "code",
   "execution_count": 27,
   "id": "e7599af2",
   "metadata": {},
   "outputs": [
    {
     "name": "stdout",
     "output_type": "stream",
     "text": [
      "Options:\n",
      "Enter 'add' for addition\n",
      "Enter 'subtract' for subtraction\n",
      "Enter 'multiply' for multiplication\n",
      "Enter 'divide' for division\n",
      "Enter 'quit' to end the program\n",
      "Enter your choice: add\n",
      "Enter first number: 20\n",
      "Enter second number: 10\n",
      "Result:  30.0\n",
      "Options:\n",
      "Enter 'add' for addition\n",
      "Enter 'subtract' for subtraction\n",
      "Enter 'multiply' for multiplication\n",
      "Enter 'divide' for division\n",
      "Enter 'quit' to end the program\n",
      "Enter your choice: quit\n"
     ]
    }
   ],
   "source": [
    "def add(x, y):\n",
    "    return x + y\n",
    "\n",
    "def subtract(x, y):\n",
    "    return x - y\n",
    "\n",
    "def multiply(x, y):\n",
    "    return x * y\n",
    "\n",
    "def divide(x, y):\n",
    "    if y == 0:\n",
    "        return \"Division by zero is not allowed.\"\n",
    "    return x / y\n",
    "\n",
    "while True:\n",
    "    print(\"Options:\")\n",
    "    print(\"Enter 'add' for addition\")\n",
    "    print(\"Enter 'subtract' for subtraction\")\n",
    "    print(\"Enter 'multiply' for multiplication\")\n",
    "    print(\"Enter 'divide' for division\")\n",
    "    print(\"Enter 'quit' to end the program\")\n",
    "\n",
    "    choice = input(\"Enter your choice: \")\n",
    "\n",
    "    if choice == \"quit\":\n",
    "        break\n",
    "\n",
    "    if choice in (\"add\", \"subtract\", \"multiply\", \"divide\"):\n",
    "        num1 = float(input(\"Enter first number: \"))\n",
    "        num2 = float(input(\"Enter second number: \"))\n",
    "\n",
    "        if choice == \"add\":\n",
    "            print(\"Result: \", add(num1, num2))\n",
    "        elif choice == \"subtract\":\n",
    "            print(\"Result: \", subtract(num1, num2))\n",
    "        elif choice == \"multiply\":\n",
    "            print(\"Result: \", multiply(num1, num2))\n",
    "        elif choice == \"divide\":\n",
    "            print(\"Result: \", divide(num1, num2))\n",
    "    else:\n",
    "        print(\"Invalid input. Please try again.\")\n"
   ]
  },
  {
   "cell_type": "markdown",
   "id": "d2ff66a1",
   "metadata": {},
   "source": [
    "20. Write a program that determines the roots of a cubic equation using the Cardano formula."
   ]
  },
  {
   "cell_type": "code",
   "execution_count": 28,
   "id": "dec8ee36",
   "metadata": {},
   "outputs": [
    {
     "name": "stdout",
     "output_type": "stream",
     "text": [
      "Enter coefficient 'a': 20\n",
      "Enter coefficient 'b': 12\n",
      "Enter coefficient 'c': 3\n",
      "Enter coefficient 'd': 5\n",
      "The roots of the cubic equation are: (36.26072318077508, (-0.4089891794980939+0.6708203932499369j), (-0.4089891794980939-0.6708203932499369j))\n"
     ]
    }
   ],
   "source": [
    "import math\n",
    "\n",
    "def cubic_roots(a, b, c, d):\n",
    "    delta0 = b**2 - 3*a*c\n",
    "    delta1 = 2*b**3 - 9*a*b*c + 27*a**2*d\n",
    "    C = (delta1 + math.sqrt(delta1**2 - 4*delta0**3)) / 2.0\n",
    "    u = math.pow(abs(C), 1/3) if C >= 0 else -math.pow(abs(C), 1/3)\n",
    "    if delta0 == 0 and delta1 == 0:\n",
    "        root1 = -b / (3*a)\n",
    "        return root1\n",
    "    else:\n",
    "        root1 = (u - (b + u)/(3*a))\n",
    "        real_part = -0.5 * (b + u) / (3*a)\n",
    "        imaginary_part = (math.sqrt(3) / 2) * math.sqrt(abs(delta0) / (3*a))\n",
    "        root2 = real_part + imaginary_part * 1j\n",
    "        root3 = real_part - imaginary_part * 1j\n",
    "        return root1, root2, root3\n",
    "\n",
    "a = float(input(\"Enter coefficient 'a': \"))\n",
    "b = float(input(\"Enter coefficient 'b': \"))\n",
    "c = float(input(\"Enter coefficient 'c': \"))\n",
    "d = float(input(\"Enter coefficient 'd': \"))\n",
    "\n",
    "roots = cubic_roots(a, b, c, d)\n",
    "if isinstance(roots, complex):\n",
    "    print(f\"The root of the cubic equation is: {roots.real:.2f} + {roots.imag:.2f}i\")\n",
    "else:\n",
    "    print(f\"The roots of the cubic equation are: {roots}\")\n"
   ]
  },
  {
   "cell_type": "markdown",
   "id": "f3f4dbc7",
   "metadata": {},
   "source": [
    "## Advanced Level:"
   ]
  },
  {
   "cell_type": "markdown",
   "id": "250dddd3",
   "metadata": {},
   "source": [
    "21. Create a program that calculates the income tax based on the user's income and tax brackets."
   ]
  },
  {
   "cell_type": "code",
   "execution_count": 29,
   "id": "310a0a92",
   "metadata": {},
   "outputs": [
    {
     "name": "stdout",
     "output_type": "stream",
     "text": [
      "Enter your annual income in INR: 500000\n",
      "Your income tax is: ₹12500.00\n"
     ]
    }
   ],
   "source": [
    "def calculate_income_tax(income):\n",
    "    if income <= 250000:\n",
    "        tax = 0\n",
    "    elif income <= 500000:\n",
    "        tax = (income - 250000) * 0.05\n",
    "    elif income <= 1000000:\n",
    "        tax = 250000 * 0.05 + (income - 500000) * 0.2\n",
    "    else:\n",
    "        tax = 250000 * 0.05 + 500000 * 0.2 + (income - 1000000) * 0.3\n",
    "    return tax\n",
    "\n",
    "income = float(input(\"Enter your annual income in INR: \"))\n",
    "\n",
    "income_tax = calculate_income_tax(income)\n",
    "print(f\"Your income tax is: ₹{income_tax:.2f}\")\n"
   ]
  },
  {
   "cell_type": "markdown",
   "id": "a34f4004",
   "metadata": {},
   "source": [
    "22. Write a program that simulates a rock-paper-scissors game against the computer."
   ]
  },
  {
   "cell_type": "code",
   "execution_count": 30,
   "id": "8a2529a9",
   "metadata": {},
   "outputs": [
    {
     "name": "stdout",
     "output_type": "stream",
     "text": [
      "Rock, Paper, Scissors Game\n",
      "Enter your choice (rock, paper, or scissors): scissors\n",
      "Computer chooses scissors\n",
      "It's a tie!\n",
      "Play again? (yes/no): no\n",
      "Thanks for playing!\n"
     ]
    }
   ],
   "source": [
    "import random\n",
    "\n",
    "def get_computer_choice():\n",
    "    choices = [\"rock\", \"paper\", \"scissors\"]\n",
    "    return random.choice(choices)\n",
    "\n",
    "def determine_winner(user_choice, computer_choice):\n",
    "    if user_choice == computer_choice:\n",
    "        return \"It's a tie!\"\n",
    "    elif (\n",
    "        (user_choice == \"rock\" and computer_choice == \"scissors\") or\n",
    "        (user_choice == \"paper\" and computer_choice == \"rock\") or\n",
    "        (user_choice == \"scissors\" and computer_choice == \"paper\")\n",
    "    ):\n",
    "        return \"You win!\"\n",
    "    else:\n",
    "        return \"Computer wins!\"\n",
    "\n",
    "while True:\n",
    "    print(\"Rock, Paper, Scissors Game\")\n",
    "    user_choice = input(\"Enter your choice (rock, paper, or scissors): \").lower()\n",
    "\n",
    "    if user_choice in [\"rock\", \"paper\", \"scissors\"]:\n",
    "        computer_choice = get_computer_choice()\n",
    "        print(f\"Computer chooses {computer_choice}\")\n",
    "        result = determine_winner(user_choice, computer_choice)\n",
    "        print(result)\n",
    "    else:\n",
    "        print(\"Invalid choice. Please choose rock, paper, or scissors.\")\n",
    "\n",
    "    play_again = input(\"Play again? (yes/no): \").lower()\n",
    "    if play_again != \"yes\":\n",
    "        print(\"Thanks for playing!\")\n",
    "        break\n"
   ]
  },
  {
   "cell_type": "markdown",
   "id": "98acb764",
   "metadata": {},
   "source": [
    "23. Develop a program that generates a random password based on user preferences (length, complexity)."
   ]
  },
  {
   "cell_type": "code",
   "execution_count": 31,
   "id": "754088e3",
   "metadata": {},
   "outputs": [
    {
     "name": "stdout",
     "output_type": "stream",
     "text": [
      "Enter the password length: 9\n",
      "Use lowercase letters (yes/no): yes\n",
      "Use uppercase letters (yes/no): yes\n",
      "Use digits (yes/no): yes\n",
      "Use special characters (yes/no): yes\n",
      "Generated password: =&.b+c,bz\n"
     ]
    }
   ],
   "source": [
    "import random\n",
    "import string\n",
    "\n",
    "def generate_password(length, use_lowercase, use_uppercase, use_digits, use_special_chars):\n",
    "    characters = \"\"\n",
    "    if use_lowercase:\n",
    "        characters += string.ascii_lowercase\n",
    "    if use_uppercase:\n",
    "        characters += string.ascii_uppercase\n",
    "    if use_digits:\n",
    "        characters += string.digits\n",
    "    if use_special_chars:\n",
    "        characters += string.punctuation\n",
    "\n",
    "    if not characters:\n",
    "        return \"Password cannot be generated with no character set selected.\"\n",
    "\n",
    "    password = ''.join(random.choice(characters) for _ in range(length))\n",
    "    return password\n",
    "\n",
    "length = int(input(\"Enter the password length: \"))\n",
    "use_lowercase = input(\"Use lowercase letters (yes/no): \").lower() == \"yes\"\n",
    "use_uppercase = input(\"Use uppercase letters (yes/no): \").lower() == \"yes\"\n",
    "use_digits = input(\"Use digits (yes/no): \").lower() == \"yes\"\n",
    "use_special_chars = input(\"Use special characters (yes/no): \").lower() == \"yes\"\n",
    "\n",
    "password = generate_password(length, use_lowercase, use_uppercase, use_digits, use_special_chars)\n",
    "print(\"Generated password:\", password)\n"
   ]
  },
  {
   "cell_type": "markdown",
   "id": "a71c6c4f",
   "metadata": {},
   "source": [
    "24. Create a program that implements a simple text-based adventure game with branching scenarios."
   ]
  },
  {
   "cell_type": "code",
   "execution_count": 33,
   "id": "e213f09d",
   "metadata": {},
   "outputs": [
    {
     "name": "stdout",
     "output_type": "stream",
     "text": [
      "Welcome to the Text-Based Adventure Game!\n",
      "\n",
      "You find yourself at a crossroads in a dark forest.\n",
      "Which way do you go? (left/right)\n",
      "Your choice: LEFT\n",
      "\n",
      "You follow the path to the left and come across a river.\n",
      "Do you swim across or look for a bridge? (swim/bridge)\n",
      "Your choice: bridge\n",
      "\n",
      "You find a bridge and safely cross the river.\n",
      "You win the game!\n",
      "\n",
      "Thanks for playing the Text-Based Adventure Game!\n"
     ]
    }
   ],
   "source": [
    "def get_input(message, options):\n",
    "    while True:\n",
    "        print(message)\n",
    "        choice = input(\"Your choice: \").strip().lower()\n",
    "        if choice in options:\n",
    "            return choice\n",
    "        else:\n",
    "            print(\"Invalid choice. Please try again.\")\n",
    "\n",
    "print(\"Welcome to the Text-Based Adventure Game!\")\n",
    "\n",
    "# Scenario 1\n",
    "print(\"\\nYou find yourself at a crossroads in a dark forest.\")\n",
    "direction = get_input(\"Which way do you go? (left/right)\", [\"left\", \"right\"])\n",
    "\n",
    "if direction == \"left\":\n",
    "    # Scenario 2\n",
    "    print(\"\\nYou follow the path to the left and come across a river.\")\n",
    "    action = get_input(\"Do you swim across or look for a bridge? (swim/bridge)\", [\"swim\", \"bridge\"])\n",
    "\n",
    "    if action == \"swim\":\n",
    "        # Scenario 3\n",
    "        print(\"\\nYou swim across the river and reach the other side safely.\")\n",
    "        print(\"You win the game!\")\n",
    "\n",
    "    else:\n",
    "        # Scenario 4\n",
    "        print(\"\\nYou find a bridge and safely cross the river.\")\n",
    "        print(\"You win the game!\")\n",
    "\n",
    "else:\n",
    "    # Scenario 5\n",
    "    print(\"\\nYou head right and encounter a cave with a dragon guarding the entrance.\")\n",
    "    action = get_input(\"Do you fight the dragon or run away? (fight/run)\", [\"fight\", \"run\"])\n",
    "\n",
    "    if action == \"fight\":\n",
    "        # Scenario 6\n",
    "        print(\"\\nYou bravely fight the dragon, but unfortunately, it's too strong for you.\")\n",
    "        print(\"You lose the game.\")\n",
    "\n",
    "    else:\n",
    "        # Scenario 7\n",
    "        print(\"\\nYou wisely choose to run away from the dragon and escape.\")\n",
    "        print(\"You win the game!\")\n",
    "\n",
    "print(\"\\nThanks for playing the Text-Based Adventure Game!\")\n"
   ]
  },
  {
   "cell_type": "markdown",
   "id": "f039f65a",
   "metadata": {},
   "source": [
    "25. Build a program that solves a linear equation for x, considering different cases."
   ]
  },
  {
   "cell_type": "code",
   "execution_count": 34,
   "id": "01499700",
   "metadata": {},
   "outputs": [
    {
     "name": "stdout",
     "output_type": "stream",
     "text": [
      "Enter the coefficient 'a': 12\n",
      "Enter the coefficient 'b': 45\n",
      "The solution for the equation 12.0x + 45.0 = 0 is x = -3.75\n"
     ]
    }
   ],
   "source": [
    "def solve_linear_equation(a, b):\n",
    "    if a == 0:\n",
    "        if b == 0:\n",
    "            return \"Infinite solutions (any value of x)\"\n",
    "        else:\n",
    "            return \"No solution (contradiction)\"\n",
    "    else:\n",
    "        x = -b / a\n",
    "        return x\n",
    "\n",
    "# Input coefficients a and b from the user\n",
    "a = float(input(\"Enter the coefficient 'a': \"))\n",
    "b = float(input(\"Enter the coefficient 'b': \"))\n",
    "\n",
    "# Solve and display the result of the linear equation\n",
    "solution = solve_linear_equation(a, b)\n",
    "print(f\"The solution for the equation {a}x + {b} = 0 is x = {solution}\")\n"
   ]
  },
  {
   "cell_type": "markdown",
   "id": "06b19309",
   "metadata": {},
   "source": [
    "26. Write a program that simulates a basic quiz game with multiple-choice questions and scoring."
   ]
  },
  {
   "cell_type": "code",
   "execution_count": 36,
   "id": "e1ae64d1",
   "metadata": {},
   "outputs": [
    {
     "name": "stdout",
     "output_type": "stream",
     "text": [
      "Welcome to the Quiz Game!\n",
      "What is the capital of France?\n",
      "1. London\n",
      "2. Paris\n",
      "3. Berlin\n",
      "4. Madrid\n",
      "Enter the number of your answer: 2\n",
      "Correct!\n",
      "\n",
      "Which planet is known as the Red Planet?\n",
      "1. Mars\n",
      "2. Venus\n",
      "3. Jupiter\n",
      "4. Earth\n",
      "Enter the number of your answer: 3\n",
      "Wrong! The correct answer is Mars.\n",
      "\n",
      "What is the largest mammal in the world?\n",
      "1. Giraffe\n",
      "2. Elephant\n",
      "3. Blue Whale\n",
      "4. Lion\n",
      "Enter the number of your answer: 3\n",
      "Correct!\n",
      "\n",
      "You scored 2 out of 3.\n"
     ]
    }
   ],
   "source": [
    "# Function to display a question and get the user's answer\n",
    "def ask_question(question, options, correct_answer):\n",
    "    print(question)\n",
    "    for i, option in enumerate(options, start=1):\n",
    "        print(f\"{i}. {option}\")\n",
    "    \n",
    "    while True:\n",
    "        user_choice = input(\"Enter the number of your answer: \")\n",
    "        if user_choice.isdigit():\n",
    "            user_choice = int(user_choice)\n",
    "            if 1 <= user_choice <= len(options):\n",
    "                break\n",
    "        print(\"Invalid choice. Please enter a number between 1 and\", len(options))\n",
    "\n",
    "    if options[user_choice - 1] == correct_answer:\n",
    "        return True\n",
    "    else:\n",
    "        return False\n",
    "\n",
    "# Define quiz questions and answers\n",
    "questions = [\n",
    "    {\n",
    "        \"question\": \"What is the capital of France?\",\n",
    "        \"options\": [\"London\", \"Paris\", \"Berlin\", \"Madrid\"],\n",
    "        \"correct_answer\": \"Paris\"\n",
    "    },\n",
    "    {\n",
    "        \"question\": \"Which planet is known as the Red Planet?\",\n",
    "        \"options\": [\"Mars\", \"Venus\", \"Jupiter\", \"Earth\"],\n",
    "        \"correct_answer\": \"Mars\"\n",
    "    },\n",
    "    {\n",
    "        \"question\": \"What is the largest mammal in the world?\",\n",
    "        \"options\": [\"Giraffe\", \"Elephant\", \"Blue Whale\", \"Lion\"],\n",
    "        \"correct_answer\": \"Blue Whale\"\n",
    "    }\n",
    "]\n",
    "\n",
    "# Initialize the score\n",
    "score = 0\n",
    "\n",
    "# Start the quiz\n",
    "print(\"Welcome to the Quiz Game!\")\n",
    "for question in questions:\n",
    "    if ask_question(question[\"question\"], question[\"options\"], question[\"correct_answer\"]):\n",
    "        print(\"Correct!\\n\")\n",
    "        score += 1\n",
    "    else:\n",
    "        print(f\"Wrong! The correct answer is {question['correct_answer']}.\\n\")\n",
    "\n",
    "print(f\"You scored {score} out of {len(questions)}.\")\n",
    "\n",
    "if score == len(questions):\n",
    "    print(\"Congratulations! You got a perfect score!\")\n"
   ]
  },
  {
   "cell_type": "markdown",
   "id": "6b229948",
   "metadata": {},
   "source": [
    "27. Develop a program that determines whether a given year is a prime number or not."
   ]
  },
  {
   "cell_type": "code",
   "execution_count": 37,
   "id": "637f8ef6",
   "metadata": {},
   "outputs": [
    {
     "name": "stdout",
     "output_type": "stream",
     "text": [
      "Enter a year: 2000\n",
      "2000 is not a prime year.\n"
     ]
    }
   ],
   "source": [
    "def is_prime(year):\n",
    "    if year <= 1:\n",
    "        return False\n",
    "    for i in range(2, year):\n",
    "        if year % i == 0:\n",
    "            return False\n",
    "    return True\n",
    "\n",
    "year = int(input(\"Enter a year: \"))\n",
    "\n",
    "if is_prime(year):\n",
    "    print(f\"{year} is a prime year.\")\n",
    "else:\n",
    "    print(f\"{year} is not a prime year.\")\n"
   ]
  },
  {
   "cell_type": "markdown",
   "id": "173aeec8",
   "metadata": {},
   "source": [
    "28. Create a program that sorts three numbers in ascending order using conditional statements."
   ]
  },
  {
   "cell_type": "code",
   "execution_count": 38,
   "id": "31c42c8d",
   "metadata": {},
   "outputs": [
    {
     "name": "stdout",
     "output_type": "stream",
     "text": [
      "Enter the first number: 1\n",
      "Enter the second number: 2\n",
      "Enter the third number: 3\n",
      "Numbers in ascending order: [1.0, 2.0, 3.0]\n"
     ]
    }
   ],
   "source": [
    "# Input three numbers from the user\n",
    "num1 = float(input(\"Enter the first number: \"))\n",
    "num2 = float(input(\"Enter the second number: \"))\n",
    "num3 = float(input(\"Enter the third number: \"))\n",
    "\n",
    "# Sort the numbers in ascending order using conditional statements\n",
    "if num1 <= num2 <= num3:\n",
    "    sorted_nums = [num1, num2, num3]\n",
    "elif num1 <= num3 <= num2:\n",
    "    sorted_nums = [num1, num3, num2]\n",
    "elif num2 <= num1 <= num3:\n",
    "    sorted_nums = [num2, num1, num3]\n",
    "elif num2 <= num3 <= num1:\n",
    "    sorted_nums = [num2, num3, num1]\n",
    "elif num3 <= num1 <= num2:\n",
    "    sorted_nums = [num3, num1, num2]\n",
    "else:\n",
    "    sorted_nums = [num3, num2, num1]\n",
    "\n",
    "# Display the sorted numbers\n",
    "print(\"Numbers in ascending order:\", sorted_nums)\n",
    "\n",
    "\n"
   ]
  },
  {
   "cell_type": "markdown",
   "id": "a9dba08e",
   "metadata": {},
   "source": [
    "29. Build a program that determines the roots of a quartic equation using numerical methods."
   ]
  },
  {
   "cell_type": "code",
   "execution_count": 41,
   "id": "516e521b",
   "metadata": {},
   "outputs": [
    {
     "name": "stdout",
     "output_type": "stream",
     "text": [
      "Enter coefficient 'a': 2\n",
      "Enter coefficient 'b': -5\n",
      "Enter coefficient 'c': 3\n",
      "Enter coefficient 'd': 4\n",
      "Enter coefficient 'e': -7\n",
      "Enter left bound of the interval: -10\n",
      "Enter right bound of the interval: 10\n",
      "No root found in the given interval or maximum iterations reached.\n"
     ]
    }
   ],
   "source": [
    "# Function to evaluate the quartic equation f(x) = ax^4 + bx^3 + cx^2 + dx + e\n",
    "def quartic_equation(x, a, b, c, d, e):\n",
    "    return a * x**4 + b * x**3 + c * x**2 + d * x + e\n",
    "\n",
    "# Function to find a root of the quartic equation using the bisection method\n",
    "def find_quartic_root(a, b, c, d, e, left, right, tolerance=1e-6, max_iterations=100):\n",
    "    if quartic_equation(left, a, b, c, d, e) * quartic_equation(right, a, b, c, d, e) >= 0:\n",
    "        return None  # No root in the given interval\n",
    "\n",
    "    for i in range(max_iterations):\n",
    "        mid = (left + right) / 2\n",
    "        f_mid = quartic_equation(mid, a, b, c, d, e)\n",
    "\n",
    "        if abs(f_mid) < tolerance:\n",
    "            return mid  # The root is found with sufficient precision\n",
    "\n",
    "        if quartic_equation(left, a, b, c, d, e) * f_mid < 0:\n",
    "            right = mid\n",
    "        else:\n",
    "            left = mid\n",
    "\n",
    "    return None  # Maximum iterations reached, no precise root found\n",
    "\n",
    "a = float(input(\"Enter coefficient 'a': \"))\n",
    "b = float(input(\"Enter coefficient 'b': \"))\n",
    "c = float(input(\"Enter coefficient 'c': \"))\n",
    "d = float(input(\"Enter coefficient 'd': \"))\n",
    "e = float(input(\"Enter coefficient 'e': \"))\n",
    "\n",
    "# Input an initial interval [left, right] for root searching\n",
    "left = float(input(\"Enter left bound of the interval: \"))\n",
    "right = float(input(\"Enter right bound of the interval: \"))\n",
    "\n",
    "# Find and display the roots of the quartic equation\n",
    "root = find_quartic_root(a, b, c, d, e, left, right)\n",
    "if root is not None:\n",
    "    print(f\"A root of the quartic equation is approximately: {root:.6f}\")\n",
    "else:\n",
    "    print(\"No root found in the given interval or maximum iterations reached.\")\n"
   ]
  },
  {
   "cell_type": "markdown",
   "id": "d3215f0f",
   "metadata": {},
   "source": [
    "30. Write a program that calculates the BMI (Body Mass Index) and provides health recommendations based\n",
    "on the user's input."
   ]
  },
  {
   "cell_type": "code",
   "execution_count": 43,
   "id": "977b51a1",
   "metadata": {},
   "outputs": [
    {
     "name": "stdout",
     "output_type": "stream",
     "text": [
      "Enter your weight (in kilograms): 60\n",
      "Enter your height (in meters): 1.54\n",
      "Your BMI is: 25.30\n",
      "Health Recommendations:\n",
      "You are overweight. Consider adopting a healthier lifestyle with diet and exercise.\n"
     ]
    }
   ],
   "source": [
    "def calculate_bmi(weight, height):\n",
    "    return weight / (height ** 2)\n",
    "\n",
    "def health_recommendations(bmi):\n",
    "    if bmi < 18.5:\n",
    "        return \"You are underweight. It's important to maintain a balanced diet and consider consulting a doctor.\"\n",
    "    elif 18.5 <= bmi < 24.9:\n",
    "        return \"You have a healthy weight. Keep up the good work with a balanced diet and regular exercise.\"\n",
    "    elif 24.9 <= bmi < 29.9:\n",
    "        return \"You are overweight. Consider adopting a healthier lifestyle with diet and exercise.\"\n",
    "    else:\n",
    "        return \"You are obese. It's crucial to consult a doctor and make significant changes to your diet and activity level.\"\n",
    "\n",
    "weight = float(input(\"Enter your weight (in kilograms): \"))\n",
    "height = float(input(\"Enter your height (in meters): \"))\n",
    "\n",
    "bmi = calculate_bmi(weight, height)\n",
    "\n",
    "print(f\"Your BMI is: {bmi:.2f}\")\n",
    "recommendations = health_recommendations(bmi)\n",
    "print(\"Health Recommendations:\")\n",
    "print(recommendations)"
   ]
  },
  {
   "cell_type": "markdown",
   "id": "42ef2660",
   "metadata": {},
   "source": [
    "## Challenge Level:"
   ]
  },
  {
   "cell_type": "markdown",
   "id": "9298063e",
   "metadata": {},
   "source": [
    "31. Create a program that validates a password based on complexity rules (length, characters, etc.)."
   ]
  },
  {
   "cell_type": "code",
   "execution_count": 45,
   "id": "d2c71f69",
   "metadata": {},
   "outputs": [
    {
     "name": "stdout",
     "output_type": "stream",
     "text": [
      "Enter a password: Opbhai\n",
      "Password is not valid. Please follow the complexity rules.\n"
     ]
    }
   ],
   "source": [
    "import re\n",
    "\n",
    "def is_valid_password(password):\n",
    "    if len(password) < 8:\n",
    "        return False\n",
    "\n",
    "    if not any(char.isupper() for char in password):\n",
    "        return False\n",
    "\n",
    "    if not any(char.islower() for char in password):\n",
    "        return False\n",
    "\n",
    "    if not any(char.isdigit() for char in password):\n",
    "        return False\n",
    "\n",
    "    if not re.search(r\"[!@#\\$%\\^&\\*\\(\\)_\\+\\-=\\[\\]\\{\\};:'\\\",<>\\./?\\\\|]\", password):\n",
    "        return False\n",
    "\n",
    "    return True\n",
    "\n",
    "password = input(\"Enter a password: \")\n",
    "\n",
    "if is_valid_password(password):\n",
    "    print(\"Password is valid.\")\n",
    "else:\n",
    "    print(\"Password is not valid. Please follow the complexity rules.\")\n"
   ]
  },
  {
   "cell_type": "markdown",
   "id": "915e48d6",
   "metadata": {},
   "source": [
    "32. Develop a program that performs matrix addition and subtraction based on user input."
   ]
  },
  {
   "cell_type": "code",
   "execution_count": 47,
   "id": "eb4b503e",
   "metadata": {},
   "outputs": [
    {
     "name": "stdout",
     "output_type": "stream",
     "text": [
      "Enter the number of rows: 2\n",
      "Enter the number of columns: 2\n",
      "Matrix A:\n",
      "Enter the elements of a 2x2 matrix:\n",
      "Enter element at position (1,1): 1\n",
      "Enter element at position (1,2): 2\n",
      "Enter element at position (2,1): 3\n",
      "Enter element at position (2,2): 4\n",
      "Matrix B:\n",
      "Enter the elements of a 2x2 matrix:\n",
      "Enter element at position (1,1): 1\n",
      "Enter element at position (1,2): 2\n",
      "Enter element at position (2,1): 3\n",
      "Enter element at position (2,2): 4\n",
      "Matrix A + Matrix B:\n",
      "2.0\t4.0\t\n",
      "6.0\t8.0\t\n",
      "Matrix A - Matrix B:\n",
      "0.0\t0.0\t\n",
      "0.0\t0.0\t\n"
     ]
    }
   ],
   "source": [
    "# Function to input a matrix of given dimensions\n",
    "def input_matrix(rows, columns):\n",
    "    matrix = []\n",
    "    print(f\"Enter the elements of a {rows}x{columns} matrix:\")\n",
    "    for i in range(rows):\n",
    "        row = []\n",
    "        for j in range(columns):\n",
    "            element = float(input(f\"Enter element at position ({i + 1},{j + 1}): \"))\n",
    "            row.append(element)\n",
    "        matrix.append(row)\n",
    "    return matrix\n",
    "\n",
    "# Function to display a matrix\n",
    "def display_matrix(matrix):\n",
    "    for row in matrix:\n",
    "        for element in row:\n",
    "            print(element, end=\"\\t\")\n",
    "        print()\n",
    "\n",
    "# Function to add two matrices\n",
    "def add_matrices(matrix1, matrix2):\n",
    "    if len(matrix1) != len(matrix2) or len(matrix1[0]) != len(matrix2[0]):\n",
    "        return None  # Matrices must have the same dimensions for addition\n",
    "    result = []\n",
    "    for i in range(len(matrix1)):\n",
    "        row = [a + b for a, b in zip(matrix1[i], matrix2[i])]\n",
    "        result.append(row)\n",
    "    return result\n",
    "\n",
    "# Function to subtract two matrices\n",
    "def subtract_matrices(matrix1, matrix2):\n",
    "    if len(matrix1) != len(matrix2) or len(matrix1[0]) != len(matrix2[0]):\n",
    "        return None  # Matrices must have the same dimensions for subtraction\n",
    "    result = []\n",
    "    for i in range(len(matrix1)):\n",
    "        row = [a - b for a, b in zip(matrix1[i], matrix2[i])]\n",
    "        result.append(row)\n",
    "    return result\n",
    "\n",
    "# Input dimensions of the matrices\n",
    "rows = int(input(\"Enter the number of rows: \"))\n",
    "columns = int(input(\"Enter the number of columns: \"))\n",
    "\n",
    "# Input the first matrix\n",
    "print(\"Matrix A:\")\n",
    "matrix_A = input_matrix(rows, columns)\n",
    "\n",
    "# Input the second matrix\n",
    "print(\"Matrix B:\")\n",
    "matrix_B = input_matrix(rows, columns)\n",
    "\n",
    "# Perform matrix addition and display the result\n",
    "sum_matrix = add_matrices(matrix_A, matrix_B)\n",
    "if sum_matrix:\n",
    "    print(\"Matrix A + Matrix B:\")\n",
    "    display_matrix(sum_matrix)\n",
    "else:\n",
    "    print(\"Matrix addition is not possible due to different dimensions.\")\n",
    "\n",
    "# Perform matrix subtraction and display the result\n",
    "diff_matrix = subtract_matrices(matrix_A, matrix_B)\n",
    "if diff_matrix:\n",
    "    print(\"Matrix A - Matrix B:\")\n",
    "    display_matrix(diff_matrix)\n",
    "else:\n",
    "    print(\"Matrix subtraction is not possible due to different dimensions.\")\n"
   ]
  },
  {
   "cell_type": "markdown",
   "id": "ae379259",
   "metadata": {},
   "source": [
    "33. Write a program that calculates the greatest common divisor (GCD) of two numbers using the Euclidean\n",
    "algorithm."
   ]
  },
  {
   "cell_type": "code",
   "execution_count": 48,
   "id": "c90a670b",
   "metadata": {},
   "outputs": [
    {
     "name": "stdout",
     "output_type": "stream",
     "text": [
      "Enter the first number: 12\n",
      "Enter the second number: 34\n",
      "The GCD of 12 and 34 is: 2\n"
     ]
    }
   ],
   "source": [
    "def euclidean_gcd(a, b):\n",
    "    while b:\n",
    "        a, b = b, a % b\n",
    "    return a\n",
    "\n",
    "num1 = int(input(\"Enter the first number: \"))\n",
    "num2 = int(input(\"Enter the second number: \"))\n",
    "\n",
    "gcd = euclidean_gcd(num1, num2)\n",
    "\n",
    "print(f\"The GCD of {num1} and {num2} is: {gcd}\")\n"
   ]
  },
  {
   "cell_type": "markdown",
   "id": "508b25a9",
   "metadata": {},
   "source": [
    "34. Build a program that performs matrix multiplication using nested loops and conditional statements."
   ]
  },
  {
   "cell_type": "code",
   "execution_count": 51,
   "id": "535bc1e2",
   "metadata": {},
   "outputs": [
    {
     "name": "stdout",
     "output_type": "stream",
     "text": [
      "Enter the number of rows for Matrix A: 2\n",
      "Enter the number of columns for Matrix A: 2\n",
      "Enter the number of rows for Matrix B: 2\n",
      "Enter the number of columns for Matrix B: 2\n",
      "Matrix A:\n",
      "Enter the elements of a 2x2 matrix:\n",
      "Enter element at position (1,1): 1\n",
      "Enter element at position (1,2): 2\n",
      "Enter element at position (2,1): 3\n",
      "Enter element at position (2,2): 4\n",
      "Matrix B:\n",
      "Enter the elements of a 2x2 matrix:\n",
      "Enter element at position (1,1): 5\n",
      "Enter element at position (1,2): 6\n",
      "Enter element at position (2,1): 7\n",
      "Enter element at position (2,2): 8\n",
      "Matrix A * Matrix B:\n",
      "19.0\t22.0\t\n",
      "43.0\t50.0\t\n"
     ]
    }
   ],
   "source": [
    "# Function to input a matrix of given dimensions\n",
    "def input_matrix(rows, columns):\n",
    "    matrix = []\n",
    "    print(f\"Enter the elements of a {rows}x{columns} matrix:\")\n",
    "    for i in range(rows):\n",
    "        row = []\n",
    "        for j in range(columns):\n",
    "            element = float(input(f\"Enter element at position ({i + 1},{j + 1}): \"))\n",
    "            row.append(element)\n",
    "        matrix.append(row)\n",
    "    return matrix\n",
    "\n",
    "# Function to display a matrix\n",
    "def display_matrix(matrix):\n",
    "    for row in matrix:\n",
    "        for element in row:\n",
    "            print(element, end=\"\\t\")\n",
    "        print()\n",
    "\n",
    "# Function to multiply two matrices\n",
    "def multiply_matrices(matrix1, matrix2):\n",
    "    if len(matrix1[0]) != len(matrix2):\n",
    "        return None  # Matrices must have compatible dimensions for multiplication\n",
    "    result = []\n",
    "    for i in range(len(matrix1)):\n",
    "        row = []\n",
    "        for j in range(len(matrix2[0])):\n",
    "            sum = 0\n",
    "            for k in range(len(matrix1[0])):\n",
    "                sum += matrix1[i][k] * matrix2[k][j]\n",
    "            row.append(sum)\n",
    "        result.append(row)\n",
    "    return result\n",
    "\n",
    "rows1 = int(input(\"Enter the number of rows for Matrix A: \"))\n",
    "columns1 = int(input(\"Enter the number of columns for Matrix A: \"))\n",
    "\n",
    "rows2 = int(input(\"Enter the number of rows for Matrix B: \"))\n",
    "columns2 = int(input(\"Enter the number of columns for Matrix B: \"))\n",
    "\n",
    "print(\"Matrix A:\")\n",
    "matrix_A = input_matrix(rows1, columns1)\n",
    "\n",
    "print(\"Matrix B:\")\n",
    "matrix_B = input_matrix(rows2, columns2)\n",
    "\n",
    "product_matrix = multiply_matrices(matrix_A, matrix_B)\n",
    "if product_matrix:\n",
    "    print(\"Matrix A * Matrix B:\")\n",
    "    display_matrix(product_matrix)\n",
    "else:\n",
    "    print(\"Matrix multiplication is not possible due to incompatible dimensions.\")\n"
   ]
  },
  {
   "cell_type": "markdown",
   "id": "821fd12e",
   "metadata": {},
   "source": [
    "35. Create a program that simulates a basic text-based tic-tac-toe game against the computer."
   ]
  },
  {
   "cell_type": "code",
   "execution_count": 52,
   "id": "f3f436ee",
   "metadata": {},
   "outputs": [
    {
     "name": "stdout",
     "output_type": "stream",
     "text": [
      "Welcome to Tic-Tac-Toe!\n",
      "  |   |  \n",
      "-------------\n",
      "  |   |  \n",
      "-------------\n",
      "  |   |  \n",
      "-------------\n",
      "Enter your move (row and column): 1 2\n",
      "O | X |  \n",
      "-------------\n",
      "  |   |  \n",
      "-------------\n",
      "  |   |  \n",
      "-------------\n",
      "Enter your move (row and column): 12\n",
      "Invalid input. Please enter row and column numbers.\n",
      "Enter your move (row and column): 1 3\n",
      "O | X | X\n",
      "-------------\n",
      "  |   |  \n",
      "-------------\n",
      "  |   | O\n",
      "-------------\n",
      "Enter your move (row and column): 2 3\n",
      "O | X | X\n",
      "-------------\n",
      "  | O | X\n",
      "-------------\n",
      "  |   | O\n",
      "-------------\n",
      "Computer wins. You lose.\n"
     ]
    }
   ],
   "source": [
    "import random\n",
    "\n",
    "# Function to print the Tic-Tac-Toe board\n",
    "def print_board(board):\n",
    "    for row in board:\n",
    "        print(\" | \".join(row))\n",
    "        print(\"-\" * 13)\n",
    "\n",
    "# Function to check if the game is over\n",
    "def is_game_over(board):\n",
    "    for row in board:\n",
    "        if row[0] == row[1] == row[2] and row[0] != \" \":\n",
    "            return True\n",
    "\n",
    "    for col in range(3):\n",
    "        if board[0][col] == board[1][col] == board[2][col] and board[0][col] != \" \":\n",
    "            return True\n",
    "\n",
    "    if board[0][0] == board[1][1] == board[2][2] and board[0][0] != \" \":\n",
    "        return True\n",
    "\n",
    "    if board[0][2] == board[1][1] == board[2][0] and board[0][2] != \" \":\n",
    "        return True\n",
    "\n",
    "    if all(board[i][j] != \" \" for i in range(3) for j in range(3)):\n",
    "        return True\n",
    "\n",
    "    return False\n",
    "\n",
    "# Function for the computer's move\n",
    "def computer_move(board):\n",
    "    while True:\n",
    "        row = random.randint(0, 2)\n",
    "        col = random.randint(0, 2)\n",
    "        if board[row][col] == \" \":\n",
    "            return row, col\n",
    "\n",
    "# Initialize the Tic-Tac-Toe board\n",
    "board = [[\" \" for _ in range(3)] for _ in range(3)]\n",
    "\n",
    "print(\"Welcome to Tic-Tac-Toe!\")\n",
    "\n",
    "# Main game loop\n",
    "while True:\n",
    "    print_board(board)\n",
    "\n",
    "    # Player's move\n",
    "    while True:\n",
    "        try:\n",
    "            row, col = map(int, input(\"Enter your move (row and column): \").split())\n",
    "            if 1 <= row <= 3 and 1 <= col <= 3 and board[row - 1][col - 1] == \" \":\n",
    "                board[row - 1][col - 1] = \"X\"\n",
    "                break\n",
    "            else:\n",
    "                print(\"Invalid move. Try again.\")\n",
    "        except ValueError:\n",
    "            print(\"Invalid input. Please enter row and column numbers.\")\n",
    "\n",
    "    if is_game_over(board):\n",
    "        print_board(board)\n",
    "        print(\"Congratulations! You win!\")\n",
    "        break\n",
    "\n",
    "    # Computer's move\n",
    "    row, col = computer_move(board)\n",
    "    board[row][col] = \"O\"\n",
    "\n",
    "    if is_game_over(board):\n",
    "        print_board(board)\n",
    "        print(\"Computer wins. You lose.\")\n",
    "        break\n",
    "\n",
    "    if all(board[i][j] != \" \" for i in range(3) for j in range(3)):\n",
    "        print_board(board)\n",
    "        print(\"It's a draw!\")\n",
    "        break\n"
   ]
  },
  {
   "cell_type": "markdown",
   "id": "91bbf8f3",
   "metadata": {},
   "source": [
    "36. Write a program that generates Fibonacci numbers up to a specified term using iterative methods."
   ]
  },
  {
   "cell_type": "code",
   "execution_count": 53,
   "id": "49f49ad5",
   "metadata": {},
   "outputs": [
    {
     "name": "stdout",
     "output_type": "stream",
     "text": [
      "Enter the number of Fibonacci terms to generate: 34\n",
      "Fibonacci Sequence:\n",
      "0 1 1 2 3 5 8 13 21 34 55 89 144 233 377 610 987 1597 2584 4181 6765 10946 17711 28657 46368 75025 121393 196418 317811 514229 832040 1346269 2178309 3524578 "
     ]
    }
   ],
   "source": [
    "def generate_fibonacci(n):\n",
    "    fibonacci_sequence = []\n",
    "    if n >= 1:\n",
    "        fibonacci_sequence.append(0)\n",
    "    if n >= 2:\n",
    "        fibonacci_sequence.append(1)\n",
    "\n",
    "    for i in range(2, n):\n",
    "        next_fibonacci = fibonacci_sequence[-1] + fibonacci_sequence[-2]\n",
    "        fibonacci_sequence.append(next_fibonacci)\n",
    "\n",
    "    return fibonacci_sequence\n",
    "\n",
    "n = int(input(\"Enter the number of Fibonacci terms to generate: \"))\n",
    "\n",
    "if n < 1:\n",
    "    print(\"Please enter a positive number.\")\n",
    "else:\n",
    "    fibonacci_sequence = generate_fibonacci(n)\n",
    "    print(\"Fibonacci Sequence:\")\n",
    "    for term in fibonacci_sequence:\n",
    "        print(term, end=\" \")\n"
   ]
  },
  {
   "cell_type": "code",
   "execution_count": 55,
   "id": "e2d4ef42",
   "metadata": {},
   "outputs": [
    {
     "name": "stdout",
     "output_type": "stream",
     "text": [
      "Enter the term (n) for the Fibonacci sequence: 34\n",
      "The 34th term of the Fibonacci sequence is: 5702887\n"
     ]
    }
   ],
   "source": [
    "fibonacci_cache = {}\n",
    "\n",
    "def fibonacci(n):\n",
    "    if n in fibonacci_cache:\n",
    "        return fibonacci_cache[n]\n",
    "\n",
    "    if n <= 1:\n",
    "        result = n\n",
    "    else:\n",
    "        result = fibonacci(n - 1) + fibonacci(n - 2)\n",
    "\n",
    "    fibonacci_cache[n] = result\n",
    "    return result\n",
    "\n",
    "n = int(input(\"Enter the term (n) for the Fibonacci sequence: \"))\n",
    "\n",
    "if n < 0:\n",
    "    print(\"Please enter a non-negative integer.\")\n",
    "else:\n",
    "    fibonacci_value = fibonacci(n)\n",
    "    print(f\"The {n}th term of the Fibonacci sequence is: {fibonacci_value}\")\n"
   ]
  },
  {
   "cell_type": "code",
   "execution_count": 56,
   "id": "67832d86",
   "metadata": {},
   "outputs": [
    {
     "name": "stdout",
     "output_type": "stream",
     "text": [
      "Enter the year (e.g., 2023): 2023\n",
      "Enter the month (1-12): 11\n",
      "Calendar for November 2023:\n",
      "   November 2023\n",
      "Mo Tu We Th Fr Sa Su\n",
      "       1  2  3  4  5\n",
      " 6  7  8  9 10 11 12\n",
      "13 14 15 16 17 18 19\n",
      "20 21 22 23 24 25 26\n",
      "27 28 29 30\n",
      "\n"
     ]
    }
   ],
   "source": [
    "import calendar\n",
    "\n",
    "def generate_calendar(year, month):\n",
    "    cal = calendar.month(year, month)\n",
    "    return cal\n",
    "\n",
    "year = int(input(\"Enter the year (e.g., 2023): \"))\n",
    "month = int(input(\"Enter the month (1-12): \"))\n",
    "\n",
    "if 1 <= month <= 12:\n",
    "    # Generate and display the calendar\n",
    "    cal = generate_calendar(year, month)\n",
    "    print(f\"Calendar for {calendar.month_name[month]} {year}:\")\n",
    "    print(cal)\n",
    "else:\n",
    "    print(\"Invalid month. Please enter a number between 1 and 12 for the month.\")\n"
   ]
  },
  {
   "cell_type": "markdown",
   "id": "b43d9629",
   "metadata": {},
   "source": [
    "39. Build a program that simulates a basic text-based blackjack game against the computer."
   ]
  },
  {
   "cell_type": "code",
   "execution_count": 57,
   "id": "6cd3c090",
   "metadata": {},
   "outputs": [
    {
     "name": "stdout",
     "output_type": "stream",
     "text": [
      "Player's hand:  J, 3\n",
      "Computer's hand:  3  *Hidden*\n",
      "Do you want to 'hit' or 'stand'? hit\n",
      "Player's hand:  J, 3, 2\n",
      "Computer's hand:  3  *Hidden*\n",
      "Do you want to 'hit' or 'stand'? stand\n",
      "Player's hand:  J, 3, 2\n",
      "Computer's hand:  3, 2, 5, Q\n",
      "Computer wins.\n"
     ]
    }
   ],
   "source": [
    "import random\n",
    "\n",
    "# Function to deal a card from the deck\n",
    "def deal_card():\n",
    "    cards = [\"2\", \"3\", \"4\", \"5\", \"6\", \"7\", \"8\", \"9\", \"10\", \"J\", \"Q\", \"K\", \"A\"]\n",
    "    return random.choice(cards)\n",
    "\n",
    "# Function to calculate the value of a hand\n",
    "def calculate_hand_value(hand):\n",
    "    value = 0\n",
    "    num_aces = 0\n",
    "\n",
    "    for card in hand:\n",
    "        if card in [\"K\", \"Q\", \"J\"]:\n",
    "            value += 10\n",
    "        elif card == \"A\":\n",
    "            value += 11\n",
    "            num_aces += 1\n",
    "        else:\n",
    "            value += int(card)\n",
    "\n",
    "    while value > 21 and num_aces > 0:\n",
    "        value -= 10\n",
    "        num_aces -= 1\n",
    "\n",
    "    return value\n",
    "\n",
    "# Function to display a hand\n",
    "def display_hand(hand):\n",
    "    return \", \".join(hand)\n",
    "\n",
    "# Initialize the deck\n",
    "deck = []\n",
    "\n",
    "# Initialize player and computer hands\n",
    "player_hand = [deal_card(), deal_card()]\n",
    "computer_hand = [deal_card(), deal_card()]\n",
    "\n",
    "# Main game loop\n",
    "while True:\n",
    "    print(\"Player's hand: \", display_hand(player_hand))\n",
    "    print(\"Computer's hand: \", computer_hand[0], \" *Hidden*\")\n",
    "\n",
    "    player_value = calculate_hand_value(player_hand)\n",
    "    if player_value == 21:\n",
    "        print(\"Blackjack! Player wins!\")\n",
    "        break\n",
    "    elif player_value > 21:\n",
    "        print(\"Player busts! Computer wins.\")\n",
    "        break\n",
    "\n",
    "    action = input(\"Do you want to 'hit' or 'stand'? \").strip().lower()\n",
    "    if action == \"hit\":\n",
    "        player_hand.append(deal_card())\n",
    "    elif action == \"stand\":\n",
    "        while calculate_hand_value(computer_hand) < 17:\n",
    "            computer_hand.append(deal_card())\n",
    "        print(\"Player's hand: \", display_hand(player_hand))\n",
    "        print(\"Computer's hand: \", display_hand(computer_hand))\n",
    "        if calculate_hand_value(computer_hand) > 21:\n",
    "            print(\"Computer busts! Player wins!\")\n",
    "        elif calculate_hand_value(computer_hand) >= player_value:\n",
    "            print(\"Computer wins.\")\n",
    "        else:\n",
    "            print(\"Player wins!\")\n",
    "        break\n",
    "\n",
    "    computer_value = calculate_hand_value(computer_hand)\n",
    "    if computer_value == 21:\n",
    "        print(\"Blackjack! Computer wins.\")\n",
    "        break\n",
    "    elif computer_value > 21:\n",
    "        print(\"Computer busts! Player wins.\")\n",
    "        break\n"
   ]
  },
  {
   "cell_type": "markdown",
   "id": "cdc26640",
   "metadata": {},
   "source": [
    "40. Write a program that generates the prime factors of a given number using trial division."
   ]
  },
  {
   "cell_type": "code",
   "execution_count": 58,
   "id": "236ce985",
   "metadata": {},
   "outputs": [
    {
     "name": "stdout",
     "output_type": "stream",
     "text": [
      "Enter a number to find its prime factors: 34\n",
      "Prime factors of 34 are: 2, 17\n"
     ]
    }
   ],
   "source": [
    "def prime_factors(n):\n",
    "    factors = []\n",
    "    divisor = 2\n",
    "\n",
    "    while divisor <= n:\n",
    "        if n % divisor == 0:\n",
    "            factors.append(divisor)\n",
    "            n = n // divisor\n",
    "        else:\n",
    "            divisor += 1\n",
    "\n",
    "    return factors\n",
    "\n",
    "number = int(input(\"Enter a number to find its prime factors: \"))\n",
    "\n",
    "if number < 2:\n",
    "    print(\"Prime factors are not applicable for numbers less than 2.\")\n",
    "else:\n",
    "    factors = prime_factors(number)\n",
    "    print(f\"Prime factors of {number} are: {', '.join(map(str, factors))}\")\n"
   ]
  },
  {
   "cell_type": "code",
   "execution_count": null,
   "id": "23e4892b",
   "metadata": {},
   "outputs": [],
   "source": []
  }
 ],
 "metadata": {
  "kernelspec": {
   "display_name": "Python 3 (ipykernel)",
   "language": "python",
   "name": "python3"
  },
  "language_info": {
   "codemirror_mode": {
    "name": "ipython",
    "version": 3
   },
   "file_extension": ".py",
   "mimetype": "text/x-python",
   "name": "python",
   "nbconvert_exporter": "python",
   "pygments_lexer": "ipython3",
   "version": "3.11.5"
  }
 },
 "nbformat": 4,
 "nbformat_minor": 5
}

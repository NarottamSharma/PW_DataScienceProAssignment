{
 "cells": [
  {
   "cell_type": "markdown",
   "id": "7f9f517d-d1bc-488f-af06-a548fc91054b",
   "metadata": {},
   "source": [
    "## Constructor:"
   ]
  },
  {
   "cell_type": "markdown",
   "id": "ed3702a9-0ec3-4131-88b8-b8c350df0e78",
   "metadata": {},
   "source": [
    "### 1. What is a constructor in Python? Explain its purpose and usage."
   ]
  },
  {
   "cell_type": "code",
   "execution_count": 3,
   "id": "8a1c6fb4-3c41-491b-a2fc-14223136a8af",
   "metadata": {},
   "outputs": [
    {
     "name": "stdout",
     "output_type": "stream",
     "text": [
      "rama\n",
      "krishna\n"
     ]
    }
   ],
   "source": [
    "# using class and set a class name as con.\n",
    "class con:\n",
    "# Define a constuctor that is __init__.\n",
    "    def __init__(self,parameter1,parameter2):\n",
    "        self.attribute1=parameter1\n",
    "        self.attribute2=parameter2\n",
    "# instance of a class.\n",
    "my_object=con(\"rama\",\"krishna\")\n",
    "# print the result.\n",
    "print(my_object.attribute1)\n",
    "print(my_object.attribute2)"
   ]
  },
  {
   "cell_type": "markdown",
   "id": "bfe024fa-a5f9-4054-adb2-a4ae9d430615",
   "metadata": {},
   "source": [
    "### 2. Differentiate between a parameterless constructor and a parameterized constructor in Python."
   ]
  },
  {
   "cell_type": "code",
   "execution_count": 11,
   "id": "5e4bb030-3ea3-4631-a982-a9349002b20b",
   "metadata": {},
   "outputs": [
    {
     "name": "stdout",
     "output_type": "stream",
     "text": [
      "pwskills\n",
      "rama\n",
      "krishna\n"
     ]
    }
   ],
   "source": [
    "# using without parameters.\n",
    "class parameter_less:\n",
    "    def __init__(self):\n",
    "        self.attribute=\"pwskills\"\n",
    "obj=parameter_less()\n",
    "print(obj.attribute)\n",
    "\n",
    "\n",
    "# using class and set a class name as con.\n",
    "class con:\n",
    "# Define a constuctor that is __init__.\n",
    "    def __init__(self,parameter1,parameter2):\n",
    "        self.attribute1=parameter1\n",
    "        self.attribute2=parameter2\n",
    "# instance of a class.\n",
    "my_object=con(\"rama\",\"krishna\")\n",
    "# print the result.\n",
    "print(my_object.attribute1)\n",
    "print(my_object.attribute2)"
   ]
  },
  {
   "cell_type": "markdown",
   "id": "8f57a4c4-738d-4ec8-b3b2-1d1960be7491",
   "metadata": {},
   "source": [
    "### 3. How do you define a constructor in a Python class? Provide an example."
   ]
  },
  {
   "cell_type": "code",
   "execution_count": 12,
   "id": "ade3e951-9470-44d4-86da-ee475d37d35d",
   "metadata": {},
   "outputs": [
    {
     "name": "stdout",
     "output_type": "stream",
     "text": [
      "krrish\n"
     ]
    }
   ],
   "source": [
    "# create class and class name.\n",
    "class constructor_class:\n",
    "# Define a constuctor.\n",
    "    def __init__(self,name):\n",
    "        self.attribute=name\n",
    "# create a object to call the constructor.\n",
    "obj=constructor_class(\"krrish\")\n",
    "# print the result.\n",
    "print(obj.attribute)"
   ]
  },
  {
   "cell_type": "markdown",
   "id": "53adb10f-c866-498c-957b-c8c96d93925a",
   "metadata": {},
   "source": [
    "### 4. Explain the `__init__` method in Python and its role in constructors."
   ]
  },
  {
   "cell_type": "code",
   "execution_count": 13,
   "id": "c15b0be2-f33e-4ef3-a862-d2f760073391",
   "metadata": {},
   "outputs": [
    {
     "name": "stdout",
     "output_type": "stream",
     "text": [
      "krrish\n"
     ]
    }
   ],
   "source": [
    "# create class and class name.\n",
    "class constructor_class:\n",
    "# Define a constuctor.\n",
    "    def __init__(self,name):# \"__init__\" is method which is used to call automatically when object is created. \n",
    "        self.attribute=name\n",
    "# create a object to call the constructor.\n",
    "obj=constructor_class(\"krrish\")\n",
    "# print the result.\n",
    "print(obj.attribute)"
   ]
  },
  {
   "cell_type": "markdown",
   "id": "0ab60585-df02-4659-a22a-33a5e07d07a1",
   "metadata": {},
   "source": [
    "### 5. In a class named `Person`, create a constructor that initializes the `name` and `age` attributes. Provide an example of creating an object of this class."
   ]
  },
  {
   "cell_type": "code",
   "execution_count": 15,
   "id": "346b95cb-3c18-448d-8bbe-d323614c9bde",
   "metadata": {},
   "outputs": [
    {
     "name": "stdout",
     "output_type": "stream",
     "text": [
      "venkatesh\n",
      "22\n"
     ]
    }
   ],
   "source": [
    "# create a class.\n",
    "class person:\n",
    "# Define a constuctor.\n",
    "    def __init__(self,name,age):\n",
    "        self.attribute1=name\n",
    "        self.attribute2=age\n",
    "# initilize the name and age and a object.\n",
    "obj=person(\"venkatesh\",\"22\")\n",
    "# print the result.\n",
    "print(obj.attribute1)\n",
    "print(obj.attribute2)"
   ]
  },
  {
   "cell_type": "markdown",
   "id": "6ec62c83-7536-4216-9dc6-8cd91c9acb88",
   "metadata": {},
   "source": [
    "### 6. How can you call a constructor explicitly in Python? Give an example."
   ]
  },
  {
   "cell_type": "code",
   "execution_count": 21,
   "id": "6b467183-3a26-463c-b7b8-4daf54382868",
   "metadata": {},
   "outputs": [
    {
     "name": "stdout",
     "output_type": "stream",
     "text": [
      "rama\n",
      "20\n",
      "venky\n",
      "22\n"
     ]
    }
   ],
   "source": [
    "# create a class.\n",
    "class explicit:\n",
    "    def __init__(self,name,age):\n",
    "        self.att1=name\n",
    "        self.att2=age\n",
    "obj=explicit(\"rama\",\"20\")\n",
    "print(obj.att1)\n",
    "print(obj.att2)\n",
    "# create a explicit constructor.\n",
    "obj. __init__(\"venky\",\"22\")\n",
    "print(obj.att1)\n",
    "print(obj.att2)"
   ]
  },
  {
   "cell_type": "markdown",
   "id": "2c1693c1-2d0f-4c68-b63d-2671b220dd4d",
   "metadata": {},
   "source": [
    "### 7. What is the significance of the `self` parameter in Python constructors? Explain with an example."
   ]
  },
  {
   "cell_type": "code",
   "execution_count": 22,
   "id": "2086a8f9-8b3b-4177-9f8b-a421402a296f",
   "metadata": {},
   "outputs": [
    {
     "name": "stdout",
     "output_type": "stream",
     "text": [
      "data science\n"
     ]
    }
   ],
   "source": [
    "class my_self:\n",
    "    def __init__(self):\n",
    "        self.attribute=\"data science\"\n",
    "obj=my_self() # self is used to refers the instance of a class.\n",
    "# print the result.\n",
    "print(obj.attribute)"
   ]
  },
  {
   "cell_type": "markdown",
   "id": "91c4d5e2-2891-46fc-a1bd-b43fb341b8b6",
   "metadata": {},
   "source": [
    "### 8. Discuss the concept of default constructors in Python. When are they used?"
   ]
  },
  {
   "cell_type": "code",
   "execution_count": 26,
   "id": "51cc066d-db35-48c7-b5cf-807db78dad79",
   "metadata": {},
   "outputs": [],
   "source": [
    "class MyClass:\n",
    "# Default constructor is automatically provided\n",
    "    pass\n",
    "# Creating an instance of MyClass\n",
    "my_object = MyClass()"
   ]
  },
  {
   "cell_type": "markdown",
   "id": "39d193aa-e75c-46dd-bd8f-aa4c0cc6082b",
   "metadata": {},
   "source": [
    "### 9. Create a Python class called `Rectangle` with a constructor that initializes the `width` and `height` attributes. Provide a method to calculate the area of the rectangle."
   ]
  },
  {
   "cell_type": "code",
   "execution_count": 10,
   "id": "76df1c46-063d-465e-94d1-9666957ea3ef",
   "metadata": {},
   "outputs": [
    {
     "name": "stdout",
     "output_type": "stream",
     "text": [
      "the area of a rectangle is20\n"
     ]
    },
    {
     "data": {
      "text/plain": [
       "20"
      ]
     },
     "execution_count": 10,
     "metadata": {},
     "output_type": "execute_result"
    }
   ],
   "source": [
    "# define a classname as rectangle.\n",
    "class rectangle:\n",
    "# using constructor.\n",
    "    def __init__(self,width,height):\n",
    "        self.width=width\n",
    "        self.height=height\n",
    "# using area of a rectangle.    \n",
    "    def rectangle_area(self):\n",
    "        area=self.width*self.height\n",
    "        return area\n",
    "# print the result.\n",
    "# Driver code.\n",
    "result=rectangle(4,5)\n",
    "print(f\"the area of a rectangle is{result.rectangle_area()}\")\n",
    "result.rectangle_area()"
   ]
  },
  {
   "cell_type": "markdown",
   "id": "3933ebbb-8f37-4275-9fd5-189389e692a7",
   "metadata": {},
   "source": [
    "### 10. How can you have multiple constructors in a Python class? Explain with an example."
   ]
  },
  {
   "cell_type": "code",
   "execution_count": 11,
   "id": "acac3487-2962-4446-94e4-118516500de7",
   "metadata": {},
   "outputs": [
    {
     "name": "stdout",
     "output_type": "stream",
     "text": [
      "10 20\n",
      "30 40\n",
      "0 0\n"
     ]
    }
   ],
   "source": [
    "class MyClass:\n",
    "    def __init__(self, value1, value2):\n",
    "        self.value1 = value1\n",
    "        self.value2 = value2\n",
    "\n",
    "    @classmethod\n",
    "    def from_string(cls, input_string):\n",
    "        # Parse the string and create an instance\n",
    "        value1, value2 = map(int, input_string.split())\n",
    "        return cls(value1, value2)\n",
    "\n",
    "    @classmethod\n",
    "    def default_values(cls):\n",
    "        # Create an instance with default values\n",
    "        return cls(0, 0)\n",
    "\n",
    "# Using the regular constructor\n",
    "obj1 = MyClass(10, 20)\n",
    "# Using the alternative constructor from_string\n",
    "obj2 = MyClass.from_string(\"30 40\")\n",
    "# Using another alternative constructor default_values\n",
    "obj3 = MyClass.default_values()\n",
    "# print the result.\n",
    "print(obj1.value1, obj1.value2) \n",
    "print(obj2.value1, obj2.value2)  \n",
    "print(obj3.value1, obj3.value2) "
   ]
  },
  {
   "cell_type": "markdown",
   "id": "b805867e-b627-4f15-a968-0fbb2e5b8124",
   "metadata": {},
   "source": [
    "### 11. What is method overloading, and how is it related to constructors in Python?"
   ]
  },
  {
   "cell_type": "code",
   "execution_count": 14,
   "id": "206a5205-8444-4987-a9df-a58efb65979c",
   "metadata": {},
   "outputs": [
    {
     "name": "stdout",
     "output_type": "stream",
     "text": [
      "Method with one argument: 10\n",
      "Method with two arguments: 20, 30\n",
      "Invalid number of arguments\n"
     ]
    }
   ],
   "source": [
    "# define a classname as overloaded methods.\n",
    "class OverloadedMethods:\n",
    "    def method_overload(self, *args):\n",
    "        if len(args) == 1:\n",
    "            self.method_with_one_arg(args[0])\n",
    "        elif len(args) == 2:\n",
    "            self.method_with_two_args(args[0], args[1])\n",
    "        else:\n",
    "            print(\"Invalid number of arguments\")\n",
    "\n",
    "    def method_with_one_arg(self, arg1):\n",
    "        print(f\"Method with one argument: {arg1}\")\n",
    "\n",
    "    def method_with_two_args(self, arg1, arg2):\n",
    "        print(f\"Method with two arguments: {arg1}, {arg2}\")\n",
    "\n",
    "# Creating an instance of the class\n",
    "obj = OverloadedMethods()\n",
    "# print the result.\n",
    "# Calling the overloaded method with different argument counts\n",
    "obj.method_overload(10)\n",
    "obj.method_overload(20, 30)\n",
    "obj.method_overload(40, 50, 60)"
   ]
  },
  {
   "cell_type": "markdown",
   "id": "928b771e-4c42-42f7-aace-3d2f0c59b78b",
   "metadata": {},
   "source": [
    "#### 12. Explain the use of the `super()` function in Python constructors. Provide an example."
   ]
  },
  {
   "cell_type": "code",
   "execution_count": 2,
   "id": "842c30ab-6ebf-4470-bdfe-f966ae03c65d",
   "metadata": {},
   "outputs": [
    {
     "name": "stdout",
     "output_type": "stream",
     "text": [
      " name:radha\n",
      " age:20\n"
     ]
    }
   ],
   "source": [
    "# define a parent class.\n",
    "class parent:\n",
    "    def __init__(self,name):\n",
    "        self.name=name\n",
    "# define a child class with name and age attributes.\n",
    "class child(parent):\n",
    "    def __init__(self,name,age):\n",
    "# using super() function is used to aquire the all properties of a parent class.  \n",
    "        super().__init__(name)\n",
    "        self.age=age\n",
    "# create a instance of child class.\n",
    "obj=child(\"radha\",20)\n",
    "# print the result.\n",
    "print(f\" name:{obj.name}\")\n",
    "print(f\" age:{obj.age}\")"
   ]
  },
  {
   "cell_type": "markdown",
   "id": "a508467c-5776-46ac-8f0f-4fbbdd86b379",
   "metadata": {},
   "source": [
    "#### 13. Create a class called `Book` with a constructor that initializes the `title`, `author`, and `published_year` attributes. Provide a method to display book details."
   ]
  },
  {
   "cell_type": "code",
   "execution_count": 3,
   "id": "417a00be-67d0-44fb-b50b-bbef16be93e1",
   "metadata": {},
   "outputs": [
    {
     "name": "stdout",
     "output_type": "stream",
     "text": [
      "book details are\n",
      "book name: rich dad poor dad\n",
      "book author: narottam vatsa\n",
      "book published year: 1987\n"
     ]
    }
   ],
   "source": [
    "# define a class name as book.\n",
    "class book:\n",
    "# use methods are title,author,published year.\n",
    "    def __init__(self,title,author,published_year):\n",
    "        self.title=title\n",
    "        self.author=author\n",
    "        self.published_year=published_year\n",
    "        \n",
    "    def title_of_book(self):\n",
    "        title=\"rich dad poor dad\"\n",
    "        return title \n",
    "    \n",
    "    def author_of_book(self):\n",
    "        author=\"narottam_vatsa\"\n",
    "        return author\n",
    "    \n",
    "    def publish_year(self):\n",
    "        publish_year=\"1987\"\n",
    "        return publish_year\n",
    "# display the book details.    \n",
    "    def display_book_details(self):\n",
    "        print(\"book details are\")\n",
    "        print(\"book name:\",self.title)\n",
    "        print(\"book author:\",self.author)\n",
    "        print(\"book published year:\",self.published_year)\n",
    "# create a instance of a class.\n",
    "display=book(\"rich dad poor dad\",\"narottam vatsa\",\"1987\")\n",
    "# print the result.\n",
    "display.display_book_details()"
   ]
  },
  {
   "cell_type": "markdown",
   "id": "58b55c48-5707-4302-a67e-01e7bac3c7ee",
   "metadata": {},
   "source": [
    "#### 14. Discuss the differences between constructors and regular methods in Python classes."
   ]
  },
  {
   "cell_type": "code",
   "execution_count": 8,
   "id": "48111de9-8cee-4723-a63f-54970edac5b3",
   "metadata": {},
   "outputs": [],
   "source": [
    "# constuctor.\n",
    "# define a class name as constuctor.\n",
    "class constructor:\n",
    "    def __init__(self,name,age):\n",
    "    # constructor is used called when object of a class is created.\n",
    "        self.name=name\n",
    "        self.age=age"
   ]
  },
  {
   "cell_type": "code",
   "execution_count": 9,
   "id": "8b6dc043-e89a-41da-b0a8-283dea0aab81",
   "metadata": {},
   "outputs": [],
   "source": [
    "# method \n",
    "# define a class name as method.\n",
    "class method:\n",
    "    def __init__(self,name,age):\n",
    "        self.name=name\n",
    "        self.age=age\n",
    "    # method is used perform a operation of the object \n",
    "    def perform_operation(self):\n",
    "        result=name+age\n",
    "        return result"
   ]
  },
  {
   "cell_type": "markdown",
   "id": "59127b4d-ee20-4c93-b799-3ade6e48d5e1",
   "metadata": {},
   "source": [
    "#### 15. Explain the role of the `self` parameter in instance variable initialization within a constructor."
   ]
  },
  {
   "cell_type": "code",
   "execution_count": 10,
   "id": "d4f84a81-5af0-4fe6-9225-d6a28c88c5ff",
   "metadata": {},
   "outputs": [
    {
     "name": "stdout",
     "output_type": "stream",
     "text": [
      "book details are\n",
      "book name: rich dad poor dad\n",
      "book author: narottam vatsa\n",
      "book published year: 1987\n"
     ]
    }
   ],
   "source": [
    "# define a class name as book.\n",
    "class book:\n",
    "# use methods are title,author,published year.\n",
    "    def __init__(self,title,author,published_year):\n",
    "        self.title=title\n",
    "        self.author=author\n",
    "        self.published_year=published_year\n",
    "        \n",
    "    def title_of_book(self):# self is used in class which is used to refer the instance of a class itself.\n",
    "        title=\"rich dad poor dad\"\n",
    "        return title \n",
    "    \n",
    "    def author_of_book(self):\n",
    "        author=\"narottam_vatsa\"\n",
    "        return author\n",
    "    \n",
    "    def publish_year(self):\n",
    "        publish_year=\"1987\"\n",
    "        return publish_year\n",
    "# display the book details.    \n",
    "    def display_book_details(self):\n",
    "        print(\"book details are\")\n",
    "        print(\"book name:\",self.title)\n",
    "        print(\"book author:\",self.author)\n",
    "        print(\"book published year:\",self.published_year)\n",
    "# create a instance of a class.\n",
    "display=book(\"rich dad poor dad\",\"narottam vatsa\",\"1987\")\n",
    "# print the result.\n",
    "display.display_book_details()"
   ]
  },
  {
   "cell_type": "markdown",
   "id": "7b489d8e-0c9c-413a-95c2-f500f53a5da5",
   "metadata": {},
   "source": [
    "#### 16. How do you prevent a class from having multiple instances by using constructors in Python? Provide an example."
   ]
  },
  {
   "cell_type": "code",
   "execution_count": 11,
   "id": "5e98a866-da32-42b4-b1e4-b684ca3b083c",
   "metadata": {},
   "outputs": [
    {
     "name": "stdout",
     "output_type": "stream",
     "text": [
      "True\n"
     ]
    }
   ],
   "source": [
    "class SingletonClass:\n",
    "    _instance = None\n",
    "\n",
    "    def __new__(cls):\n",
    "        # Create a new instance only if it doesn't exist\n",
    "        if cls._instance is None:\n",
    "            cls._instance = super(SingletonClass, cls).__new__(cls)\n",
    "        return cls._instance\n",
    "\n",
    "    def __init__(self):\n",
    "        # Initialization logic here (will be executed only once)\n",
    "        if not hasattr(self, '_initialized'):\n",
    "            self._initialized = True\n",
    "            # Other initialization code goes here\n",
    "\n",
    "# Example usage\n",
    "instance1 = SingletonClass()\n",
    "instance2 = SingletonClass()\n",
    "\n",
    "print(instance1 is instance2) "
   ]
  },
  {
   "cell_type": "markdown",
   "id": "fe26d8eb-6b76-450e-a732-a49c5b1f961e",
   "metadata": {},
   "source": [
    "#### 17. Create a Python class called `Student` with a constructor that takes a list of subjects as a parameter and initializes the `subjects` attribute."
   ]
  },
  {
   "cell_type": "code",
   "execution_count": 19,
   "id": "1fa5dae0-ec5c-4813-90b6-c6dc633a5b00",
   "metadata": {},
   "outputs": [
    {
     "name": "stdout",
     "output_type": "stream",
     "text": [
      "['python', 'datascience', 'machine learning', 'deep learning']\n"
     ]
    }
   ],
   "source": [
    "class student:\n",
    "    def __init__(self,subjects):\n",
    "        self.subjects=subjects\n",
    "\n",
    "list_of_subjects=[\"python\",\"datascience\",\"machine learning\",\"deep learning\"]\n",
    "# Example usage\n",
    "student1=student(list_of_subjects)\n",
    "# print the result.\n",
    "print(student1.subjects)                "
   ]
  },
  {
   "cell_type": "markdown",
   "id": "8abe7065-a6f2-4bc3-b555-069230b30579",
   "metadata": {},
   "source": [
    "#### 18. What is the purpose of the `__del__` method in Python classes, and how does it relate to constructors?"
   ]
  },
  {
   "cell_type": "code",
   "execution_count": 1,
   "id": "12a87d5a-cb98-4d88-946c-af032f18c469",
   "metadata": {},
   "outputs": [
    {
     "name": "stdout",
     "output_type": "stream",
     "text": [
      "rama created\n",
      "krishna created\n",
      "rama is being destroyed\n",
      "krishna is being destroyed\n"
     ]
    }
   ],
   "source": [
    "# create class name.\n",
    "class my_class:\n",
    "# define a constructor.\n",
    "    def __init__(self,name):\n",
    "        self.name=name\n",
    "        print(f\"{self.name} created\")\n",
    "# define a destructor(__del__) is a method that called when object is destroyed.        \n",
    "    def __del__(self):\n",
    "        print(f\"{self.name} is being destroyed\")\n",
    "        \n",
    "# create a instance of a class.\n",
    "obj1=my_class(\"rama\")\n",
    "obj2=my_class(\"krishna\")\n",
    "\n",
    "del obj1\n",
    "del obj2"
   ]
  },
  {
   "cell_type": "markdown",
   "id": "0687ee82-deaa-4709-99b1-af57ee28a5ed",
   "metadata": {},
   "source": [
    "#### 19. Explain the use of constructor chaining in Python. Provide a practical example."
   ]
  },
  {
   "cell_type": "code",
   "execution_count": 3,
   "id": "5e6d871d-c80a-4a8c-8bfb-c9755ee3323c",
   "metadata": {},
   "outputs": [
    {
     "name": "stdout",
     "output_type": "stream",
     "text": [
      "parent constructor called with name:venky\n",
      "Child constructor called with age: 22\n"
     ]
    }
   ],
   "source": [
    "class parent:\n",
    "    def __init__(self,name):\n",
    "        self.name=name\n",
    "        print(f\"parent constructor called with name:{self.name}\")\n",
    "\n",
    "class child(parent):\n",
    "    def __init__(self,name,age):\n",
    "        super().__init__(name)\n",
    "        self.age=age\n",
    "        print(f\"Child constructor called with age: {self.age}\")\n",
    "\n",
    "obj=child(\"venky\",22)        "
   ]
  },
  {
   "cell_type": "markdown",
   "id": "f88522c8-f9a3-4c03-b326-ae600d77b83b",
   "metadata": {},
   "source": [
    "#### 20. Create a Python class called `Car` with a default constructor that initializes the `make` and `model` attributes. Provide a method to display car information."
   ]
  },
  {
   "cell_type": "code",
   "execution_count": 4,
   "id": "127c24ff-0fa3-423f-a4de-40a8015e5e13",
   "metadata": {},
   "outputs": [
    {
     "name": "stdout",
     "output_type": "stream",
     "text": [
      "Car Information: Make - Unknown Make, Model - Unknown Model\n"
     ]
    }
   ],
   "source": [
    "class Car:\n",
    "    def __init__(self):\n",
    "        # Default constructor initializes make and model\n",
    "        self.make = \"Unknown Make\"\n",
    "        self.model = \"Unknown Model\"\n",
    "\n",
    "    def display_info(self):\n",
    "        # Method to display car information\n",
    "        print(f\"Car Information: Make - {self.make}, Model - {self.model}\")\n",
    "# Creating an object of the Car class\n",
    "car_instance = Car()\n",
    "# Displaying car information\n",
    "car_instance.display_info()"
   ]
  },
  {
   "cell_type": "markdown",
   "id": "f067bbf4-5b92-4067-afbf-ad3ccdcd92fc",
   "metadata": {},
   "source": [
    "## Inheritance:"
   ]
  },
  {
   "cell_type": "markdown",
   "id": "90ec75be-a5cb-43e5-8215-f5490429867b",
   "metadata": {},
   "source": [
    "#### 1. What is inheritance in Python? Explain its significance in object-oriented programming."
   ]
  },
  {
   "cell_type": "code",
   "execution_count": 9,
   "id": "00409abc-d3d7-43d1-bc60-7c23d00a47fb",
   "metadata": {},
   "outputs": [
    {
     "name": "stdout",
     "output_type": "stream",
     "text": [
      "Species: Dog\n",
      "Breed: Golden Retriever\n",
      "Woof! Woof!\n"
     ]
    }
   ],
   "source": [
    "class Animal:\n",
    "    def __init__(self, species):\n",
    "        self.species = species\n",
    "    def make_sound(self):\n",
    "        print(\"Some generic animal sound\")\n",
    "class Dog(Animal):\n",
    "    def __init__(self, breed):\n",
    "        # Call the constructor of the superclass (Animal)\n",
    "        super().__init__(\"Dog\")\n",
    "        self.breed = breed\n",
    "    # Override the make_sound method\n",
    "    def make_sound(self):\n",
    "        print(\"Woof! Woof!\")\n",
    "# Creating an instance of the Dog class\n",
    "dog_instance = Dog(\"Golden Retriever\")\n",
    "# Accessing attributes and methods from both Animal and Dog classes\n",
    "print(f\"Species: {dog_instance.species}\")\n",
    "print(f\"Breed: {dog_instance.breed}\")\n",
    "dog_instance.make_sound()"
   ]
  },
  {
   "cell_type": "markdown",
   "id": "d658e810-38a8-4d5f-aece-b46c72b301fb",
   "metadata": {},
   "source": [
    "#### 2. Differentiate between single inheritance and multiple inheritance in Python. Provide examples for each."
   ]
  },
  {
   "cell_type": "code",
   "execution_count": 1,
   "id": "fad5b268-b37e-4221-ab6f-0b16689c616f",
   "metadata": {},
   "outputs": [],
   "source": [
    "# single inheritance is used to inherit from only base class. \n",
    "class Animal:\n",
    "    def speak(self):\n",
    "        print(\"Animal speaks\")\n",
    "# create a child class.\n",
    "class Dog(Animal):\n",
    "    def bark(self):\n",
    "        print(\"Dog barks\")"
   ]
  },
  {
   "cell_type": "code",
   "execution_count": 2,
   "id": "c8bdd14a-c607-414d-8c1c-145a1d61ceb8",
   "metadata": {},
   "outputs": [],
   "source": [
    "# mutilple inheritance is used to inherit from more than one base classes.\n",
    "class Flyable:\n",
    "    def fly(self):\n",
    "        print(\"Can fly\")\n",
    "\n",
    "class Swimmable:\n",
    "    def swim(self):\n",
    "        print(\"Can swim\")\n",
    "\n",
    "class FlyingFish(Flyable, Swimmable):\n",
    "    pass"
   ]
  },
  {
   "cell_type": "markdown",
   "id": "a94bf9a9-204d-4989-9d36-cbf354eb53dd",
   "metadata": {},
   "source": [
    "#### 3. Create a Python class called `Vehicle` with attributes `color` and `speed`. Then, create a child class called `Car` that inherits from `Vehicle` and adds a `brand` attribute. Provide an example of creating a `Car` object."
   ]
  },
  {
   "cell_type": "code",
   "execution_count": 8,
   "id": "376f2054-92f4-4ebf-ae70-e21e7b23797b",
   "metadata": {},
   "outputs": [
    {
     "name": "stdout",
     "output_type": "stream",
     "text": [
      "car color:red\n",
      "car speed:110 per hour\n",
      "car brand:audi\n"
     ]
    }
   ],
   "source": [
    "# create a parent class name as vehicle.\n",
    "class vehicle:\n",
    "    def __init__(self,color,speed):\n",
    "        self.color=color\n",
    "        self.speed=speed\n",
    "        \n",
    "    def specification(self):\n",
    "        print(\"car specifications:\")\n",
    "# create a child class name as car and inherits the parent class.\n",
    "class car(vehicle):\n",
    "    def __init__(self,brand):\n",
    "        super().__init__(\"red\",\"110 per hour\")\n",
    "        self.brand=brand\n",
    "# create a instance of a class.\n",
    "obj=car(\"audi\")\n",
    "# print the result.\n",
    "print(f\"car color:{obj.color}\")\n",
    "print(f\"car speed:{obj.speed}\")\n",
    "print(f\"car brand:{obj.brand}\")"
   ]
  },
  {
   "cell_type": "markdown",
   "id": "ece28cbe-63ec-4026-82e7-3a559f02ed88",
   "metadata": {},
   "source": [
    "#### 4. Explain the concept of method overriding in inheritance. Provide a practical example."
   ]
  },
  {
   "cell_type": "code",
   "execution_count": 9,
   "id": "e851899f-1d8a-4250-91b8-4c89ba676ee2",
   "metadata": {},
   "outputs": [
    {
     "name": "stdout",
     "output_type": "stream",
     "text": [
      "Animal speaks\n",
      "Dog barks\n",
      "Cat meows\n"
     ]
    }
   ],
   "source": [
    "class Animal:\n",
    "    def speak(self):\n",
    "        print(\"Animal speaks\")\n",
    "\n",
    "class Dog(Animal):\n",
    "    def speak(self):\n",
    "        print(\"Dog barks\")\n",
    "\n",
    "class Cat(Animal):\n",
    "    def speak(self):\n",
    "        print(\"Cat meows\")\n",
    "# Creating instances of a both super and subclasses.\n",
    "animal = Animal()\n",
    "dog = Dog()\n",
    "cat = Cat()\n",
    "# Method calls and print the result.\n",
    "animal.speak() \n",
    "dog.speak()    \n",
    "cat.speak()     "
   ]
  },
  {
   "cell_type": "markdown",
   "id": "dfe6929b-4f6f-4195-80a2-772e706bd288",
   "metadata": {},
   "source": [
    "#### 5. How can you access the methods and attributes of a parent class from a child class in Python? Give an example."
   ]
  },
  {
   "cell_type": "code",
   "execution_count": 12,
   "id": "74ae9c61-39af-49a2-9caf-8eebeba918e9",
   "metadata": {},
   "outputs": [
    {
     "name": "stdout",
     "output_type": "stream",
     "text": [
      "car color:red\n",
      "car speed:110 per hour\n",
      "car brand:audi\n",
      "car specifications\n"
     ]
    }
   ],
   "source": [
    "# create a parent class name as vehicle.\n",
    "class vehicle:\n",
    "    def __init__(self,color,speed):\n",
    "        self.color=color\n",
    "        self.speed=speed\n",
    "        \n",
    "    def specification(self):\n",
    "        print(\"car specifications\")\n",
    "# create a child class name as car and inherits the parent class.\n",
    "class car(vehicle):\n",
    "    def __init__(self,brand):\n",
    "        super().__init__(\"red\",\"110 per hour\")\n",
    "        self.brand=brand\n",
    "        \n",
    "# create a instance of a class.\n",
    "obj=car(\"audi\")\n",
    "# print the result.\n",
    "print(f\"car color:{obj.color}\")\n",
    "print(f\"car speed:{obj.speed}\")\n",
    "print(f\"car brand:{obj.brand}\")\n",
    "obj.specification()"
   ]
  },
  {
   "cell_type": "markdown",
   "id": "56dda640-86e0-4673-9996-dff534638da8",
   "metadata": {},
   "source": [
    "#### 6. Discuss the use of the `super()` function in Python inheritance. When and why is it used? Provide an example."
   ]
  },
  {
   "cell_type": "code",
   "execution_count": 26,
   "id": "a8982617-dffd-44da-ad2e-e63fa7ddda7d",
   "metadata": {},
   "outputs": [
    {
     "name": "stdout",
     "output_type": "stream",
     "text": [
      "name:buddy\n",
      "relation:brother\n",
      "hello buddy\n",
      "i am krishna\n"
     ]
    }
   ],
   "source": [
    "# define a super class.\n",
    "class demo:\n",
    "    def __init__(self,name):\n",
    "        self.name=name\n",
    "        \n",
    "    def demo1(self):\n",
    "        print(\"hello buddy\")\n",
    "# define a child class.\n",
    "class relation(demo):\n",
    "    def __init__(self,name,relation):\n",
    "        super().__init__(name)\n",
    "        self.relation=relation   \n",
    "        \n",
    "    def demo1(self):\n",
    "# super() function is used to access the method and attributes of a super class.\n",
    "        super().demo1()\n",
    "        print(\"i am krishna\")\n",
    "        \n",
    "# create a instance of a class.\n",
    "res=relation(name=\"buddy\",relation=\"brother\")\n",
    "# print the result.\n",
    "print(f\"name:{res.name}\")\n",
    "print(f\"relation:{res.relation}\")\n",
    "res.demo1()"
   ]
  },
  {
   "cell_type": "markdown",
   "id": "48b3f48a-6ee0-4473-b730-c1d043505d2f",
   "metadata": {},
   "source": [
    "#### 7. Create a Python class called `Animal` with a method `speak()`. Then, create child classes `Dog` and `Cat` that inherit from `Animal` and override the `speak()` method. Provide an example of using these classes."
   ]
  },
  {
   "cell_type": "code",
   "execution_count": 1,
   "id": "25a6f0e9-147b-4ffb-ac9d-8173c796e4f2",
   "metadata": {},
   "outputs": [
    {
     "name": "stdout",
     "output_type": "stream",
     "text": [
      "Animal speaks\n",
      "Dog barks\n",
      "Cat meows\n"
     ]
    }
   ],
   "source": [
    "class Animal:\n",
    "    def speak(self):\n",
    "        print(\"Animal speaks\")\n",
    "\n",
    "class Dog(Animal):\n",
    "    def speak(self):\n",
    "        print(\"Dog barks\")\n",
    "\n",
    "class Cat(Animal):\n",
    "    def speak(self):\n",
    "        print(\"Cat meows\")\n",
    "# Creating instances of a both super and subclasses.\n",
    "animal = Animal()\n",
    "dog = Dog()\n",
    "cat = Cat()\n",
    "# Method calls and print the result.\n",
    "animal.speak() \n",
    "dog.speak()    \n",
    "cat.speak()     "
   ]
  },
  {
   "cell_type": "markdown",
   "id": "7d60b04b-cc2d-42e1-8b59-c62da9ee005d",
   "metadata": {},
   "source": [
    "#### 8. Explain the role of the `isinstance()` function in Python and how it relates to inheritance."
   ]
  },
  {
   "cell_type": "code",
   "execution_count": 3,
   "id": "3acf642c-ec75-44db-9d3a-4307e035bf2b",
   "metadata": {},
   "outputs": [
    {
     "name": "stdout",
     "output_type": "stream",
     "text": [
      "Some generic animal sound\n",
      "Woof! Woof!\n",
      "Meow!\n"
     ]
    }
   ],
   "source": [
    "class Animal:\n",
    "    def make_sound(self):\n",
    "        print(\"Some generic animal sound\")\n",
    "\n",
    "class Dog(Animal):\n",
    "    def make_sound(self):\n",
    "        print(\"Woof! Woof!\")\n",
    "\n",
    "class Cat(Animal):\n",
    "    def make_sound(self):\n",
    "        print(\"Meow!\")\n",
    "# Function that works with different animals\n",
    "def animal_sound(animal):\n",
    "    if isinstance(animal, Animal):\n",
    "        animal.make_sound()\n",
    "    else:\n",
    "        print(\"Not a valid animal\")\n",
    "# Instances of the classes\n",
    "generic_animal = Animal()\n",
    "my_dog = Dog()\n",
    "my_cat = Cat()\n",
    "# Using the function with different types of animals\n",
    "animal_sound(generic_animal) \n",
    "animal_sound(my_dog)          \n",
    "animal_sound(my_cat)          "
   ]
  },
  {
   "cell_type": "markdown",
   "id": "776c1edd-a642-432d-84cc-d742802cea50",
   "metadata": {},
   "source": [
    "#### 9. What is the purpose of the `issubclass()` function in Python? Provide an example."
   ]
  },
  {
   "cell_type": "code",
   "execution_count": 4,
   "id": "4b28a66a-15d5-42a0-ba81-9d21be0caa58",
   "metadata": {},
   "outputs": [
    {
     "name": "stdout",
     "output_type": "stream",
     "text": [
      "True\n",
      "True\n",
      "True\n",
      "False\n"
     ]
    }
   ],
   "source": [
    "class Animal:\n",
    "    pass\n",
    "\n",
    "class Mammal(Animal):\n",
    "    pass\n",
    "\n",
    "class Dog(Mammal):\n",
    "    pass\n",
    "# Check if classes are subclasses of each other\n",
    "print(issubclass(Mammal, Animal)) \n",
    "print(issubclass(Dog, Mammal))     \n",
    "print(issubclass(Dog, Animal))      \n",
    "print(issubclass(Animal, Dog))      "
   ]
  },
  {
   "cell_type": "markdown",
   "id": "b5e1e487-b5f0-45c8-9d8b-aafdff4faa59",
   "metadata": {},
   "source": [
    "#### 10. Discuss the concept of constructor inheritance in Python. How are constructors inherited in child classes?"
   ]
  },
  {
   "cell_type": "code",
   "execution_count": 5,
   "id": "1a6b1912-834e-460a-8733-bb3ec5dec724",
   "metadata": {},
   "outputs": [
    {
     "name": "stdout",
     "output_type": "stream",
     "text": [
      "car color:red\n",
      "car speed:110 per hour\n",
      "car brand:audi\n"
     ]
    }
   ],
   "source": [
    "# create a parent class name as vehicle.\n",
    "class vehicle:\n",
    "    def __init__(self,color,speed):\n",
    "        self.color=color\n",
    "        self.speed=speed\n",
    "        \n",
    "    def specification(self):\n",
    "        print(\"car specifications:\")\n",
    "# create a child class name as car and inherits the parent class.\n",
    "class car(vehicle):\n",
    "# __init__ is consrtuctor is used to called automatically when object is created.\n",
    "    def __init__(self,brand):\n",
    "        super().__init__(\"red\",\"110 per hour\")\n",
    "        self.brand=brand\n",
    "# create a instance of a class.\n",
    "obj=car(\"audi\")\n",
    "# print the result.\n",
    "print(f\"car color:{obj.color}\")\n",
    "print(f\"car speed:{obj.speed}\")\n",
    "print(f\"car brand:{obj.brand}\")"
   ]
  },
  {
   "cell_type": "markdown",
   "id": "4da15324-d58e-4d31-984a-21e72405b4a7",
   "metadata": {},
   "source": [
    "#### 11. Create a Python class called `Shape` with a method `area()` that calculates the area of a shape. Then, create child classes `Circle` and `Rectangle` that inherit from `Shape` and implement the `area()` method accordingly. Provide an example."
   ]
  },
  {
   "cell_type": "code",
   "execution_count": 6,
   "id": "2dc6acfe-a998-4b38-9761-25917c5602f5",
   "metadata": {},
   "outputs": [
    {
     "name": "stdout",
     "output_type": "stream",
     "text": [
      "Circle Area: 78.53981633974483\n",
      "Rectangle Area: 24\n"
     ]
    }
   ],
   "source": [
    "# Import math.\n",
    "import math\n",
    "class Shape:\n",
    "    def area(self):\n",
    "        # The base class method just raises a NotImplementedError to ensure that child classes implement their own area calculation\n",
    "        raise NotImplementedError(\"Subclasses must implement the area() method\")\n",
    "\n",
    "class Circle(Shape):\n",
    "    def __init__(self, radius):\n",
    "        self.radius = radius\n",
    "\n",
    "    def area(self):\n",
    "        return math.pi * self.radius**2\n",
    "\n",
    "class Rectangle(Shape):\n",
    "    def __init__(self, width, height):\n",
    "        self.width = width\n",
    "        self.height = height\n",
    "\n",
    "    def area(self):\n",
    "        return self.width * self.height\n",
    "# Example usage\n",
    "circle = Circle(radius=5)\n",
    "rectangle = Rectangle(width=4, height=6)\n",
    "# print the result.\n",
    "print(\"Circle Area:\", circle.area())        \n",
    "print(\"Rectangle Area:\", rectangle.area())   "
   ]
  },
  {
   "cell_type": "markdown",
   "id": "d33a8348-ee77-4284-a34b-856e56448cb7",
   "metadata": {},
   "source": [
    "#### 12. Explain the use of abstract base classes (ABCs) in Python and how they relate to inheritance. Provide an example using the `abc` module."
   ]
  },
  {
   "cell_type": "code",
   "execution_count": 7,
   "id": "bc3a69c5-dce4-424e-8800-29ec1f05644b",
   "metadata": {},
   "outputs": [
    {
     "name": "stdout",
     "output_type": "stream",
     "text": [
      "Circle Area: 78.5\n",
      "Rectangle Area: 24\n"
     ]
    }
   ],
   "source": [
    "from abc import ABC, abstractmethod\n",
    "# Abstract Base Class\n",
    "class Shape(ABC):\n",
    "    @abstractmethod\n",
    "    def area(self):\n",
    "        pass\n",
    "\n",
    "# Concrete Subclass - Circle\n",
    "class Circle(Shape):\n",
    "    def __init__(self, radius):\n",
    "        self.radius = radius\n",
    "\n",
    "    def area(self):\n",
    "        return 3.14 * self.radius**2\n",
    "# Concrete Subclass - Rectangle\n",
    "class Rectangle(Shape):\n",
    "    def __init__(self, width, height):\n",
    "        self.width = width\n",
    "        self.height = height\n",
    "\n",
    "    def area(self):\n",
    "        return self.width * self.height\n",
    "\n",
    "# Attempt to create an instance of the abstract class will result in an error\n",
    "# shape = Shape()  # This will raise a TypeError\n",
    "\n",
    "# Create instances of concrete subclasses\n",
    "circle = Circle(radius=5)\n",
    "rectangle = Rectangle(width=4, height=6)\n",
    "\n",
    "# Call the area method on instances\n",
    "print(\"Circle Area:\", circle.area())        # Output: Circle Area: 78.5\n",
    "print(\"Rectangle Area:\", rectangle.area())   # Output: Rectangle Area: 24"
   ]
  },
  {
   "cell_type": "markdown",
   "id": "502eb6c4-c9af-418b-b437-6bd3375aa126",
   "metadata": {},
   "source": [
    "#### 13. How can you prevent a child class from modifying certain attributes or methods inherited from a parent class in Python?"
   ]
  },
  {
   "cell_type": "code",
   "execution_count": 9,
   "id": "0bd599cb-82d5-40e0-a522-c913bd371bfb",
   "metadata": {},
   "outputs": [
    {
     "name": "stdout",
     "output_type": "stream",
     "text": [
      "42\n",
      "This is a protected method\n"
     ]
    }
   ],
   "source": [
    "class Parent:\n",
    "    def __init__(self):\n",
    "        self._protected_attribute = 42\n",
    "\n",
    "    def _protected_method(self):\n",
    "        print(\"This is a protected method\")\n",
    "\n",
    "class Child(Parent):\n",
    "    def __init__(self):\n",
    "        super().__init__()\n",
    "#  attributes or methods inherited from a parent class\n",
    "    def access_protected(self):\n",
    "        print(self._protected_attribute)\n",
    "        self._protected_method()\n",
    "\n",
    "child_instance = Child()\n",
    "child_instance.access_protected()"
   ]
  },
  {
   "cell_type": "markdown",
   "id": "14b6f553-a864-440f-acf0-355781bb8d68",
   "metadata": {},
   "source": [
    "#### 14. Create a Python class called `Employee` with attributes `name` and `salary`. Then, create a child class `Manager` that inherits from `Employee` and adds an attribute `department`. Provide an example."
   ]
  },
  {
   "cell_type": "code",
   "execution_count": 10,
   "id": "72fff304-c917-4696-b993-6dd4a2548f7c",
   "metadata": {},
   "outputs": [
    {
     "name": "stdout",
     "output_type": "stream",
     "text": [
      "Employee:\n",
      "Name: John Doe\n",
      "Salary: 50000\n",
      "\n",
      "Manager:\n",
      "Name: Alice Smith\n",
      "Salary: 70000\n",
      "Department: HR\n"
     ]
    }
   ],
   "source": [
    "class Employee:\n",
    "    def __init__(self, name, salary):\n",
    "        self.name = name\n",
    "        self.salary = salary\n",
    "\n",
    "class Manager(Employee):\n",
    "    def __init__(self, name, salary, department):\n",
    "        super().__init__(name, salary)\n",
    "        self.department = department\n",
    "\n",
    "# Example usage\n",
    "employee = Employee(name=\"John Doe\", salary=50000)\n",
    "manager = Manager(name=\"Alice Smith\", salary=70000, department=\"HR\")\n",
    "\n",
    "print(\"Employee:\")\n",
    "print(\"Name:\", employee.name)\n",
    "print(\"Salary:\", employee.salary)\n",
    "\n",
    "print(\"\\nManager:\")\n",
    "print(\"Name:\", manager.name)\n",
    "print(\"Salary:\", manager.salary)\n",
    "print(\"Department:\", manager.department)"
   ]
  },
  {
   "cell_type": "markdown",
   "id": "d230cdff-f90e-44cb-8e6c-3827bf491b3c",
   "metadata": {},
   "source": [
    "#### 15. Discuss the concept of method overloading in Python inheritance. How does it differ from method overriding?"
   ]
  },
  {
   "cell_type": "code",
   "execution_count": 11,
   "id": "9ce18b98-4ad4-4d20-8f0f-b0a1d2135897",
   "metadata": {},
   "outputs": [
    {
     "name": "stdout",
     "output_type": "stream",
     "text": [
      "5\n",
      "5\n",
      "6\n"
     ]
    }
   ],
   "source": [
    "class Calculator:\n",
    "    def add(self, a, b=0, c=0):\n",
    "        return a + b + c\n",
    "\n",
    "# Example usage\n",
    "calc = Calculator()\n",
    "print(calc.add(5))          \n",
    "print(calc.add(2, 3))       \n",
    "print(calc.add(1, 2, 3))     "
   ]
  },
  {
   "cell_type": "code",
   "execution_count": 12,
   "id": "bed01778-307f-47e3-aa77-7f6c97b9e196",
   "metadata": {},
   "outputs": [
    {
     "name": "stdout",
     "output_type": "stream",
     "text": [
      "Animal speaks\n",
      "Dog barks\n"
     ]
    }
   ],
   "source": [
    "class Animal:\n",
    "    def speak(self):\n",
    "        print(\"Animal speaks\")\n",
    "\n",
    "class Dog(Animal):\n",
    "    def speak(self):\n",
    "        print(\"Dog barks\")\n",
    "\n",
    "# Example usage\n",
    "animal = Animal()\n",
    "dog = Dog()\n",
    "\n",
    "animal.speak() \n",
    "dog.speak()     "
   ]
  },
  {
   "cell_type": "markdown",
   "id": "e82ae70d-4558-4c87-acf9-9645e3f6e178",
   "metadata": {},
   "source": [
    "#### 16. Explain the purpose of the `__init__()` method in Python inheritance and how it is utilized in child classes."
   ]
  },
  {
   "cell_type": "code",
   "execution_count": 13,
   "id": "87a1612a-ce89-4ba7-96fe-622232fa3ea7",
   "metadata": {},
   "outputs": [
    {
     "name": "stdout",
     "output_type": "stream",
     "text": [
      "Species: Canine\n",
      "Breed: Golden Retriever\n"
     ]
    }
   ],
   "source": [
    "class Animal:\n",
    "    def __init__(self, species):\n",
    "        self.species = species\n",
    "\n",
    "class Dog(Animal):\n",
    "    def __init__(self, species, breed):\n",
    "        super().__init__(species)\n",
    "        self.breed = breed\n",
    "\n",
    "# Example usage\n",
    "dog = Dog(species=\"Canine\", breed=\"Golden Retriever\")\n",
    "\n",
    "print(\"Species:\", dog.species)  # Output: Canine\n",
    "print(\"Breed:\", dog.breed)      # Output: Golden Retriever"
   ]
  },
  {
   "cell_type": "markdown",
   "id": "6992ed44-411d-40fe-acdf-0670ea5115a4",
   "metadata": {},
   "source": [
    "#### 17. Create a Python class called `Bird` with a method `fly()`. Then, create child classes `Eagle` and `Sparrow` that inherit from `Bird` and implement the `fly()` method differently. Provide an example of using these classes."
   ]
  },
  {
   "cell_type": "code",
   "execution_count": 14,
   "id": "373f8f52-a3fd-4eab-8e1e-1455b1772b3e",
   "metadata": {},
   "outputs": [
    {
     "name": "stdout",
     "output_type": "stream",
     "text": [
      "Bird:\n",
      "Bird is flying\n",
      "\n",
      "Eagle:\n",
      "Eagle soars high in the sky\n",
      "\n",
      "Sparrow:\n",
      "Sparrow flutters around\n"
     ]
    }
   ],
   "source": [
    "class Bird:\n",
    "    def fly(self):\n",
    "        print(\"Bird is flying\")\n",
    "\n",
    "class Eagle(Bird):\n",
    "    def fly(self):\n",
    "        print(\"Eagle soars high in the sky\")\n",
    "\n",
    "class Sparrow(Bird):\n",
    "    def fly(self):\n",
    "        print(\"Sparrow flutters around\")\n",
    "\n",
    "# Example usage\n",
    "bird = Bird()\n",
    "eagle = Eagle()\n",
    "sparrow = Sparrow()\n",
    "\n",
    "# Using the fly method for each instance\n",
    "print(\"Bird:\")\n",
    "bird.fly()      # Output: Bird is flying\n",
    "\n",
    "print(\"\\nEagle:\")\n",
    "eagle.fly()     # Output: Eagle soars high in the sky\n",
    "\n",
    "print(\"\\nSparrow:\")\n",
    "sparrow.fly()   "
   ]
  },
  {
   "cell_type": "markdown",
   "id": "29e494bc-97ea-4ba3-80a8-783e5ce6cad1",
   "metadata": {},
   "source": [
    "#### 18. What is the \"diamond problem\" in multiple inheritance, and how does Python address it?"
   ]
  },
  {
   "cell_type": "code",
   "execution_count": 15,
   "id": "8053f6ef-1382-4b9f-a158-3f4c58f5817c",
   "metadata": {},
   "outputs": [
    {
     "name": "stdout",
     "output_type": "stream",
     "text": [
      "Method in class B\n",
      "Method in class C\n",
      "Method in class A\n"
     ]
    }
   ],
   "source": [
    "class A:\n",
    "    def method(self):\n",
    "        print(\"Method in class A\")\n",
    "\n",
    "class B(A):\n",
    "    def method(self):\n",
    "        print(\"Method in class B\")\n",
    "        super().method()\n",
    "\n",
    "class C(A):\n",
    "    def method(self):\n",
    "        print(\"Method in class C\")\n",
    "        super().method()\n",
    "\n",
    "class D(B, C):\n",
    "    pass\n",
    "\n",
    "# Example usage\n",
    "obj = D()\n",
    "obj.method()"
   ]
  },
  {
   "cell_type": "markdown",
   "id": "1c3c051a-6064-4821-93f0-a0bae782c3f5",
   "metadata": {},
   "source": [
    "#### 19. Discuss the concept of \"is-a\" and \"has-a\" relationships in inheritance, and provide examples of each."
   ]
  },
  {
   "cell_type": "code",
   "execution_count": 16,
   "id": "793b441a-892a-4d33-8b55-b36ae542f720",
   "metadata": {},
   "outputs": [
    {
     "name": "stdout",
     "output_type": "stream",
     "text": [
      "Woof! Woof!\n",
      "Meow!\n"
     ]
    }
   ],
   "source": [
    "class Animal:\n",
    "    def make_sound(self):\n",
    "        pass\n",
    "\n",
    "class Dog(Animal):  # Dog is-a Animal\n",
    "    def make_sound(self):\n",
    "        print(\"Woof! Woof!\")\n",
    "\n",
    "class Cat(Animal):  # Cat is-a Animal\n",
    "    def make_sound(self):\n",
    "        print(\"Meow!\")\n",
    "\n",
    "my_dog = Dog()\n",
    "my_cat = Cat()\n",
    "\n",
    "def make_animal_sound(animal):\n",
    "    animal.make_sound()\n",
    "\n",
    "make_animal_sound(my_dog)  # Valid, as Dog is-a Animal\n",
    "make_animal_sound(my_cat)  # Valid, as Cat is-a Animal"
   ]
  },
  {
   "cell_type": "markdown",
   "id": "390d1f6f-0bd9-44c0-95e9-d8a67f217bfa",
   "metadata": {},
   "source": [
    "#### 20. Create a Python class hierarchy for a university system. Start with a base class `Person` and create child classes `Student` and `Professor`, each with their own attributes and methods. Provide an example of using these classes in a university context."
   ]
  },
  {
   "cell_type": "code",
   "execution_count": 17,
   "id": "8af378f3-fa5b-423f-bc75-58a106028371",
   "metadata": {},
   "outputs": [
    {
     "name": "stdout",
     "output_type": "stream",
     "text": [
      "Student Information:\n",
      "Name: Alice, Age: 20\n",
      "Student ID: S12345\n",
      "Alice is studying\n",
      "\n",
      "Professor Information:\n",
      "Name: Dr. Smith, Age: 45\n",
      "Employee ID: P98765\n",
      "Dr. Smith is teaching\n"
     ]
    }
   ],
   "source": [
    "class Person:\n",
    "    def __init__(self, name, age):\n",
    "        # Constructor to initialize common attributes\n",
    "        self.name = name\n",
    "        self.age = age\n",
    "\n",
    "    def display_info(self):\n",
    "        # Method to display basic information\n",
    "        print(f\"Name: {self.name}, Age: {self.age}\")\n",
    "\n",
    "class Student(Person):\n",
    "    def __init__(self, name, age, student_id):\n",
    "        # Constructor to initialize attributes specific to Student\n",
    "        super().__init__(name, age)  # Calling the constructor of the base class\n",
    "        self.student_id = student_id\n",
    "\n",
    "    def display_info(self):\n",
    "        # Method to display student-specific information\n",
    "        super().display_info()  # Calling the display_info method of the base class\n",
    "        print(f\"Student ID: {self.student_id}\")\n",
    "\n",
    "    def study(self):\n",
    "        # Method specific to Student\n",
    "        print(f\"{self.name} is studying\")\n",
    "\n",
    "class Professor(Person):\n",
    "    def __init__(self, name, age, employee_id):\n",
    "        # Constructor to initialize attributes specific to Professor\n",
    "        super().__init__(name, age)  # Calling the constructor of the base class\n",
    "        self.employee_id = employee_id\n",
    "\n",
    "    def display_info(self):\n",
    "        # Method to display professor-specific information\n",
    "        super().display_info()  # Calling the display_info method of the base class\n",
    "        print(f\"Employee ID: {self.employee_id}\")\n",
    "\n",
    "    def teach(self):\n",
    "        # Method specific to Professor\n",
    "        print(f\"{self.name} is teaching\")\n",
    "\n",
    "# Example usage in a university context\n",
    "student1 = Student(name=\"Alice\", age=20, student_id=\"S12345\")\n",
    "professor1 = Professor(name=\"Dr. Smith\", age=45, employee_id=\"P98765\")\n",
    "\n",
    "# Display information\n",
    "print(\"Student Information:\")\n",
    "student1.display_info()  # Calling the overridden display_info method in Student class\n",
    "student1.study()          # Calling the study method in Student class\n",
    "\n",
    "print(\"\\nProfessor Information:\")\n",
    "professor1.display_info()  # Calling the overridden display_info method in Professor class\n",
    "professor1.teach()         # Calling the teach method in Professor class"
   ]
  },
  {
   "cell_type": "markdown",
   "id": "0660fd56-dcb7-4991-b06e-fff4b07ed0d7",
   "metadata": {},
   "source": [
    "### Encapsulation:\n"
   ]
  },
  {
   "cell_type": "markdown",
   "id": "9a591355-c324-4e54-acb5-c81e438b721e",
   "metadata": {},
   "source": [
    "#### 1. Explain the concept of encapsulation in Python. What is its role in object-oriented programming?"
   ]
  },
  {
   "cell_type": "code",
   "execution_count": 2,
   "id": "9b2b7aad-3536-4db6-8fc6-d75ab13ba6ac",
   "metadata": {},
   "outputs": [
    {
     "name": "stdout",
     "output_type": "stream",
     "text": [
      "car:toyota\n",
      "car model:camry\n",
      "car year:2020\n"
     ]
    }
   ],
   "source": [
    "# create a class as car.\n",
    "class car:\n",
    "    def __init__(self,make,model,year):\n",
    "        self._make=make\n",
    "        self._model=model\n",
    "        self._year=year\n",
    "# define a call details using encapsulation is used to bundling amount of code into a single unit(class).\n",
    "    def display(self):\n",
    "        print(f\"car:{self._make}\") \n",
    "        print(f\"car model:{self._model}\")\n",
    "        print(f\"car year:{self._year}\")\n",
    "# create a instance of a class.\n",
    "my_car=car(\"toyota\",\"camry\",\"2020\")\n",
    "# print the result.\n",
    "my_car.display()"
   ]
  },
  {
   "cell_type": "markdown",
   "id": "9061696b-6ebf-44fb-a830-45eff632d981",
   "metadata": {},
   "source": [
    "#### 2. Describe the key principles of encapsulation, including access control and data hiding."
   ]
  },
  {
   "cell_type": "code",
   "execution_count": 3,
   "id": "433cfaa9-7874-4544-92a3-6666effd8bdb",
   "metadata": {},
   "outputs": [
    {
     "name": "stdout",
     "output_type": "stream",
     "text": [
      "Make and Model: Toyota Camry\n",
      "Car: Toyota Camry, Year: 2020\n",
      "Original Year: 2020\n",
      "Updated Year: 2022\n"
     ]
    }
   ],
   "source": [
    "# encapsulation is hide the data internal data and showing only functionality using protected and private attributes.\n",
    "class Car:\n",
    "    def __init__(self, make, model, year):\n",
    "        self._make = make      \n",
    "        self._model = model      # \"\"\"\"\"\"\"\"\"\"access controls\"\"\"\"\"\"\"\"\"\n",
    "        self.__year = year    \n",
    "\n",
    "    def display_info(self):\n",
    "        print(f\"Car: {self._make} {self._model}, Year: {self.__year}\")\n",
    "\n",
    "    def get_year(self):\n",
    "        return self.__year\n",
    "\n",
    "    def set_year(self, new_year):\n",
    "        if new_year > 0:\n",
    "            self.__year = new_year\n",
    "        else:\n",
    "            print(\"Invalid year value.\")\n",
    "# Creating an instance of the Car class\n",
    "my_car = Car(\"Toyota\", \"Camry\", 2020)\n",
    "# Accessing protected attributes and calling a method\n",
    "print(f\"Make and Model: {my_car._make} {my_car._model}\")\n",
    "my_car.display_info()\n",
    "\n",
    "# Attempting to access a private attribute directly will result in an error\n",
    "# print(my_car.__year)  # This will raise an AttributeError\n",
    "\n",
    "# Using getter and setter methods to access and modify the private attribute\n",
    "print(f\"Original Year: {my_car.get_year()}\")\n",
    "my_car.set_year(2022)\n",
    "print(f\"Updated Year: {my_car.get_year()}\")"
   ]
  },
  {
   "cell_type": "markdown",
   "id": "bfa6f1d4-10be-408c-8ab1-be2894f91ebc",
   "metadata": {},
   "source": [
    "#### 3. How can you achieve encapsulation in Python classes? Provide an example."
   ]
  },
  {
   "cell_type": "code",
   "execution_count": 4,
   "id": "34dfcc3c-1f4a-4b72-b432-a833fc4708c3",
   "metadata": {},
   "outputs": [
    {
     "name": "stdout",
     "output_type": "stream",
     "text": [
      "car:toyota\n",
      "car model:camry\n",
      "car year:2020\n"
     ]
    }
   ],
   "source": [
    "# create a class as car.\n",
    "class car:\n",
    "    def __init__(self,make,model,year):\n",
    "        self._make=make\n",
    "        self._model=model\n",
    "        self._year=year\n",
    "# define a call details using encapsulation is used to bundling amount of code into a single unit(class).\n",
    "    def display(self):\n",
    "        print(f\"car:{self._make}\") \n",
    "        print(f\"car model:{self._model}\")\n",
    "        print(f\"car year:{self._year}\")\n",
    "# create a instance of a class.\n",
    "my_car=car(\"toyota\",\"camry\",\"2020\")\n",
    "# print the result.\n",
    "my_car.display()"
   ]
  },
  {
   "cell_type": "markdown",
   "id": "a2ff689d-1cc6-4033-afe2-429d4d195cd0",
   "metadata": {},
   "source": [
    "#### 4. Discuss the difference between public, private, and protected access modifiers in Python."
   ]
  },
  {
   "cell_type": "code",
   "execution_count": 8,
   "id": "1ae38459-8d4f-4f67-864f-9923f3a207a4",
   "metadata": {},
   "outputs": [
    {
     "name": "stdout",
     "output_type": "stream",
     "text": [
      "bird1:parrot bird2:sparrow bird3:orstrich\n"
     ]
    }
   ],
   "source": [
    "# define the class.\n",
    "class birds:\n",
    "    def __init__(self,bird1,bird2,bird3):\n",
    "        self.bird1=bird1  # public modifier.\n",
    "        self._bird2=bird2 # protected modifier is used to not access the outside the class but possible inside the class.\n",
    "        self.__bird3=bird3 # private modifier is used to not access the ouside the class.\n",
    "        \n",
    "    def display(self):\n",
    "        print(f\"bird1:{self.bird1} bird2:{self._bird2} bird3:{self.__bird3}\")\n",
    "        \n",
    "    def get_bird1(self):\n",
    "        return self.bird1\n",
    "    \n",
    "    def get_bird2(self):\n",
    "        return self._bird2\n",
    "    \n",
    "    def get_bird3(self):\n",
    "        return self.__bird3\n",
    "# create a instance of a class.\n",
    "my_birds=birds(\"parrot\",\"sparrow\",\"orstrich\")\n",
    "# print the result.\n",
    "my_birds.display()"
   ]
  },
  {
   "cell_type": "markdown",
   "id": "54080150-1635-4f5e-af98-a6223c7e842e",
   "metadata": {},
   "source": [
    "#### 5. Create a Python class called `Person` with a private attribute `__name`. Provide methods to get and set the name attribute."
   ]
  },
  {
   "cell_type": "code",
   "execution_count": 15,
   "id": "0fa9db71-57d5-47cd-bc1e-b63b76a2751a",
   "metadata": {},
   "outputs": [
    {
     "name": "stdout",
     "output_type": "stream",
     "text": [
      "original name:rama\n",
      "Updated name: krishna\n"
     ]
    }
   ],
   "source": [
    "class person:\n",
    "    def __init__(self,name):\n",
    "        self.__name=name\n",
    "        \n",
    "    def get_name(self):\n",
    "        return self.__name\n",
    "    \n",
    "    def set_name(self,new_name):\n",
    "        if new_name!=self.__name:\n",
    "            self.__name=new_name\n",
    "        else:\n",
    "            print(\"invalid\")\n",
    "# private attribute is used to access the members using get and set methods.             \n",
    "person1=person(\"rama\")\n",
    "person1.get_name()\n",
    "print(f\"original name:{person1.get_name()}\")\n",
    "person1.set_name(\"krishna\")\n",
    "# print the result.\n",
    "print(f\"Updated name: {person1.get_name()}\")"
   ]
  },
  {
   "cell_type": "markdown",
   "id": "a0801bfd-d3fc-44ea-bdd3-5a1e0a9de586",
   "metadata": {},
   "source": [
    "#### 6. Explain the purpose of getter and setter methods in encapsulation. Provide examples."
   ]
  },
  {
   "cell_type": "code",
   "execution_count": 16,
   "id": "3be2c62e-592f-49fd-96be-d93151cac607",
   "metadata": {},
   "outputs": [
    {
     "name": "stdout",
     "output_type": "stream",
     "text": [
      "original name:rama\n",
      "Updated name: krishna\n"
     ]
    }
   ],
   "source": [
    "class person:\n",
    "    def __init__(self,name):\n",
    "        self.__name=name\n",
    "        \n",
    "    def get_name(self):\n",
    "        return self.__name\n",
    "    \n",
    "    def set_name(self,new_name):\n",
    "        if new_name!=self.__name:\n",
    "            self.__name=new_name\n",
    "        else:\n",
    "            print(\"invalid\")\n",
    "# private attribute is used to access the members using get and set methods.             \n",
    "person1=person(\"rama\")\n",
    "person1.get_name() # getter method is used to get the value.\n",
    "print(f\"original name:{person1.get_name()}\")\n",
    "person1.set_name(\"krishna\") # setter method is used to change the getter value. \n",
    "# print the result.\n",
    "print(f\"Updated name: {person1.get_name()}\")"
   ]
  },
  {
   "cell_type": "markdown",
   "id": "0be86b4a-f637-4bb2-ba9b-18e92f04b428",
   "metadata": {},
   "source": [
    "#### 7. What is name mangling in Python, and how does it affect encapsulation?"
   ]
  },
  {
   "cell_type": "code",
   "execution_count": 3,
   "id": "9a2f9af2-840f-44cd-aed7-ced89569a8f0",
   "metadata": {},
   "outputs": [
    {
     "name": "stdout",
     "output_type": "stream",
     "text": [
      "42\n"
     ]
    }
   ],
   "source": [
    "class my_class():\n",
    "    def __init__(self):\n",
    "        self.__private_variable=42\n",
    "# name mangling is used to make a name of attributes in a class to avoid nameing conflicts.\n",
    "    def getprivate_variable(self):\n",
    "        return self.__private_variable\n",
    "# Outside the class, you might expect to access the variable as follows:\n",
    "obj=my_class()\n",
    "# this will raise a attribute error because name mangling.\n",
    "print(obj._my_class__private_variable)"
   ]
  },
  {
   "cell_type": "markdown",
   "id": "385bb68e-a1eb-4c75-a3c2-303136df4721",
   "metadata": {},
   "source": [
    "\n",
    "#### 8. Create a Python class called `BankAccount` with private attributes for the account balance (`__balance`) and account number('__account_number').provide methods for depositing and withdrawing money."
   ]
  },
  {
   "cell_type": "code",
   "execution_count": 5,
   "id": "21ab49bf-6f41-441e-923a-39d2f7f2c1e4",
   "metadata": {},
   "outputs": [
    {
     "name": "stdout",
     "output_type": "stream",
     "text": [
      "the account balance is  15000\n",
      "the account number is   12346858\n",
      "the deposited amount is 85000\n",
      "the withdraw amount is  45000\n"
     ]
    }
   ],
   "source": [
    "# define class name.\n",
    "class BankAccount:\n",
    "    def __init__(self,balance,account_number):\n",
    "        self.__balance=balance\n",
    "        self.__account_number=account_number\n",
    "# using private attributes.\n",
    "    def deposite(self):\n",
    "        deposite_money=85000\n",
    "        return deposite_money\n",
    "# provide a deposite and withdraw methods.\n",
    "    def withdraw(self):\n",
    "        withdraw_money=45000\n",
    "        return withdraw_money\n",
    "# create a instance of a class.\n",
    "obj=BankAccount(15000,12346858)\n",
    "# print the result.\n",
    "print(f\"the account balance is  {obj._BankAccount__balance}\")\n",
    "print(f\"the account number is   {obj._BankAccount__account_number}\")\n",
    "print(f\"the deposited amount is {obj.deposite()}\")\n",
    "print(f\"the withdraw amount is  {obj.withdraw()}\")"
   ]
  },
  {
   "cell_type": "markdown",
   "id": "e3d6bc8b-6ea5-4dcf-bca7-9bf10d6362a5",
   "metadata": {},
   "source": [
    "#### 9. Discuss the advantages of encapsulation in terms of code maintainability and security."
   ]
  },
  {
   "cell_type": "code",
   "execution_count": 6,
   "id": "87479aa1-a934-4054-ab50-8715a033f2ca",
   "metadata": {},
   "outputs": [
    {
     "name": "stdout",
     "output_type": "stream",
     "text": [
      "Name: Alice, Age: 25\n",
      "Updated Age: 30\n",
      "Name: Alice, Age: 30\n"
     ]
    }
   ],
   "source": [
    "class Person:\n",
    "    def __init__(self, name, age):\n",
    "        # Private attributes\n",
    "        self.__name = name\n",
    "        self.__age = age\n",
    "    # Public methods to access private attributes\n",
    "    def get_name(self):\n",
    "        return self.__name\n",
    "\n",
    "    def get_age(self):\n",
    "        return self.__age\n",
    "\n",
    "    def set_age(self, new_age):\n",
    "        # Validation can be added here\n",
    "        if new_age > 0:\n",
    "            self.__age = new_age\n",
    "        else:\n",
    "            print(\"Age must be greater than 0.\")\n",
    "    # Private method\n",
    "    def __display_info(self):\n",
    "        print(f\"Name: {self.__name}, Age: {self.__age}\")\n",
    "    # Public method to access private method\n",
    "    def display_info(self):\n",
    "        self.__display_info()\n",
    "# Creating an instance of the Person class\n",
    "person1 = Person(\"Alice\", 25)\n",
    "# Accessing attributes using public methods\n",
    "print(f\"Name: {person1.get_name()}, Age: {person1.get_age()}\")\n",
    "# Trying to access private attributes directly (will raise an AttributeError)\n",
    "# print(person1.__name)  # Uncommenting this line would raise an AttributeError\n",
    "# Using a public method to update the age\n",
    "person1.set_age(30)\n",
    "# Accessing the updated age\n",
    "print(f\"Updated Age: {person1.get_age()}\")\n",
    "# Trying to call the private method directly (will raise an AttributeError)\n",
    "# person1.__display_info()  # Uncommenting this line would raise an AttributeError\n",
    "# Using a public method to display information\n",
    "person1.display_info()"
   ]
  },
  {
   "cell_type": "markdown",
   "id": "66ce668b-d1b4-489d-9058-15633e3fad30",
   "metadata": {},
   "source": [
    "#### 10. How can you access private attributes in Python? Provide an example demonstrating the use of name mangling."
   ]
  },
  {
   "cell_type": "code",
   "execution_count": 7,
   "id": "a7c01e31-e0d3-4f46-8a5c-292c8f53ebfb",
   "metadata": {},
   "outputs": [
    {
     "name": "stdout",
     "output_type": "stream",
     "text": [
      "42\n"
     ]
    }
   ],
   "source": [
    "class my_class():\n",
    "    def __init__(self):\n",
    "        self.__private_variable=42\n",
    "# name mangling is used to make a name of attributes in a class to avoid nameing conflicts.\n",
    "    def getprivate_variable(self):\n",
    "        return self.__private_variable\n",
    "# Outside the class, you might expect to access the variable as follows:\n",
    "obj=my_class()\n",
    "# this will raise a attribute error because name mangling.\n",
    "print(obj._my_class__private_variable)"
   ]
  },
  {
   "cell_type": "markdown",
   "id": "c59b127c-337a-420a-87a5-d881310a47be",
   "metadata": {},
   "source": [
    "#### 11. Create a Python class hierarchy for a school system, including classes for students, teachers, and courses, and implement encapsulation principles to protect sensitive information."
   ]
  },
  {
   "cell_type": "code",
   "execution_count": 12,
   "id": "c7510c16-6997-4784-9159-babbc25656df",
   "metadata": {},
   "outputs": [
    {
     "name": "stdout",
     "output_type": "stream",
     "text": [
      "Name: Alice, Age: 18\n",
      "Name: Mr. Smith, Age: 35\n",
      "Student Alice is enrolled in the following courses:\n",
      "- Mathematics\n",
      "- Physics\n",
      "Teacher Mr. Smith teaches the following courses:\n",
      "- Mathematics\n",
      "- Physics\n"
     ]
    }
   ],
   "source": [
    "class Person:\n",
    "    def __init__(self, name, age):\n",
    "        self.__name = name\n",
    "        self.__age = age\n",
    "\n",
    "    def get_name(self):\n",
    "        return self.__name\n",
    "\n",
    "    def get_age(self):\n",
    "        return self.__age\n",
    "\n",
    "    def display_info(self):\n",
    "        print(f\"Name: {self.__name}, Age: {self.__age}\")\n",
    "\n",
    "class Student(Person):\n",
    "    def __init__(self, name, age, student_id):\n",
    "        super().__init__(name, age)\n",
    "        self.__student_id = student_id\n",
    "        self.__courses = []  # List to store enrolled courses\n",
    "\n",
    "    def get_student_id(self):\n",
    "        return self.__student_id\n",
    "\n",
    "    def enroll_course(self, course):\n",
    "        self.__courses.append(course)\n",
    "\n",
    "    def display_courses(self):\n",
    "        print(f\"Student {self.get_name()} is enrolled in the following courses:\")\n",
    "        for course in self.__courses:\n",
    "            print(f\"- {course.get_course_name()}\")\n",
    "\n",
    "class Teacher(Person):\n",
    "    def __init__(self, name, age, employee_id):\n",
    "        super().__init__(name, age)\n",
    "        self.__employee_id = employee_id\n",
    "        self.__courses_taught = []  # List to store courses taught\n",
    "\n",
    "    def get_employee_id(self):\n",
    "        return self.__employee_id\n",
    "\n",
    "    def assign_course(self, course):\n",
    "        self.__courses_taught.append(course)\n",
    "\n",
    "    def display_courses_taught(self):\n",
    "        print(f\"Teacher {self.get_name()} teaches the following courses:\")\n",
    "        for course in self.__courses_taught:\n",
    "            print(f\"- {course.get_course_name()}\")\n",
    "\n",
    "class Course:\n",
    "    def __init__(self, course_name, course_code):\n",
    "        self.__course_name = course_name\n",
    "        self.__course_code = course_code\n",
    "\n",
    "    def get_course_name(self):\n",
    "        return self.__course_name\n",
    "\n",
    "    def get_course_code(self):\n",
    "        return self.__course_code\n",
    "# Example Usage:\n",
    "# Creating instances of the classes\n",
    "student1 = Student(\"Alice\", 18, \"S123\")\n",
    "teacher1 = Teacher(\"Mr. Smith\", 35, \"T789\")\n",
    "course1 = Course(\"Mathematics\", \"MATH101\")\n",
    "course2 = Course(\"Physics\", \"PHYS102\")\n",
    "# Displaying information\n",
    "student1.display_info()\n",
    "teacher1.display_info()\n",
    "# Enrolling in courses\n",
    "student1.enroll_course(course1)\n",
    "student1.enroll_course(course2)\n",
    "# Assigning courses\n",
    "teacher1.assign_course(course1)\n",
    "teacher1.assign_course(course2)\n",
    "# Displaying enrolled/taught courses\n",
    "student1.display_courses()\n",
    "teacher1.display_courses_taught()"
   ]
  },
  {
   "cell_type": "markdown",
   "id": "77403a17-9a61-4264-afca-258677dd469b",
   "metadata": {},
   "source": [
    "#### 12. Explain the concept of property decorators in Python and how they relate to encapsulation."
   ]
  },
  {
   "cell_type": "code",
   "execution_count": 13,
   "id": "6939255b-6be7-4410-970c-6a5083c45b51",
   "metadata": {},
   "outputs": [],
   "source": [
    "class MyClass:\n",
    "    def __init__(self):\n",
    "        self._my_variable = 42\n",
    "\n",
    "    @property\n",
    "    def my_variable(self):\n",
    "        return self._my_variable\n",
    "\n",
    "    @my_variable.setter\n",
    "    def my_variable(self, value):\n",
    "        self._my_variable = value\n",
    "\n",
    "    @my_variable.deleter\n",
    "    def my_variable(self):\n",
    "        # Additional actions can be added here before deletion\n",
    "        del self._my_variable"
   ]
  },
  {
   "cell_type": "markdown",
   "id": "2e6e1b59-5151-47a7-8b53-2012f3a4640d",
   "metadata": {},
   "source": [
    "#### 13. What is data hiding, and why is it important in encapsulation? Provide examples."
   ]
  },
  {
   "cell_type": "code",
   "execution_count": 15,
   "id": "c22a401d-f861-47da-9930-48e77a3cbd71",
   "metadata": {},
   "outputs": [
    {
     "name": "stdout",
     "output_type": "stream",
     "text": [
      "Initial Balance: 1000\n",
      "Deposited 500. New balance: 1500\n",
      "Withdrew 200. New balance: 1300\n",
      "Invalid withdrawal amount.\n",
      "Final Balance: 1300\n"
     ]
    }
   ],
   "source": [
    "class BankAccount:\n",
    "    def __init__(self, account_number, balance):\n",
    "        self.__account_number = account_number  # Data hiding\n",
    "        self.__balance = balance\n",
    "\n",
    "    def get_balance(self):\n",
    "        # Accessing balance through a controlled interface (getter method)\n",
    "        return self.__balance\n",
    "\n",
    "    def deposit(self, amount):\n",
    "        # Performing necessary checks and updates\n",
    "        if amount > 0:\n",
    "            self.__balance += amount\n",
    "            print(f\"Deposited {amount}. New balance: {self.__balance}\")\n",
    "        else:\n",
    "            print(\"Invalid deposit amount.\")\n",
    "\n",
    "    def withdraw(self, amount):\n",
    "        # Performing necessary checks and updates\n",
    "        if 0 < amount <= self.__balance:\n",
    "            self.__balance -= amount\n",
    "            print(f\"Withdrew {amount}. New balance: {self.__balance}\")\n",
    "        else:\n",
    "            print(\"Invalid withdrawal amount.\")\n",
    "account1 = BankAccount(account_number=\"123456\", balance=1000)\n",
    "\n",
    "print(\"Initial Balance:\", account1.get_balance())\n",
    "\n",
    "# Depositing and withdrawing\n",
    "account1.deposit(500)\n",
    "account1.withdraw(200)\n",
    "account1.withdraw(1500) \n",
    "\n",
    "print(\"Final Balance:\", account1.get_balance())"
   ]
  },
  {
   "cell_type": "markdown",
   "id": "cc09a608-94e8-42a6-adde-e7c7a1928857",
   "metadata": {},
   "source": [
    "#### 14. Create a Python class called `Employee` with private attributes for salary (`__salary`) and employee ID (`__employee_id`). Provide a method to calculate yearly bonuses."
   ]
  },
  {
   "cell_type": "code",
   "execution_count": 21,
   "id": "3eb01851-ffe1-47ab-834d-2a020b546d14",
   "metadata": {},
   "outputs": [
    {
     "name": "stdout",
     "output_type": "stream",
     "text": [
      " employee salary is20000\n",
      " employe id is 7895120\n",
      " yearly bonus is 40000\n"
     ]
    }
   ],
   "source": [
    "class Employee:\n",
    "# provide a private a attributes.\n",
    "    def __init__(self,salary,employee_id):\n",
    "        self.__salary=salary\n",
    "        self.__employee_id=employee_id\n",
    "# define yearly_bonus.\n",
    "    def yearly_bonus(self,salary):\n",
    "        if salary>0:\n",
    "            return salary+salary\n",
    "        else:\n",
    "            return \"invalid\"\n",
    "# instamnce of a class.   \n",
    "obj=Employee(20000,7895120)\n",
    "print(f\" employee salary is{obj._Employee__salary}\")\n",
    "print(f\" employe id is {obj._Employee__employee_id}\")\n",
    "print(f\" yearly bonus is {obj.yearly_bonus(20000)}\")"
   ]
  },
  {
   "cell_type": "markdown",
   "id": "f6658e37-87c5-4ad6-bb3a-c03c5c8083d0",
   "metadata": {},
   "source": [
    "#### 15. Discuss the use of accessors and mutators in encapsulation. How do they help maintain control over attribute access?"
   ]
  },
  {
   "cell_type": "code",
   "execution_count": 23,
   "id": "7b55fac0-a499-4c63-8a7f-ec1f114cfa9b",
   "metadata": {},
   "outputs": [
    {
     "name": "stdout",
     "output_type": "stream",
     "text": [
      "Current Age: 25\n",
      "Age set to: 30\n",
      "Invalid age value. Age should be between 0 and 120.\n",
      "Updated Age: 30\n"
     ]
    }
   ],
   "source": [
    "class Person:\n",
    "    def __init__(self, name, age):\n",
    "        self.__name = name\n",
    "        self.__age = age\n",
    "    # Accessor method (getter) for age\n",
    "    def get_age(self):\n",
    "        return self.__age\n",
    "    # Mutator method (setter) for age with validation\n",
    "    def set_age(self, new_age):\n",
    "        if 0 <= new_age <= 120:  # Assuming a reasonable age range\n",
    "            self.__age = new_age\n",
    "            print(f\"Age set to: {self.__age}\")\n",
    "        else:\n",
    "            print(\"Invalid age value. Age should be between 0 and 120.\")\n",
    "# Example usage:\n",
    "# Creating an instance of Person\n",
    "person1 = Person(\"Alice\", age=25)\n",
    "# Accessing the age using the accessor method\n",
    "current_age = person1.get_age()\n",
    "print(f\"Current Age: {current_age}\")\n",
    "# Updating the age using the mutator method\n",
    "person1.set_age(30)\n",
    "# Trying to set an invalid age\n",
    "person1.set_age(150)  # This will print \"Invalid age value. Age should be between 0 and 120.\"\n",
    "# Accessing the updated age\n",
    "updated_age = person1.get_age()\n",
    "print(f\"Updated Age: {updated_age}\")"
   ]
  },
  {
   "cell_type": "markdown",
   "id": "e7eaebb0-a3d5-40bb-9dcf-ae16f6782fcf",
   "metadata": {},
   "source": [
    "#### 16. What are the potential drawbacks or disadvantages of using encapsulation in Python?"
   ]
  },
  {
   "cell_type": "code",
   "execution_count": 24,
   "id": "d2cfbfb8-b0ed-43a7-b932-dca3d6589fd9",
   "metadata": {},
   "outputs": [
    {
     "name": "stdout",
     "output_type": "stream",
     "text": [
      "Current Name: Alice\n",
      "Current Age: 25\n",
      "Invalid age value. Age should be between 0 and 120.\n",
      "Updated Age: 25\n"
     ]
    }
   ],
   "source": [
    "class Person:\n",
    "    def __init__(self, name, age):\n",
    "        self.__name = name\n",
    "        self.__age = age\n",
    "\n",
    "    def get_name(self):\n",
    "        return self.__name\n",
    "\n",
    "    def set_name(self, new_name):\n",
    "        self.__name = new_name\n",
    "\n",
    "    def get_age(self):\n",
    "        return self.__age\n",
    "\n",
    "    def set_age(self, new_age):\n",
    "        if 0 <= new_age <= 120:\n",
    "            self.__age = new_age\n",
    "        else:\n",
    "            print(\"Invalid age value. Age should be between 0 and 120.\")\n",
    "# Creating an instance of the Person class\n",
    "person1 = Person(\"Alice\", age=25)\n",
    "# Accessing and modifying attributes using accessor and mutator methods\n",
    "current_name = person1.get_name()\n",
    "print(f\"Current Name: {current_name}\")\n",
    "person1.set_name(\"Bob\")\n",
    "current_age = person1.get_age()\n",
    "print(f\"Current Age: {current_age}\")\n",
    "person1.set_age(130)  # This will print \"Invalid age value. Age should be between 0 and 120.\"\n",
    "current_age = person1.get_age()\n",
    "print(f\"Updated Age: {current_age}\")"
   ]
  },
  {
   "cell_type": "markdown",
   "id": "a3672eac-b395-4c61-9094-d4c2bfbe7214",
   "metadata": {},
   "source": [
    "#### 17. Create a Python class for a library system that encapsulates book information, including titles, authors, and availability status."
   ]
  },
  {
   "cell_type": "code",
   "execution_count": 40,
   "id": "3ebc5530-9ba7-40b6-9519-14fb7bedcb54",
   "metadata": {},
   "outputs": [
    {
     "name": "stdout",
     "output_type": "stream",
     "text": [
      "Borrowed: The Great Gatsby by F. Scott Fitzgerald\n",
      "Returned: The Great Gatsby by F. Scott Fitzgerald\n",
      "Borrowed: To Kill a Mockingbird by Harper Lee\n",
      "Sorry, To Kill a Mockingbird is not available.\n"
     ]
    }
   ],
   "source": [
    "class library:\n",
    "    def __init__(self, title, author):\n",
    "        self.title = title\n",
    "        self.author = author\n",
    "        self.available = True\n",
    "# define a titles and authors.\n",
    "    def borrow(self):\n",
    "        if self.available:\n",
    "            print(f\"Borrowed: {self.title} by {self.author}\")\n",
    "            self.available = False\n",
    "        else:\n",
    "            print(f\"Sorry, {self.title} is not available.\")\n",
    "\n",
    "    def return_book(self):\n",
    "        if not self.available:\n",
    "            print(f\"Returned: {self.title} by {self.author}\")\n",
    "            self.available = True\n",
    "        else:\n",
    "            print(f\"{self.title} is already available.\")\n",
    "# instance of a class.\n",
    "book1 = library(\"The Great Gatsby\", \"F. Scott Fitzgerald\")\n",
    "book2 = library(\"To Kill a Mockingbird\", \"Harper Lee\")\n",
    "# print the result.\n",
    "book1.borrow()\n",
    "book1.return_book()\n",
    "book2.borrow()\n",
    "book2.borrow()"
   ]
  },
  {
   "cell_type": "markdown",
   "id": "37afe589-b8ec-475d-a235-fb156f234967",
   "metadata": {},
   "source": [
    "#### 18. Explain how encapsulation enhances code reusability and modularity in Python programs."
   ]
  },
  {
   "cell_type": "code",
   "execution_count": 41,
   "id": "1edd6f2a-2c8f-412f-a6d9-07d8e033f637",
   "metadata": {},
   "outputs": [
    {
     "name": "stdout",
     "output_type": "stream",
     "text": [
      "Rectangle 1 - Length: 5\n",
      "Rectangle 1 - Width: 3\n",
      "Rectangle 1 - Updated Length: 8\n",
      "Rectangle 1 - Updated Width: 6\n",
      "Rectangle 1 - Area: 48\n",
      "Rectangle 2 - Area: 28\n"
     ]
    }
   ],
   "source": [
    "class Rectangle:\n",
    "    def __init__(self, length, width):\n",
    "        self.__length = length\n",
    "        self.__width = width\n",
    "\n",
    "    def get_length(self):\n",
    "        return self.__length\n",
    "\n",
    "    def set_length(self, length):\n",
    "        if length > 0:\n",
    "            self.__length = length\n",
    "        else:\n",
    "            print(\"Invalid length value. Length should be greater than 0.\")\n",
    "\n",
    "    def get_width(self):\n",
    "        return self.__width\n",
    "\n",
    "    def set_width(self, width):\n",
    "        if width > 0:\n",
    "            self.__width = width\n",
    "        else:\n",
    "            print(\"Invalid width value. Width should be greater than 0.\")\n",
    "\n",
    "    def calculate_area(self):\n",
    "        return self.__length * self.__width\n",
    "# Example Usage:\n",
    "# Creating instances of the Rectangle class\n",
    "rectangle1 = Rectangle(length=5, width=3)\n",
    "rectangle2 = Rectangle(length=7, width=4)\n",
    "# Accessing and modifying attributes through methods\n",
    "print(\"Rectangle 1 - Length:\", rectangle1.get_length())\n",
    "print(\"Rectangle 1 - Width:\", rectangle1.get_width())\n",
    "rectangle1.set_length(8)\n",
    "rectangle1.set_width(6)\n",
    "print(\"Rectangle 1 - Updated Length:\", rectangle1.get_length())\n",
    "print(\"Rectangle 1 - Updated Width:\", rectangle1.get_width())\n",
    "# Calculating and displaying areas\n",
    "area1 = rectangle1.calculate_area()\n",
    "area2 = rectangle2.calculate_area()\n",
    "print(\"Rectangle 1 - Area:\", area1)\n",
    "print(\"Rectangle 2 - Area:\", area2)"
   ]
  },
  {
   "cell_type": "markdown",
   "id": "cbaf588c-d3d6-429a-8f8b-4c7f1aa68460",
   "metadata": {},
   "source": [
    "#### 19. Describe the concept of information hiding in encapsulation. Why is it essential in software development?"
   ]
  },
  {
   "cell_type": "code",
   "execution_count": 43,
   "id": "e11be851-a7e0-43d0-8bad-966a495b5875",
   "metadata": {},
   "outputs": [
    {
     "name": "stdout",
     "output_type": "stream",
     "text": [
      "Account Number: 123456789\n",
      "Initial Balance: 1000\n",
      "Deposited 500. New balance: 1500\n",
      "Withdrew 200. New balance: 1300\n"
     ]
    }
   ],
   "source": [
    "class BankAccount:\n",
    "    def __init__(self, account_number, balance):\n",
    "        self.__account_number = account_number  # Private attribute\n",
    "        self.__balance = balance  # Private attribute\n",
    "\n",
    "    def get_account_number(self):\n",
    "        return self.__account_number  # Accessor method\n",
    "\n",
    "    def get_balance(self):\n",
    "        return self.__balance  # Accessor method\n",
    "\n",
    "    def deposit(self, amount):\n",
    "        if amount > 0:\n",
    "            self.__balance += amount\n",
    "            print(f\"Deposited {amount}. New balance: {self.__balance}\")\n",
    "        else:\n",
    "            print(\"Invalid deposit amount.\")\n",
    "\n",
    "    def withdraw(self, amount):\n",
    "        if 0 < amount <= self.__balance:\n",
    "            self.__balance -= amount\n",
    "            print(f\"Withdrew {amount}. New balance: {self.__balance}\")\n",
    "        else:\n",
    "            print(\"Invalid withdrawal amount.\")\n",
    "# Example Usage:\n",
    "# Creating an instance of BankAccount\n",
    "account1 = BankAccount(account_number=\"123456789\", balance=1000)\n",
    "# Accessing private attributes through accessor methods\n",
    "print(\"Account Number:\", account1.get_account_number())\n",
    "print(\"Initial Balance:\", account1.get_balance())\n",
    "# Depositing and withdrawing\n",
    "account1.deposit(500)\n",
    "account1.withdraw(200)"
   ]
  },
  {
   "cell_type": "markdown",
   "id": "2cd637e3-978d-434a-8146-beec9d5e3b0a",
   "metadata": {},
   "source": [
    "#### 20. Create a Python class called `Customer` with private attributes for customer details like name, address, and contact information. Implement encapsulation to ensure data integrity and security."
   ]
  },
  {
   "cell_type": "code",
   "execution_count": 44,
   "id": "f8b7b442-7f10-417b-adb7-3dd47372b134",
   "metadata": {},
   "outputs": [
    {
     "name": "stdout",
     "output_type": "stream",
     "text": [
      "Customer Name: John Doe\n",
      "Customer Address: 123 Main St\n",
      "Customer Contact Info: 555-1234\n",
      "Updated Customer Name: Jane Doe\n",
      "Updated Customer Address: 456 Oak Ave\n",
      "Updated Customer Contact Info: 555-5678\n"
     ]
    }
   ],
   "source": [
    "class Customer:\n",
    "    def __init__(self, name, address, contact_info):\n",
    "        self.__name = name  # Private attribute\n",
    "        self.__address = address  # Private attribute\n",
    "        self.__contact_info = contact_info  # Private attribute\n",
    "\n",
    "    def get_name(self):\n",
    "        return self.__name  # Accessor method for name\n",
    "\n",
    "    def set_name(self, new_name):\n",
    "        # Additional validation or checks can be added here\n",
    "        self.__name = new_name  # Mutator method for name\n",
    "\n",
    "    def get_address(self):\n",
    "        return self.__address  # Accessor method for address\n",
    "\n",
    "    def set_address(self, new_address):\n",
    "        # Additional validation or checks can be added here\n",
    "        self.__address = new_address  # Mutator method for address\n",
    "\n",
    "    def get_contact_info(self):\n",
    "        return self.__contact_info  # Accessor method for contact information\n",
    "\n",
    "    def set_contact_info(self, new_contact_info):\n",
    "        # Additional validation or checks can be added here\n",
    "        self.__contact_info = new_contact_info  # Mutator method for contact information\n",
    "# Example Usage:\n",
    "# Creating an instance of Customer\n",
    "customer1 = Customer(name=\"John Doe\", address=\"123 Main St\", contact_info=\"555-1234\")\n",
    "# Accessing private attributes through accessor methods\n",
    "print(\"Customer Name:\", customer1.get_name())\n",
    "print(\"Customer Address:\", customer1.get_address())\n",
    "print(\"Customer Contact Info:\", customer1.get_contact_info())\n",
    "# Modifying customer details using mutator methods\n",
    "customer1.set_name(\"Jane Doe\")\n",
    "customer1.set_address(\"456 Oak Ave\")\n",
    "customer1.set_contact_info(\"555-5678\")\n",
    "# Accessing and displaying updated customer details\n",
    "print(\"Updated Customer Name:\", customer1.get_name())\n",
    "print(\"Updated Customer Address:\", customer1.get_address())\n",
    "print(\"Updated Customer Contact Info:\", customer1.get_contact_info())"
   ]
  },
  {
   "cell_type": "markdown",
   "id": "cd18c694-198d-450f-b9c6-086ebf12697c",
   "metadata": {},
   "source": [
    "### Polymorphism:"
   ]
  },
  {
   "cell_type": "markdown",
   "id": "97ae3b60-0d2e-452c-998c-2f66f489aacb",
   "metadata": {},
   "source": [
    "#### 1. What is polymorphism in Python? Explain how it is related to object-oriented programming."
   ]
  },
  {
   "cell_type": "code",
   "execution_count": 2,
   "id": "f51b3881-4220-4e2c-82dd-ae44cb0e0a2c",
   "metadata": {},
   "outputs": [
    {
     "name": "stdout",
     "output_type": "stream",
     "text": [
      "Woof!\n",
      "Meow!\n"
     ]
    }
   ],
   "source": [
    "class Animal:\n",
    "    def speak(self):\n",
    "        print(\"Generic animal sound\")\n",
    "\n",
    "class Dog(Animal):\n",
    "    def speak(self):\n",
    "        print(\"Woof!\")\n",
    "\n",
    "class Cat(Animal):\n",
    "    def speak(self):\n",
    "        print(\"Meow!\")\n",
    "# Polymorphism in action\n",
    "dog = Dog()\n",
    "cat = Cat()\n",
    "\n",
    "dog.speak()  # Output: Woof!\n",
    "cat.speak()  # Output: Meow!"
   ]
  },
  {
   "cell_type": "markdown",
   "id": "f1309515-ed90-44d5-b71e-c16a322a53b4",
   "metadata": {},
   "source": [
    "#### 2. Describe the difference between compile-time polymorphism and runtime polymorphism in Python."
   ]
  },
  {
   "cell_type": "code",
   "execution_count": 3,
   "id": "fcd26c0e-fc01-475c-a136-038832a8e66e",
   "metadata": {},
   "outputs": [],
   "source": [
    "# complie time polymorphism.\n",
    "def add(a, b=None, c=None):\n",
    "    if b is not None and c is not None:\n",
    "        return a + b + c\n",
    "    elif b is not None:\n",
    "        return a + b\n",
    "    else:\n",
    "        return a"
   ]
  },
  {
   "cell_type": "code",
   "execution_count": 4,
   "id": "4cedd8d4-acc2-4b37-8a6b-d0630ac066b0",
   "metadata": {},
   "outputs": [
    {
     "name": "stdout",
     "output_type": "stream",
     "text": [
      "Woof!\n",
      "Meow!\n"
     ]
    }
   ],
   "source": [
    "class Animal:\n",
    "    def speak(self):\n",
    "        print(\"Generic animal sound\")\n",
    "\n",
    "class Dog(Animal):\n",
    "    def speak(self):\n",
    "        print(\"Woof!\")\n",
    "\n",
    "class Cat(Animal):\n",
    "    def speak(self):\n",
    "        print(\"Meow!\")\n",
    "\n",
    "# Runtime polymorphism in action\n",
    "dog = Dog()\n",
    "cat = Cat()\n",
    "\n",
    "dog.speak()  # Output: Woof!\n",
    "cat.speak()  # Output: Meow!"
   ]
  },
  {
   "cell_type": "markdown",
   "id": "87c8db50-65e4-4dc7-96b0-d75f132c9f31",
   "metadata": {},
   "source": [
    "#### 3. Create a Python class hierarchy for shapes (e.g., circle, square, triangle) and demonstrate polymorphism through a common method, such as `calculate_area()`."
   ]
  },
  {
   "cell_type": "code",
   "execution_count": 5,
   "id": "63aac51d-7744-488d-92f1-5eafd022c57b",
   "metadata": {},
   "outputs": [
    {
     "name": "stdout",
     "output_type": "stream",
     "text": [
      "Area of the circle: 78.53981633974483\n",
      "Area of the square: 16\n",
      "Area of the triangle: 12.0\n",
      "Total area of all shapes: 106.53981633974483\n"
     ]
    }
   ],
   "source": [
    "import math\n",
    "\n",
    "class Shape:\n",
    "    def calculate_area(self):\n",
    "        pass\n",
    "\n",
    "class Circle(Shape):\n",
    "    def __init__(self, radius):\n",
    "        self.radius = radius\n",
    "    \n",
    "    def calculate_area(self):\n",
    "        return math.pi * self.radius * self.radius\n",
    "\n",
    "class Square(Shape):\n",
    "    def __init__(self, side_length):\n",
    "        self.side_length = side_length\n",
    "    \n",
    "    def calculate_area(self):\n",
    "        return self.side_length * self.side_length\n",
    "\n",
    "class Triangle(Shape):\n",
    "    def __init__(self, base, height):\n",
    "        self.base = base\n",
    "        self.height = height\n",
    "    \n",
    "    def calculate_area(self):\n",
    "        return 0.5 * self.base * self.height\n",
    "\n",
    "# Function to calculate the total area of a list of shapes using polymorphism\n",
    "def calculate_total_area(shapes):\n",
    "    total_area = 0\n",
    "    for shape in shapes:\n",
    "        total_area += shape.calculate_area()\n",
    "    return total_area\n",
    "# Creating instances of different shapes\n",
    "circle = Circle(radius=5)\n",
    "square = Square(side_length=4)\n",
    "triangle = Triangle(base=3, height=8)\n",
    "# Calculating and printing the individual areas\n",
    "print(\"Area of the circle:\", circle.calculate_area())\n",
    "print(\"Area of the square:\", square.calculate_area())\n",
    "print(\"Area of the triangle:\", triangle.calculate_area())\n",
    "# Creating a list of shapes\n",
    "shapes_list = [circle, square, triangle]\n",
    "# Calculating and printing the total area using polymorphism\n",
    "total_area = calculate_total_area(shapes_list)\n",
    "print(\"Total area of all shapes:\", total_area)"
   ]
  },
  {
   "cell_type": "markdown",
   "id": "33ec8f87-2bd7-4238-9f77-f517e73d787d",
   "metadata": {},
   "source": [
    "#### 4. Explain the concept of method overriding in polymorphism. Provide an example."
   ]
  },
  {
   "cell_type": "code",
   "execution_count": 6,
   "id": "97651705-2bc2-487a-82c6-9e4f1df7f24b",
   "metadata": {},
   "outputs": [
    {
     "name": "stdout",
     "output_type": "stream",
     "text": [
      "Woof!\n",
      "Meow!\n"
     ]
    }
   ],
   "source": [
    "class Animal:\n",
    "    def speak(self):\n",
    "        print(\"Generic animal sound\")\n",
    "\n",
    "class Dog(Animal):\n",
    "    def speak(self):\n",
    "        print(\"Woof!\")\n",
    "\n",
    "class Cat(Animal):\n",
    "    def speak(self):\n",
    "        print(\"Meow!\")\n",
    "\n",
    "# Runtime polymorphism in action\n",
    "dog = Dog()\n",
    "cat = Cat()\n",
    "\n",
    "dog.speak()  # Output: Woof!\n",
    "cat.speak()  # Output: Meow!"
   ]
  },
  {
   "cell_type": "markdown",
   "id": "78e600aa-4e67-4929-ad34-65579db5b12c",
   "metadata": {},
   "source": [
    "#### 5. How is polymorphism different from method overloading in Python? Provide examples for both."
   ]
  },
  {
   "cell_type": "code",
   "execution_count": 8,
   "id": "40bddde1-9dfa-4b9b-a6c9-27cb9f71beb7",
   "metadata": {},
   "outputs": [
    {
     "name": "stdout",
     "output_type": "stream",
     "text": [
      "1\n",
      "3\n",
      "6\n"
     ]
    }
   ],
   "source": [
    "class MathOperations:\n",
    "    def add(self, a, b=None, c=None):\n",
    "        if b is not None and c is not None:\n",
    "            return a + b + c\n",
    "        elif b is not None:\n",
    "            return a + b\n",
    "        else:\n",
    "            return a\n",
    "\n",
    "math_obj = MathOperations()\n",
    "print(math_obj.add(1))        # Output: 1\n",
    "print(math_obj.add(1, 2))     # Output: 3\n",
    "print(math_obj.add(1, 2, 3))  # Output: 6"
   ]
  },
  {
   "cell_type": "markdown",
   "id": "5c58da2d-4adc-4235-b62b-7bbb677f16be",
   "metadata": {},
   "source": [
    "#### 6. Create a Python class called `Animal` with a method `speak()`. Then, create child classes like `Dog`, `Cat`, and `Bird`, each with their own `speak()` method. Demonstrate polymorphism by calling the `speak()` method on objects of different subclasses."
   ]
  },
  {
   "cell_type": "code",
   "execution_count": 10,
   "id": "814e4b1d-2e45-4bf0-9f4b-3a7796509375",
   "metadata": {},
   "outputs": [
    {
     "name": "stdout",
     "output_type": "stream",
     "text": [
      "dog speaks:woof\n",
      "cat speaks:meow\n",
      "bird speaks:chirp\n"
     ]
    }
   ],
   "source": [
    "# define parent class.\n",
    "class animal:\n",
    "    def speak(self):\n",
    "        self.speak=speak\n",
    "        print(\"some generic sound\")\n",
    "# define subclass of animal.\n",
    "class dog(animal):\n",
    "    def speak(self):\n",
    "        print(\"dog speaks:woof\")\n",
    "# efine sub class of dog.\n",
    "class cat(dog):\n",
    "    def speak(self):\n",
    "        print(\"cat speaks:meow\")\n",
    "# define a subclass of a cat.\n",
    "class bird(cat):\n",
    "    def speak(self):\n",
    "        print(\"bird speaks:chirp\")\n",
    "# runtime \n",
    "dog=dog()\n",
    "cat=cat()\n",
    "bird=bird()\n",
    "# print the result.\n",
    "dog.speak()\n",
    "cat.speak()\n",
    "bird.speak()"
   ]
  },
  {
   "cell_type": "markdown",
   "id": "6f34798e-e73e-4368-a15e-1f3f562f1d41",
   "metadata": {},
   "source": [
    "#### 7. Discuss the use of abstract methods and classes in achieving polymorphism in Python. Provide an example using the `abc` module."
   ]
  },
  {
   "cell_type": "code",
   "execution_count": 11,
   "id": "83496601-ec7e-4137-b0b0-ab9e6b40e361",
   "metadata": {},
   "outputs": [
    {
     "name": "stdout",
     "output_type": "stream",
     "text": [
      "Area of the circle: 78.5\n",
      "Area of the square: 16\n",
      "Area of the triangle: 12.0\n",
      "Total area of all shapes: 106.5\n"
     ]
    }
   ],
   "source": [
    "from abc import ABC, abstractmethod\n",
    "\n",
    "class Shape(ABC):\n",
    "    @abstractmethod\n",
    "    def calculate_area(self):\n",
    "        pass\n",
    "\n",
    "class Circle(Shape):\n",
    "    def __init__(self, radius):\n",
    "        self.radius = radius\n",
    "    \n",
    "    def calculate_area(self):\n",
    "        return 3.14 * self.radius * self.radius\n",
    "\n",
    "class Square(Shape):\n",
    "    def __init__(self, side_length):\n",
    "        self.side_length = side_length\n",
    "    \n",
    "    def calculate_area(self):\n",
    "        return self.side_length * self.side_length\n",
    "\n",
    "class Triangle(Shape):\n",
    "    def __init__(self, base, height):\n",
    "        self.base = base\n",
    "        self.height = height\n",
    "    \n",
    "    def calculate_area(self):\n",
    "        return 0.5 * self.base * self.height\n",
    "# Function to calculate the total area of a list of shapes using polymorphism\n",
    "def calculate_total_area(shapes):\n",
    "    total_area = 0\n",
    "    for shape in shapes:\n",
    "        total_area += shape.calculate_area()\n",
    "    return total_area\n",
    "# Creating instances of different shapes\n",
    "circle = Circle(radius=5)\n",
    "square = Square(side_length=4)\n",
    "triangle = Triangle(base=3, height=8)\n",
    "# Calculating and printing the individual areas\n",
    "print(\"Area of the circle:\", circle.calculate_area())\n",
    "print(\"Area of the square:\", square.calculate_area())\n",
    "print(\"Area of the triangle:\", triangle.calculate_area())\n",
    "# Creating a list of shapes\n",
    "shapes_list = [circle, square, triangle]\n",
    "# Calculating and printing the total area using polymorphism\n",
    "total_area = calculate_total_area(shapes_list)\n",
    "print(\"Total area of all shapes:\", total_area)"
   ]
  },
  {
   "cell_type": "markdown",
   "id": "51f2d026-1c07-48a8-aa0e-3fd3ad0e230b",
   "metadata": {},
   "source": [
    "#### 8. Create a Python class hierarchy for a vehicle system (e.g., car, bicycle, boat) and implement a polymorphic `start()` method that prints a message specific to each vehicle type."
   ]
  },
  {
   "cell_type": "code",
   "execution_count": 12,
   "id": "8ec70a97-5de6-4961-9690-13ac35619cbc",
   "metadata": {},
   "outputs": [
    {
     "name": "stdout",
     "output_type": "stream",
     "text": [
      "Toyota Camry is starting. Vroom Vroom!\n",
      "Schwinn Mountain Bike is starting. Pedal, pedal!\n",
      "Sea Ray Sundancer is starting. Engine revving on the water!\n"
     ]
    }
   ],
   "source": [
    "class Vehicle:\n",
    "    def __init__(self, brand, model):\n",
    "        self.brand = brand\n",
    "        self.model = model\n",
    "\n",
    "    def start(self):\n",
    "        pass\n",
    "\n",
    "class Car(Vehicle):\n",
    "    def start(self):\n",
    "        return f\"{self.brand} {self.model} is starting. Vroom Vroom!\"\n",
    "\n",
    "class Bicycle(Vehicle):\n",
    "    def start(self):\n",
    "        return f\"{self.brand} {self.model} is starting. Pedal, pedal!\"\n",
    "\n",
    "class Boat(Vehicle):\n",
    "    def start(self):\n",
    "        return f\"{self.brand} {self.model} is starting. Engine revving on the water!\"\n",
    "# Function to start different vehicles using polymorphism\n",
    "def start_all_vehicles(vehicles):\n",
    "    for vehicle in vehicles:\n",
    "        print(vehicle.start())\n",
    "# Creating instances of different vehicles\n",
    "car = Car(brand=\"Toyota\", model=\"Camry\")\n",
    "bicycle = Bicycle(brand=\"Schwinn\", model=\"Mountain Bike\")\n",
    "boat = Boat(brand=\"Sea Ray\", model=\"Sundancer\")\n",
    "# Starting and printing messages for each vehicle\n",
    "start_all_vehicles([car, bicycle, boat])"
   ]
  },
  {
   "cell_type": "markdown",
   "id": "f898770e-69eb-45d5-a920-f53761adf281",
   "metadata": {},
   "source": [
    "#### 9. Explain the significance of the `isinstance()` and `issubclass()` functions in Python polymorphism."
   ]
  },
  {
   "cell_type": "code",
   "execution_count": 1,
   "id": "a18a5d6e-f95a-4779-96ce-3b2a3257d3fc",
   "metadata": {},
   "outputs": [
    {
     "name": "stdout",
     "output_type": "stream",
     "text": [
      "Woof!\n",
      "Meow!\n"
     ]
    }
   ],
   "source": [
    "class Animal:\n",
    "    def speak(self):\n",
    "        pass\n",
    "\n",
    "class Dog(Animal):\n",
    "    def speak(self):\n",
    "        return \"Woof!\"\n",
    "\n",
    "class Cat(Animal):\n",
    "    def speak(self):\n",
    "        return \"Meow!\"\n",
    "\n",
    "def animal_sound(animal):\n",
    "    if isinstance(animal, Animal):\n",
    "        return animal.speak()\n",
    "    else:\n",
    "        return \"Not a valid animal.\"\n",
    "\n",
    "dog_instance = Dog()\n",
    "cat_instance = Cat()\n",
    "\n",
    "print(animal_sound(dog_instance))  # Output: \"Woof!\"\n",
    "print(animal_sound(cat_instance))  # Output: \"Meow!\""
   ]
  },
  {
   "cell_type": "code",
   "execution_count": 2,
   "id": "e92b6729-ab6f-4d7e-ad12-8918527a3224",
   "metadata": {},
   "outputs": [
    {
     "name": "stdout",
     "output_type": "stream",
     "text": [
      "Drawing a circle.\n",
      "Drawing a square.\n"
     ]
    }
   ],
   "source": [
    "class Shape:\n",
    "    def draw(self):\n",
    "        pass\n",
    "\n",
    "class Circle(Shape):\n",
    "    def draw(self):\n",
    "        return \"Drawing a circle.\"\n",
    "\n",
    "class Square(Shape):\n",
    "    def draw(self):\n",
    "        return \"Drawing a square.\"\n",
    "\n",
    "def draw_shape(shape_class):\n",
    "    if issubclass(shape_class, Shape):\n",
    "        instance = shape_class()\n",
    "        return instance.draw()\n",
    "    else:\n",
    "        return \"Not a valid shape class.\"\n",
    "\n",
    "print(draw_shape(Circle))  # Output: \"Drawing a circle.\"\n",
    "print(draw_shape(Square))  # Output: \"Drawing a square.\""
   ]
  },
  {
   "cell_type": "markdown",
   "id": "19c081e7-3a2c-45c5-8b86-e8536ff46f67",
   "metadata": {},
   "source": [
    "#### 10. What is the role of the `@abstractmethod` decorator in achieving polymorphism in Python? Provide an example."
   ]
  },
  {
   "cell_type": "code",
   "execution_count": 3,
   "id": "fba14e8d-069e-47e5-910a-5d50bfebedfe",
   "metadata": {},
   "outputs": [
    {
     "name": "stdout",
     "output_type": "stream",
     "text": [
      "Drawing a circle.\n",
      "Drawing a square.\n"
     ]
    }
   ],
   "source": [
    "from abc import ABC, abstractmethod\n",
    "\n",
    "# Abstract base class\n",
    "class Shape(ABC):\n",
    "    @abstractmethod\n",
    "    def draw(self):\n",
    "        pass\n",
    "\n",
    "# Concrete subclass 1\n",
    "class Circle(Shape):\n",
    "    def draw(self):\n",
    "        return \"Drawing a circle.\"\n",
    "\n",
    "# Concrete subclass 2\n",
    "class Square(Shape):\n",
    "    def draw(self):\n",
    "        return \"Drawing a square.\"\n",
    "\n",
    "# Function that works with any shape (polymorphism)\n",
    "def draw_shape(shape):\n",
    "    return shape.draw()\n",
    "\n",
    "# Creating instances of concrete subclasses\n",
    "circle_instance = Circle()\n",
    "square_instance = Square()\n",
    "\n",
    "# Using the draw_shape function with different shapes\n",
    "print(draw_shape(circle_instance))  # Output: \"Drawing a circle.\"\n",
    "print(draw_shape(square_instance))  # Output: \"Drawing a square.\""
   ]
  },
  {
   "cell_type": "markdown",
   "id": "1e4568ed-99c6-4e55-b3fc-8de7a6970eb1",
   "metadata": {},
   "source": [
    "#### 11. Create a Python class called `Shape` with a polymorphic method `area()` that calculates the area of different shapes (e.g., circle, rectangle, triangle)."
   ]
  },
  {
   "cell_type": "code",
   "execution_count": 4,
   "id": "0cfff7ca-382f-4ff6-82dd-1ca12a8f55dd",
   "metadata": {},
   "outputs": [
    {
     "name": "stdout",
     "output_type": "stream",
     "text": [
      "Area of the circle: 78.54\n",
      "Area of the rectangle: 24\n",
      "Area of the triangle: 12.0\n"
     ]
    }
   ],
   "source": [
    "import math\n",
    "\n",
    "class Shape:\n",
    "    def area(self):\n",
    "        pass\n",
    "\n",
    "class Circle(Shape):\n",
    "    def __init__(self, radius):\n",
    "        self.radius = radius\n",
    "\n",
    "    def area(self):\n",
    "        return math.pi * self.radius**2\n",
    "\n",
    "class Rectangle(Shape):\n",
    "    def __init__(self, length, width):\n",
    "        self.length = length\n",
    "        self.width = width\n",
    "\n",
    "    def area(self):\n",
    "        return self.length * self.width\n",
    "\n",
    "class Triangle(Shape):\n",
    "    def __init__(self, base, height):\n",
    "        self.base = base\n",
    "        self.height = height\n",
    "\n",
    "    def area(self):\n",
    "        return 0.5 * self.base * self.height\n",
    "# Usage example\n",
    "circle_instance = Circle(radius=5)\n",
    "rectangle_instance = Rectangle(length=4, width=6)\n",
    "triangle_instance = Triangle(base=3, height=8)\n",
    "# Polymorphic use of the area() method\n",
    "print(f\"Area of the circle: {circle_instance.area():.2f}\")\n",
    "print(f\"Area of the rectangle: {rectangle_instance.area()}\")\n",
    "print(f\"Area of the triangle: {triangle_instance.area()}\")"
   ]
  },
  {
   "cell_type": "markdown",
   "id": "0f3a4506-3574-459d-8212-55fa86316dfd",
   "metadata": {},
   "source": [
    "#### 12. Discuss the benefits of polymorphism in terms of code reusability and flexibility in Python programs."
   ]
  },
  {
   "cell_type": "code",
   "execution_count": 5,
   "id": "c57bf518-7aba-4dc6-8678-e3dfbfc8ebce",
   "metadata": {},
   "outputs": [
    {
     "name": "stdout",
     "output_type": "stream",
     "text": [
      "Area: 78.54\n",
      "Area: 24.00\n",
      "Area: 12.00\n"
     ]
    }
   ],
   "source": [
    "import math\n",
    "\n",
    "class Shape:\n",
    "    def area(self):\n",
    "        pass\n",
    "\n",
    "class Circle(Shape):\n",
    "    def __init__(self, radius):\n",
    "        self.radius = radius\n",
    "\n",
    "    def area(self):\n",
    "        return math.pi * self.radius**2\n",
    "\n",
    "class Rectangle(Shape):\n",
    "    def __init__(self, length, width):\n",
    "        self.length = length\n",
    "        self.width = width\n",
    "\n",
    "    def area(self):\n",
    "        return self.length * self.width\n",
    "\n",
    "class Triangle(Shape):\n",
    "    def __init__(self, base, height):\n",
    "        self.base = base\n",
    "        self.height = height\n",
    "\n",
    "    def area(self):\n",
    "        return 0.5 * self.base * self.height\n",
    "\n",
    "# Function that uses polymorphism to calculate and print areas\n",
    "def print_area(shape_instance):\n",
    "    print(f\"Area: {shape_instance.area():.2f}\")\n",
    "# Creating instances of different shapes\n",
    "circle_instance = Circle(radius=5)\n",
    "rectangle_instance = Rectangle(length=4, width=6)\n",
    "triangle_instance = Triangle(base=3, height=8)\n",
    "# Using the print_area function with different shapes\n",
    "print_area(circle_instance)    # Output: Area: 78.54\n",
    "print_area(rectangle_instance) # Output: Area: 24.00\n",
    "print_area(triangle_instance)  # Output: Area: 12.00"
   ]
  },
  {
   "cell_type": "markdown",
   "id": "f7c56350-9e12-47a0-bec9-a5bc944391e4",
   "metadata": {},
   "source": [
    "#### 13. Explain the use of the `super()` function in Python polymorphism. How does it help call methods of parent classes?"
   ]
  },
  {
   "cell_type": "code",
   "execution_count": 6,
   "id": "59abd1b3-7f57-43c1-ba0c-902b56bd05e4",
   "metadata": {},
   "outputs": [
    {
     "name": "stdout",
     "output_type": "stream",
     "text": [
      "Generic animal sound, but also barks: Woof!\n",
      "Generic animal sound, and meows: Meow!\n"
     ]
    }
   ],
   "source": [
    "class Animal:\n",
    "    def speak(self):\n",
    "        return \"Generic animal sound\"\n",
    "\n",
    "class Dog(Animal):\n",
    "    def speak(self):\n",
    "        # Calling the speak method from the parent class (Animal)\n",
    "        return super().speak() + \", but also barks: Woof!\"\n",
    "\n",
    "class Cat(Animal):\n",
    "    def speak(self):\n",
    "        # Calling the speak method from the parent class (Animal)\n",
    "        return super().speak() + \", and meows: Meow!\"\n",
    "\n",
    "# Creating instances of the subclasses\n",
    "dog_instance = Dog()\n",
    "cat_instance = Cat()\n",
    "\n",
    "# Polymorphic use of the speak method\n",
    "print(dog_instance.speak())  # Output: Generic animal sound, but also barks: Woof!\n",
    "print(cat_instance.speak())  # Output: Generic animal sound, and meows: Meow!"
   ]
  },
  {
   "cell_type": "markdown",
   "id": "332f3fac-22e9-4c9b-9ce8-9a04770e7f3a",
   "metadata": {},
   "source": [
    "#### 14. Create a Python class hierarchy for a banking system with various account types (e.g., savings, checking, credit card) and demonstrate polymorphism by implementing a common `withdraw()` method."
   ]
  },
  {
   "cell_type": "code",
   "execution_count": 7,
   "id": "d9e3c0b0-6cf6-4eb3-8f54-87483082455c",
   "metadata": {},
   "outputs": [
    {
     "name": "stdout",
     "output_type": "stream",
     "text": [
      "Savings Account:\n",
      "Account Number: SA123\n",
      "Balance: $1000.00\n",
      "Withdrawal of $200.00 successful. Remaining balance: $800.00\n",
      "Interest applied. New balance: $840.00\n",
      "\n",
      "Checking Account:\n",
      "Account Number: CA456\n",
      "Balance: $1500.00\n",
      "Withdrawal of $2000.00 successful. Remaining balance: $-500.00\n",
      "Withdrawal exceeds available balance and overdraft limit.\n",
      "\n",
      "Credit Card Account:\n",
      "Account Number: CC789\n",
      "Balance: $-500.00\n",
      "Credit card withdrawal of $1000.00 successful. Remaining credit: $2500.00\n",
      "Credit limit exceeded for withdrawal.\n"
     ]
    }
   ],
   "source": [
    "class BankAccount:\n",
    "    def __init__(self, account_number, balance):\n",
    "        self.account_number = account_number\n",
    "        self.balance = balance\n",
    "\n",
    "    def withdraw(self, amount):\n",
    "        if amount <= 0:\n",
    "            return \"Withdrawal amount must be greater than zero.\"\n",
    "\n",
    "        if amount <= self.balance:\n",
    "            self.balance -= amount\n",
    "            return f\"Withdrawal of ${amount:.2f} successful. Remaining balance: ${self.balance:.2f}\"\n",
    "        else:\n",
    "            return \"Insufficient funds for withdrawal.\"\n",
    "\n",
    "    def __str__(self):\n",
    "        return f\"Account Number: {self.account_number}\\nBalance: ${self.balance:.2f}\"\n",
    "\n",
    "class SavingsAccount(BankAccount):\n",
    "    def __init__(self, account_number, balance, interest_rate):\n",
    "        super().__init__(account_number, balance)\n",
    "        self.interest_rate = interest_rate\n",
    "\n",
    "    def apply_interest(self):\n",
    "        interest_amount = self.balance * self.interest_rate\n",
    "        self.balance += interest_amount\n",
    "        return f\"Interest applied. New balance: ${self.balance:.2f}\"\n",
    "\n",
    "class CheckingAccount(BankAccount):\n",
    "    def __init__(self, account_number, balance, overdraft_limit):\n",
    "        super().__init__(account_number, balance)\n",
    "        self.overdraft_limit = overdraft_limit\n",
    "\n",
    "    def withdraw(self, amount):\n",
    "        available_balance = self.balance + self.overdraft_limit\n",
    "        if amount <= available_balance:\n",
    "            self.balance -= amount\n",
    "            return f\"Withdrawal of ${amount:.2f} successful. Remaining balance: ${self.balance:.2f}\"\n",
    "        else:\n",
    "            return \"Withdrawal exceeds available balance and overdraft limit.\"\n",
    "\n",
    "class CreditCardAccount(BankAccount):\n",
    "    def __init__(self, account_number, balance, credit_limit):\n",
    "        super().__init__(account_number, balance)\n",
    "        self.credit_limit = credit_limit\n",
    "\n",
    "    def withdraw(self, amount):\n",
    "        available_credit = self.credit_limit - self.balance\n",
    "        if amount <= available_credit:\n",
    "            self.balance += amount\n",
    "            return f\"Credit card withdrawal of ${amount:.2f} successful. Remaining credit: ${available_credit:.2f}\"\n",
    "        else:\n",
    "            return \"Credit limit exceeded for withdrawal.\"\n",
    "# Example usage\n",
    "savings_account = SavingsAccount(account_number=\"SA123\", balance=1000.0, interest_rate=0.05)\n",
    "checking_account = CheckingAccount(account_number=\"CA456\", balance=1500.0, overdraft_limit=500.0)\n",
    "credit_card_account = CreditCardAccount(account_number=\"CC789\", balance=-500.0, credit_limit=2000.0)\n",
    "# Polymorphic use of the withdraw method\n",
    "print(\"Savings Account:\")\n",
    "print(savings_account)\n",
    "print(savings_account.withdraw(200.0))  # Successful withdrawal\n",
    "print(savings_account.apply_interest())  # Apply interest\n",
    "print()\n",
    "\n",
    "print(\"Checking Account:\")\n",
    "print(checking_account)\n",
    "print(checking_account.withdraw(2000.0))  # Successful withdrawal with overdraft\n",
    "print(checking_account.withdraw(3000.0))  # Withdrawal exceeds available balance and overdraft limit\n",
    "print()\n",
    "\n",
    "print(\"Credit Card Account:\")\n",
    "print(credit_card_account)\n",
    "print(credit_card_account.withdraw(1000.0))  # Successful credit card withdrawal\n",
    "print(credit_card_account.withdraw(2500.0))  # Credit limit exceeded for withdrawal"
   ]
  },
  {
   "cell_type": "markdown",
   "id": "2a2ae552-bab4-4948-b17e-18ac834c07b6",
   "metadata": {},
   "source": [
    "#### 15. Describe the concept of operator overloading in Python and how it relates to polymorphism. Provide examples using operators like `+` and `*`."
   ]
  },
  {
   "cell_type": "code",
   "execution_count": 8,
   "id": "28d9ecff-3c2d-4fbe-aabd-b2720e05dff9",
   "metadata": {},
   "outputs": [
    {
     "name": "stdout",
     "output_type": "stream",
     "text": [
      "Addition: (4, 6)\n",
      "Multiplication: (2, 4)\n"
     ]
    }
   ],
   "source": [
    "class Point:\n",
    "    def __init__(self, x, y):\n",
    "        self.x = x\n",
    "        self.y = y\n",
    "\n",
    "    # Overloading the addition operator (+)\n",
    "    def __add__(self, other):\n",
    "        if isinstance(other, Point):\n",
    "            return Point(self.x + other.x, self.y + other.y)\n",
    "        else:\n",
    "            raise TypeError(\"Unsupported operand type for +: {}\".format(type(other)))\n",
    "\n",
    "    # Overloading the multiplication operator (*)\n",
    "    def __mul__(self, scalar):\n",
    "        return Point(self.x * scalar, self.y * scalar)\n",
    "\n",
    "    def __str__(self):\n",
    "        return \"({}, {})\".format(self.x, self.y)\n",
    "\n",
    "# Example usage\n",
    "point1 = Point(1, 2)\n",
    "point2 = Point(3, 4)\n",
    "\n",
    "# Overloading the addition operator (+)\n",
    "result_addition = point1 + point2\n",
    "print(\"Addition:\", result_addition)  # Output: Addition: (4, 6)\n",
    "\n",
    "# Overloading the multiplication operator (*)\n",
    "result_multiplication = point1 * 2\n",
    "print(\"Multiplication:\", result_multiplication)  # Output: Multiplication: (2, 4)"
   ]
  },
  {
   "cell_type": "markdown",
   "id": "31bac102-a56f-4350-878c-89eba8936f46",
   "metadata": {},
   "source": [
    "#### 16. What is dynamic polymorphism, and how is it achieved in Python?"
   ]
  },
  {
   "cell_type": "code",
   "execution_count": 9,
   "id": "8e585022-2928-46c1-8d2f-4d7b7cff0aa1",
   "metadata": {},
   "outputs": [
    {
     "name": "stdout",
     "output_type": "stream",
     "text": [
      "Area: 78.50\n",
      "Area: 16.00\n"
     ]
    }
   ],
   "source": [
    "from abc import ABC, abstractmethod\n",
    "\n",
    "# Abstract base class with an abstract method\n",
    "class Shape(ABC):\n",
    "    @abstractmethod\n",
    "    def area(self):\n",
    "        pass\n",
    "# Concrete subclass 1\n",
    "class Circle(Shape):\n",
    "    def __init__(self, radius):\n",
    "        self.radius = radius\n",
    "\n",
    "    def area(self):\n",
    "        return 3.14 * self.radius**2\n",
    "# Concrete subclass 2\n",
    "class Square(Shape):\n",
    "    def __init__(self, side):\n",
    "        self.side = side\n",
    "\n",
    "    def area(self):\n",
    "        return self.side**2\n",
    "# Function demonstrating dynamic polymorphism\n",
    "def print_area(shape_instance):\n",
    "    print(f\"Area: {shape_instance.area():.2f}\")\n",
    "# Creating instances of different shapes\n",
    "circle_instance = Circle(radius=5)\n",
    "square_instance = Square(side=4)\n",
    "# Dynamic polymorphic use of the print_area function\n",
    "print_area(circle_instance)  # Output: Area: 78.50\n",
    "print_area(square_instance)  # Output: Area: 16.00"
   ]
  },
  {
   "cell_type": "markdown",
   "id": "30899f7b-0252-42ea-a66e-afc850da3aad",
   "metadata": {},
   "source": [
    "#### 17. Create a Python class hierarchy for employees in a company (e.g., manager, developer, designer) and implement polymorphism through a common `calculate_salary()` method."
   ]
  },
  {
   "cell_type": "code",
   "execution_count": 10,
   "id": "e845c640-ebae-43de-802d-8a48ba41d118",
   "metadata": {},
   "outputs": [
    {
     "name": "stdout",
     "output_type": "stream",
     "text": [
      "Manager - ID: M001, Name: John Doe\n",
      "Calculated Salary: $60,000.00\n",
      "\n",
      "Developer - ID: D001, Name: Jane Smith\n",
      "Calculated Salary: $4,800.00\n",
      "\n",
      "Designer - ID: DS001, Name: Alice Johnson\n",
      "Calculated Salary: $60,000.00\n"
     ]
    }
   ],
   "source": [
    "class Employee:\n",
    "    def __init__(self, employee_id, name):\n",
    "        self.employee_id = employee_id\n",
    "        self.name = name\n",
    "\n",
    "    def calculate_salary(self):\n",
    "        # Common implementation for employees\n",
    "        return \"Salary calculation not defined for this employee type.\"\n",
    "\n",
    "    def __str__(self):\n",
    "        return f\"{self.__class__.__name__} - ID: {self.employee_id}, Name: {self.name}\"\n",
    "\n",
    "\n",
    "class Manager(Employee):\n",
    "    def __init__(self, employee_id, name, base_salary, bonus):\n",
    "        super().__init__(employee_id, name)\n",
    "        self.base_salary = base_salary\n",
    "        self.bonus = bonus\n",
    "\n",
    "    def calculate_salary(self):\n",
    "        # Manager's salary calculation includes base salary and bonus\n",
    "        return self.base_salary + self.bonus\n",
    "\n",
    "\n",
    "class Developer(Employee):\n",
    "    def __init__(self, employee_id, name, hourly_rate, hours_worked):\n",
    "        super().__init__(employee_id, name)\n",
    "        self.hourly_rate = hourly_rate\n",
    "        self.hours_worked = hours_worked\n",
    "\n",
    "    def calculate_salary(self):\n",
    "        # Developer's salary calculation is based on hourly rate and hours worked\n",
    "        return self.hourly_rate * self.hours_worked\n",
    "\n",
    "\n",
    "class Designer(Employee):\n",
    "    def __init__(self, employee_id, name, fixed_salary):\n",
    "        super().__init__(employee_id, name)\n",
    "        self.fixed_salary = fixed_salary\n",
    "\n",
    "    def calculate_salary(self):\n",
    "        # Designer's salary is a fixed amount\n",
    "        return self.fixed_salary\n",
    "\n",
    "\n",
    "# Example usage\n",
    "manager = Manager(employee_id=\"M001\", name=\"John Doe\", base_salary=50000, bonus=10000)\n",
    "developer = Developer(employee_id=\"D001\", name=\"Jane Smith\", hourly_rate=30, hours_worked=160)\n",
    "designer = Designer(employee_id=\"DS001\", name=\"Alice Johnson\", fixed_salary=60000)\n",
    "\n",
    "# Polymorphic use of the calculate_salary method\n",
    "print(manager)\n",
    "print(f\"Calculated Salary: ${manager.calculate_salary():,.2f}\")\n",
    "print()\n",
    "\n",
    "print(developer)\n",
    "print(f\"Calculated Salary: ${developer.calculate_salary():,.2f}\")\n",
    "print()\n",
    "\n",
    "print(designer)\n",
    "print(f\"Calculated Salary: ${designer.calculate_salary():,.2f}\")"
   ]
  },
  {
   "cell_type": "markdown",
   "id": "df574f88-ed60-4018-a124-33e0847229c7",
   "metadata": {},
   "source": [
    "#### 18. Discuss the concept of function pointers and how they can be used to achieve polymorphism in Python."
   ]
  },
  {
   "cell_type": "code",
   "execution_count": 11,
   "id": "1bd442be-56fb-4b4e-b663-8901c30fae07",
   "metadata": {},
   "outputs": [
    {
     "name": "stdout",
     "output_type": "stream",
     "text": [
      "Woof!\n",
      "Meow!\n"
     ]
    }
   ],
   "source": [
    "class Animal:\n",
    "    def speak(self):\n",
    "        pass\n",
    "\n",
    "class Dog(Animal):\n",
    "    def speak(self):\n",
    "        return \"Woof!\"\n",
    "\n",
    "class Cat(Animal):\n",
    "    def speak(self):\n",
    "        return \"Meow!\"\n",
    "\n",
    "# Polymorphic function\n",
    "def animal_sound(animal):\n",
    "    return animal.speak()\n",
    "\n",
    "# Creating instances of different animals\n",
    "dog_instance = Dog()\n",
    "cat_instance = Cat()\n",
    "\n",
    "# Polymorphic use of the animal_sound function\n",
    "print(animal_sound(dog_instance))  # Output: \"Woof!\"\n",
    "print(animal_sound(cat_instance))  # Output: \"Meow!\""
   ]
  },
  {
   "cell_type": "markdown",
   "id": "c6a0ce05-e609-45c4-b025-f1751ec9310a",
   "metadata": {},
   "source": [
    "#### 19. Explain the role of interfaces and abstract classes in polymorphism, drawing comparisons between them."
   ]
  },
  {
   "cell_type": "code",
   "execution_count": 13,
   "id": "6a914afd-a3ee-4032-b252-71daea6b6fc1",
   "metadata": {},
   "outputs": [],
   "source": [
    "from abc import ABC, abstractmethod\n",
    "\n",
    "class Shape(ABC):\n",
    "    @abstractmethod\n",
    "    def area(self):\n",
    "        pass"
   ]
  },
  {
   "cell_type": "code",
   "execution_count": 14,
   "id": "cfd7d1d2-02ce-44c0-b6f9-04576406eb51",
   "metadata": {},
   "outputs": [],
   "source": [
    "from abc import ABC, abstractmethod\n",
    "\n",
    "class Animal(ABC):\n",
    "    @abstractmethod\n",
    "    def speak(self):\n",
    "        pass\n",
    "\n",
    "    def sleep(self):\n",
    "        print(\"Zzzz\")"
   ]
  },
  {
   "cell_type": "markdown",
   "id": "841eadb2-9ed3-4ac9-aab5-44d37c7b9d43",
   "metadata": {},
   "source": [
    "#### 20. Create a Python class for a zoo simulation, demonstrating polymorphism with different animal types (e.g., mammals, birds, reptiles) and their behavior (e.g., eating, sleeping, making sounds)."
   ]
  },
  {
   "cell_type": "code",
   "execution_count": 18,
   "id": "e0905fb8-ef07-44e6-b002-e4f0ae0bf657",
   "metadata": {},
   "outputs": [
    {
     "name": "stdout",
     "output_type": "stream",
     "text": [
      "Lion: Mammal sound\n",
      "Lion: Mammal is eating.\n",
      "Lion is sleeping.\n",
      "\n",
      "Parrot: Bird sound\n",
      "Parrot: Bird is eating.\n",
      "Parrot is sleeping.\n",
      "\n",
      "Snake: Reptile sound\n",
      "Snake: Reptile is eating.\n",
      "Snake is sleeping.\n",
      "\n"
     ]
    }
   ],
   "source": [
    "from abc import ABC, abstractmethod\n",
    "\n",
    "class Animal(ABC):\n",
    "    def __init__(self, name):\n",
    "        self.name = name\n",
    "\n",
    "    @abstractmethod\n",
    "    def make_sound(self):\n",
    "        pass\n",
    "\n",
    "    @abstractmethod\n",
    "    def eat(self):\n",
    "        pass\n",
    "\n",
    "    def sleep(self):\n",
    "        print(f\"{self.name} is sleeping.\")\n",
    "\n",
    "class Mammal(Animal):\n",
    "    def __init__(self, name):\n",
    "        super().__init__(name)\n",
    "\n",
    "    def make_sound(self):\n",
    "        return \"Mammal sound\"\n",
    "\n",
    "    def eat(self):\n",
    "        return \"Mammal is eating.\"\n",
    "\n",
    "class Bird(Animal):\n",
    "    def __init__(self, name):\n",
    "        super().__init__(name)\n",
    "\n",
    "    def make_sound(self):\n",
    "        return \"Bird sound\"\n",
    "\n",
    "    def eat(self):\n",
    "        return \"Bird is eating.\"\n",
    "\n",
    "class Reptile(Animal):\n",
    "    def __init__(self, name):\n",
    "        super().__init__(name)\n",
    "\n",
    "    def make_sound(self):\n",
    "        return \"Reptile sound\"\n",
    "\n",
    "    def eat(self):\n",
    "        return \"Reptile is eating.\"\n",
    "# Zoo simulation\n",
    "def simulate_zoo(animals):\n",
    "    for animal in animals:\n",
    "        print(f\"{animal.name}: {animal.make_sound()}\")\n",
    "        print(f\"{animal.name}: {animal.eat()}\")\n",
    "        animal.sleep()\n",
    "        print()\n",
    "# Creating instances of different animals\n",
    "lion = Mammal(\"Lion\")\n",
    "parrot = Bird(\"Parrot\")\n",
    "snake = Reptile(\"Snake\")\n",
    "# Polymorphic use of the simulate_zoo function\n",
    "simulate_zoo([lion, parrot, snake])"
   ]
  },
  {
   "cell_type": "markdown",
   "id": "5c254371-4d1e-4d77-bdce-7554b8f5af53",
   "metadata": {},
   "source": [
    "### Abstraction:"
   ]
  },
  {
   "cell_type": "markdown",
   "id": "90fd37c5-cdb2-47aa-9d4b-429db805a787",
   "metadata": {},
   "source": [
    "#### 1. What is abstraction in Python, and how does it relate to object-oriented programming?"
   ]
  },
  {
   "cell_type": "code",
   "execution_count": 16,
   "id": "6afed9c7-ace0-4ba0-887c-1995f7776734",
   "metadata": {},
   "outputs": [],
   "source": [
    "from abc import ABC, abstractmethod\n",
    "\n",
    "class Shape(ABC):  # Abstract class\n",
    "    @abstractmethod\n",
    "    def area(self):\n",
    "        pass\n",
    "\n",
    "    @abstractmethod\n",
    "    def perimeter(self):\n",
    "        pass\n",
    "\n",
    "class Circle(Shape):  # Concrete subclass\n",
    "    def __init__(self, radius):\n",
    "        self.radius = radius\n",
    "\n",
    "    def area(self):\n",
    "        return 3.14 * self.radius ** 2\n",
    "\n",
    "    def perimeter(self):\n",
    "        return 2 * 3.14 * self.radius\n",
    "\n",
    "class Square(Shape):  # Concrete subclass\n",
    "    def __init__(self, side):\n",
    "        self.side = side\n",
    "\n",
    "    def area(self):\n",
    "        return self.side ** 2\n",
    "\n",
    "    def perimeter(self):\n",
    "        return 4 * self.side"
   ]
  },
  {
   "cell_type": "markdown",
   "id": "53d23b85-8e55-4c6f-a6e3-93605cc9f9b2",
   "metadata": {},
   "source": [
    "#### 2. Describe the benefits of abstraction in terms of code organization and complexity reduction."
   ]
  },
  {
   "cell_type": "code",
   "execution_count": 17,
   "id": "7ecd099a-1ae8-4285-9bb8-923daaada918",
   "metadata": {},
   "outputs": [],
   "source": [
    "from abc import ABC, abstractmethod\n",
    "\n",
    "class Vehicle(ABC):\n",
    "    @abstractmethod\n",
    "    def start(self):\n",
    "        pass\n",
    "\n",
    "    @abstractmethod\n",
    "    def stop(self):\n",
    "        pass\n",
    "\n",
    "class Car(Vehicle):\n",
    "    def start(self):\n",
    "        return \"Car started\"\n",
    "\n",
    "    def stop(self):\n",
    "        return \"Car stopped\"\n",
    "\n",
    "class Motorcycle(Vehicle):\n",
    "    def start(self):\n",
    "        return \"Motorcycle started\"\n",
    "\n",
    "    def stop(self):\n",
    "        return \"Motorcycle stopped\""
   ]
  },
  {
   "cell_type": "markdown",
   "id": "7173875c-4da7-4bb1-8fdf-6695b7b1882a",
   "metadata": {},
   "source": [
    "#### 3. Create a Python class called `Shape` with an abstract method `calculate_area()`. Then, create child classes (e.g., `Circle`, `Rectangle`) that implement the `calculate_area()` method. Provide an example of using these classes."
   ]
  },
  {
   "cell_type": "code",
   "execution_count": 19,
   "id": "93b8a5e9-445d-4281-9450-d0bd08a4f3e8",
   "metadata": {},
   "outputs": [
    {
     "name": "stdout",
     "output_type": "stream",
     "text": [
      "Area of the circle: 78.5\n",
      "Area of the rectangle: 24\n"
     ]
    }
   ],
   "source": [
    "from abc import ABC, abstractmethod\n",
    "\n",
    "class Shape(ABC):\n",
    "    @abstractmethod\n",
    "    def calculate_area(self):\n",
    "        pass\n",
    "\n",
    "class Circle(Shape):\n",
    "    def __init__(self, radius):\n",
    "        self.radius = radius\n",
    "\n",
    "    def calculate_area(self):\n",
    "        return 3.14 * self.radius ** 2\n",
    "\n",
    "class Rectangle(Shape):\n",
    "    def __init__(self, width, height):\n",
    "        self.width = width\n",
    "        self.height = height\n",
    "\n",
    "    def calculate_area(self):\n",
    "        return self.width * self.height\n",
    "\n",
    "# Example usage\n",
    "circle = Circle(radius=5)\n",
    "rectangle = Rectangle(width=4, height=6)\n",
    "\n",
    "print(f\"Area of the circle: {circle.calculate_area()}\")\n",
    "print(f\"Area of the rectangle: {rectangle.calculate_area()}\")"
   ]
  },
  {
   "cell_type": "markdown",
   "id": "89c7c2c0-d6d6-4cec-be15-a72b47bf3e82",
   "metadata": {},
   "source": [
    "#### 4. Explain the concept of abstract classes in Python and how they are defined using the `abc` module. Provide an example."
   ]
  },
  {
   "cell_type": "code",
   "execution_count": 20,
   "id": "d825d2f5-a6ab-494d-93bb-b85c15e7dda9",
   "metadata": {},
   "outputs": [
    {
     "name": "stdout",
     "output_type": "stream",
     "text": [
      "Area of the circle: 78.5\n",
      "Area of the rectangle: 24\n"
     ]
    }
   ],
   "source": [
    "from abc import ABC, abstractmethod\n",
    "\n",
    "class Shape(ABC):  # Abstract class\n",
    "    @abstractmethod\n",
    "    def calculate_area(self):\n",
    "        pass\n",
    "\n",
    "class Circle(Shape):  # Concrete subclass\n",
    "    def __init__(self, radius):\n",
    "        self.radius = radius\n",
    "\n",
    "    def calculate_area(self):\n",
    "        return 3.14 * self.radius ** 2\n",
    "\n",
    "class Rectangle(Shape):  # Concrete subclass\n",
    "    def __init__(self, width, height):\n",
    "        self.width = width\n",
    "        self.height = height\n",
    "\n",
    "    def calculate_area(self):\n",
    "        return self.width * self.height\n",
    "# Creating instances of concrete classes\n",
    "circle = Circle(radius=5)\n",
    "rectangle = Rectangle(width=4, height=6)\n",
    "# Calling the concrete implementations of the abstract method\n",
    "print(f\"Area of the circle: {circle.calculate_area()}\")\n",
    "print(f\"Area of the rectangle: {rectangle.calculate_area()}\")"
   ]
  },
  {
   "cell_type": "markdown",
   "id": "8f3e6c09-e718-439b-88ec-37bc7b5bae76",
   "metadata": {},
   "source": [
    "#### 5. How do abstract classes differ from regular classes in Python? Discuss their use cases."
   ]
  },
  {
   "cell_type": "code",
   "execution_count": 21,
   "id": "16686ed2-bae4-4861-98b8-73b9cb3c0ea2",
   "metadata": {},
   "outputs": [],
   "source": [
    "from abc import ABC, abstractmethod\n",
    "\n",
    "# Abstract class\n",
    "class Shape(ABC):\n",
    "    @abstractmethod\n",
    "    def calculate_area(self):\n",
    "        pass\n",
    "\n",
    "# Concrete subclass\n",
    "class Circle(Shape):\n",
    "    def __init__(self, radius):\n",
    "        self.radius = radius\n",
    "\n",
    "    def calculate_area(self):\n",
    "        return 3.14 * self.radius ** 2\n",
    "\n",
    "# Concrete subclass\n",
    "class Rectangle(Shape):\n",
    "    def __init__(self, width, height):\n",
    "        self.width = width\n",
    "        self.height = height\n",
    "\n",
    "    def calculate_area(self):\n",
    "        return self.width * self.height"
   ]
  },
  {
   "cell_type": "markdown",
   "id": "510e7c69-2ffc-4b70-91f0-a07da1e8759c",
   "metadata": {},
   "source": [
    "#### 6. Create a Python class for a bank account and demonstrate abstraction by hiding the account balance and providing methods to deposit and withdraw funds."
   ]
  },
  {
   "cell_type": "code",
   "execution_count": 22,
   "id": "6dcd2ce1-e4e8-4cee-a84a-0ece182b8f00",
   "metadata": {},
   "outputs": [
    {
     "name": "stdout",
     "output_type": "stream",
     "text": [
      "Account Holder: John Doe\n",
      "Account Number: 123456789\n",
      "$1000 deposited successfully.\n",
      "Current Balance: $1000\n",
      "$500 withdrawn successfully.\n",
      "Current Balance: $500\n"
     ]
    }
   ],
   "source": [
    "from abc import ABC, abstractmethod\n",
    "\n",
    "class BankAccount(ABC):\n",
    "    def __init__(self, account_holder, account_number):\n",
    "        self.account_holder = account_holder\n",
    "        self.account_number = account_number\n",
    "        self._balance = 0  # Private attribute for balance\n",
    "\n",
    "    @abstractmethod\n",
    "    def get_balance(self):\n",
    "        pass\n",
    "\n",
    "    @abstractmethod\n",
    "    def deposit(self, amount):\n",
    "        pass\n",
    "\n",
    "    @abstractmethod\n",
    "    def withdraw(self, amount):\n",
    "        pass\n",
    "\n",
    "class ConcreteBankAccount(BankAccount):\n",
    "    def get_balance(self):\n",
    "        return self._balance\n",
    "\n",
    "    def deposit(self, amount):\n",
    "        if amount > 0:\n",
    "            self._balance += amount\n",
    "            return f\"${amount} deposited successfully.\"\n",
    "        else:\n",
    "            return \"Invalid deposit amount.\"\n",
    "\n",
    "    def withdraw(self, amount):\n",
    "        if 0 < amount <= self._balance:\n",
    "            self._balance -= amount\n",
    "            return f\"${amount} withdrawn successfully.\"\n",
    "        else:\n",
    "            return \"Insufficient funds or invalid withdrawal amount.\"\n",
    "# Example usage\n",
    "account1 = ConcreteBankAccount(account_holder=\"John Doe\", account_number=\"123456789\")\n",
    "print(f\"Account Holder: {account1.account_holder}\")\n",
    "print(f\"Account Number: {account1.account_number}\")\n",
    "# Deposit funds\n",
    "print(account1.deposit(1000))\n",
    "print(f\"Current Balance: ${account1.get_balance()}\")\n",
    "# Withdraw funds\n",
    "print(account1.withdraw(500))\n",
    "print(f\"Current Balance: ${account1.get_balance()}\")"
   ]
  },
  {
   "cell_type": "markdown",
   "id": "926ac023-86e8-4a32-befb-b090acaaaa16",
   "metadata": {},
   "source": [
    "#### 7. Discuss the concept of interface classes in Python and their role in achieving abstraction."
   ]
  },
  {
   "cell_type": "code",
   "execution_count": 23,
   "id": "f08a9750-3834-4ba7-8eea-15a39144967b",
   "metadata": {},
   "outputs": [],
   "source": [
    "from abc import ABC, abstractmethod\n",
    "\n",
    "class Shape(ABC):  # Interface class\n",
    "    @abstractmethod\n",
    "    def calculate_area(self):\n",
    "        pass\n",
    "\n",
    "class Circle(Shape):  # Class implementing the interface\n",
    "    def __init__(self, radius):\n",
    "        self.radius = radius\n",
    "\n",
    "    def calculate_area(self):\n",
    "        return 3.14 * self.radius ** 2"
   ]
  },
  {
   "cell_type": "markdown",
   "id": "61606fd8-83ba-4fdf-be64-bdfbdacf575e",
   "metadata": {},
   "source": [
    "#### 8. Create a Python class hierarchy for animals and implement abstraction by defining common methods (e.g., `eat()`, `sleep()`) in an abstract base class."
   ]
  },
  {
   "cell_type": "code",
   "execution_count": 26,
   "id": "7ae890c3-23fb-4280-a094-8985ca2bd72f",
   "metadata": {},
   "outputs": [
    {
     "name": "stdout",
     "output_type": "stream",
     "text": [
      "Leo, the Lion, is eating meat.\n",
      "Leo, the Lion, is sleeping peacefully.\n",
      "Sparkey, the Sparrow, is pecking at seeds.\n",
      "Sparkey, the Sparrow, is roosting in a tree.\n"
     ]
    }
   ],
   "source": [
    "from abc import ABC, abstractmethod\n",
    "\n",
    "class Animal(ABC):\n",
    "    def __init__(self, name, species):\n",
    "        self.name = name\n",
    "        self.species = species\n",
    "\n",
    "    @abstractmethod\n",
    "    def eat(self):\n",
    "        pass\n",
    "\n",
    "    @abstractmethod\n",
    "    def sleep(self):\n",
    "        pass\n",
    "\n",
    "class Mammal(Animal):\n",
    "    def __init__(self, name, species, fur_color):\n",
    "        super().__init__(name, species)\n",
    "        self.fur_color = fur_color\n",
    "\n",
    "    def eat(self):\n",
    "        return f\"{self.name}, the {self.species}, is eating meat.\"\n",
    "\n",
    "    def sleep(self):\n",
    "        return f\"{self.name}, the {self.species}, is sleeping peacefully.\"\n",
    "\n",
    "class Bird(Animal):\n",
    "    def __init__(self, name, species, feather_color):\n",
    "        super().__init__(name, species)\n",
    "        self.feather_color = feather_color\n",
    "\n",
    "    def eat(self):\n",
    "        return f\"{self.name}, the {self.species}, is pecking at seeds.\"\n",
    "\n",
    "    def sleep(self):\n",
    "        return f\"{self.name}, the {self.species}, is roosting in a tree.\"\n",
    "\n",
    "# Example usage\n",
    "lion = Mammal(name=\"Leo\", species=\"Lion\", fur_color=\"Golden\")\n",
    "sparrow = Bird(name=\"Sparkey\", species=\"Sparrow\", feather_color=\"Brown\")\n",
    "\n",
    "# Common method usage\n",
    "print(lion.eat())\n",
    "print(lion.sleep())\n",
    "\n",
    "print(sparrow.eat())\n",
    "print(sparrow.sleep())"
   ]
  },
  {
   "cell_type": "markdown",
   "id": "08fe294b-0ff0-42e5-af98-23a400eb9917",
   "metadata": {},
   "source": [
    "#### 9. Explain the significance of encapsulation in achieving abstraction. Provide examples."
   ]
  },
  {
   "cell_type": "code",
   "execution_count": 27,
   "id": "ee2fb3cf-f21b-4aa6-9873-94491b8f1ecb",
   "metadata": {},
   "outputs": [],
   "source": [
    "class Car:\n",
    "    def __init__(self, make, model):\n",
    "        self._make = make  # Protected attribute\n",
    "        self._model = model  # Protected attribute"
   ]
  },
  {
   "cell_type": "code",
   "execution_count": 28,
   "id": "e6629572-07f2-49a4-8657-7971e9580830",
   "metadata": {},
   "outputs": [],
   "source": [
    "class Car:\n",
    "    def __init__(self, make, model):\n",
    "        self._make = make\n",
    "        self._model = model\n",
    "\n",
    "    def get_make(self):\n",
    "        return self._make\n",
    "\n",
    "    def set_make(self, make):\n",
    "        if isinstance(make, str):\n",
    "            self._make = make\n",
    "        else:\n",
    "            print(\"Invalid make value. Must be a string.\")"
   ]
  },
  {
   "cell_type": "code",
   "execution_count": 29,
   "id": "bcd1e3b1-5284-4843-ab61-d53b43ac8955",
   "metadata": {},
   "outputs": [],
   "source": [
    "class BankAccount:\n",
    "    def __init__(self, account_holder, balance):\n",
    "        self._account_holder = account_holder\n",
    "        self._balance = balance\n",
    "\n",
    "    def deposit(self, amount):\n",
    "        self._balance += amount\n",
    "\n",
    "    def withdraw(self, amount):\n",
    "        if amount <= self._balance:\n",
    "            self._balance -= amount\n",
    "        else:\n",
    "            print(\"Insufficient funds.\")"
   ]
  },
  {
   "cell_type": "code",
   "execution_count": 30,
   "id": "97c35336-3610-4da8-81b0-1f002c2636ee",
   "metadata": {},
   "outputs": [],
   "source": [
    "class Circle:\n",
    "    def __init__(self, radius):\n",
    "        self._radius = radius\n",
    "\n",
    "    def get_radius(self):\n",
    "        return self._radius\n",
    "\n",
    "    def set_radius(self, radius):\n",
    "        if radius > 0:\n",
    "            self._radius = radius\n",
    "        else:\n",
    "            print(\"Invalid radius value. Must be greater than 0.\")"
   ]
  },
  {
   "cell_type": "markdown",
   "id": "280088c6-76ce-43a1-80c4-d26f06ed2cb0",
   "metadata": {},
   "source": [
    "#### 10. What is the purpose of abstract methods, and how do they enforce abstraction in Python classes?"
   ]
  },
  {
   "cell_type": "code",
   "execution_count": 31,
   "id": "51abeb94-a6ac-445b-bd1b-c4ebc90677d8",
   "metadata": {},
   "outputs": [],
   "source": [
    "from abc import ABC, abstractmethod\n",
    "\n",
    "class Shape(ABC):\n",
    "    @abstractmethod\n",
    "    def calculate_area(self):\n",
    "        pass\n",
    "\n",
    "    @abstractmethod\n",
    "    def display(self):\n",
    "        pass"
   ]
  },
  {
   "cell_type": "code",
   "execution_count": 32,
   "id": "702c923c-b8a0-49ed-ab57-4867d698244c",
   "metadata": {},
   "outputs": [],
   "source": [
    "class Circle(Shape):\n",
    "    def calculate_area(self):\n",
    "        return 3.14 * self.radius ** 2\n",
    "\n",
    "    def display(self):\n",
    "        print(f\"Circle with radius {self.radius}\")"
   ]
  },
  {
   "cell_type": "code",
   "execution_count": 33,
   "id": "cba3ea43-88d3-4442-9dde-a28e1f20960e",
   "metadata": {},
   "outputs": [],
   "source": [
    "class Rectangle(Shape):\n",
    "    def calculate_area(self):\n",
    "        return self.width * self.height\n",
    "\n",
    "    def display(self):\n",
    "        print(f\"Rectangle with width {self.width} and height {self.height}\")"
   ]
  },
  {
   "cell_type": "code",
   "execution_count": 34,
   "id": "fb2b3291-59ed-4f48-84db-e70c40956fda",
   "metadata": {},
   "outputs": [],
   "source": [
    "class Triangle(Shape):\n",
    "    def calculate_area(self):\n",
    "        return 0.5 * self.base * self.height\n",
    "\n",
    "    def display(self):\n",
    "        print(f\"Triangle with base {self.base} and height {self.height}\")"
   ]
  },
  {
   "cell_type": "markdown",
   "id": "1307b045-042a-49fc-9135-27722e016e1a",
   "metadata": {},
   "source": [
    "#### 11. Create a Python class for a vehicle system and demonstrate abstraction by defining common methods (e.g., `start()`, `stop()`) in an abstract base class."
   ]
  },
  {
   "cell_type": "code",
   "execution_count": 4,
   "id": "e5a30afd-87dc-415b-b34a-a58b22dd6c12",
   "metadata": {},
   "outputs": [
    {
     "name": "stdout",
     "output_type": "stream",
     "text": [
      "Toyota Camry is starting.\n",
      "Harley-Davidson Sportster is revving up.\n",
      "Toyota Camry is stopping.\n",
      "Harley-Davidson Sportster is shutting down.\n"
     ]
    }
   ],
   "source": [
    "from abc import ABC, abstractmethod\n",
    "\n",
    "class Vehicle(ABC):\n",
    "    def __init__(self, make, model):\n",
    "        self.make = make\n",
    "        self.model = model\n",
    "        self.is_running = False\n",
    "\n",
    "    @abstractmethod\n",
    "    def start(self):\n",
    "        pass\n",
    "\n",
    "    @abstractmethod\n",
    "    def stop(self):\n",
    "        pass\n",
    "\n",
    "class Car(Vehicle):\n",
    "    def start(self):\n",
    "        if not self.is_running:\n",
    "            print(f\"{self.make} {self.model} is starting.\")\n",
    "            self.is_running = True\n",
    "        else:\n",
    "            print(f\"{self.make} {self.model} is already running.\")\n",
    "\n",
    "    def stop(self):\n",
    "        if self.is_running:\n",
    "            print(f\"{self.make} {self.model} is stopping.\")\n",
    "            self.is_running = False\n",
    "        else:\n",
    "            print(f\"{self.make} {self.model} is already stopped.\")\n",
    "\n",
    "class Motorcycle(Vehicle):\n",
    "    def start(self):\n",
    "        if not self.is_running:\n",
    "            print(f\"{self.make} {self.model} is revving up.\")\n",
    "            self.is_running = True\n",
    "        else:\n",
    "            print(f\"{self.make} {self.model} is already running.\")\n",
    "\n",
    "    def stop(self):\n",
    "        if self.is_running:\n",
    "            print(f\"{self.make} {self.model} is shutting down.\")\n",
    "            self.is_running = False\n",
    "        else:\n",
    "            print(f\"{self.make} {self.model} is already stopped.\")\n",
    "\n",
    "# Example usage:\n",
    "car = Car(\"Toyota\", \"Camry\")\n",
    "motorcycle = Motorcycle(\"Harley-Davidson\", \"Sportster\")\n",
    "\n",
    "car.start()\n",
    "motorcycle.start()\n",
    "\n",
    "car.stop()\n",
    "motorcycle.stop()"
   ]
  },
  {
   "cell_type": "markdown",
   "id": "c0074f8b-577f-454b-810e-eaacb698ae9e",
   "metadata": {},
   "source": [
    "#### 12. Describe the use of abstract properties in Python and how they can be employed in abstract classes."
   ]
  },
  {
   "cell_type": "code",
   "execution_count": 5,
   "id": "a80ec8f5-9c22-4c79-935d-5e585bfe3a06",
   "metadata": {},
   "outputs": [
    {
     "name": "stdout",
     "output_type": "stream",
     "text": [
      "Car fuel type: Gasoline\n",
      "Motorcycle fuel type: Petrol\n"
     ]
    }
   ],
   "source": [
    "from abc import ABC, abstractmethod\n",
    "\n",
    "class Vehicle(ABC):\n",
    "    def __init__(self, make, model):\n",
    "        self.make = make\n",
    "        self.model = model\n",
    "\n",
    "    @property\n",
    "    @abstractmethod\n",
    "    def fuel_type(self):\n",
    "        pass\n",
    "    @abstractmethod\n",
    "    def start(self):\n",
    "        pass\n",
    "    @abstractmethod\n",
    "    def stop(self):\n",
    "        pass\n",
    "class Car(Vehicle):\n",
    "    def __init__(self, make, model, fuel_type):\n",
    "        super().__init__(make, model)\n",
    "        self._fuel_type = fuel_type\n",
    "    @property\n",
    "    def fuel_type(self):\n",
    "        return self._fuel_type\n",
    "\n",
    "    def start(self):\n",
    "        print(f\"{self.make} {self.model} is starting.\")\n",
    "\n",
    "    def stop(self):\n",
    "        print(f\"{self.make} {self.model} is stopping.\")\n",
    "class Motorcycle(Vehicle):\n",
    "    def __init__(self, make, model, fuel_type):\n",
    "        super().__init__(make, model)\n",
    "        self._fuel_type = fuel_type\n",
    "    @property\n",
    "    def fuel_type(self):\n",
    "        return self._fuel_type\n",
    "    \n",
    "    def start(self):\n",
    "        print(f\"{self.make} {self.model} is revving up.\")\n",
    "\n",
    "    def stop(self):\n",
    "        print(f\"{self.make} {self.model} is shutting down.\")\n",
    "# Example usage:\n",
    "car = Car(\"Toyota\", \"Camry\", \"Gasoline\")\n",
    "motorcycle = Motorcycle(\"Harley-Davidson\", \"Sportster\", \"Petrol\")\n",
    "print(f\"Car fuel type: {car.fuel_type}\")\n",
    "print(f\"Motorcycle fuel type: {motorcycle.fuel_type}\")"
   ]
  },
  {
   "cell_type": "markdown",
   "id": "a1d4b61d-4f8a-4925-b538-e6cf52634f04",
   "metadata": {},
   "source": [
    "#### 13. Create a Python class hierarchy for employees in a company (e.g., manager, developer, designer) and implement abstraction by defining a common `get_salary()` method."
   ]
  },
  {
   "cell_type": "code",
   "execution_count": 6,
   "id": "9feba8df-2074-4515-810b-5879bc5befdc",
   "metadata": {},
   "outputs": [
    {
     "name": "stdout",
     "output_type": "stream",
     "text": [
      "John Doe's salary: $70000\n",
      "Alice Smith's salary: $55000\n",
      "Bob Johnson's salary: $50000\n"
     ]
    }
   ],
   "source": [
    "from abc import ABC, abstractmethod\n",
    "\n",
    "class Employee(ABC):\n",
    "    def __init__(self, name, employee_id):\n",
    "        self.name = name\n",
    "        self.employee_id = employee_id\n",
    "\n",
    "    @abstractmethod\n",
    "    def get_salary(self):\n",
    "        pass\n",
    "\n",
    "class Manager(Employee):\n",
    "    def __init__(self, name, employee_id, base_salary, bonus):\n",
    "        super().__init__(name, employee_id)\n",
    "        self.base_salary = base_salary\n",
    "        self.bonus = bonus\n",
    "\n",
    "    def get_salary(self):\n",
    "        return self.base_salary + self.bonus\n",
    "\n",
    "class Developer(Employee):\n",
    "    def __init__(self, name, employee_id, base_salary, coding_languages):\n",
    "        super().__init__(name, employee_id)\n",
    "        self.base_salary = base_salary\n",
    "        self.coding_languages = coding_languages\n",
    "\n",
    "    def get_salary(self):\n",
    "        return self.base_salary\n",
    "\n",
    "class Designer(Employee):\n",
    "    def __init__(self, name, employee_id, base_salary, design_tools):\n",
    "        super().__init__(name, employee_id)\n",
    "        self.base_salary = base_salary\n",
    "        self.design_tools = design_tools\n",
    "\n",
    "    def get_salary(self):\n",
    "        return self.base_salary\n",
    "# Example usage:\n",
    "manager = Manager(\"John Doe\", 101, 60000, 10000)\n",
    "developer = Developer(\"Alice Smith\", 102, 55000, [\"Python\", \"JavaScript\"])\n",
    "designer = Designer(\"Bob Johnson\", 103, 50000, [\"Sketch\", \"Adobe XD\"])\n",
    "print(f\"{manager.name}'s salary: ${manager.get_salary()}\")\n",
    "print(f\"{developer.name}'s salary: ${developer.get_salary()}\")\n",
    "print(f\"{designer.name}'s salary: ${designer.get_salary()}\")"
   ]
  },
  {
   "cell_type": "markdown",
   "id": "9c428903-8400-41c8-99a3-4243091565fe",
   "metadata": {},
   "source": [
    "#### 14. Discuss the differences between abstract classes and concrete classes in Python, including their instantiation."
   ]
  },
  {
   "cell_type": "code",
   "execution_count": 7,
   "id": "b3a5e764-7b11-45ad-8c55-dfb4cc30c333",
   "metadata": {},
   "outputs": [
    {
     "name": "stdout",
     "output_type": "stream",
     "text": [
      "Square Area: 25\n",
      "Circle Area: 28.26\n"
     ]
    }
   ],
   "source": [
    "from abc import ABC, abstractmethod\n",
    "\n",
    "# Abstract Class\n",
    "class Shape(ABC):\n",
    "    @abstractmethod\n",
    "    def area(self):\n",
    "        pass\n",
    "\n",
    "# Concrete Classes\n",
    "class Square(Shape):\n",
    "    def __init__(self, side_length):\n",
    "        self.side_length = side_length\n",
    "\n",
    "    def area(self):\n",
    "        return self.side_length ** 2\n",
    "\n",
    "class Circle(Shape):\n",
    "    def __init__(self, radius):\n",
    "        self.radius = radius\n",
    "\n",
    "    def area(self):\n",
    "        return 3.14 * self.radius ** 2\n",
    "\n",
    "# Instantiation\n",
    "# You cannot instantiate an abstract class directly:\n",
    "# shape = Shape()  # This would raise an error\n",
    "\n",
    "# Instantiate concrete classes:\n",
    "square = Square(5)\n",
    "circle = Circle(3)\n",
    "print(f\"Square Area: {square.area()}\")  # Output: Square Area: 25\n",
    "print(f\"Circle Area: {circle.area()}\")  # Output: Circle Area: 28.26"
   ]
  },
  {
   "cell_type": "markdown",
   "id": "3908f389-afb9-4003-9607-b720bd20e792",
   "metadata": {},
   "source": [
    "#### 15. Explain the concept of abstract data types (ADTs) and their role in achieving abstraction in Python."
   ]
  },
  {
   "cell_type": "code",
   "execution_count": 8,
   "id": "db6d49b1-e6cc-4cac-af2a-9ac2f252d970",
   "metadata": {},
   "outputs": [
    {
     "name": "stdout",
     "output_type": "stream",
     "text": [
      "Stack: [1, 2, 3]\n",
      "Top of the stack: 3\n",
      "Popped item: 3\n",
      "Stack size: 2\n"
     ]
    }
   ],
   "source": [
    "class Stack:\n",
    "    def __init__(self):\n",
    "        self.items = []\n",
    "\n",
    "    def is_empty(self):\n",
    "        return len(self.items) == 0\n",
    "\n",
    "    def push(self, item):\n",
    "        self.items.append(item)\n",
    "\n",
    "    def pop(self):\n",
    "        if not self.is_empty():\n",
    "            return self.items.pop()\n",
    "        else:\n",
    "            raise IndexError(\"pop from an empty stack\")\n",
    "\n",
    "    def peek(self):\n",
    "        if not self.is_empty():\n",
    "            return self.items[-1]\n",
    "        else:\n",
    "            raise IndexError(\"peek from an empty stack\")\n",
    "\n",
    "    def size(self):\n",
    "        return len(self.items)\n",
    "# Example usage of the Stack ADT\n",
    "stack = Stack()\n",
    "stack.push(1)\n",
    "stack.push(2)\n",
    "stack.push(3)\n",
    "\n",
    "print(\"Stack:\", stack.items)\n",
    "print(\"Top of the stack:\", stack.peek())\n",
    "print(\"Popped item:\", stack.pop())\n",
    "print(\"Stack size:\", stack.size())"
   ]
  },
  {
   "cell_type": "markdown",
   "id": "3b05829e-0b0e-4fd1-bcd9-cd69be892c77",
   "metadata": {},
   "source": [
    "#### 16. Create a Python class for a computer system, demonstrating abstraction by defining common methods (e.g., `power_on()`, `shutdown()`) in an abstract base class."
   ]
  },
  {
   "cell_type": "code",
   "execution_count": 9,
   "id": "1dceca64-c94b-4f80-bad4-d28c35fe9cd7",
   "metadata": {},
   "outputs": [
    {
     "name": "stdout",
     "output_type": "stream",
     "text": [
      "Dell Inspiron desktop is powering on.\n",
      "HP Envy laptop is powering on.\n",
      "Dell Inspiron desktop is shutting down.\n",
      "HP Envy laptop is shutting down.\n"
     ]
    }
   ],
   "source": [
    "from abc import ABC, abstractmethod\n",
    "\n",
    "class ComputerSystem(ABC):\n",
    "    def __init__(self, brand, model):\n",
    "        self.brand = brand\n",
    "        self.model = model\n",
    "        self.is_powered_on = False\n",
    "\n",
    "    @abstractmethod\n",
    "    def power_on(self):\n",
    "        pass\n",
    "\n",
    "    @abstractmethod\n",
    "    def shutdown(self):\n",
    "        pass\n",
    "\n",
    "class DesktopComputer(ComputerSystem):\n",
    "    def power_on(self):\n",
    "        if not self.is_powered_on:\n",
    "            print(f\"{self.brand} {self.model} desktop is powering on.\")\n",
    "            self.is_powered_on = True\n",
    "        else:\n",
    "            print(f\"{self.brand} {self.model} desktop is already powered on.\")\n",
    "\n",
    "    def shutdown(self):\n",
    "        if self.is_powered_on:\n",
    "            print(f\"{self.brand} {self.model} desktop is shutting down.\")\n",
    "            self.is_powered_on = False\n",
    "        else:\n",
    "            print(f\"{self.brand} {self.model} desktop is already powered off.\")\n",
    "\n",
    "class Laptop(ComputerSystem):\n",
    "    def __init__(self, brand, model, battery_level):\n",
    "        super().__init__(brand, model)\n",
    "        self.battery_level = battery_level\n",
    "\n",
    "    def power_on(self):\n",
    "        if not self.is_powered_on:\n",
    "            print(f\"{self.brand} {self.model} laptop is powering on.\")\n",
    "            self.is_powered_on = True\n",
    "        else:\n",
    "            print(f\"{self.brand} {self.model} laptop is already powered on.\")\n",
    "\n",
    "    def shutdown(self):\n",
    "        if self.is_powered_on:\n",
    "            print(f\"{self.brand} {self.model} laptop is shutting down.\")\n",
    "            self.is_powered_on = False\n",
    "        else:\n",
    "            print(f\"{self.brand} {self.model} laptop is already powered off.\")\n",
    "\n",
    "# Example usage:\n",
    "desktop = DesktopComputer(\"Dell\", \"Inspiron\")\n",
    "laptop = Laptop(\"HP\", \"Envy\", battery_level=80)\n",
    "\n",
    "desktop.power_on()\n",
    "laptop.power_on()\n",
    "\n",
    "desktop.shutdown()\n",
    "laptop.shutdown()"
   ]
  },
  {
   "cell_type": "markdown",
   "id": "9c5e9c2b-3058-4714-9278-fd235058c36c",
   "metadata": {},
   "source": [
    "#### 17. Discuss the benefits of using abstraction in large-scale software development projects."
   ]
  },
  {
   "cell_type": "code",
   "execution_count": 13,
   "id": "d15647e4-600c-43df-80b9-7d4d91884a39",
   "metadata": {},
   "outputs": [
    {
     "name": "stdout",
     "output_type": "stream",
     "text": [
      "User 'john_doe' authenticated successfully.\n",
      "User 'john_doe' logged in.\n",
      "User 'john_doe' logged out.\n"
     ]
    }
   ],
   "source": [
    "from abc import ABC, abstractmethod\n",
    "\n",
    "class Authenticator(ABC):\n",
    "    @abstractmethod\n",
    "    def authenticate(self):\n",
    "        pass\n",
    "\n",
    "class SessionManager(ABC):\n",
    "    @abstractmethod\n",
    "    def log_user_in(self):\n",
    "        pass\n",
    "\n",
    "    @abstractmethod\n",
    "    def log_user_out(self):\n",
    "        pass\n",
    "\n",
    "class UserAuthentication(Authenticator, SessionManager):\n",
    "    def __init__(self, username, password):\n",
    "        self.username = username\n",
    "        self.password = password\n",
    "\n",
    "    def authenticate(self):\n",
    "        # Code for authenticating user against a database\n",
    "        # For simplicity, we'll just print a message indicating successful authentication\n",
    "        print(f\"User '{self.username}' authenticated successfully.\")\n",
    "\n",
    "    def log_user_in(self):\n",
    "        # Code for creating user session, setting cookies, etc.\n",
    "        # For simplicity, we'll just print a message indicating user login\n",
    "        print(f\"User '{self.username}' logged in.\")\n",
    "\n",
    "    def log_user_out(self):\n",
    "        # Code for destroying user session, clearing cookies, etc.\n",
    "        # For simplicity, we'll just print a message indicating user logout\n",
    "        print(f\"User '{self.username}' logged out.\")\n",
    "\n",
    "# Usage with abstraction\n",
    "auth = UserAuthentication(\"john_doe\", \"password123\")\n",
    "auth.authenticate()\n",
    "auth.log_user_in()\n",
    "auth.log_user_out()"
   ]
  },
  {
   "cell_type": "markdown",
   "id": "b8c23f1c-9eb3-40aa-95d9-e0673234f645",
   "metadata": {},
   "source": [
    "#### 18. Explain how abstraction enhances code reusability and modularity in Python programs."
   ]
  },
  {
   "cell_type": "code",
   "execution_count": 14,
   "id": "6fcf8af6-ee44-41e2-8a65-fd5d05794b25",
   "metadata": {},
   "outputs": [
    {
     "name": "stdout",
     "output_type": "stream",
     "text": [
      "Area of the shape: 50\n",
      "Area of the shape: 28.26\n"
     ]
    }
   ],
   "source": [
    "from abc import ABC, abstractmethod\n",
    "\n",
    "# Abstract class representing a geometric shape\n",
    "class Shape(ABC):\n",
    "    @abstractmethod\n",
    "    def calculate_area(self):\n",
    "        pass\n",
    "\n",
    "# Concrete class for a rectangle\n",
    "class Rectangle(Shape):\n",
    "    def __init__(self, width, height):\n",
    "        self.width = width\n",
    "        self.height = height\n",
    "\n",
    "    def calculate_area(self):\n",
    "        return self.width * self.height\n",
    "\n",
    "# Concrete class for a circle\n",
    "class Circle(Shape):\n",
    "    def __init__(self, radius):\n",
    "        self.radius = radius\n",
    "\n",
    "    def calculate_area(self):\n",
    "        return 3.14 * self.radius ** 2\n",
    "\n",
    "# Function that uses shapes without knowing their specific implementations\n",
    "def print_area(shape):\n",
    "    print(f\"Area of the shape: {shape.calculate_area()}\")\n",
    "\n",
    "# Usage of abstraction and code reusability\n",
    "rectangle = Rectangle(5, 10)\n",
    "circle = Circle(3)\n",
    "\n",
    "print_area(rectangle)  # Output: Area of the shape: 50\n",
    "print_area(circle)     # Output: Area of the shape: 28.26"
   ]
  },
  {
   "cell_type": "markdown",
   "id": "db139865-b07a-4eed-b9de-124fc1e17b19",
   "metadata": {},
   "source": [
    "#### 19. Create a Python class for a library system, implementing abstraction by defining common methods (e.g., `add_book()`, `borrow_book()`) in an abstract base class."
   ]
  },
  {
   "cell_type": "code",
   "execution_count": 2,
   "id": "3d1e5907-0249-42e0-80fa-94143d774888",
   "metadata": {},
   "outputs": [
    {
     "name": "stdout",
     "output_type": "stream",
     "text": [
      "Added 'The Great Gatsby' by F. Scott Fitzgerald to the public library.\n",
      "Added 'To Kill a Mockingbird' by Harper Lee to the public library.\n",
      "Added 'Introduction to Python' by John Doe to the school library.\n",
      "Added 'Algebra Basics' by Jane Smith to the school library.\n",
      "Library Catalog:\n",
      "The Great Gatsby by F. Scott Fitzgerald\n",
      "To Kill a Mockingbird by Harper Lee\n",
      "Library Catalog:\n",
      "Introduction to Python by John Doe\n",
      "Algebra Basics by Jane Smith\n",
      "Borrowed 'The Great Gatsby' from the public library.\n",
      "Borrowed 'Introduction to Python' from the school library.\n",
      "Library Catalog:\n",
      "To Kill a Mockingbird by Harper Lee\n",
      "Library Catalog:\n",
      "Algebra Basics by Jane Smith\n",
      "Returned 'The Great Gatsby' to the public library.\n",
      "Returned 'Introduction to Python' to the school library.\n",
      "Library Catalog:\n",
      "To Kill a Mockingbird by Harper Lee\n",
      "The Great Gatsby by Unknown\n",
      "Library Catalog:\n",
      "Algebra Basics by Jane Smith\n",
      "Introduction to Python by Unknown\n"
     ]
    }
   ],
   "source": [
    "from abc import ABC, abstractmethod\n",
    "\n",
    "class LibrarySystem(ABC):\n",
    "    def __init__(self):\n",
    "        self.books = {}\n",
    "\n",
    "    @abstractmethod\n",
    "    def add_book(self, book_title, author):\n",
    "        pass\n",
    "\n",
    "    @abstractmethod\n",
    "    def borrow_book(self, book_title):\n",
    "        pass\n",
    "\n",
    "    @abstractmethod\n",
    "    def return_book(self, book_title):\n",
    "        pass\n",
    "\n",
    "    def display_books(self):\n",
    "        print(\"Library Catalog:\")\n",
    "        for title, author in self.books.items():\n",
    "            print(f\"{title} by {author}\")\n",
    "\n",
    "class PublicLibrary(LibrarySystem):\n",
    "    def add_book(self, book_title, author):\n",
    "        if book_title not in self.books:\n",
    "            self.books[book_title] = author\n",
    "            print(f\"Added '{book_title}' by {author} to the public library.\")\n",
    "\n",
    "    def borrow_book(self, book_title):\n",
    "        if book_title in self.books:\n",
    "            print(f\"Borrowed '{book_title}' from the public library.\")\n",
    "            del self.books[book_title]\n",
    "        else:\n",
    "            print(f\"Sorry, '{book_title}' is not available in the public library.\")\n",
    "\n",
    "    def return_book(self, book_title):\n",
    "        self.books[book_title] = \"Unknown\"\n",
    "        print(f\"Returned '{book_title}' to the public library.\")\n",
    "\n",
    "class SchoolLibrary(LibrarySystem):\n",
    "    def add_book(self, book_title, author):\n",
    "        if book_title not in self.books:\n",
    "            self.books[book_title] = author\n",
    "            print(f\"Added '{book_title}' by {author} to the school library.\")\n",
    "\n",
    "    def borrow_book(self, book_title):\n",
    "        if book_title in self.books:\n",
    "            print(f\"Borrowed '{book_title}' from the school library.\")\n",
    "            del self.books[book_title]\n",
    "        else:\n",
    "            print(f\"Sorry, '{book_title}' is not available in the school library.\")\n",
    "\n",
    "    def return_book(self, book_title):\n",
    "        self.books[book_title] = \"Unknown\"\n",
    "        print(f\"Returned '{book_title}' to the school library.\")\n",
    "\n",
    "# Example usage:\n",
    "public_library = PublicLibrary()\n",
    "school_library = SchoolLibrary()\n",
    "\n",
    "# Add books to the libraries\n",
    "public_library.add_book(\"The Great Gatsby\", \"F. Scott Fitzgerald\")\n",
    "public_library.add_book(\"To Kill a Mockingbird\", \"Harper Lee\")\n",
    "school_library.add_book(\"Introduction to Python\", \"John Doe\")\n",
    "school_library.add_book(\"Algebra Basics\", \"Jane Smith\")\n",
    "\n",
    "# Display available books in each library\n",
    "public_library.display_books()\n",
    "school_library.display_books()\n",
    "\n",
    "# Borrow and return books\n",
    "public_library.borrow_book(\"The Great Gatsby\")\n",
    "school_library.borrow_book(\"Introduction to Python\")\n",
    "\n",
    "public_library.display_books()\n",
    "school_library.display_books()\n",
    "\n",
    "public_library.return_book(\"The Great Gatsby\")\n",
    "school_library.return_book(\"Introduction to Python\")\n",
    "\n",
    "public_library.display_books()\n",
    "school_library.display_books()"
   ]
  },
  {
   "cell_type": "markdown",
   "id": "ccb6bb37-998f-455c-96af-a82c6bfd8e15",
   "metadata": {},
   "source": [
    "#### 20. Describe the concept of method abstraction in Python and how it relates to polymorphism."
   ]
  },
  {
   "cell_type": "code",
   "execution_count": 16,
   "id": "404a2c3f-9e22-4767-81b7-e19e2c46bd46",
   "metadata": {},
   "outputs": [],
   "source": [
    "from abc import ABC, abstractmethod\n",
    "\n",
    "class Shape(ABC):\n",
    "    @abstractmethod\n",
    "    def calculate_area(self):\n",
    "        pass\n",
    "\n",
    "    def display_info(self):\n",
    "        print(\"This is a shape.\")\n",
    "\n",
    "class Circle(Shape):\n",
    "    def __init__(self, radius):\n",
    "        self.radius = radius\n",
    "\n",
    "    def calculate_area(self):\n",
    "        return 3.14 * self.radius ** 2\n",
    "\n",
    "class Square(Shape):\n",
    "    def __init__(self, side_length):\n",
    "        self.side_length = side_length\n",
    "\n",
    "    def calculate_area(self):\n",
    "        return self.side_length ** 2"
   ]
  },
  {
   "cell_type": "markdown",
   "id": "4c7e7c42-6067-4658-96f7-e3b3650a04c7",
   "metadata": {},
   "source": [
    "### Composition:"
   ]
  },
  {
   "cell_type": "markdown",
   "id": "2a25c96b-2e0b-4a4d-835c-9a5f791b8df7",
   "metadata": {},
   "source": [
    "#### 1. Explain the concept of composition in Python and how it is used to build complex objects from simpler ones."
   ]
  },
  {
   "cell_type": "code",
   "execution_count": 1,
   "id": "65dfc349-9036-4cac-af61-a9750bec306d",
   "metadata": {},
   "outputs": [
    {
     "name": "stdout",
     "output_type": "stream",
     "text": [
      "Toyota Camry is starting.\n",
      "Engine started\n"
     ]
    }
   ],
   "source": [
    "class Engine:\n",
    "    def __init__(self, fuel_type):\n",
    "        self.fuel_type = fuel_type\n",
    "\n",
    "    def start(self):\n",
    "        print(\"Engine started\")\n",
    "\n",
    "class Car:\n",
    "    def __init__(self, make, model, fuel_type):\n",
    "        self.make = make\n",
    "        self.model = model\n",
    "        # Composition: Creating an instance of the Engine class inside the Car class\n",
    "        self.engine = Engine(fuel_type)\n",
    "\n",
    "    def start(self):\n",
    "        print(f\"{self.make} {self.model} is starting.\")\n",
    "        # Delegating the start operation to the Engine instance\n",
    "        self.engine.start()\n",
    "\n",
    "# Example usage:\n",
    "my_car = Car(make=\"Toyota\", model=\"Camry\", fuel_type=\"Gasoline\")\n",
    "my_car.start()"
   ]
  },
  {
   "cell_type": "markdown",
   "id": "6b6348d3-5f9f-47b7-8e43-da28dffca4f5",
   "metadata": {},
   "source": [
    "#### 2. Describe the difference between composition and inheritance in object-oriented programming."
   ]
  },
  {
   "cell_type": "code",
   "execution_count": 3,
   "id": "02c0f2bb-a0e5-4d75-85a8-891e6ee281a4",
   "metadata": {},
   "outputs": [
    {
     "name": "stdout",
     "output_type": "stream",
     "text": [
      "Engine started\n",
      "Car is moving\n",
      "Engine started\n",
      "Motorcycle is riding\n"
     ]
    }
   ],
   "source": [
    "class Engine:\n",
    "    def start(self):\n",
    "        print(\"Engine started\")\n",
    "\n",
    "class Car(Engine):\n",
    "    def drive(self):\n",
    "        print(\"Car is moving\")\n",
    "\n",
    "class Motorcycle(Engine):\n",
    "    def ride(self):\n",
    "        print(\"Motorcycle is riding\")\n",
    "\n",
    "# Example usage:\n",
    "car = Car()\n",
    "car.start()  # Inherited from Engine\n",
    "car.drive()  # Specific to Car\n",
    "\n",
    "motorcycle = Motorcycle()\n",
    "motorcycle.start()  # Inherited from Engine\n",
    "motorcycle.ride()   # Specific to Motorcycle"
   ]
  },
  {
   "cell_type": "code",
   "execution_count": 4,
   "id": "8485986f-55ee-4ec1-9e38-2fe2b309b047",
   "metadata": {},
   "outputs": [
    {
     "name": "stdout",
     "output_type": "stream",
     "text": [
      "Engine started\n",
      "Car is moving\n",
      "Engine started\n",
      "Motorcycle is riding\n"
     ]
    }
   ],
   "source": [
    "class Engine:\n",
    "    def start(self):\n",
    "        print(\"Engine started\")\n",
    "\n",
    "class Car:\n",
    "    def __init__(self):\n",
    "        self.engine = Engine()  # Composition: Car has an Engine\n",
    "\n",
    "    def drive(self):\n",
    "        print(\"Car is moving\")\n",
    "\n",
    "class Motorcycle:\n",
    "    def __init__(self):\n",
    "        self.engine = Engine()  # Composition: Motorcycle has an Engine\n",
    "\n",
    "    def ride(self):\n",
    "        print(\"Motorcycle is riding\")\n",
    "\n",
    "# Example usage:\n",
    "car = Car()\n",
    "car.engine.start()  # Utilizing the Engine functionality through composition\n",
    "car.drive()\n",
    "\n",
    "motorcycle = Motorcycle()\n",
    "motorcycle.engine.start()  # Utilizing the Engine functionality through composition\n",
    "motorcycle.ride()"
   ]
  },
  {
   "cell_type": "markdown",
   "id": "64762e48-2a6c-431f-af93-6f3c7bffac28",
   "metadata": {},
   "source": [
    "#### 3. Create a Python class called `Author` with attributes for name and birthdate. Then, create a `Book` class that contains an instance of `Author` as a composition. Provide an example of creating a `Book` object."
   ]
  },
  {
   "cell_type": "code",
   "execution_count": 5,
   "id": "eefe47fb-fdc3-4318-8182-f2f4eaedaf1f",
   "metadata": {},
   "outputs": [
    {
     "name": "stdout",
     "output_type": "stream",
     "text": [
      "Title: Python Programming\n",
      "Genre: Technical\n",
      "Author: John Doe, Birthdate: January 1, 1980\n"
     ]
    }
   ],
   "source": [
    "class Author:\n",
    "    def __init__(self, name, birthdate):\n",
    "        self.name = name\n",
    "        self.birthdate = birthdate\n",
    "\n",
    "    def display_info(self):\n",
    "        print(f\"Author: {self.name}, Birthdate: {self.birthdate}\")\n",
    "\n",
    "class Book:\n",
    "    def __init__(self, title, genre, author):\n",
    "        self.title = title\n",
    "        self.genre = genre\n",
    "        self.author = author  # Composition: Book has an Author\n",
    "\n",
    "    def display_info(self):\n",
    "        print(f\"Title: {self.title}\")\n",
    "        print(f\"Genre: {self.genre}\")\n",
    "        self.author.display_info()  # Utilizing Author's display_info method through composition\n",
    "\n",
    "# Example usage:\n",
    "author1 = Author(name=\"John Doe\", birthdate=\"January 1, 1980\")\n",
    "book1 = Book(title=\"Python Programming\", genre=\"Technical\", author=author1)\n",
    "\n",
    "# Displaying information about the book and its author\n",
    "book1.display_info()"
   ]
  },
  {
   "cell_type": "markdown",
   "id": "73da71c6-7587-4cc0-a18b-186457b5dfa0",
   "metadata": {},
   "source": [
    "#### 4. Discuss the benefits of using composition over inheritance in Python, especially in terms of code flexibility and reusability."
   ]
  },
  {
   "cell_type": "code",
   "execution_count": 6,
   "id": "176782c9-5d12-4f7a-9644-8d0715cea54e",
   "metadata": {},
   "outputs": [],
   "source": [
    "class Shape:\n",
    "    def area(self):\n",
    "        pass\n",
    "\n",
    "class Circle(Shape):\n",
    "    def __init__(self, radius):\n",
    "        self.radius = radius\n",
    "\n",
    "    def area(self):\n",
    "        return 3.14 * self.radius**2\n",
    "\n",
    "class Square(Shape):\n",
    "    def __init__(self, side_length):\n",
    "        self.side_length = side_length\n",
    "\n",
    "    def area(self):\n",
    "        return self.side_length**2"
   ]
  },
  {
   "cell_type": "code",
   "execution_count": 8,
   "id": "d743b16f-a33e-40ea-8ee2-820790dbc8d0",
   "metadata": {},
   "outputs": [
    {
     "name": "stdout",
     "output_type": "stream",
     "text": [
      "Circle Area: 78.5\n",
      "Square Area: 16\n"
     ]
    }
   ],
   "source": [
    "class Circle:\n",
    "    def __init__(self, radius):\n",
    "        self.radius = radius\n",
    "\n",
    "    def area(self):\n",
    "        return 3.14 * self.radius**2\n",
    "\n",
    "class Square:\n",
    "    def __init__(self, side_length):\n",
    "        self.side_length = side_length\n",
    "\n",
    "    def area(self):\n",
    "        return self.side_length**2\n",
    "\n",
    "class ShapeCalculator:\n",
    "    def __init__(self, shape):\n",
    "        self.shape = shape\n",
    "\n",
    "    def calculate_area(self):\n",
    "        return self.shape.area()\n",
    "circle = Circle(radius=5)\n",
    "square = Square(side_length=4)\n",
    "\n",
    "calculator_circle = ShapeCalculator(shape=circle)\n",
    "calculator_square = ShapeCalculator(shape=square)\n",
    "\n",
    "print(\"Circle Area:\", calculator_circle.calculate_area())\n",
    "print(\"Square Area:\", calculator_square.calculate_area())"
   ]
  },
  {
   "cell_type": "markdown",
   "id": "ea5f7e09-9ede-414e-893a-825f02b3ca4c",
   "metadata": {},
   "source": [
    "#### 5. How can you implement composition in Python classes? Provide examples of using composition to create complex objects."
   ]
  },
  {
   "cell_type": "code",
   "execution_count": 9,
   "id": "551f4529-2bce-46c1-b14d-58eba3c7fecb",
   "metadata": {},
   "outputs": [
    {
     "name": "stdout",
     "output_type": "stream",
     "text": [
      "Car is moving.\n",
      "Engine started\n",
      "Gear shifted\n",
      "Wheels rotating\n"
     ]
    }
   ],
   "source": [
    "class Engine:\n",
    "    def start(self):\n",
    "        print(\"Engine started\")\n",
    "\n",
    "class Transmission:\n",
    "    def shift_gear(self):\n",
    "        print(\"Gear shifted\")\n",
    "\n",
    "class Wheels:\n",
    "    def rotate(self):\n",
    "        print(\"Wheels rotating\")\n",
    "\n",
    "class Car:\n",
    "    def __init__(self):\n",
    "        # Composition: Car has an Engine, Transmission, and Wheels\n",
    "        self.engine = Engine()\n",
    "        self.transmission = Transmission()\n",
    "        self.wheels = Wheels()\n",
    "\n",
    "    def drive(self):\n",
    "        print(\"Car is moving.\")\n",
    "        self.engine.start()\n",
    "        self.transmission.shift_gear()\n",
    "        self.wheels.rotate()\n",
    "\n",
    "# Example usage:\n",
    "my_car = Car()\n",
    "my_car.drive()"
   ]
  },
  {
   "cell_type": "markdown",
   "id": "b012cc1d-b6df-4a85-bf6e-f472a2989e0d",
   "metadata": {},
   "source": [
    "#### 6. Create a Python class hierarchy for a music player system, using composition to represent playlists and songs."
   ]
  },
  {
   "cell_type": "code",
   "execution_count": 10,
   "id": "708092da-11b7-4624-86d4-50dcfe3628f4",
   "metadata": {},
   "outputs": [
    {
     "name": "stdout",
     "output_type": "stream",
     "text": [
      "Playing all playlists:\n",
      "Playing playlist: My Favorites\n",
      "Playing: Song 1 by Artist 1 (180 seconds)\n",
      "Playing: Song 2 by Artist 2 (200 seconds)\n",
      "Playing playlist: Rock Classics\n",
      "Playing: Song 3 by Artist 3 (150 seconds)\n",
      "Playing: Song 4 by Artist 4 (220 seconds)\n"
     ]
    }
   ],
   "source": [
    "class Song:\n",
    "    def __init__(self, title, artist, duration):\n",
    "        self.title = title\n",
    "        self.artist = artist\n",
    "        self.duration = duration\n",
    "\n",
    "    def play(self):\n",
    "        print(f\"Playing: {self.title} by {self.artist} ({self.duration} seconds)\")\n",
    "\n",
    "\n",
    "class Playlist:\n",
    "    def __init__(self, name):\n",
    "        self.name = name\n",
    "        self.songs = []  # List to store Song objects\n",
    "\n",
    "    def add_song(self, song):\n",
    "        self.songs.append(song)\n",
    "\n",
    "    def play_all(self):\n",
    "        print(f\"Playing playlist: {self.name}\")\n",
    "        for song in self.songs:\n",
    "            song.play()\n",
    "\n",
    "\n",
    "class MusicPlayer:\n",
    "    def __init__(self):\n",
    "        self.playlists = []  # List to store Playlist objects\n",
    "\n",
    "    def add_playlist(self, playlist):\n",
    "        self.playlists.append(playlist)\n",
    "\n",
    "    def play_all_playlists(self):\n",
    "        print(\"Playing all playlists:\")\n",
    "        for playlist in self.playlists:\n",
    "            playlist.play_all()\n",
    "\n",
    "\n",
    "# Example usage:\n",
    "song1 = Song(\"Song 1\", \"Artist 1\", 180)\n",
    "song2 = Song(\"Song 2\", \"Artist 2\", 200)\n",
    "\n",
    "playlist1 = Playlist(\"My Favorites\")\n",
    "playlist1.add_song(song1)\n",
    "playlist1.add_song(song2)\n",
    "\n",
    "song3 = Song(\"Song 3\", \"Artist 3\", 150)\n",
    "song4 = Song(\"Song 4\", \"Artist 4\", 220)\n",
    "\n",
    "playlist2 = Playlist(\"Rock Classics\")\n",
    "playlist2.add_song(song3)\n",
    "playlist2.add_song(song4)\n",
    "\n",
    "music_player = MusicPlayer()\n",
    "music_player.add_playlist(playlist1)\n",
    "music_player.add_playlist(playlist2)\n",
    "# Play all playlists\n",
    "music_player.play_all_playlists()"
   ]
  },
  {
   "cell_type": "markdown",
   "id": "e5748bf1-0aa5-4c6a-9bf6-e2b32e7f846e",
   "metadata": {},
   "source": [
    "#### 7. Explain the concept of \"has-a\" relationships in composition and how it helps design software systems."
   ]
  },
  {
   "cell_type": "code",
   "execution_count": null,
   "id": "525f4d28-18f9-477c-83fe-bf3a1559955a",
   "metadata": {},
   "outputs": [],
   "source": [
    "class Song:\n",
    "    # Song class implementation...\n",
    "\n",
    "class Playlist:\n",
    "    def __init__(self, name):\n",
    "        self.name = name\n",
    "        self.songs = []  # List of Song objects (\"Has-A\" relationship)\n",
    "\n",
    "    def add_song(self, song):\n",
    "        self.songs.append(song)\n"
   ]
  },
  {
   "cell_type": "markdown",
   "id": "13881661-420b-4e45-8c46-c83b049123cb",
   "metadata": {},
   "source": [
    "#### 8. Create a Python class for a computer system, using composition to represent components like CPU, RAM, and storage devices."
   ]
  },
  {
   "cell_type": "code",
   "execution_count": 13,
   "id": "17cf6571-e0a2-442d-a606-a93baaae958f",
   "metadata": {},
   "outputs": [
    {
     "name": "stdout",
     "output_type": "stream",
     "text": [
      "Computer executing program.\n",
      "Intel CPU processing data at 2.5 GHz\n",
      "RAM with 8 GB storing data\n",
      "Storage with 256 GB reading data\n"
     ]
    }
   ],
   "source": [
    "class CPU:\n",
    "    def __init__(self, brand, speed):\n",
    "        self.brand = brand\n",
    "        self.speed = speed\n",
    "\n",
    "    def process_data(self):\n",
    "        print(f\"{self.brand} CPU processing data at {self.speed} GHz\")\n",
    "\n",
    "\n",
    "class RAM:\n",
    "    def __init__(self, capacity):\n",
    "        self.capacity = capacity\n",
    "\n",
    "    def store_data(self):\n",
    "        print(f\"RAM with {self.capacity} GB storing data\")\n",
    "\n",
    "\n",
    "class Storage:\n",
    "    def __init__(self, capacity):\n",
    "        self.capacity = capacity\n",
    "\n",
    "    def read_data(self):\n",
    "        print(f\"Storage with {self.capacity} GB reading data\")\n",
    "\n",
    "\n",
    "class Computer:\n",
    "    def __init__(self, cpu, ram, storage):\n",
    "        self.cpu = cpu  # \"Has-A\" relationship\n",
    "        self.ram = ram  # \"Has-A\" relationship\n",
    "        self.storage = storage  # \"Has-A\" relationship\n",
    "\n",
    "    def execute_program(self):\n",
    "        print(\"Computer executing program.\")\n",
    "        self.cpu.process_data()\n",
    "        self.ram.store_data()\n",
    "        self.storage.read_data()\n",
    "\n",
    "\n",
    "# Example usage:\n",
    "my_cpu = CPU(brand=\"Intel\", speed=2.5)\n",
    "my_ram = RAM(capacity=8)\n",
    "my_storage = Storage(capacity=256)\n",
    "\n",
    "my_computer = Computer(cpu=my_cpu, ram=my_ram, storage=my_storage)\n",
    "my_computer.execute_program()"
   ]
  },
  {
   "cell_type": "markdown",
   "id": "6250e466-892e-4669-8179-c3a147e07f85",
   "metadata": {},
   "source": [
    "#### 9. Describe the concept of \"delegation\" in composition and how it simplifies the design of complex systems."
   ]
  },
  {
   "cell_type": "code",
   "execution_count": 14,
   "id": "bea95280-9139-4421-93b3-b19ea0373b94",
   "metadata": {},
   "outputs": [
    {
     "name": "stdout",
     "output_type": "stream",
     "text": [
      "Printing: Sample Document\n"
     ]
    }
   ],
   "source": [
    "class PrintEngine:\n",
    "    def print_document(self, document):\n",
    "        print(f\"Printing: {document}\")\n",
    "\n",
    "class Printer:\n",
    "    def __init__(self):\n",
    "        self.print_engine = PrintEngine()  # Delegation: Printer has a PrintEngine\n",
    "\n",
    "    def print_document(self, document):\n",
    "        # Delegating the printing task to PrintEngine\n",
    "        self.print_engine.print_document(document)\n",
    "\n",
    "# Example usage:\n",
    "my_printer = Printer()\n",
    "my_printer.print_document(\"Sample Document\")"
   ]
  },
  {
   "cell_type": "markdown",
   "id": "23f7b5dc-7196-49f7-a49a-fba7cb53f0d2",
   "metadata": {},
   "source": [
    "#### 10. Create a Python class for a car, using composition to represent components like the engine, wheels, and transmission."
   ]
  },
  {
   "cell_type": "code",
   "execution_count": 15,
   "id": "32a41193-ccc9-4e10-bd10-6d419b91a360",
   "metadata": {},
   "outputs": [
    {
     "name": "stdout",
     "output_type": "stream",
     "text": [
      "Toyota Camry is on the move.\n",
      "Engine started\n",
      "Gear shifted (Automatic transmission)\n",
      "Wheels rotating (size: 17)\n"
     ]
    }
   ],
   "source": [
    "class Engine:\n",
    "    def __init__(self, fuel_type):\n",
    "        self.fuel_type = fuel_type\n",
    "\n",
    "    def start(self):\n",
    "        print(\"Engine started\")\n",
    "\n",
    "class Wheels:\n",
    "    def __init__(self, size):\n",
    "        self.size = size\n",
    "\n",
    "    def rotate(self):\n",
    "        print(f\"Wheels rotating (size: {self.size})\")\n",
    "\n",
    "class Transmission:\n",
    "    def __init__(self, transmission_type):\n",
    "        self.transmission_type = transmission_type\n",
    "\n",
    "    def shift_gear(self):\n",
    "        print(f\"Gear shifted ({self.transmission_type} transmission)\")\n",
    "\n",
    "class Car:\n",
    "    def __init__(self, make, model, fuel_type, wheel_size, transmission_type):\n",
    "        self.make = make\n",
    "        self.model = model\n",
    "        # Composition: Car has an Engine, Wheels, and Transmission\n",
    "        self.engine = Engine(fuel_type)\n",
    "        self.wheels = Wheels(size=wheel_size)\n",
    "        self.transmission = Transmission(transmission_type)\n",
    "\n",
    "    def drive(self):\n",
    "        print(f\"{self.make} {self.model} is on the move.\")\n",
    "        self.engine.start()\n",
    "        self.transmission.shift_gear()\n",
    "        self.wheels.rotate()\n",
    "\n",
    "# Example usage:\n",
    "my_car = Car(make=\"Toyota\", model=\"Camry\", fuel_type=\"Gasoline\", wheel_size=17, transmission_type=\"Automatic\")\n",
    "my_car.drive()"
   ]
  },
  {
   "cell_type": "markdown",
   "id": "bc629459-328d-431b-ab5c-680259434d53",
   "metadata": {},
   "source": [
    "#### 11. How can you encapsulate and hide the details of composed objects in Python classes to maintain abstraction?"
   ]
  },
  {
   "cell_type": "code",
   "execution_count": 1,
   "id": "38dab9fe-d3a8-4265-9081-3c96a74f0e68",
   "metadata": {},
   "outputs": [
    {
     "name": "stdout",
     "output_type": "stream",
     "text": [
      "value\n"
     ]
    }
   ],
   "source": [
    "from abc import ABC, abstractmethod\n",
    "\n",
    "class AbstractComposedObject(ABC):\n",
    "    @abstractmethod\n",
    "    def add_detail(self, key, value):\n",
    "        pass\n",
    "\n",
    "    @abstractmethod\n",
    "    def get_detail(self, key):\n",
    "        pass\n",
    "\n",
    "# Concrete implementation\n",
    "class ConcreteComposedObject(AbstractComposedObject):\n",
    "    def __init__(self):\n",
    "        self.__details = {}\n",
    "\n",
    "    def add_detail(self, key, value):\n",
    "        self.__details[key] = value\n",
    "\n",
    "    def get_detail(self, key):\n",
    "        return self.__details.get(key)\n",
    "\n",
    "# Example usage\n",
    "obj = ConcreteComposedObject()\n",
    "obj.add_detail('key', 'value')\n",
    "print(obj.get_detail('key'))  # Output: value"
   ]
  },
  {
   "cell_type": "markdown",
   "id": "87e9ad85-c788-4953-a026-e97048f7d448",
   "metadata": {},
   "source": [
    "#### 12. Create a Python class for a university course, using composition to represent students, instructors, and course materials."
   ]
  },
  {
   "cell_type": "code",
   "execution_count": 2,
   "id": "9d940a87-9ba0-47e8-bcb2-a170d6a78fa0",
   "metadata": {},
   "outputs": [
    {
     "name": "stdout",
     "output_type": "stream",
     "text": [
      "Course: Python Programming\n",
      "Instructor: Instructor: Dr. Smith, ID: I001\n",
      "Students:\n",
      "- Student: Alice, ID: S001\n",
      "- Student: Bob, ID: S002\n",
      "Course Materials:\n",
      "- Course Material: Lecture 1\n",
      "- Course Material: Lecture 2\n",
      "\n"
     ]
    }
   ],
   "source": [
    "class Student:\n",
    "    def __init__(self, name, student_id):\n",
    "        self.name = name\n",
    "        self.student_id = student_id\n",
    "\n",
    "    def __str__(self):\n",
    "        return f\"Student: {self.name}, ID: {self.student_id}\"\n",
    "\n",
    "class Instructor:\n",
    "    def __init__(self, name, instructor_id):\n",
    "        self.name = name\n",
    "        self.instructor_id = instructor_id\n",
    "\n",
    "    def __str__(self):\n",
    "        return f\"Instructor: {self.name}, ID: {self.instructor_id}\"\n",
    "\n",
    "class CourseMaterial:\n",
    "    def __init__(self, title, content):\n",
    "        self.title = title\n",
    "        self.content = content\n",
    "\n",
    "    def __str__(self):\n",
    "        return f\"Course Material: {self.title}\"\n",
    "\n",
    "class UniversityCourse:\n",
    "    def __init__(self, course_name, instructor, students, course_materials):\n",
    "        self.course_name = course_name\n",
    "        self.instructor = instructor\n",
    "        self.students = students\n",
    "        self.course_materials = course_materials\n",
    "\n",
    "    def __str__(self):\n",
    "        info = f\"Course: {self.course_name}\\n\"\n",
    "        info += f\"Instructor: {self.instructor}\\n\"\n",
    "        info += \"Students:\\n\"\n",
    "        for student in self.students:\n",
    "            info += f\"- {student}\\n\"\n",
    "        info += \"Course Materials:\\n\"\n",
    "        for material in self.course_materials:\n",
    "            info += f\"- {material}\\n\"\n",
    "        return info\n",
    "\n",
    "# Example Usage:\n",
    "student1 = Student(\"Alice\", \"S001\")\n",
    "student2 = Student(\"Bob\", \"S002\")\n",
    "instructor = Instructor(\"Dr. Smith\", \"I001\")\n",
    "material1 = CourseMaterial(\"Lecture 1\", \"Introduction to Python\")\n",
    "material2 = CourseMaterial(\"Lecture 2\", \"Data Structures in Python\")\n",
    "\n",
    "students = [student1, student2]\n",
    "course_materials = [material1, material2]\n",
    "\n",
    "python_course = UniversityCourse(\"Python Programming\", instructor, students, course_materials)\n",
    "\n",
    "print(python_course)"
   ]
  },
  {
   "cell_type": "markdown",
   "id": "e9b6f836-554d-4dd3-9627-deb0e5d523ad",
   "metadata": {},
   "source": [
    "#### 13. Discuss the challenges and drawbacks of composition, such as increased complexity and potential for tight coupling between objects."
   ]
  },
  {
   "cell_type": "code",
   "execution_count": 3,
   "id": "9375e50c-9c8e-449c-a91b-a4fbb27e40b7",
   "metadata": {},
   "outputs": [
    {
     "name": "stdout",
     "output_type": "stream",
     "text": [
      "Engine started\n",
      "Wheel rotating\n",
      "Wheel rotating\n",
      "Wheel rotating\n",
      "Wheel rotating\n",
      "Car started\n",
      "Engine stopped\n",
      "Car stopped\n",
      "Fuel tank refueled\n",
      "Car refueled\n"
     ]
    }
   ],
   "source": [
    "class Engine:\n",
    "    def start(self):\n",
    "        print(\"Engine started\")\n",
    "\n",
    "    def stop(self):\n",
    "        print(\"Engine stopped\")\n",
    "\n",
    "class Wheel:\n",
    "    def rotate(self):\n",
    "        print(\"Wheel rotating\")\n",
    "\n",
    "class FuelTank:\n",
    "    def refuel(self):\n",
    "        print(\"Fuel tank refueled\")\n",
    "\n",
    "class Car:\n",
    "    def __init__(self):\n",
    "        self.engine = Engine()\n",
    "        self.wheels = [Wheel() for _ in range(4)]\n",
    "        self.fuel_tank = FuelTank()\n",
    "\n",
    "    def start(self):\n",
    "        self.engine.start()\n",
    "        for wheel in self.wheels:\n",
    "            wheel.rotate()\n",
    "        print(\"Car started\")\n",
    "\n",
    "    def stop(self):\n",
    "        self.engine.stop()\n",
    "        print(\"Car stopped\")\n",
    "\n",
    "    def refuel(self):\n",
    "        self.fuel_tank.refuel()\n",
    "        print(\"Car refueled\")\n",
    "\n",
    "# Example usage\n",
    "my_car = Car()\n",
    "my_car.start()\n",
    "my_car.stop()\n",
    "my_car.refuel()"
   ]
  },
  {
   "cell_type": "markdown",
   "id": "ca0262a8-26c3-41e7-9ab5-8877c2f53781",
   "metadata": {},
   "source": [
    "#### 14. Create a Python class hierarchy for a restaurant system, using composition to represent menus, dishes, and ingredients."
   ]
  },
  {
   "cell_type": "code",
   "execution_count": 4,
   "id": "a2b60efc-c975-4046-8695-2c5cf99e173f",
   "metadata": {},
   "outputs": [
    {
     "name": "stdout",
     "output_type": "stream",
     "text": [
      "Restaurant: Ristorante Pizzeria\n",
      "Menus:\n",
      "Menu: Italian Menu\n",
      "Dishes:\n",
      "Dish: Margherita Pizza\n",
      "Ingredients:\n",
      "- Tomato: 2\n",
      "- Cheese: 200g\n",
      "- Dough: 500g\n",
      "\n",
      "Dish: Carbonara Pasta\n",
      "Ingredients:\n",
      "- Pasta: 200g\n",
      "- Bacon: 150g\n",
      "- Egg: 2\n",
      "\n",
      "\n",
      "Menu: Vegetarian Menu\n",
      "Dishes:\n",
      "Dish: Salad\n",
      "Ingredients:\n",
      "- Lettuce: 150g\n",
      "- Tomato: 100g\n",
      "\n",
      "\n",
      "\n"
     ]
    }
   ],
   "source": [
    "class Ingredient:\n",
    "    def __init__(self, name, quantity):\n",
    "        self.name = name\n",
    "        self.quantity = quantity\n",
    "\n",
    "    def __str__(self):\n",
    "        return f\"{self.name}: {self.quantity}\"\n",
    "\n",
    "class Dish:\n",
    "    def __init__(self, name, ingredients):\n",
    "        self.name = name\n",
    "        self.ingredients = ingredients\n",
    "\n",
    "    def __str__(self):\n",
    "        dish_info = f\"Dish: {self.name}\\nIngredients:\\n\"\n",
    "        for ingredient in self.ingredients:\n",
    "            dish_info += f\"- {ingredient}\\n\"\n",
    "        return dish_info\n",
    "\n",
    "class Menu:\n",
    "    def __init__(self, name, dishes):\n",
    "        self.name = name\n",
    "        self.dishes = dishes\n",
    "\n",
    "    def __str__(self):\n",
    "        menu_info = f\"Menu: {self.name}\\nDishes:\\n\"\n",
    "        for dish in self.dishes:\n",
    "            menu_info += f\"{dish}\\n\"\n",
    "        return menu_info\n",
    "\n",
    "class Restaurant:\n",
    "    def __init__(self, name, menus):\n",
    "        self.name = name\n",
    "        self.menus = menus\n",
    "\n",
    "    def __str__(self):\n",
    "        restaurant_info = f\"Restaurant: {self.name}\\nMenus:\\n\"\n",
    "        for menu in self.menus:\n",
    "            restaurant_info += f\"{menu}\\n\"\n",
    "        return restaurant_info\n",
    "\n",
    "# Example usage:\n",
    "ingredient1 = Ingredient(\"Tomato\", \"2\")\n",
    "ingredient2 = Ingredient(\"Cheese\", \"200g\")\n",
    "ingredient3 = Ingredient(\"Dough\", \"500g\")\n",
    "\n",
    "dish1 = Dish(\"Margherita Pizza\", [ingredient1, ingredient2, ingredient3])\n",
    "dish2 = Dish(\"Carbonara Pasta\", [Ingredient(\"Pasta\", \"200g\"), Ingredient(\"Bacon\", \"150g\"), Ingredient(\"Egg\", \"2\")])\n",
    "\n",
    "menu1 = Menu(\"Italian Menu\", [dish1, dish2])\n",
    "menu2 = Menu(\"Vegetarian Menu\", [Dish(\"Salad\", [Ingredient(\"Lettuce\", \"150g\"), Ingredient(\"Tomato\", \"100g\")])])\n",
    "\n",
    "restaurant = Restaurant(\"Ristorante Pizzeria\", [menu1, menu2])\n",
    "print(restaurant)"
   ]
  },
  {
   "cell_type": "markdown",
   "id": "48081dd2-e8ba-49c8-be92-ff8f4ebc9610",
   "metadata": {},
   "source": [
    "#### 15. Explain how composition enhances code maintainability and modularity in Python programs."
   ]
  },
  {
   "cell_type": "code",
   "execution_count": 5,
   "id": "edf41703-a02d-4e45-8846-68630b08af15",
   "metadata": {},
   "outputs": [
    {
     "name": "stdout",
     "output_type": "stream",
     "text": [
      "Engine started\n",
      "Gear changed to 1\n",
      "Wheels rotating\n",
      "Car started\n",
      "Engine stopped\n",
      "Car stopped\n"
     ]
    }
   ],
   "source": [
    "class Engine:\n",
    "    def start(self):\n",
    "        print(\"Engine started\")\n",
    "\n",
    "    def stop(self):\n",
    "        print(\"Engine stopped\")\n",
    "\n",
    "class Transmission:\n",
    "    def change_gear(self, gear):\n",
    "        print(f\"Gear changed to {gear}\")\n",
    "\n",
    "class Wheels:\n",
    "    def rotate(self):\n",
    "        print(\"Wheels rotating\")\n",
    "\n",
    "class Car:\n",
    "    def __init__(self):\n",
    "        self.engine = Engine()\n",
    "        self.transmission = Transmission()\n",
    "        self.wheels = Wheels()\n",
    "\n",
    "    def start(self):\n",
    "        self.engine.start()\n",
    "        self.transmission.change_gear(\"1\")\n",
    "        self.wheels.rotate()\n",
    "        print(\"Car started\")\n",
    "\n",
    "    def stop(self):\n",
    "        self.engine.stop()\n",
    "        print(\"Car stopped\")\n",
    "\n",
    "# Example usage:\n",
    "my_car = Car()\n",
    "my_car.start()\n",
    "my_car.stop()"
   ]
  },
  {
   "cell_type": "markdown",
   "id": "041dee25-96ea-4ece-8558-ec5f6c31cbf7",
   "metadata": {},
   "source": [
    "#### 16. Create a Python class for a computer game character, using composition to represent attributes like weapons, armor, and inventory."
   ]
  },
  {
   "cell_type": "code",
   "execution_count": 6,
   "id": "972916c7-5c25-44c7-8a52-77e148f4b012",
   "metadata": {},
   "outputs": [
    {
     "name": "stdout",
     "output_type": "stream",
     "text": [
      "Character: Hero\n",
      "- Equipped Weapon: Weapon: Sword, Damage: 20\n",
      "- Equipped Armor: Armor: Shield, Defense: 10\n",
      "Inventory:\n",
      "- Weapon: Bow, Damage: 15\n",
      "- Armor: Helmet, Defense: 5\n",
      "\n"
     ]
    }
   ],
   "source": [
    "class Weapon:\n",
    "    def __init__(self, name, damage):\n",
    "        self.name = name\n",
    "        self.damage = damage\n",
    "\n",
    "    def __str__(self):\n",
    "        return f\"Weapon: {self.name}, Damage: {self.damage}\"\n",
    "\n",
    "class Armor:\n",
    "    def __init__(self, name, defense):\n",
    "        self.name = name\n",
    "        self.defense = defense\n",
    "\n",
    "    def __str__(self):\n",
    "        return f\"Armor: {self.name}, Defense: {self.defense}\"\n",
    "\n",
    "class Inventory:\n",
    "    def __init__(self):\n",
    "        self.items = []\n",
    "\n",
    "    def add_item(self, item):\n",
    "        self.items.append(item)\n",
    "\n",
    "    def __str__(self):\n",
    "        inventory_str = \"Inventory:\\n\"\n",
    "        for item in self.items:\n",
    "            inventory_str += f\"- {item}\\n\"\n",
    "        return inventory_str\n",
    "\n",
    "class GameCharacter:\n",
    "    def __init__(self, name, weapon=None, armor=None):\n",
    "        self.name = name\n",
    "        self.weapon = weapon\n",
    "        self.armor = armor\n",
    "        self.inventory = Inventory()\n",
    "\n",
    "    def equip_weapon(self, weapon):\n",
    "        self.weapon = weapon\n",
    "\n",
    "    def equip_armor(self, armor):\n",
    "        self.armor = armor\n",
    "\n",
    "    def add_to_inventory(self, item):\n",
    "        self.inventory.add_item(item)\n",
    "\n",
    "    def __str__(self):\n",
    "        character_str = f\"Character: {self.name}\\n\"\n",
    "        if self.weapon:\n",
    "            character_str += f\"- Equipped Weapon: {self.weapon}\\n\"\n",
    "        if self.armor:\n",
    "            character_str += f\"- Equipped Armor: {self.armor}\\n\"\n",
    "        character_str += f\"{self.inventory}\"\n",
    "        return character_str\n",
    "\n",
    "# Example usage:\n",
    "sword = Weapon(\"Sword\", 20)\n",
    "shield = Armor(\"Shield\", 10)\n",
    "character = GameCharacter(\"Hero\", weapon=sword, armor=shield)\n",
    "character.add_to_inventory(Weapon(\"Bow\", 15))\n",
    "character.add_to_inventory(Armor(\"Helmet\", 5))\n",
    "print(character)"
   ]
  },
  {
   "cell_type": "markdown",
   "id": "a59b9e10-16a3-457a-9447-07a467ca80cd",
   "metadata": {},
   "source": [
    "#### 17. Describe the concept of \"aggregation\" in composition and how it differs from simple composition."
   ]
  },
  {
   "cell_type": "code",
   "execution_count": 7,
   "id": "d525f19f-3aa4-439c-ab03-d7d4462fa534",
   "metadata": {},
   "outputs": [
    {
     "name": "stdout",
     "output_type": "stream",
     "text": [
      "Course: Python Programming\n",
      "Students:\n",
      "- Student: Alice, ID: S001\n",
      "- Student: Bob, ID: S002\n",
      "\n"
     ]
    }
   ],
   "source": [
    "class Student:\n",
    "    def __init__(self, name, student_id):\n",
    "        self.name = name\n",
    "        self.student_id = student_id\n",
    "\n",
    "    def __str__(self):\n",
    "        return f\"Student: {self.name}, ID: {self.student_id}\"\n",
    "\n",
    "class Course:\n",
    "    def __init__(self, course_name):\n",
    "        self.course_name = course_name\n",
    "        self.students = []  # Aggregation: Course aggregates multiple instances of Student\n",
    "\n",
    "    def add_student(self, student):\n",
    "        self.students.append(student)\n",
    "\n",
    "    def __str__(self):\n",
    "        course_info = f\"Course: {self.course_name}\\n\"\n",
    "        course_info += \"Students:\\n\"\n",
    "        for student in self.students:\n",
    "            course_info += f\"- {student}\\n\"\n",
    "        return course_info\n",
    "\n",
    "# Example usage:\n",
    "student1 = Student(\"Alice\", \"S001\")\n",
    "student2 = Student(\"Bob\", \"S002\")\n",
    "\n",
    "python_course = Course(\"Python Programming\")\n",
    "python_course.add_student(student1)\n",
    "python_course.add_student(student2)\n",
    "\n",
    "print(python_course)"
   ]
  },
  {
   "cell_type": "markdown",
   "id": "9d7ff006-a4ac-4112-a460-d080a07f6516",
   "metadata": {},
   "source": [
    "#### 18. Create a Python class for a house, using composition to represent rooms, furniture, and appliances."
   ]
  },
  {
   "cell_type": "code",
   "execution_count": 8,
   "id": "9c3519ca-5dd0-4b3c-a633-0498c4875e68",
   "metadata": {},
   "outputs": [
    {
     "name": "stdout",
     "output_type": "stream",
     "text": [
      "House: My House\n",
      "Room: Living Room\n",
      "Furniture:\n",
      "- Furniture: Sofa\n",
      "- Furniture: Coffee Table\n",
      "Appliances:\n",
      "- Appliance: Television\n",
      "\n",
      "Room: Kitchen\n",
      "Furniture:\n",
      "- Furniture: Dining Table\n",
      "Appliances:\n",
      "- Appliance: Refrigerator\n",
      "- Appliance: Oven\n",
      "\n",
      "\n"
     ]
    }
   ],
   "source": [
    "class Furniture:\n",
    "    def __init__(self, name):\n",
    "        self.name = name\n",
    "\n",
    "    def __str__(self):\n",
    "        return f\"Furniture: {self.name}\"\n",
    "\n",
    "class Appliance:\n",
    "    def __init__(self, name):\n",
    "        self.name = name\n",
    "\n",
    "    def __str__(self):\n",
    "        return f\"Appliance: {self.name}\"\n",
    "\n",
    "class Room:\n",
    "    def __init__(self, name):\n",
    "        self.name = name\n",
    "        self.furniture = []\n",
    "        self.appliances = []\n",
    "\n",
    "    def add_furniture(self, furniture):\n",
    "        self.furniture.append(furniture)\n",
    "\n",
    "    def add_appliance(self, appliance):\n",
    "        self.appliances.append(appliance)\n",
    "\n",
    "    def __str__(self):\n",
    "        room_info = f\"Room: {self.name}\\n\"\n",
    "        if self.furniture:\n",
    "            room_info += \"Furniture:\\n\"\n",
    "            for item in self.furniture:\n",
    "                room_info += f\"- {item}\\n\"\n",
    "        if self.appliances:\n",
    "            room_info += \"Appliances:\\n\"\n",
    "            for item in self.appliances:\n",
    "                room_info += f\"- {item}\\n\"\n",
    "        return room_info\n",
    "\n",
    "class House:\n",
    "    def __init__(self, name):\n",
    "        self.name = name\n",
    "        self.rooms = []\n",
    "\n",
    "    def add_room(self, room):\n",
    "        self.rooms.append(room)\n",
    "\n",
    "    def __str__(self):\n",
    "        house_info = f\"House: {self.name}\\n\"\n",
    "        for room in self.rooms:\n",
    "            house_info += f\"{room}\\n\"\n",
    "        return house_info\n",
    "\n",
    "# Example usage:\n",
    "living_room = Room(\"Living Room\")\n",
    "living_room.add_furniture(Furniture(\"Sofa\"))\n",
    "living_room.add_furniture(Furniture(\"Coffee Table\"))\n",
    "living_room.add_appliance(Appliance(\"Television\"))\n",
    "\n",
    "kitchen = Room(\"Kitchen\")\n",
    "kitchen.add_furniture(Furniture(\"Dining Table\"))\n",
    "kitchen.add_appliance(Appliance(\"Refrigerator\"))\n",
    "kitchen.add_appliance(Appliance(\"Oven\"))\n",
    "\n",
    "my_house = House(\"My House\")\n",
    "my_house.add_room(living_room)\n",
    "my_house.add_room(kitchen)\n",
    "\n",
    "print(my_house)"
   ]
  },
  {
   "cell_type": "markdown",
   "id": "f8b2020c-b8bf-4570-80b6-fdacd570c6ce",
   "metadata": {},
   "source": [
    "#### 19. How can you achieve flexibility in composed objects by allowing them to be replaced or modified dynamically at runtime?"
   ]
  },
  {
   "cell_type": "code",
   "execution_count": 9,
   "id": "d66ca381-98fc-4066-9d4f-4ad9b01aa91e",
   "metadata": {},
   "outputs": [
    {
     "name": "stdout",
     "output_type": "stream",
     "text": [
      "Printing PDF document: <__main__.Document object at 0x7ffae6984e20>\n",
      "Printing Image document: <__main__.Document object at 0x7ffae6984e20>\n"
     ]
    }
   ],
   "source": [
    "class Printer:\n",
    "    def print_document(self, document):\n",
    "        pass\n",
    "\n",
    "class PdfPrinter(Printer):\n",
    "    def print_document(self, document):\n",
    "        print(f\"Printing PDF document: {document}\")\n",
    "\n",
    "class ImagePrinter(Printer):\n",
    "    def print_document(self, document):\n",
    "        print(f\"Printing Image document: {document}\")\n",
    "\n",
    "class Document:\n",
    "    def __init__(self, content):\n",
    "        self.content = content\n",
    "\n",
    "class DocumentManager:\n",
    "    def __init__(self, printer):\n",
    "        self.printer = printer\n",
    "\n",
    "    def print_document(self, document):\n",
    "        self.printer.print_document(document)\n",
    "\n",
    "# Example usage:\n",
    "pdf_printer = PdfPrinter()\n",
    "image_printer = ImagePrinter()\n",
    "\n",
    "document = Document(\"example.pdf\")\n",
    "\n",
    "document_manager = DocumentManager(pdf_printer)\n",
    "document_manager.print_document(document)  # Prints: Printing PDF document: example.pdf\n",
    "\n",
    "document_manager = DocumentManager(image_printer)\n",
    "document_manager.print_document(document)  # Prints: Printing Image document: example.pdf"
   ]
  },
  {
   "cell_type": "markdown",
   "id": "d63e804e-8a08-4a6f-96ab-0969ff9d92aa",
   "metadata": {},
   "source": [
    "#### 20. Create a Python class for a social media application, using composition to represent users, posts, and comments."
   ]
  },
  {
   "cell_type": "code",
   "execution_count": null,
   "id": "acbd5a2c-d43e-469a-a4d9-b78061010898",
   "metadata": {},
   "outputs": [],
   "source": []
  }
 ],
 "metadata": {
  "kernelspec": {
   "display_name": "Python 3 (ipykernel)",
   "language": "python",
   "name": "python3"
  },
  "language_info": {
   "codemirror_mode": {
    "name": "ipython",
    "version": 3
   },
   "file_extension": ".py",
   "mimetype": "text/x-python",
   "name": "python",
   "nbconvert_exporter": "python",
   "pygments_lexer": "ipython3",
   "version": "3.10.8"
  }
 },
 "nbformat": 4,
 "nbformat_minor": 5
}

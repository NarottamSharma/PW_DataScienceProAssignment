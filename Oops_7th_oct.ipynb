{
 "cells": [
  {
   "cell_type": "markdown",
   "id": "292931ec-a9ea-4040-94dd-63c59a69c295",
   "metadata": {},
   "source": [
    "#### Problem 1: Bank Account Create a class representing a bank account with attributes like account number, account holder name, and balance. Implement methods to deposit and withdraw money from the account."
   ]
  },
  {
   "cell_type": "code",
   "execution_count": 16,
   "id": "8593e22a-e930-446a-b2de-dd73639a1faf",
   "metadata": {},
   "outputs": [
    {
     "name": "stdout",
     "output_type": "stream",
     "text": [
      "Account Number: 123456789\n",
      "Account Holder: John Doe\n",
      "Balance: $0\n",
      "Deposited $1000. New balance: $1000\n",
      "Withdrew $500. New balance: $500\n",
      "500\n"
     ]
    }
   ],
   "source": [
    "class BankAccount:\n",
    "    def __init__(self, account_number, account_holder_name, balance=0):\n",
    "        self.account_number = account_number\n",
    "        self.account_holder_name = account_holder_name\n",
    "        self.balance = balance\n",
    "    def deposit(self, amount):\n",
    "        if amount > 0:\n",
    "            self.balance += amount\n",
    "            print(f\"Deposited ${amount}. New balance: ${self.balance}\")\n",
    "        else:\n",
    "            print(\"Invalid deposit amount. Please enter a positive amount.\")\n",
    "    def withdraw(self, amount):\n",
    "        if 0 < amount <= self.balance:\n",
    "            self.balance -= amount\n",
    "            print(f\"Withdrew ${amount}. New balance: ${self.balance}\")\n",
    "        else:\n",
    "            print(\"Invalid withdrawal amount or insufficient funds.\")\n",
    "    def get_balance(self):\n",
    "        return self.balance\n",
    "    def __str__(self):\n",
    "        return f\"Account Number: {self.account_number}\\nAccount Holder: {self.account_holder_name}\\nBalance: ${self.balance}\"\n",
    "# Example usage:\n",
    "account1 = BankAccount(\"123456789\", \"John Doe\")\n",
    "print(account1)\n",
    "account1.deposit(1000)\n",
    "account1.withdraw(500)\n",
    "print(account1.get_balance())"
   ]
  },
  {
   "cell_type": "markdown",
   "id": "15256c1f-88a5-42df-897e-7167027c57a3",
   "metadata": {},
   "source": [
    "#### Problem 2: Employee Management Create a class representing an employee with attributes like employee ID, name, and salary. Implement methods to calculate the yearly bonus and display employee details."
   ]
  },
  {
   "cell_type": "code",
   "execution_count": 5,
   "id": "e4378cd4-6e6e-4575-a540-872eb4d50f47",
   "metadata": {},
   "outputs": [
    {
     "name": "stdout",
     "output_type": "stream",
     "text": [
      "employeeid:1\n",
      "name:ramakrishna\n",
      "salary:50000\n",
      "yearly bonus:5000.0\n"
     ]
    }
   ],
   "source": [
    "class employee:\n",
    "    def __init__(self,employeeid,name,salary):\n",
    "        self.employeeid=employeeid\n",
    "        self.name=name\n",
    "        self.salary=salary\n",
    "        \n",
    "    def calculate_yearly_bonus(self):\n",
    "        bonus_percentage=0.10\n",
    "        yearly_bonus= self.salary*bonus_percentage\n",
    "        return yearly_bonus\n",
    "    \n",
    "    def display_employee_details(self):\n",
    "        print(f\"employeeid:{self.employeeid}\")\n",
    "        print(f\"name:{self.name}\")\n",
    "        print(f\"salary:{self.salary}\")\n",
    "        print(f\"yearly bonus:{self.calculate_yearly_bonus()}\")\n",
    "employee1=employee(1,\"ramakrishna\",50000)\n",
    "employee1.display_employee_details()"
   ]
  },
  {
   "cell_type": "markdown",
   "id": "90c34293-c417-4b1c-abb6-6112a4cf113d",
   "metadata": {},
   "source": [
    "#### Problem 3: Vehicle Rental Create a class representing a vehicle rental system. Implement methods to rent a vehicle, return a vehicle, and display available vehicles."
   ]
  },
  {
   "cell_type": "code",
   "execution_count": 15,
   "id": "393a99a2-0f31-4fcc-9702-50bf67ce4a19",
   "metadata": {},
   "outputs": [
    {
     "name": "stdout",
     "output_type": "stream",
     "text": [
      "10 Sumos\n",
      "7 Scorpios\n",
      "13 Swifts\n"
     ]
    }
   ],
   "source": [
    "class VehicleRentalSystem:\n",
    "    def __init__(self, rent, return_vehicle, display_vehicles):\n",
    "        self.rent = rent\n",
    "        self.return_vehicle = return_vehicle\n",
    "        self.display_vehicles = display_vehicles\n",
    "\n",
    "    def rent_vehicle(self):\n",
    "        vehicle_rent = self.rent\n",
    "        return vehicle_rent\n",
    "\n",
    "    def return_rented_vehicle(self):\n",
    "        returned_vehicles = self.return_vehicle\n",
    "        return returned_vehicles\n",
    "\n",
    "    def display_available_vehicles(self):\n",
    "        print(\"10 Sumos\")\n",
    "        print(\"7 Scorpios\")\n",
    "        print(\"13 Swifts\")\n",
    "\n",
    "# Creating an instance of the VehicleRentalSystem\n",
    "rental_system = VehicleRentalSystem(10000, 10, \"display_vehicles\")\n",
    "# Displaying available vehicles\n",
    "rental_system.display_available_vehicles()"
   ]
  },
  {
   "cell_type": "markdown",
   "id": "d1a6f601-0929-4bdd-98ca-494385047b46",
   "metadata": {},
   "source": [
    "#### Problem 4: Library Catalog Create classes representing a library and a book. Implement methods to add books to the library, borrow books, and display available books."
   ]
  },
  {
   "cell_type": "code",
   "execution_count": 21,
   "id": "ed8d1dc8-35b8-4e84-ad79-911a80c5e909",
   "metadata": {},
   "outputs": [
    {
     "name": "stdout",
     "output_type": "stream",
     "text": [
      "the available books are:\n",
      "100 english books\n",
      "200 python books\n",
      "500 datascience books\n",
      "1500 engineering books\n"
     ]
    }
   ],
   "source": [
    "class library_book:\n",
    "    def __init__(self,add_books,borrow_books,display_books):\n",
    "        self.add_books=add_books\n",
    "        self.borrow_books=borrow_books\n",
    "        self.displaly_books=display_books\n",
    "        \n",
    "    def add_library_books(self):\n",
    "        add_book=15\n",
    "        print(\"the added books in library are 15\")\n",
    "    \n",
    "    def borrow_books(self):\n",
    "        borrow_book=5\n",
    "        print(\"the borrowed books in library are 5\")\n",
    "    \n",
    "    def display_available_books(self):\n",
    "        print(\"the available books are:\")\n",
    "        print(f\"100 english books\")\n",
    "        print(f\"200 python books\")\n",
    "        print(f\"500 datascience books\")\n",
    "        print(f\"1500 engineering books\")\n",
    "library_catalog=library_book(15,5,'display_available_books')\n",
    "library_catalog.display_available_books()"
   ]
  },
  {
   "cell_type": "markdown",
   "id": "628b4303-4bfd-4997-8587-181677a23371",
   "metadata": {},
   "source": [
    "#### Problem 5: Product Inventory Create classes representing a product and an inventory system. Implement methods to add products to the inventory, update product quantity, and display available products.|"
   ]
  },
  {
   "cell_type": "code",
   "execution_count": 2,
   "id": "c4a908bc-1a65-4e9e-ba17-a691702bf04f",
   "metadata": {},
   "outputs": [
    {
     "name": "stdout",
     "output_type": "stream",
     "text": [
      "the available products are:30\n"
     ]
    }
   ],
   "source": [
    "class product_inventory_system():\n",
    "    def __init__(self,add_product,update_product,available_products):\n",
    "        self.add_product=add_product\n",
    "        self.update_product=update_product\n",
    "        self.available_products=available_products\n",
    "    def add_product(self):\n",
    "        add_product=10\n",
    "        print(f\"the products are added{add_product}\")\n",
    "    \n",
    "    def update_product(self):\n",
    "        print(f\"the update product is{add_product}\")\n",
    "        \n",
    "    def display_available_products(self):\n",
    "        print(f\"the available products are:{self.available_products}\")\n",
    "# create an object and call it.\n",
    "result=product_inventory_system(10,20,30)\n",
    "result.display_available_products()"
   ]
  },
  {
   "cell_type": "markdown",
   "id": "d1b18629-52c5-446e-96ac-b49cf2a2c54e",
   "metadata": {},
   "source": [
    "#### Problem 6: Shape Calculation Create a class representing a shape with attributes like length, width, and height. Implement methods to calculate the area and perimeter of the shape."
   ]
  },
  {
   "cell_type": "code",
   "execution_count": 21,
   "id": "36fb1e2e-f258-4876-89d1-00c71fc93fc6",
   "metadata": {},
   "outputs": [
    {
     "name": "stdout",
     "output_type": "stream",
     "text": [
      "area 30\n",
      "perimeter 32\n"
     ]
    }
   ],
   "source": [
    "class shape:\n",
    "    def __init__(self,length,width,height):\n",
    "        self.length=length\n",
    "        self.width=width\n",
    "        self.height=height\n",
    "        \n",
    "    def calculate_area(self):\n",
    "        area=2*self.length+self.width*self.height\n",
    "        return area\n",
    "    \n",
    "    def calculate_perimeter(self):\n",
    "        perimeter=4*self.length+self.width+self.height\n",
    "        return perimeter\n",
    "    \n",
    "result=shape(5,2,10)\n",
    "perimeter_result=result.calculate_perimeter()\n",
    "area_result=result.calculate_area()\n",
    "print(\"area\",area_result)\n",
    "print(\"perimeter\",perimeter_result)"
   ]
  },
  {
   "cell_type": "markdown",
   "id": "96f1b426-f749-427d-8159-7f875100ad80",
   "metadata": {},
   "source": [
    "#### Problem 7: Student Management Create a class representing a student with attributes like student ID, name, and grades. Implement methods to calculate the average grade and display student details."
   ]
  },
  {
   "cell_type": "code",
   "execution_count": 25,
   "id": "54421a22-bf4c-4d1f-be1f-af7dca2b159c",
   "metadata": {},
   "outputs": [
    {
     "name": "stdout",
     "output_type": "stream",
     "text": [
      "student_id:145621\n",
      "student_name:ram\n",
      "student_grades:110\n",
      "average_marks:22.0\n"
     ]
    }
   ],
   "source": [
    "class student:\n",
    "    def __init__(self,student_id,name,grades):\n",
    "        self.student_id=student_id\n",
    "        self.name=name\n",
    "        self.grades=grades\n",
    "        \n",
    "    def average_grade(self):\n",
    "        marks=(10,20,30,40,10)\n",
    "        average=sum(marks)/5\n",
    "        return average\n",
    "    \n",
    "    def display_student_details(self):\n",
    "        print(f\"student_id:{self.student_id}\")\n",
    "        print(f\"student_name:{self.name}\")\n",
    "        print(f\"student_grades:{self.grades}\")\n",
    "        print(f\"average_marks:{self.average_grade()}\")\n",
    "result=student(145621,\"ram\",110)\n",
    "result.display_student_details()"
   ]
  },
  {
   "cell_type": "markdown",
   "id": "589118b7-c439-4eee-8b05-018e9b2b8cd3",
   "metadata": {},
   "source": [
    "#### Problem 8: Email Management Create a class representing an email with attributes like sender, recipient, and subject. Implement methods to send an email and display email details."
   ]
  },
  {
   "cell_type": "code",
   "execution_count": 30,
   "id": "b31f29c3-fea9-4ca0-b9b4-181591f73eee",
   "metadata": {},
   "outputs": [
    {
     "name": "stdout",
     "output_type": "stream",
     "text": [
      "the email details are:\n",
      "sender:krishna\n",
      "recipient:ram\n",
      "subject:subject\n"
     ]
    }
   ],
   "source": [
    "class email:\n",
    "    def __init__(self,sender,recipient,subject):\n",
    "        self.sender=sender\n",
    "        self.recipient=recipient\n",
    "        self.subject=subject\n",
    "        \n",
    "    def sender(self):\n",
    "        return sender\n",
    "    \n",
    "    def recipient(self):\n",
    "        return recipient\n",
    "    \n",
    "    def subject(self):\n",
    "        subject=(\"hello i am ramakrishna\")\n",
    "        return subject\n",
    "    \n",
    "    def display_email_details(self):\n",
    "        print(f\"sender:{self.sender}\")\n",
    "        print(f\"recipient:{self.recipient}\")\n",
    "        print(f\"subject:{self.subject}\")\n",
    "result=email(\"krishna\",\"ram\",\"subject\")\n",
    "print(\"the email details are:\")\n",
    "result.display_email_details()"
   ]
  },
  {
   "cell_type": "markdown",
   "id": "38936398-3f37-4ab0-8aa3-a9892c649b2b",
   "metadata": {},
   "source": [
    "#### Problem 9: Social Media Profile Create a class representing a social media profile with attributes like username and posts. Implement methods to add posts, display posts, and search for posts by keyword."
   ]
  },
  {
   "cell_type": "code",
   "execution_count": 5,
   "id": "e8d14c42-dfb8-4b6f-8867-5b7333dbedb0",
   "metadata": {},
   "outputs": [
    {
     "name": "stdout",
     "output_type": "stream",
     "text": [
      "JohnDoe's posts:\n",
      "Author: JohnDoe\n",
      "Content: Having a great day! #sunshine\n",
      "\n",
      "Author: JohnDoe\n",
      "Content: Visited the park today.\n",
      "\n",
      "Author: JohnDoe\n",
      "Content: Working on a new project.\n",
      "\n",
      "JaneSmith's posts:\n",
      "Author: JaneSmith\n",
      "Content: Just finished reading a good book.\n",
      "\n",
      "Author: JaneSmith\n",
      "Content: Traveling to Paris next week.\n",
      "\n",
      "Author: JaneSmith\n",
      "Content: Trying out new recipes in the kitchen.\n",
      "\n",
      "Posts by JohnDoe containing the keyword 'park':\n",
      "Author: JohnDoe\n",
      "Content: Visited the park today.\n",
      "\n",
      "Posts by JaneSmith containing the keyword 'travel':\n",
      "Author: JaneSmith\n",
      "Content: Traveling to Paris next week.\n",
      "\n"
     ]
    }
   ],
   "source": [
    "class SocialMediaProfile:\n",
    "    def __init__(self, username):\n",
    "        self.username = username\n",
    "        self.posts = []\n",
    "\n",
    "    def add_post(self, post_content):\n",
    "        post = {\n",
    "            'content': post_content,\n",
    "            'author': self.username\n",
    "        }\n",
    "        self.posts.append(post)\n",
    "\n",
    "    def display_posts(self):\n",
    "        if not self.posts:\n",
    "            print(f\"{self.username}'s profile has no posts.\")\n",
    "        else:\n",
    "            print(f\"{self.username}'s posts:\")\n",
    "            for post in self.posts:\n",
    "                print(f\"Author: {post['author']}\\nContent: {post['content']}\\n\")\n",
    "\n",
    "    def search_posts(self, keyword):\n",
    "        matching_posts = [post for post in self.posts if keyword.lower() in post['content'].lower()]\n",
    "        if not matching_posts:\n",
    "            print(f\"No posts found containing the keyword '{keyword}'.\")\n",
    "        else:\n",
    "            print(f\"Posts by {self.username} containing the keyword '{keyword}':\")\n",
    "            for post in matching_posts:\n",
    "                print(f\"Author: {post['author']}\\nContent: {post['content']}\\n\")\n",
    "\n",
    "# Example usage:\n",
    "profile1 = SocialMediaProfile(\"JohnDoe\")\n",
    "profile1.add_post(\"Having a great day! #sunshine\")\n",
    "profile1.add_post(\"Visited the park today.\")\n",
    "profile1.add_post(\"Working on a new project.\")\n",
    "profile1.display_posts()\n",
    "\n",
    "profile2 = SocialMediaProfile(\"JaneSmith\")\n",
    "profile2.add_post(\"Just finished reading a good book.\")\n",
    "profile2.add_post(\"Traveling to Paris next week.\")\n",
    "profile2.add_post(\"Trying out new recipes in the kitchen.\")\n",
    "profile2.display_posts()\n",
    "\n",
    "profile1.search_posts(\"park\")\n",
    "profile2.search_posts(\"travel\")"
   ]
  },
  {
   "cell_type": "markdown",
   "id": "4fe75108-f5fa-45c9-ad02-ac0acb9d89dc",
   "metadata": {},
   "source": [
    "#### Problem 10: ToDo List Create a class representing a ToDo list with attributes like tasks and due dates. Implement methods to add tasks, mark tasks as completed, and display pending tasks."
   ]
  },
  {
   "cell_type": "code",
   "execution_count": 6,
   "id": "56f221ed-324e-4d30-bb51-30dc7aa305df",
   "metadata": {},
   "outputs": [
    {
     "name": "stdout",
     "output_type": "stream",
     "text": [
      "Pending tasks:\n",
      "Task: Complete assignment, Due Date: 2024-01-20\n",
      "Task: Go to the gym, Due Date: 2024-01-15\n",
      "Task: Read a book, Due Date: 2024-01-25\n",
      "Task 'Go to the gym' marked as completed.\n",
      "Pending tasks:\n",
      "Task: Complete assignment, Due Date: 2024-01-20\n",
      "Task: Read a book, Due Date: 2024-01-25\n"
     ]
    }
   ],
   "source": [
    "class ToDoList:\n",
    "    def __init__(self):\n",
    "        self.tasks = []\n",
    "\n",
    "    def add_task(self, task_name, due_date):\n",
    "        task = {\n",
    "            'name': task_name,\n",
    "            'due_date': due_date,\n",
    "            'completed': False\n",
    "        }\n",
    "        self.tasks.append(task)\n",
    "\n",
    "    def mark_task_as_completed(self, task_name):\n",
    "        for task in self.tasks:\n",
    "            if task['name'] == task_name:\n",
    "                task['completed'] = True\n",
    "                print(f\"Task '{task_name}' marked as completed.\")\n",
    "                return\n",
    "        print(f\"Task '{task_name}' not found in the ToDo list.\")\n",
    "\n",
    "    def display_pending_tasks(self):\n",
    "        pending_tasks = [task for task in self.tasks if not task['completed']]\n",
    "        if not pending_tasks:\n",
    "            print(\"No pending tasks.\")\n",
    "        else:\n",
    "            print(\"Pending tasks:\")\n",
    "            for task in pending_tasks:\n",
    "                print(f\"Task: {task['name']}, Due Date: {task['due_date']}\")\n",
    "\n",
    "# Example usage:\n",
    "todo_list = ToDoList()\n",
    "todo_list.add_task(\"Complete assignment\", \"2024-01-20\")\n",
    "todo_list.add_task(\"Go to the gym\", \"2024-01-15\")\n",
    "todo_list.add_task(\"Read a book\", \"2024-01-25\")\n",
    "todo_list.display_pending_tasks()\n",
    "todo_list.mark_task_as_completed(\"Go to the gym\")\n",
    "todo_list.display_pending_tasks()"
   ]
  },
  {
   "cell_type": "code",
   "execution_count": null,
   "id": "4d376047-8ce9-496e-85bd-0f57e151f990",
   "metadata": {},
   "outputs": [],
   "source": []
  }
 ],
 "metadata": {
  "kernelspec": {
   "display_name": "Python 3 (ipykernel)",
   "language": "python",
   "name": "python3"
  },
  "language_info": {
   "codemirror_mode": {
    "name": "ipython",
    "version": 3
   },
   "file_extension": ".py",
   "mimetype": "text/x-python",
   "name": "python",
   "nbconvert_exporter": "python",
   "pygments_lexer": "ipython3",
   "version": "3.10.8"
  }
 },
 "nbformat": 4,
 "nbformat_minor": 5
}

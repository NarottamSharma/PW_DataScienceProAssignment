{
 "cells": [
  {
   "cell_type": "markdown",
   "id": "951d2f40",
   "metadata": {},
   "source": [
    "TOPIC: Python Basics Variable"
   ]
  },
  {
   "cell_type": "markdown",
   "id": "8a0db796",
   "metadata": {},
   "source": [
    "1. Declare two variables, x and y, and assign them integer values. Swap the values of these variables without using any temporary variable."
   ]
  },
  {
   "cell_type": "code",
   "execution_count": 1,
   "id": "9e7be65a",
   "metadata": {},
   "outputs": [
    {
     "name": "stdout",
     "output_type": "stream",
     "text": [
      "The value of x after swapping:  11\n",
      "The value of y after swapping:  10\n"
     ]
    }
   ],
   "source": [
    "x=10 \n",
    "y=11 \n",
    "x,y=y,x # The value swap the two topmost stack item [Rot_Two()]\n",
    "print(\"The value of x after swapping: \",x)\n",
    "print(\"The value of y after swapping: \",y)"
   ]
  },
  {
   "cell_type": "code",
   "execution_count": 2,
   "id": "b45a9c98",
   "metadata": {},
   "outputs": [
    {
     "name": "stdout",
     "output_type": "stream",
     "text": [
      "Enter the length of Rectangle :12\n",
      "Enter the width of Rectangle :3\n",
      "Area of Rectangle is: 36.0\n"
     ]
    }
   ],
   "source": [
    "length=float(input(\"Enter the length of Rectangle :\"))\n",
    "width=float(input(\"Enter the width of Rectangle :\"))\n",
    "area_rectangles=length*width # Multiplication \n",
    "print(\"Area of Rectangle is:\",area_rectangles)"
   ]
  },
  {
   "cell_type": "code",
   "execution_count": 3,
   "id": "f4db24e2",
   "metadata": {},
   "outputs": [
    {
     "name": "stdout",
     "output_type": "stream",
     "text": [
      "Enter value in celsius :20\n",
      "Fahrenheit temperature : 68.0\n"
     ]
    }
   ],
   "source": [
    "celsius = int(input(\"Enter value in celsius :\")) # Temperature in celsius degree\n",
    "fahrenheit = (celsius * 1.8) + 32 # Converting the temperature to fehrenheit using the formula\n",
    "print(\"Fahrenheit temperature :\",fahrenheit)"
   ]
  },
  {
   "cell_type": "code",
   "execution_count": null,
   "id": "5f2575e9",
   "metadata": {},
   "outputs": [],
   "source": []
  }
 ],
 "metadata": {
  "kernelspec": {
   "display_name": "Python 3 (ipykernel)",
   "language": "python",
   "name": "python3"
  },
  "language_info": {
   "codemirror_mode": {
    "name": "ipython",
    "version": 3
   },
   "file_extension": ".py",
   "mimetype": "text/x-python",
   "name": "python",
   "nbconvert_exporter": "python",
   "pygments_lexer": "ipython3",
   "version": "3.10.9"
  }
 },
 "nbformat": 4,
 "nbformat_minor": 5
}

{
 "cells": [
  {
   "cell_type": "markdown",
   "id": "bebaf710",
   "metadata": {},
   "source": [
    "# Time Complexity + Recursion\n",
    "# Assignment"
   ]
  },
  {
   "cell_type": "markdown",
   "id": "f15667e4",
   "metadata": {},
   "source": [
    "# Find time complexity of below code blocks :"
   ]
  },
  {
   "cell_type": "markdown",
   "id": "f541a433",
   "metadata": {},
   "source": [
    "# Problem 1 :\n",
    "\n",
    "\n",
    "def quicksort(arr):\n",
    "\n",
    "    if len(arr) <= 1:\n",
    "\n",
    "        return arr\n",
    "\n",
    "    pivot = arr[len(arr) // 2]\n",
    "\n",
    "    left = [x for x in arr if x < pivot]\n",
    "\n",
    "    middle = [x for x in arr if x == pivot]\n",
    "\n",
    "    right = [x for x in arr if x > pivot]\n",
    "\n",
    "    return quicksort(left) + middle + quicksort(right)\n"
   ]
  },
  {
   "cell_type": "markdown",
   "id": "e33973bb",
   "metadata": {},
   "source": [
    "### Average-case time Complexity : O(n log n)\n",
    "### Worst-case time complexity: O(n^2)\n",
    "\n",
    "where n is the length of the array"
   ]
  },
  {
   "cell_type": "markdown",
   "id": "a16ade53",
   "metadata": {},
   "source": [
    "# Problem 2 :\n",
    "\n",
    "\n",
    "def nested_loop_example(matrix):\n",
    "\n",
    "    rows, cols = len(matrix), len(matrix[0])\n",
    "\n",
    "    total = 0\n",
    "\n",
    "    for i in range(rows):\n",
    "\n",
    "        for j in range(cols):\n",
    "\n",
    "            total += matrix[i][j]\n",
    "\n",
    "    return total"
   ]
  },
  {
   "cell_type": "markdown",
   "id": "d1b614ff",
   "metadata": {},
   "source": [
    "### Time complexity : O(rows * cols), where rows is number of rows and cols is number of columns in the matrix"
   ]
  },
  {
   "cell_type": "markdown",
   "id": "89fba252",
   "metadata": {},
   "source": [
    "# Problem 3 :\n",
    "\n",
    "\n",
    "def example_function(arr):\n",
    "\n",
    "    result = 0\n",
    "\n",
    "    for element in arr:\n",
    "\n",
    "        result += element\n",
    "\n",
    "    return result"
   ]
  },
  {
   "cell_type": "markdown",
   "id": "ce441401",
   "metadata": {},
   "source": [
    "### Time complexity : O(n), where n is the length of the array"
   ]
  },
  {
   "cell_type": "markdown",
   "id": "0e3655d2",
   "metadata": {},
   "source": [
    "# Problem 4 :\n",
    "\n",
    "\n",
    "def longest_increasing_subsequence(nums):\n",
    "\n",
    "    n = len(nums)\n",
    "\n",
    "    lis = [1] * n\n",
    "\n",
    "    for i in range(1, n):\n",
    "\n",
    "        for j in range(0, i):\n",
    "\n",
    "            if nums[i] > nums[j] and lis[i] < lis[j] + 1:\n",
    "\n",
    "                lis[i] = lis[j] + 1\n",
    "\n",
    "    return max(lis)"
   ]
  },
  {
   "cell_type": "markdown",
   "id": "195f399e",
   "metadata": {},
   "source": [
    "### Time complexity: O(n^2), where n is the length of the input array nums"
   ]
  },
  {
   "cell_type": "markdown",
   "id": "b9301ead",
   "metadata": {},
   "source": [
    "# Problem 5 :\n",
    "\n",
    "def mysterious_function(arr):\n",
    "\n",
    "    n = len(arr)\n",
    "\n",
    "    result = 0\n",
    "\n",
    "    for i in range(n):\n",
    "\n",
    "        for j in range(i, n):\n",
    "\n",
    "            result += arr[i] * arr[j]\n",
    "\n",
    "    return result"
   ]
  },
  {
   "cell_type": "markdown",
   "id": "e308400b",
   "metadata": {},
   "source": [
    "### Time complexity: O(n^2), where n is the length of the input array"
   ]
  },
  {
   "cell_type": "markdown",
   "id": "d8adcf9f",
   "metadata": {},
   "source": [
    "# Solve the following problems on recursion"
   ]
  },
  {
   "cell_type": "markdown",
   "id": "a9a0dcd1",
   "metadata": {},
   "source": [
    "# Problem 6 : Sum of Digits\n",
    "\n",
    "\n",
    "# Write a recursive function to calculate the sum of digits of a given positive integer.\n",
    "\n",
    "\n",
    "# sum_of_digits(123) -> 6"
   ]
  },
  {
   "cell_type": "code",
   "execution_count": 8,
   "id": "e156249f",
   "metadata": {},
   "outputs": [
    {
     "name": "stdout",
     "output_type": "stream",
     "text": [
      "6\n"
     ]
    }
   ],
   "source": [
    "def sum_of_digits(num):\n",
    "    if num <= 9:\n",
    "        return num\n",
    "    else:\n",
    "        digit = num % 10\n",
    "        return digit + sum_of_digits(num // 10)\n",
    "\n",
    "## Example usage\n",
    "print(sum_of_digits(123))  "
   ]
  },
  {
   "cell_type": "markdown",
   "id": "84bf1096",
   "metadata": {},
   "source": [
    "# Problem 7: Fibonacci Series\n",
    "\n",
    "\n",
    "# Write a recursive function to generate the first n numbers of the Fibonacci series.\n",
    "\n",
    "\n",
    "# fibonacci_series(6) -> [0, 1, 1, 2, 3, 5]"
   ]
  },
  {
   "cell_type": "code",
   "execution_count": 12,
   "id": "4082cbb8",
   "metadata": {},
   "outputs": [
    {
     "name": "stdout",
     "output_type": "stream",
     "text": [
      "[0, 1, 1, 2, 3, 5]\n"
     ]
    }
   ],
   "source": [
    "def fibobacci_series(n):\n",
    "    if n<= 0:\n",
    "        return []\n",
    "    elif n == 1:\n",
    "        return [0]\n",
    "    elif n == 2:\n",
    "        return [0,1]\n",
    "    else:\n",
    "        fibo = fibobacci_series(n-1)\n",
    "        fibo.append(fibo[-1] + fibo[-2])\n",
    "        return fibo\n",
    "\n",
    "##  Example usage\n",
    "print(fibobacci_series(6))\n",
    "        "
   ]
  },
  {
   "cell_type": "markdown",
   "id": "f4cfaa23",
   "metadata": {},
   "source": [
    "# Problem 8 : Subset Sum\n",
    "\n",
    "\n",
    "# Given a set of positive integers and a target sum, write a recursive function to determine if there exists a subset of the integers that adds up to the target sum.\n",
    "\n",
    "\n",
    "# subset_sum([3, 34, 4, 12, 5, 2], 9) -> True"
   ]
  },
  {
   "cell_type": "code",
   "execution_count": 40,
   "id": "e2417dbf",
   "metadata": {},
   "outputs": [
    {
     "name": "stdout",
     "output_type": "stream",
     "text": [
      "True\n"
     ]
    }
   ],
   "source": [
    "def subset_sum(nums, target):\n",
    "    # Base case: if the target is 0, an empty subset is valid\n",
    "    if target == 0:\n",
    "        return True\n",
    "\n",
    "    # Base case: if the set is empty and the target is not 0, no subset is valid\n",
    "    if not nums:\n",
    "        return False\n",
    "\n",
    "    # Recursive case: explore two possibilities - include the current element or exclude it\n",
    "    include_current = subset_sum(nums[1:], target - nums[0])\n",
    "    exclude_current = subset_sum(nums[1:], target)\n",
    "\n",
    "    # Return True if either of the possibilities leads to a valid subset\n",
    "    return include_current or exclude_current\n",
    "\n",
    "# Example usage:\n",
    "nums = [3, 34, 4, 12, 5, 2]\n",
    "target_sum = 9\n",
    "result = subset_sum(nums, target_sum)\n",
    "print(result) "
   ]
  },
  {
   "cell_type": "markdown",
   "id": "66c91f95",
   "metadata": {},
   "source": [
    "# Problem 9: Word Break\n",
    "\n",
    "\n",
    "## Given a non-empty string and a dictionary of words, write a recursive function to determine if the string can be segmented into a space-separated sequence of dictionary words.\n",
    "\n",
    "\n",
    "## word_break( leetcode , [ leet , code ]) -> True"
   ]
  },
  {
   "cell_type": "code",
   "execution_count": 38,
   "id": "aa1a3025",
   "metadata": {},
   "outputs": [
    {
     "name": "stdout",
     "output_type": "stream",
     "text": [
      "True\n"
     ]
    }
   ],
   "source": [
    "def word_break(wordlist,word):\n",
    "    if word == \"\":\n",
    "        return True\n",
    "    else:\n",
    "        wordlen = len(word)\n",
    "        for i in range(1,wordlen+1):\n",
    "            if word[:i] in wordlist and word_break(wordlist,word[i:]):\n",
    "                return True\n",
    "        return False\n",
    "    \n",
    "#Example usage\n",
    "print(word_break([\"leet\",\"code\"],\"leetcode\"))"
   ]
  },
  {
   "cell_type": "markdown",
   "id": "72940a06",
   "metadata": {},
   "source": [
    "# Problem 10 : N-Queens\n",
    "\n",
    "\n",
    "# Implement a recursive function to solve the N Queens problem, where you have to place N queens on an N×N chessboard in such a way that no two queens threaten each other.\n",
    "\n",
    "\n",
    "n_queens(4)\n",
    "\n",
    "\n",
    "[\n",
    "\n",
    " [\".Q..\",\n",
    "\n",
    "  \"...Q\",\n",
    "\n",
    "  \"Q...\",\n",
    "\n",
    "  \"..Q.\"],\n",
    "\n",
    " [\"..Q.\",\n",
    "\n",
    "  \"Q...\",\n",
    "\n",
    "  \"...Q\",\n",
    "\n",
    "  \".Q..\"]\n",
    "\n",
    "]"
   ]
  },
  {
   "cell_type": "code",
   "execution_count": 32,
   "id": "d436d3ce",
   "metadata": {},
   "outputs": [],
   "source": [
    "# Return True if it's safe to place queen on the board\n",
    "def isSafeToPlaceQueen(board,row,col,n):\n",
    "    \n",
    "    #check in the left side \n",
    "    for i in range(col):\n",
    "        if board[row][i] == 1:\n",
    "            return False\n",
    "    #check in the upper left diagonal\n",
    "    for i,j in zip(range(row,-1,-1),range(col,-1,-1)):\n",
    "        if board[i][j] == 1:\n",
    "            return False\n",
    "    #check in the lower left diagonal\n",
    "    for i,j in zip(range(row,n,1),range(col,-1,-1)):\n",
    "        if board[i][j] == 1:\n",
    "            return False\n",
    "    return True\n",
    "\n",
    "\n",
    "## should return true if we are able to place all the queens\n",
    "def solveNQUtil(board,col,n):\n",
    "    #Base condition\n",
    "    if (col>=n):\n",
    "        return True #means we have been able to put queens in all the columns\n",
    "    #check for all the rows\n",
    "    for row in range(n):\n",
    "        if isSafeToPlaceQueen(board,row,col,n):\n",
    "            board[row][col] = 1 #set the queen\n",
    "            #recursively try for the next columns\n",
    "            if solveNQUtil(board,col+1,n):\n",
    "                return True\n",
    "            #Backtracking\n",
    "            board[row][col] = 0 ## Queen can't be set here\n",
    "        \n",
    "    return False #won't be able to place the queen\n",
    "\n",
    "def printBoard(board,n):\n",
    "    for i in range(n):\n",
    "        for j in range(n):\n",
    "            if board[i][j] == 1:\n",
    "                print(\"Q\",end = \" \")\n",
    "            else:\n",
    "                print(\".\",end = \" \")\n",
    "        print()\n",
    "            \n",
    "            \n",
    "\n",
    "def solveNQ(board,n):\n",
    "    \n",
    "    if not solveNQUtil(board,0,n):\n",
    "        print(\"Solution doesn't exist\")\n",
    "        return\n",
    "    \n",
    "    printBoard(board,n)\n",
    "        "
   ]
  },
  {
   "cell_type": "code",
   "execution_count": 33,
   "id": "6a2f46ca",
   "metadata": {
    "scrolled": true
   },
   "outputs": [
    {
     "name": "stdout",
     "output_type": "stream",
     "text": [
      ". . Q . \n",
      "Q . . . \n",
      ". . . Q \n",
      ". Q . . \n"
     ]
    }
   ],
   "source": [
    "import numpy as np\n",
    "board = np.zeros((4,4),int)\n",
    "solveNQ(board,4)"
   ]
  }
 ],
 "metadata": {
  "kernelspec": {
   "display_name": "Python 3 (ipykernel)",
   "language": "python",
   "name": "python3"
  },
  "language_info": {
   "codemirror_mode": {
    "name": "ipython",
    "version": 3
   },
   "file_extension": ".py",
   "mimetype": "text/x-python",
   "name": "python",
   "nbconvert_exporter": "python",
   "pygments_lexer": "ipython3",
   "version": "3.9.13"
  }
 },
 "nbformat": 4,
 "nbformat_minor": 5
}

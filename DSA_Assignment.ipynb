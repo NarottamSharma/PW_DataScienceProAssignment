{
 "cells": [
  {
   "cell_type": "code",
   "execution_count": null,
   "id": "fe931be9-2443-40f9-adcb-223bf979513e",
   "metadata": {},
   "outputs": [],
   "source": []
  },
  {
   "cell_type": "code",
   "execution_count": null,
   "id": "f05a9cdc-2c36-40ac-b0aa-c398e302ea59",
   "metadata": {},
   "outputs": [],
   "source": [
    "                                                   ****DSA Practice Questions ****"
   ]
  },
  {
   "cell_type": "code",
   "execution_count": null,
   "id": "05021f0a-cda7-4368-abb8-9eb03b9b1c18",
   "metadata": {},
   "outputs": [],
   "source": []
  },
  {
   "cell_type": "markdown",
   "id": "dda54d77-b56a-49fc-8d81-7dfd62a211c5",
   "metadata": {},
   "source": [
    "### Problem 1: Reverse a singly linked list."
   ]
  },
  {
   "cell_type": "code",
   "execution_count": null,
   "id": "79b5d8e8-a5a8-4e08-9c23-f66d53930d5e",
   "metadata": {},
   "outputs": [],
   "source": [
    "Input: 1 -> 2 -> 3 -> 4 -> 5\n",
    "Output: 5 -> 4 -> 3 -> 2 -> 1"
   ]
  },
  {
   "cell_type": "code",
   "execution_count": 1,
   "id": "bd6d5b33-e2ad-480c-b42a-481df22bc72c",
   "metadata": {},
   "outputs": [
    {
     "name": "stdout",
     "output_type": "stream",
     "text": [
      "Original linked-list :\n",
      "1-->2-->3-->4-->5-->None\n",
      "\n",
      "Reversed linked list :\n",
      "5-->4-->3-->2-->1-->None\n"
     ]
    }
   ],
   "source": [
    "# Defining the class Node\n",
    "\n",
    "class Node:\n",
    "    def __init__(self, data = None, next = None):\n",
    "        self.data = data\n",
    "        self.next = next\n",
    "    # Method to set the data \n",
    "    def setdata(self,data):\n",
    "        self.data = data\n",
    "    # Method to get the data\n",
    "    def getdata(self):\n",
    "        return self.data\n",
    "    #Method to set the next\n",
    "    def setnext(self,next):\n",
    "        self.next = next\n",
    "    #Method to get the next\n",
    "    def getnext(self):\n",
    "        return self.next\n",
    "\n",
    "# creating the nodes\n",
    "head = Node(1)\n",
    "node2 = Node(2)\n",
    "node3 = Node(3)\n",
    "node4 = Node(4)\n",
    "node5 = Node(5)\n",
    "\n",
    "# linking the nodes/ creating the linked list\n",
    "\n",
    "head.setnext(node2)\n",
    "node2.setnext(node3)\n",
    "node3.setnext(node4)\n",
    "node4.setnext(node5)\n",
    "\n",
    "#Function to traverse through the linked list\n",
    "\n",
    "def traverse(head):\n",
    "    temp = head\n",
    "    while(temp):\n",
    "        print(temp.getdata(),end = \"-->\")\n",
    "        temp = temp.getnext()\n",
    "    print(\"None\")\n",
    "\n",
    "#Function to reverse the order of linked list\n",
    "\n",
    "def reverse_linkedlist(head):\n",
    "    prev = None\n",
    "    current = head\n",
    "    while current:\n",
    "        next_node = current.getnext()\n",
    "        current.setnext(prev)\n",
    "        prev = current \n",
    "        current = next_node\n",
    "    return prev\n",
    "\n",
    "print(\"Original linked-list :\")\n",
    "traverse(head)\n",
    "print()\n",
    "new_head = reverse_linkedlist(head)\n",
    "print(\"Reversed linked list :\")\n",
    "traverse(new_head)\n"
   ]
  },
  {
   "cell_type": "code",
   "execution_count": null,
   "id": "860ec1b3-3f59-4e59-bcb7-78668de0f41d",
   "metadata": {},
   "outputs": [],
   "source": []
  },
  {
   "cell_type": "markdown",
   "id": "866d3047-75bd-4bd3-9d6f-45af1090977e",
   "metadata": {},
   "source": [
    "### Problem 2: Merge two sorted linked lists into one sorted linked list."
   ]
  },
  {
   "cell_type": "code",
   "execution_count": null,
   "id": "2ec5d88c-2dc9-4ed9-8dee-dc0584c910bd",
   "metadata": {},
   "outputs": [],
   "source": [
    "Input: List 1: 1 -> 3 -> 5, List 2: 2 -> 4 -> 6\n",
    "Output: 1 -> 2 -> 3 -> 4 -> 5 -> "
   ]
  },
  {
   "cell_type": "code",
   "execution_count": 2,
   "id": "302578d0-667f-47d3-b72b-c17c726cd9a2",
   "metadata": {},
   "outputs": [
    {
     "name": "stdout",
     "output_type": "stream",
     "text": [
      "List 1 :\n",
      "1-->3-->5-->None\n",
      "List 2 :\n",
      "2-->4-->6-->None\n",
      "Merge two sorted linked lists (List 1 and List 2) :\n",
      "1-->2-->3-->4-->5-->6-->None\n"
     ]
    }
   ],
   "source": [
    "#creating nodes of  linked list L1 ------\n",
    "head_a = Node(1)\n",
    "node_a1 = Node(3)\n",
    "node_a2 = Node(5)\n",
    "\n",
    "# linking the nodes of L1--------\n",
    "head_a.setnext(node_a1)\n",
    "node_a1.setnext(node_a2)\n",
    "\n",
    "#creating linked list L2 ------\n",
    "head_b = Node(2)\n",
    "node_b1 = Node(4)\n",
    "node_b2 = Node(6)\n",
    "\n",
    "# linking the nodes of L2--------\n",
    "head_b.setnext(node_b1)\n",
    "node_b1.setnext(node_b2)\n",
    "\n",
    "print(\"List 1 :\")\n",
    "traverse(head_a)\n",
    "\n",
    "print(\"List 2 :\")\n",
    "traverse(head_b)\n",
    "\n",
    "#Merging two sorted linked lists into one sorted linked list\n",
    "def merge_sorted_LL(head_a, head_b):\n",
    "    temp = Node()\n",
    "    current = temp\n",
    "    while(head_a and head_b):\n",
    "        if head_a.getdata() >= head_b.getdata():\n",
    "            current.setnext(Node(head_b.getdata()))\n",
    "            head_b = head_b.getnext()\n",
    "        else:\n",
    "            current.setnext(Node(head_a.getdata()))\n",
    "            head_a = head_a.getnext()\n",
    "        current = current.getnext()\n",
    "        \n",
    "    if head_a:\n",
    "        current.setnext(head_a)\n",
    "    if head_b:\n",
    "        current.setnext(head_b)\n",
    "    \n",
    "    return temp.getnext()\n",
    "\n",
    "new_head = merge_sorted_LL(head_a, head_b)\n",
    "print(\"Merge two sorted linked lists (List 1 and List 2) :\")\n",
    "traverse(new_head)\n"
   ]
  },
  {
   "cell_type": "code",
   "execution_count": null,
   "id": "68e3e3d8-db1c-4612-bd56-76b3c52b8c86",
   "metadata": {},
   "outputs": [],
   "source": []
  },
  {
   "cell_type": "markdown",
   "id": "2b7b46db-5ba6-4c39-a1a7-8556dd7bf22b",
   "metadata": {},
   "source": [
    "### Problem 3: Remove the nth node from the end of a linked list."
   ]
  },
  {
   "cell_type": "code",
   "execution_count": null,
   "id": "7b296c12-965c-481a-828b-055414375ea4",
   "metadata": {},
   "outputs": [],
   "source": [
    "Input: 1 -> 2 -> 3 -> 4 -> 5, n = 2\n",
    "Output: 1 -> 2 -> 3 -> 5\n"
   ]
  },
  {
   "cell_type": "code",
   "execution_count": 3,
   "id": "b6519e26-01fa-4558-b59e-0d165a256d9b",
   "metadata": {},
   "outputs": [
    {
     "name": "stdout",
     "output_type": "stream",
     "text": [
      "Original linked list :\n",
      "1-->2-->3-->4-->5-->None\n",
      "\n"
     ]
    },
    {
     "name": "stdin",
     "output_type": "stream",
     "text": [
      "Enter the position of the node to be deleted from the end : 2\n"
     ]
    },
    {
     "name": "stdout",
     "output_type": "stream",
     "text": [
      "\n",
      "After deletion of the 2th element from the end :\n",
      "1-->2-->3-->5-->None\n"
     ]
    }
   ],
   "source": [
    "# creating the nodes\n",
    "\n",
    "head = Node(1)\n",
    "node2 = Node(2)\n",
    "node3 = Node(3)\n",
    "node4 = Node(4)\n",
    "node5 = Node(5)\n",
    "\n",
    "# linking the nodes/ creating the linked list\n",
    "\n",
    "head.setnext(node2)\n",
    "node2.setnext(node3)\n",
    "node3.setnext(node4)\n",
    "node4.setnext(node5)\n",
    "\n",
    "#function to check the length of the linked list\n",
    "def length(head):\n",
    "    temp = head\n",
    "    c = 0\n",
    "    while temp:\n",
    "        c += 1\n",
    "        temp = temp.getnext()\n",
    "    return c\n",
    "\n",
    "# Function to delete the nth node from the end of the linked list\n",
    "def delete_node_end(head,n):\n",
    "    k = length(head) - n #n-th node from the end is k-th node from the front\n",
    "    if k >= length(head) or k < 0 or not head:\n",
    "        print(\"Enter valid value of n\")\n",
    "        return head\n",
    "    if k == 0:\n",
    "        head = head.getnext()\n",
    "    else:\n",
    "        #we jump to k-1`th position \n",
    "        i = 0\n",
    "        prev = head\n",
    "        while(i<k-1):\n",
    "            prev = prev.getnext()\n",
    "            i+=1\n",
    "        #prev will be pointing to the node left of the k`th position\n",
    "        prev.setnext(prev.getnext().getnext())\n",
    "        \n",
    "    return head\n",
    "    \n",
    "        \n",
    "        \n",
    "print(\"Original linked list :\")\n",
    "traverse(head)\n",
    "print()\n",
    "n = int(input(\"Enter the position of the node to be deleted from the end :\"))\n",
    "new_head = delete_node_end(head,n)\n",
    "print()\n",
    "print(f\"After deletion of the {n}th element from the end :\")\n",
    "traverse(new_head)\n"
   ]
  },
  {
   "cell_type": "code",
   "execution_count": null,
   "id": "44393a33-fd56-4ca9-b5de-1cf14cbab5ed",
   "metadata": {},
   "outputs": [],
   "source": []
  },
  {
   "cell_type": "markdown",
   "id": "69d4c063-14d3-4abe-beb3-96de12ae9fe9",
   "metadata": {},
   "source": [
    "### Problem 4: Find the intersection point of two linked lists."
   ]
  },
  {
   "cell_type": "code",
   "execution_count": null,
   "id": "7127dcc9-9a0e-4658-aac6-929c9ec0d7b2",
   "metadata": {},
   "outputs": [],
   "source": [
    "Input: List 1: 1 -> 2 -> 3 -> 4, List 2: 9 -> 8 -> 3 -> 4\n",
    "Output: Node with value 3"
   ]
  },
  {
   "cell_type": "code",
   "execution_count": 5,
   "id": "eb4bdbbb-588f-4932-a22a-cd51443c7b83",
   "metadata": {},
   "outputs": [
    {
     "name": "stdout",
     "output_type": "stream",
     "text": [
      "List 1 :\n",
      "1-->2-->3-->4-->None\n",
      "\n",
      "List 2 :\n",
      "9-->8-->3-->4-->None\n",
      "\n",
      "Intersection point of the two linked list is : Node with value 3\n"
     ]
    }
   ],
   "source": [
    "# List-1 is defined here\n",
    "\n",
    "head11 =Node(1)\n",
    "node2 =Node(2)\n",
    "node3 =Node(3)\n",
    "node4 =Node(4)\n",
    "\n",
    "# Create Linkage of nodes\n",
    "head11.setnext(node2)\n",
    "node2.setnext(node3)\n",
    "node3.setnext(node4)\n",
    "\n",
    "# list-2 is define\n",
    "head21 =Node(9)\n",
    "node8 =Node(8)\n",
    "node3 =Node(3)\n",
    "node4 =Node(4)\n",
    "\n",
    "# create linkage of nodes\n",
    "head21.setnext(node8)\n",
    "node8.setnext(node3)\n",
    "node3.setnext(node4)\n",
    "print(\"List 1 :\")\n",
    "traverse(head11)\n",
    "print()\n",
    "print(\"List 2 :\")\n",
    "traverse(head21)\n",
    "print()\n",
    "def IntersectPoint(head11 ,head21):\n",
    "    temp1 =head11\n",
    "    temp2 =head21\n",
    "    while(temp1 and temp2):\n",
    "        if(temp1.getdata() == temp2.getdata()):\n",
    "            return temp1.getdata()\n",
    "        temp1 =temp1.getnext()\n",
    "        temp2 =temp2.getnext()\n",
    "\n",
    "print(\"Intersection point of the two linked list is : Node with value\",IntersectPoint(head11 ,head21))\n"
   ]
  },
  {
   "cell_type": "code",
   "execution_count": null,
   "id": "8ffc5428-8314-4c4e-bde8-d5b60508a07d",
   "metadata": {},
   "outputs": [],
   "source": []
  },
  {
   "cell_type": "markdown",
   "id": "66b2bad6-1aeb-482e-b16f-7b8b13c9c6b3",
   "metadata": {},
   "source": [
    "### Problem 5: Remove duplicates from a sorted linked list."
   ]
  },
  {
   "cell_type": "code",
   "execution_count": null,
   "id": "4b4d514f-ce2a-4932-a4e5-8fe8fc2d71d3",
   "metadata": {},
   "outputs": [],
   "source": [
    "Input: 1 -> 1 -> 2 -> 3 -> 3\n",
    "Output: 1 -> 2 -> 3\n"
   ]
  },
  {
   "cell_type": "code",
   "execution_count": 6,
   "id": "9d0a8a04-5cb4-4aa8-9c4e-808734381e65",
   "metadata": {},
   "outputs": [
    {
     "name": "stdout",
     "output_type": "stream",
     "text": [
      "Original linkedlist :\n",
      "1-->1-->2-->3-->3-->None\n",
      "\n",
      "After removing duplicates :\n",
      "1-->2-->3-->None\n"
     ]
    }
   ],
   "source": [
    "# creating the nodes\n",
    "head = Node(1)\n",
    "node1 = Node(1)\n",
    "node2 = Node(2)\n",
    "node3 = Node(3)\n",
    "node4 = Node(3)\n",
    "\n",
    "#creating linkage\n",
    "head.setnext(node1)\n",
    "node1.setnext(node2)\n",
    "node2.setnext(node3)\n",
    "node3.setnext(node4)\n",
    "\n",
    "def remove_duplicates(head):\n",
    "    temp = head\n",
    "    while(temp and temp.getnext()):\n",
    "        if temp.getdata() == temp.getnext().getdata():\n",
    "            temp.setnext(temp.getnext().getnext())\n",
    "        else:\n",
    "            temp = temp.getnext()\n",
    "    \n",
    "print(\"Original linkedlist :\")\n",
    "traverse(head)\n",
    "remove_duplicates(head)\n",
    "print(\"\\nAfter removing duplicates :\")\n",
    "traverse(head)\n"
   ]
  },
  {
   "cell_type": "code",
   "execution_count": null,
   "id": "c88a4c11-45d9-4cfb-b73b-35a8aff2d13d",
   "metadata": {},
   "outputs": [],
   "source": []
  },
  {
   "cell_type": "markdown",
   "id": "b218b77b-c276-4392-ba4c-1f4eae1a2ae3",
   "metadata": {},
   "source": [
    "### Problem 6: Add two numbers represented by linked lists (where each node contains a single digit)."
   ]
  },
  {
   "cell_type": "code",
   "execution_count": null,
   "id": "c33ee7e7-21d5-46b7-a6fc-49bd0ea9033c",
   "metadata": {},
   "outputs": [],
   "source": [
    "Input: List 1: 2 -> 4 -> 3, List 2: 5 -> 6 -> 4 (represents 342 + 465)\n",
    "Output: 7 -> 0 -> 8 (represents 807)"
   ]
  },
  {
   "cell_type": "code",
   "execution_count": 7,
   "id": "d2888d4f-e8f9-4ec7-ba63-3a5e9ac3ee03",
   "metadata": {},
   "outputs": [
    {
     "name": "stdout",
     "output_type": "stream",
     "text": [
      "List 1 :\n",
      "2-->4-->3-->None\n",
      "\n",
      "List 2 :\n",
      "5-->6-->4-->None\n",
      "\n",
      "(represents 342 + 465)\n",
      "\n",
      "After adding :\n",
      "7-->0-->8-->None\n",
      "(represents 807)\n"
     ]
    }
   ],
   "source": [
    "\n",
    "# List 1\n",
    "head1 = Node(2)\n",
    "node12 = Node(4)\n",
    "node13 = Node(3)\n",
    "#connecting the nodes\n",
    "head1.setnext(node12)\n",
    "node12.setnext(node13)\n",
    "#list 2\n",
    "head2 = Node(5)\n",
    "node22 = Node(6)\n",
    "node23 = Node(4)\n",
    "#connecting the nodes\n",
    "head2.setnext(node22)\n",
    "node22.setnext(node23)\n",
    "\n",
    "def add_two_numbers(head1, head2):\n",
    "    l1,l2 = head1,head2\n",
    "    dummy_head = Node()\n",
    "    current = dummy_head\n",
    "    carry = 0\n",
    "\n",
    "    while l1 or l2 or carry:\n",
    "        sum_val = carry\n",
    "        if l1:\n",
    "            sum_val += l1.getdata()\n",
    "            l1 = l1.getnext()\n",
    "        if l2:\n",
    "            sum_val += l2.getdata()\n",
    "            l2 = l2.getnext()\n",
    "        \n",
    "        carry, digit = divmod(sum_val, 10)\n",
    "        current.setnext(Node(digit))  \n",
    "        current = current.getnext()\n",
    "\n",
    "    return dummy_head.getnext()\n",
    "\n",
    "\n",
    "print(\"List 1 :\")\n",
    "traverse(head1)\n",
    "print(\"\\nList 2 :\")\n",
    "traverse(head2)\n",
    "print(\"\\n(represents 342 + 465)\")\n",
    "k = add_two_numbers(head1,head2)\n",
    "print(\"\\nAfter adding :\")\n",
    "traverse(k)\n",
    "print(\"(represents 807)\")\n",
    "\n"
   ]
  },
  {
   "cell_type": "code",
   "execution_count": null,
   "id": "7223f122-2a91-430f-b3b5-860329d10c05",
   "metadata": {},
   "outputs": [],
   "source": []
  },
  {
   "cell_type": "markdown",
   "id": "8f324559-3211-45e4-8018-318a12134b29",
   "metadata": {},
   "source": [
    "### Problem 7: Swap nodes in pairs in a linked list."
   ]
  },
  {
   "cell_type": "code",
   "execution_count": null,
   "id": "77730078-58be-4aac-83f2-38f592d0512d",
   "metadata": {},
   "outputs": [],
   "source": [
    "Input: 1 -> 2 -> 3 -> 4\n",
    "Output: 2 -> 1 -> 4 -> 3"
   ]
  },
  {
   "cell_type": "code",
   "execution_count": 8,
   "id": "605f1853-a2cb-4782-bfe0-e0c911cc78fe",
   "metadata": {},
   "outputs": [
    {
     "name": "stdout",
     "output_type": "stream",
     "text": [
      "Original list :\n",
      "1-->2-->3-->4-->None\n",
      "\n",
      "After swapping :\n",
      "2-->1-->4-->3-->None\n"
     ]
    }
   ],
   "source": [
    "# creating the nodes\n",
    "\n",
    "head = Node(1)\n",
    "node2 = Node(2)\n",
    "node3 = Node(3)\n",
    "node4 = Node(4)\n",
    "\n",
    "# linking the nodes/ creating the linked list\n",
    "\n",
    "head.setnext(node2)\n",
    "node2.setnext(node3)\n",
    "node3.setnext(node4)\n",
    "\n",
    "def swap_nodes(head):\n",
    "    prev = dummy_node = Node()\n",
    "    while(head and head.getnext()):\n",
    "        firstnode = head\n",
    "        secondnode = head.getnext()\n",
    "        \n",
    "        #swapping the nodes\n",
    "        prev.setnext(secondnode)\n",
    "        firstnode.setnext(secondnode.getnext())\n",
    "        secondnode.setnext(firstnode)\n",
    "        \n",
    "        #moving the pointers\n",
    "        prev = firstnode\n",
    "        head = firstnode.getnext()\n",
    "    return dummy_node.getnext()\n",
    "\n",
    "print(\"Original list :\")\n",
    "traverse(head)\n",
    "new_node = swap_nodes(head)\n",
    "print(\"\\nAfter swapping :\")\n",
    "traverse(new_node)\n"
   ]
  },
  {
   "cell_type": "code",
   "execution_count": null,
   "id": "8f33849f-d1ce-4351-bf5f-1eba8ce0ff6f",
   "metadata": {},
   "outputs": [],
   "source": []
  },
  {
   "cell_type": "markdown",
   "id": "b48abd7b-dc0a-4ed9-b06d-5f5bfcfeae47",
   "metadata": {},
   "source": [
    "### Problem 8: Reverse nodes in a linked list in groups of k."
   ]
  },
  {
   "cell_type": "code",
   "execution_count": null,
   "id": "3bdad6af-563c-489e-aadf-b0e10a0a92b7",
   "metadata": {},
   "outputs": [],
   "source": [
    "Input: 1 -> 2 -> 3 -> 4 -> 5, k = 3\n",
    "Output: 3 -> 2 -> 1 -> 4 -> 5"
   ]
  },
  {
   "cell_type": "code",
   "execution_count": 10,
   "id": "90da885d-85e2-434f-abf1-46e9ddc318a8",
   "metadata": {},
   "outputs": [
    {
     "name": "stdout",
     "output_type": "stream",
     "text": [
      "Original Linked list :\n",
      "1-->2-->3-->4-->5-->None\n",
      "\n",
      "Reverse nodes in a linked list in groups of k : 3\n",
      "\n",
      "Output :\n",
      "3-->2-->1-->4-->5-->None\n"
     ]
    }
   ],
   "source": [
    "def reverse_k_group(head, k):\n",
    "    if not head or k == 1:\n",
    "        return head\n",
    "\n",
    "    dummy = Node(0)\n",
    "    dummy.setnext(head)\n",
    "    prev_group_end = dummy\n",
    "\n",
    "    while prev_group_end:\n",
    "        group_start = prev_group_end.getnext()\n",
    "        group_end = group_start\n",
    "        for _ in range(k - 1):\n",
    "            group_end = group_end.getnext()\n",
    "            if not group_end:\n",
    "                return dummy.getnext()\n",
    "\n",
    "        next_group_start = group_end.getnext()\n",
    "        group_end.setnext(None)\n",
    "\n",
    "        # Reverse the current group\n",
    "        prev = None\n",
    "        current = group_start\n",
    "        while current:\n",
    "            next_node = current.getnext()\n",
    "            current.setnext(prev)\n",
    "            prev = current\n",
    "            current = next_node\n",
    "\n",
    "        # Connect the reversed group back to the main list\n",
    "        prev_group_end.setnext(group_end)\n",
    "        group_start.setnext(next_group_start)\n",
    "\n",
    "        # Update prev_group_end for the next iteration\n",
    "        prev_group_end = group_start\n",
    "\n",
    "    return dummy.getnext()\n",
    "\n",
    "# creating the nodes\n",
    "\n",
    "head = Node(1)\n",
    "node2 = Node(2)\n",
    "node3 = Node(3)\n",
    "node4 = Node(4)\n",
    "node5 = Node(5)\n",
    "\n",
    "# linking the nodes/ creating the linked list\n",
    "\n",
    "head.setnext(node2)\n",
    "node2.setnext(node3)\n",
    "node3.setnext(node4)\n",
    "node4.setnext(node5)\n",
    "\n",
    "print(\"Original Linked list :\")\n",
    "traverse(head)\n",
    "new_head = reverse_k_group(head,3)\n",
    "print(\"\\nReverse nodes in a linked list in groups of k : 3\")\n",
    "print(\"\\nOutput :\")\n",
    "traverse(new_head)\n"
   ]
  },
  {
   "cell_type": "code",
   "execution_count": null,
   "id": "7ed0ed1f-63f3-44ca-a1af-4e559d5815f4",
   "metadata": {},
   "outputs": [],
   "source": []
  },
  {
   "cell_type": "markdown",
   "id": "0459cd3b-4651-4acb-b26a-f38e81915519",
   "metadata": {},
   "source": [
    "### Problem 9: Determine if a linked list is a palindrome."
   ]
  },
  {
   "cell_type": "code",
   "execution_count": null,
   "id": "a6013edc-704c-4f1f-ab45-36c87bc56a10",
   "metadata": {},
   "outputs": [],
   "source": [
    "Input: 1 -> 2 -> 2 -> 1\n",
    "Output: True"
   ]
  },
  {
   "cell_type": "code",
   "execution_count": 13,
   "id": "a0ccc2ee-60ad-46ce-8acf-c1598c9c3754",
   "metadata": {},
   "outputs": [
    {
     "name": "stdout",
     "output_type": "stream",
     "text": [
      "Linked list :\n",
      "1-->2-->2-->1-->None\n",
      "\n",
      "Determine if a linked list is a palindrome ? output :  True\n"
     ]
    }
   ],
   "source": [
    "def is_palindrome(head):\n",
    "    if not head or not head.getnext():\n",
    "        return True\n",
    "\n",
    "    # Find the middle of the linked list\n",
    "    slow = head\n",
    "    fast = head\n",
    "    while fast.getnext() and fast.getnext().getnext():\n",
    "        slow = slow.getnext()\n",
    "        fast = fast.getnext().getnext()\n",
    "\n",
    "    # Reverse the second half of the linked list\n",
    "    second_half_head = reverse_linked_list(slow.getnext())\n",
    "\n",
    "    # Compare the first half with the reversed second half\n",
    "    first_half = head\n",
    "    second_half = second_half_head\n",
    "    while second_half:\n",
    "        if first_half.getdata() != second_half.getdata():\n",
    "            return False\n",
    "        first_half = first_half.getnext()\n",
    "        second_half = second_half.getnext()\n",
    "\n",
    "    return True\n",
    "def reverse_linked_list(head):\n",
    "    prev = None\n",
    "    current = head\n",
    "    while current:\n",
    "        next_node = current.getnext()\n",
    "        current.setnext(prev)\n",
    "        prev = current\n",
    "        current = next_node\n",
    "    return prev\n",
    "\n",
    "# Creating a linked list\n",
    "head = Node(1)\n",
    "node2 = Node(2)\n",
    "node3 = Node(2)\n",
    "node4 = Node(1)\n",
    "\n",
    "# Linking the nodes\n",
    "head.setnext(node2)\n",
    "node2.setnext(node3)\n",
    "node3.setnext(node4)\n",
    "\n",
    "# Traversing and printing the linked list\n",
    "print(\"Linked list :\")\n",
    "traverse(head)\n",
    "\n",
    "# Checking if the linked list is a palindrome\n",
    "print(\"\\nDetermine if a linked list is a palindrome ?\", \"output : \", is_palindrome(head))\n"
   ]
  },
  {
   "cell_type": "code",
   "execution_count": null,
   "id": "e1759aff-5a55-4d08-9440-a2a56d97b610",
   "metadata": {},
   "outputs": [],
   "source": []
  },
  {
   "cell_type": "markdown",
   "id": "7e9edf26-f177-45f6-ba39-8d3bd2fa1827",
   "metadata": {},
   "source": [
    "### Problem 10: Rotate a linked list to the right by k places."
   ]
  },
  {
   "cell_type": "code",
   "execution_count": null,
   "id": "8a436c1c-0200-4e5f-a5d1-927a1aa5bcac",
   "metadata": {},
   "outputs": [],
   "source": [
    "Input: 1 -> 2 -> 3 -> 4 -> 5, k = 2\n",
    "Output: 4 -> 5 -> 1 -> 2 -> 3"
   ]
  },
  {
   "cell_type": "code",
   "execution_count": 14,
   "id": "571616bb-b08f-45a5-aea5-4b10cee1e5cf",
   "metadata": {},
   "outputs": [
    {
     "name": "stdout",
     "output_type": "stream",
     "text": [
      "Original Linked list :\n",
      "1-->2-->3-->4-->5-->None\n",
      "\n",
      "Rotate a linked list to the right by k places : 2\n",
      "\n",
      "Output :\n",
      "4-->5-->1-->2-->3-->None\n"
     ]
    }
   ],
   "source": [
    "def rotate_right(head, k):\n",
    "    if not head or k == 0:\n",
    "        return head\n",
    "\n",
    "    # Find the length of the linked list\n",
    "    length = 1\n",
    "    tail = head\n",
    "    while tail.getnext():\n",
    "        tail = tail.getnext()\n",
    "        length += 1\n",
    "\n",
    "    # Calculate the actual number of rotations needed\n",
    "    k %= length\n",
    "    if k == 0:\n",
    "        return head\n",
    "\n",
    "    # Traverse to the (length - k) - 1 node\n",
    "    prev = head\n",
    "    for _ in range(length - k - 1):\n",
    "        prev = prev.getnext()\n",
    "\n",
    "    # Set the new head and break the list\n",
    "    new_head = prev.getnext()\n",
    "    prev.setnext(None)\n",
    "    \n",
    "    # Connect the tail to the original head\n",
    "    tail.setnext(head)\n",
    "\n",
    "    return new_head\n",
    "\n",
    "# creating the nodes\n",
    "\n",
    "head = Node(1)\n",
    "node2 = Node(2)\n",
    "node3 = Node(3)\n",
    "node4 = Node(4)\n",
    "node5 = Node(5)\n",
    "\n",
    "# linking the nodes/ creating the linked list\n",
    "\n",
    "head.setnext(node2)\n",
    "node2.setnext(node3)\n",
    "node3.setnext(node4)\n",
    "node4.setnext(node5)\n",
    "\n",
    "print(\"Original Linked list :\")\n",
    "traverse(head)\n",
    "new_head = rotate_right(head,2)\n",
    "print(\"\\nRotate a linked list to the right by k places : 2\")\n",
    "print(\"\\nOutput :\")\n",
    "traverse(new_head)\n"
   ]
  },
  {
   "cell_type": "code",
   "execution_count": null,
   "id": "63a92235-969a-45c8-b16d-4a693bc7e1f5",
   "metadata": {},
   "outputs": [],
   "source": []
  },
  {
   "cell_type": "markdown",
   "id": "09aa1f27-94ea-46dd-be7f-79c4cfd8962f",
   "metadata": {},
   "source": [
    "### Problem 11: Flatten a multilevel doubly linked list."
   ]
  },
  {
   "cell_type": "code",
   "execution_count": null,
   "id": "a54328bd-e2dd-4365-8276-4c3f063d915b",
   "metadata": {},
   "outputs": [],
   "source": [
    "Input: 1 <-> 2 <-> 3 <-> 7 <-> 8 <-> 11 -> 12, 4 <-> 5 -> 9 -> 10, 6 -> 13\n",
    "Output: 1 <-> 2 <-> 3 <-> 4 <-> 5 <-> 6 <-> 7 <-> 8 <-> 9 <-> 10 <-> 11 <-> 12 <-> 13"
   ]
  },
  {
   "cell_type": "code",
   "execution_count": 3,
   "id": "ae81a208-0bf6-47bd-8db4-df59693ed41f",
   "metadata": {},
   "outputs": [
    {
     "name": "stdout",
     "output_type": "stream",
     "text": [
      "Flattened list :\n",
      "1 <-> 2 <-> 3 <-> 4 <-> 5 <-> 6 <-> 13 <-> 9 <-> 10 <-> 7 <-> 8 <-> 11 <-> 12 <-> "
     ]
    }
   ],
   "source": [
    "class Node:\n",
    "    def __init__(self, val, prev=None, next=None, child=None):\n",
    "        self.val = val\n",
    "        self.prev = prev\n",
    "        self.next = next\n",
    "        self.child = child\n",
    "\n",
    "def flatten_doubly_linked_list(head):\n",
    "    if not head:\n",
    "        return None\n",
    "\n",
    "    stack = []\n",
    "    current = head\n",
    "\n",
    "    while current:\n",
    "        if current.child:\n",
    "            if current.next:\n",
    "                stack.append(current.next)\n",
    "            current.next = current.child\n",
    "            current.next.prev = current\n",
    "            current.child = None\n",
    "        elif not current.next and stack:\n",
    "            current.next = stack.pop()\n",
    "            if current.next:\n",
    "                current.next.prev = current\n",
    "\n",
    "        current = current.next\n",
    "\n",
    "    return head\n",
    "\n",
    "# Define the doubly linked list\n",
    "node1 = Node(1)\n",
    "node2 = Node(2)\n",
    "node3 = Node(3)\n",
    "node4 = Node(4)\n",
    "node5 = Node(5)\n",
    "node6 = Node(6)\n",
    "node7 = Node(7)\n",
    "node8 = Node(8)\n",
    "node9 = Node(9)\n",
    "node10 = Node(10)\n",
    "node11 = Node(11)\n",
    "node12 = Node(12)\n",
    "node13 = Node(13)\n",
    "\n",
    "# Construct the multilevel doubly linked list\n",
    "node1.next = node2\n",
    "node2.prev = node1\n",
    "node2.next = node3\n",
    "node3.prev = node2\n",
    "node3.next = node7\n",
    "node7.prev = node3\n",
    "node7.next = node8\n",
    "node8.prev = node7\n",
    "node8.next = node11\n",
    "node11.prev = node8\n",
    "node11.next = node12\n",
    "node12.prev = node11\n",
    "\n",
    "node3.child = node4\n",
    "node4.next = node5\n",
    "node5.prev = node4\n",
    "node5.next = node9\n",
    "node9.prev = node5\n",
    "node9.next = node10\n",
    "node10.prev = node9\n",
    "\n",
    "node5.child = node6\n",
    "node6.next = node13\n",
    "node13.prev = node6\n",
    "\n",
    "# Flatten the multilevel doubly linked list\n",
    "head = flatten_doubly_linked_list(node1)\n",
    "\n",
    "\n",
    "# Print the flattened list\n",
    "print(\"Flattened list :\")\n",
    "while head:\n",
    "   \n",
    "    print(head.val, end=\" <-> \")\n",
    "    head = head.next\n"
   ]
  },
  {
   "cell_type": "code",
   "execution_count": null,
   "id": "f21a60de-453a-4ec0-822d-4f95bc2bad52",
   "metadata": {},
   "outputs": [],
   "source": []
  },
  {
   "cell_type": "markdown",
   "id": "4810218e-c5dd-4df8-8ec8-c84fd8006985",
   "metadata": {},
   "source": [
    "### Problem 12: Rearrange a linked list such that all even positioned nodes are placed at the end."
   ]
  },
  {
   "cell_type": "code",
   "execution_count": null,
   "id": "0153e94c-0fc1-4c6b-bdc0-62345df539d7",
   "metadata": {},
   "outputs": [],
   "source": [
    "Input: 1 -> 2 -> 3 -> 4 -> 5\n",
    "Output: 1 -> 3 -> 5 -> 2 -> 4"
   ]
  },
  {
   "cell_type": "code",
   "execution_count": 15,
   "id": "713d1f67-5249-4c63-9dc7-9e9ddf170ff1",
   "metadata": {},
   "outputs": [
    {
     "name": "stdout",
     "output_type": "stream",
     "text": [
      "Original linked list :\n",
      "1 -> 2 -> 3 -> 4 -> 5 -> None\n",
      "\n",
      "Rearranged linked list :\n",
      "1 -> 3 -> 5 -> 2 -> 4 -> None\n"
     ]
    }
   ],
   "source": [
    "# Defining the class Node\n",
    "class Node:\n",
    "    def __init__(self, data=None, next=None):\n",
    "        self.data = data\n",
    "        self.next = next\n",
    "\n",
    "    # Method to set the data \n",
    "    def setdata(self, data):\n",
    "        self.data = data\n",
    "\n",
    "    # Method to get the data\n",
    "    def getdata(self):\n",
    "        return self.data\n",
    "\n",
    "    # Method to set the next\n",
    "    def setnext(self, next):\n",
    "        self.next = next\n",
    "\n",
    "    # Method to get the next\n",
    "    def getnext(self):\n",
    "        return self.next\n",
    "# Function to traverse through the linked list\n",
    "def traverse(head):\n",
    "    temp = head\n",
    "    while temp:\n",
    "        print(temp.getdata(), end=\" -> \")\n",
    "        temp = temp.getnext()\n",
    "    print(\"None\")\n",
    "\n",
    "def rearrange_linked_list(head):\n",
    "    if not head or not head.getnext():\n",
    "        return head\n",
    "\n",
    "    # Separate the linked list into two lists: odd-positioned and even-positioned nodes\n",
    "    odd_head = Node()\n",
    "    even_head = Node()\n",
    "    odd_tail = odd_head\n",
    "    even_tail = even_head\n",
    "    is_odd = True\n",
    "    current = head\n",
    "    while current:\n",
    "        if is_odd:\n",
    "            odd_tail.setnext(current)\n",
    "            odd_tail = odd_tail.getnext()\n",
    "        else:\n",
    "            even_tail.setnext(current)\n",
    "            even_tail = even_tail.getnext()\n",
    "        is_odd = not is_odd\n",
    "        current = current.getnext()\n",
    "\n",
    "    # Connect the odd-positioned nodes list with the even-positioned nodes list\n",
    "    odd_tail.setnext(even_head.getnext())\n",
    "    even_tail.setnext(None)\n",
    "\n",
    "    return odd_head.getnext()\n",
    "\n",
    "# Creating the input linked list\n",
    "head = Node(1)\n",
    "node2 = Node(2)\n",
    "node3 = Node(3)\n",
    "node4 = Node(4)\n",
    "node5 = Node(5)\n",
    "\n",
    "# Linking the nodes\n",
    "head.setnext(node2)\n",
    "node2.setnext(node3)\n",
    "node3.setnext(node4)\n",
    "node4.setnext(node5)\n",
    "\n",
    "# Print the original linked list\n",
    "print(\"Original linked list :\")\n",
    "traverse(head)\n",
    "\n",
    "# Rearrange the linked list\n",
    "head = rearrange_linked_list(head)\n",
    "\n",
    "# Print the rearranged linked list\n",
    "print(\"\\nRearranged linked list :\")\n",
    "traverse(head)   \n",
    "    "
   ]
  },
  {
   "cell_type": "code",
   "execution_count": null,
   "id": "11f6e12d-e056-4168-9301-ef735446bdf3",
   "metadata": {},
   "outputs": [],
   "source": []
  },
  {
   "cell_type": "markdown",
   "id": "301a5ddb-480b-4645-9506-ad7a92bca35c",
   "metadata": {},
   "source": [
    "### Problem 13: Given a non-negative number represented as a linked list, add one to it."
   ]
  },
  {
   "cell_type": "code",
   "execution_count": null,
   "id": "836e88c9-1455-46f2-9b6c-ce4e40d0ac2c",
   "metadata": {},
   "outputs": [],
   "source": [
    "Input: 1 -> 2 -> 3 (represents the number 123)\n",
    "Output: 1 -> 2 -> 4 (represents the number 124)"
   ]
  },
  {
   "cell_type": "code",
   "execution_count": 16,
   "id": "f6e60f82-93fb-4f71-bb7f-50f7d67a8e97",
   "metadata": {},
   "outputs": [
    {
     "name": "stdout",
     "output_type": "stream",
     "text": [
      "Original linked list :\n",
      "1 -> 2 -> 3 -> None\n",
      "(represents the number 123)\n",
      "\n",
      "Modified linked list :\n",
      "0 -> 1 -> 2 -> 4 -> None\n",
      "(represents the number 124)\n"
     ]
    }
   ],
   "source": [
    "# Defining the class Node\n",
    "class Node:\n",
    "    def __init__(self, data=None, next=None):\n",
    "        self.data = data\n",
    "        self.next = next\n",
    "\n",
    "    # Method to set the data \n",
    "    def setdata(self, data):\n",
    "        self.data = data\n",
    "\n",
    "    # Method to get the data\n",
    "    def getdata(self):\n",
    "        return self.data\n",
    "\n",
    "    # Method to set the next\n",
    "    def setnext(self, next):\n",
    "        self.next = next\n",
    "\n",
    "    # Method to get the next\n",
    "    def getnext(self):\n",
    "        return self.next\n",
    "\n",
    "# Function to traverse through the linked list\n",
    "def traverse(head):\n",
    "    temp = head\n",
    "    while temp:\n",
    "        print(temp.getdata(), end=\" -> \")\n",
    "        temp = temp.getnext()\n",
    "    print(\"None\")\n",
    "    \n",
    "def add_one(head):\n",
    "    # Initialize carry to 1\n",
    "    carry = 1\n",
    "    dummy = Node(0)\n",
    "    dummy.setnext(head)\n",
    "    current = head\n",
    "    last_non_nine = dummy\n",
    "    \n",
    "    # Traverse the linked list from right to left\n",
    "    while current:\n",
    "        if current.getdata() != 9:\n",
    "            last_non_nine = current\n",
    "        current = current.getnext()\n",
    "    \n",
    "    # Add one to the last non-nine node\n",
    "    last_non_nine.setdata(last_non_nine.getdata() + 1)\n",
    "    \n",
    "    # Update the nodes after the last non-nine node\n",
    "    current = last_non_nine.getnext()\n",
    "    while current:\n",
    "        current.setdata(0)\n",
    "        current = current.getnext()\n",
    "    \n",
    "    # If the dummy node's value is 1, return dummy.next, otherwise return dummy\n",
    "    if dummy.getdata() == 1:\n",
    "        return dummy.getnext()\n",
    "    else:\n",
    "        return dummy\n",
    "    \n",
    "# Creating the input linked list\n",
    "head = Node(1)\n",
    "node2 = Node(2)\n",
    "node3 = Node(3)\n",
    "\n",
    "# Linking the nodes\n",
    "head.setnext(node2)\n",
    "node2.setnext(node3)\n",
    "\n",
    "# Print the original linked list\n",
    "print(\"Original linked list :\")\n",
    "traverse(head)\n",
    "print(\"(represents the number 123)\")\n",
    "\n",
    "# Add one to the linked list\n",
    "head = add_one(head)\n",
    "\n",
    "# Print the modified linked list\n",
    "print(\"\\nModified linked list :\")\n",
    "traverse(head)\n",
    "print(\"(represents the number 124)\")\n"
   ]
  },
  {
   "cell_type": "code",
   "execution_count": null,
   "id": "75b04e19-edb5-442a-9221-220c1e2477a2",
   "metadata": {},
   "outputs": [],
   "source": []
  },
  {
   "cell_type": "markdown",
   "id": "b94cf270-c35f-4dba-8a16-5e855e487d7f",
   "metadata": {},
   "source": [
    "### Problem 14: Given a sorted array and a target value, return the index if the target is found. If not, return the index where it would be inserted."
   ]
  },
  {
   "cell_type": "code",
   "execution_count": null,
   "id": "8099ee98-fa53-40a5-b7ce-7145f6fe9450",
   "metadata": {},
   "outputs": [],
   "source": [
    "Input: nums = [1, 3, 5, 6], target = 5\n",
    "Output: 2"
   ]
  },
  {
   "cell_type": "code",
   "execution_count": 17,
   "id": "db86c304-339c-47cf-bacb-a194707e6533",
   "metadata": {},
   "outputs": [
    {
     "name": "stdout",
     "output_type": "stream",
     "text": [
      "Input : nums = [1, 3, 5, 6] , target = 5\n",
      "Output : 2\n"
     ]
    }
   ],
   "source": [
    "def search_insert(nums, target):\n",
    "    left, right = 0, len(nums)\n",
    "\n",
    "    while left < right:\n",
    "        mid = (left + right) // 2\n",
    "\n",
    "        if nums[mid] == target:\n",
    "            return mid\n",
    "        elif nums[mid] < target:\n",
    "            left = mid + 1\n",
    "        else:\n",
    "            right = mid\n",
    "\n",
    "    return left\n",
    "\n",
    "nums = [1, 3, 5, 6]\n",
    "target = 5\n",
    "print(f\"Input : nums = {nums} , target = {target}\")\n",
    "output = search_insert(nums, target)\n",
    "print(f\"Output : {output}\")\n"
   ]
  },
  {
   "cell_type": "code",
   "execution_count": null,
   "id": "21000cfb-01c2-4f13-a528-6441171787ac",
   "metadata": {},
   "outputs": [],
   "source": []
  },
  {
   "cell_type": "markdown",
   "id": "10042707-0297-40c2-aa9f-8a68c802c6e7",
   "metadata": {},
   "source": [
    "### Problem 15: Find the minimum element in a rotated sorted array."
   ]
  },
  {
   "cell_type": "code",
   "execution_count": null,
   "id": "8067b794-ab70-4be2-87a8-9ad2c5b7b604",
   "metadata": {},
   "outputs": [],
   "source": [
    "Input: [4, 5, 6, 7, 0, 1, 2]\n",
    "Output: 0"
   ]
  },
  {
   "cell_type": "code",
   "execution_count": 18,
   "id": "5afa36b2-60fa-49e3-8f92-182504d620c9",
   "metadata": {},
   "outputs": [
    {
     "name": "stdout",
     "output_type": "stream",
     "text": [
      "Input : nums = [4, 5, 6, 7, 0, 1, 2]\n",
      "Output : 0\n"
     ]
    }
   ],
   "source": [
    "def find_min(nums):\n",
    "    left, right = 0, len(nums) - 1\n",
    "\n",
    "    while left < right:\n",
    "        mid = (left + right) // 2\n",
    "\n",
    "        if nums[mid] > nums[right]:\n",
    "            left = mid + 1\n",
    "        else:\n",
    "            right = mid\n",
    "\n",
    "    return nums[left]\n",
    "\n",
    "nums = [4, 5, 6, 7, 0, 1, 2]\n",
    "print(f\"Input : nums = {nums}\")\n",
    "output = find_min(nums)\n",
    "print(f\"Output : {output}\")\n"
   ]
  },
  {
   "cell_type": "code",
   "execution_count": null,
   "id": "330f4e78-faf7-4b86-a461-72441bc39bae",
   "metadata": {},
   "outputs": [],
   "source": []
  },
  {
   "cell_type": "markdown",
   "id": "6eddbe08-739f-49b6-9826-9a3ddefd509d",
   "metadata": {},
   "source": [
    "### Problem 16: Search for a target value in a rotated sorted array."
   ]
  },
  {
   "cell_type": "code",
   "execution_count": null,
   "id": "f99cdd3c-1be1-4bfc-a21d-f50f4be3f84e",
   "metadata": {},
   "outputs": [],
   "source": [
    "Input: nums = [4, 5, 6, 7, 0, 1, 2], target = 0\n",
    "Output: 4"
   ]
  },
  {
   "cell_type": "code",
   "execution_count": 19,
   "id": "2be7e600-2125-4006-8145-8fd0d669cc78",
   "metadata": {},
   "outputs": [
    {
     "name": "stdout",
     "output_type": "stream",
     "text": [
      "Input : nums = [4, 5, 6, 7, 0, 1, 2] , target = 0\n",
      "Output : 4\n"
     ]
    }
   ],
   "source": [
    "def search_rotated(nums, target):\n",
    "    left, right = 0, len(nums) - 1\n",
    "\n",
    "    while left <= right:\n",
    "        mid = (left + right) // 2\n",
    "\n",
    "        if nums[mid] == target:\n",
    "            return mid\n",
    "\n",
    "        if nums[left] <= nums[mid]:\n",
    "            if nums[left] <= target <= nums[mid]:\n",
    "                right = mid - 1\n",
    "            else:\n",
    "                left = mid + 1\n",
    "        else:\n",
    "            if nums[mid] <= target <= nums[right]:\n",
    "                left = mid + 1\n",
    "            else:\n",
    "                right = mid - 1\n",
    "\n",
    "    return -1\n",
    "\n",
    "nums = [4, 5, 6, 7, 0, 1, 2]\n",
    "target = 0\n",
    "print(f\"Input : nums = {nums} , target = {target}\")\n",
    "output = search_rotated(nums , target)\n",
    "print(f\"Output : {output}\")\n"
   ]
  },
  {
   "cell_type": "code",
   "execution_count": null,
   "id": "7e208d27-4055-447d-8561-a674f6a83290",
   "metadata": {},
   "outputs": [],
   "source": []
  },
  {
   "cell_type": "markdown",
   "id": "9259cdfd-cca2-4a4a-9e66-87f44c9d8cc1",
   "metadata": {},
   "source": [
    "### Problem 17: Find the peak element in an array. A peak element is greater than its neighbors."
   ]
  },
  {
   "cell_type": "code",
   "execution_count": null,
   "id": "b8986463-6342-4535-9aff-0292ca47f09a",
   "metadata": {},
   "outputs": [],
   "source": [
    "Input: nums = [1, 2, 3, 1]\n",
    "Output: 2 (index of peak element)"
   ]
  },
  {
   "cell_type": "code",
   "execution_count": 20,
   "id": "961d5c1a-ef01-4200-aa42-a09787325c21",
   "metadata": {},
   "outputs": [
    {
     "name": "stdout",
     "output_type": "stream",
     "text": [
      "Input : [1, 2, 3, 1]\n",
      "Output : 2 (index of peak element)\n"
     ]
    }
   ],
   "source": [
    "def find_peak_element(nums):\n",
    "    left, right = 0, len(nums) - 1\n",
    "\n",
    "    while left < right:\n",
    "        mid = (left + right) // 2\n",
    "\n",
    "        if nums[mid] > nums[mid + 1]:\n",
    "            right = mid\n",
    "        else:\n",
    "            left = mid + 1\n",
    "\n",
    "    return left\n",
    "\n",
    "nums = [1, 2, 3, 1]\n",
    "print(f\"Input : {nums}\")\n",
    "output = find_peak_element(nums)\n",
    "print(f\"Output : {output} (index of peak element)\")\n",
    "  "
   ]
  },
  {
   "cell_type": "code",
   "execution_count": null,
   "id": "249e9dc8-8c14-45bb-997b-2cddb85d3700",
   "metadata": {},
   "outputs": [],
   "source": []
  },
  {
   "cell_type": "markdown",
   "id": "08e97a2e-2749-4311-999b-8ca91a8ec727",
   "metadata": {},
   "source": [
    "### Problem 18: Given a m x n matrix where each row and column is sorted in ascending order, count the number of negative numbers."
   ]
  },
  {
   "cell_type": "code",
   "execution_count": null,
   "id": "d844e0bb-723f-401e-bebf-1cbd4ebd4719",
   "metadata": {},
   "outputs": [],
   "source": [
    "Input: grid = [[4, 3, 2, -1], [3, 2, 1, -1], [1, 1, -1, -2], [-1, -1, -2, -3]]\n",
    "Output: 8"
   ]
  },
  {
   "cell_type": "code",
   "execution_count": 21,
   "id": "32c78c67-489b-4ed2-bdfa-9742ddde907b",
   "metadata": {},
   "outputs": [
    {
     "name": "stdout",
     "output_type": "stream",
     "text": [
      "Input : grid = [[4, 3, 2, -1], [3, 2, 1, -1], [1, 1, -1, -2], [-1, -1, -2, -3]]\n",
      "Output : 8\n"
     ]
    }
   ],
   "source": [
    "def count_negatives(grid):\n",
    "    count = 0\n",
    "    row, col = len(grid), len(grid[0])\n",
    "    r, c = 0, col - 1\n",
    "\n",
    "    while r < row and c >= 0:\n",
    "        if grid[r][c] < 0:\n",
    "            count += row - r\n",
    "            c -= 1\n",
    "        else:\n",
    "            r += 1\n",
    "\n",
    "    return count\n",
    "\n",
    "grid = [[4, 3, 2, -1], [3, 2, 1, -1], [1, 1, -1, -2], [-1, -1, -2, -3]]\n",
    "print(f\"Input : grid = {grid}\")\n",
    "output = count_negatives(grid)\n",
    "print(f\"Output : {output}\")\n"
   ]
  },
  {
   "cell_type": "code",
   "execution_count": null,
   "id": "bad9ad3c-b77a-4077-a9a5-f2c80dea967f",
   "metadata": {},
   "outputs": [],
   "source": []
  },
  {
   "cell_type": "markdown",
   "id": "0a4a5657-d37e-4381-ac8c-0f5f486199de",
   "metadata": {},
   "source": [
    "### Problem 19: Given a 2D matrix sorted in ascending order in each row, and the first integer of each row is greater than the last integer of the previous row, determine if a target value is present in the matrix."
   ]
  },
  {
   "cell_type": "code",
   "execution_count": null,
   "id": "e8550cb3-4642-4599-bce8-02046c459a89",
   "metadata": {},
   "outputs": [],
   "source": [
    "Input: matrix = [[1, 3, 5, 7], [10, 11, 16, 20], [23, 30, 34, 60]], target = 3\n",
    "Output: True"
   ]
  },
  {
   "cell_type": "code",
   "execution_count": 22,
   "id": "5c16e2ef-e0d2-462d-a926-4b785cd2c73e",
   "metadata": {},
   "outputs": [
    {
     "name": "stdout",
     "output_type": "stream",
     "text": [
      "Input : matrix = [[1, 3, 5, 7], [10, 11, 16, 20], [23, 30, 34, 60]] , target = 3\n",
      "Output : True\n"
     ]
    }
   ],
   "source": [
    "def search_matrix(matrix, target):\n",
    "    if not matrix or not matrix[0]:\n",
    "        return False\n",
    "\n",
    "    rows, cols = len(matrix), len(matrix[0])\n",
    "    row, col = 0, cols - 1\n",
    "\n",
    "    while row < rows and col >= 0:\n",
    "        if matrix[row][col] == target:\n",
    "            return True\n",
    "        elif matrix[row][col] < target:\n",
    "            row += 1\n",
    "        else:\n",
    "            col -= 1\n",
    "\n",
    "    return False\n",
    "\n",
    "matrix = [[1, 3, 5, 7], [10, 11, 16, 20], [23, 30, 34, 60]]\n",
    "target = 3\n",
    "print(f\"Input : matrix = {matrix} , target = {target}\")\n",
    "is_present = search_matrix(matrix, target)\n",
    "print(f\"Output : {is_present}\")\n"
   ]
  },
  {
   "cell_type": "code",
   "execution_count": null,
   "id": "c28e8269-ece9-4675-873b-b7005a8f0a8f",
   "metadata": {},
   "outputs": [],
   "source": []
  },
  {
   "cell_type": "markdown",
   "id": "4b60b322-ccf0-4383-ac4f-b936ceb7bf03",
   "metadata": {},
   "source": [
    "### Problem 20: Find Median in Two Sorted Arrays Problem: Given two sorted arrays, find the median of the combined sorted array."
   ]
  },
  {
   "cell_type": "code",
   "execution_count": null,
   "id": "d5bdb61f-5dea-48f6-b497-1e3156c528da",
   "metadata": {},
   "outputs": [],
   "source": [
    "Input: nums1 = [1, 3], nums2 = [2]\n",
    "Output: 2.0"
   ]
  },
  {
   "cell_type": "code",
   "execution_count": 23,
   "id": "e2f1b4fa-6fe7-4521-9eb9-78f4daede795",
   "metadata": {},
   "outputs": [
    {
     "name": "stdout",
     "output_type": "stream",
     "text": [
      "Input : nums1 = [1, 3] , nums2 = [2]\n",
      "Output : 2.0\n"
     ]
    }
   ],
   "source": [
    "def findMedianSortedArrays(nums1, nums2):\n",
    "    nums = sorted(nums1 + nums2)\n",
    "    n = len(nums)\n",
    "\n",
    "    if n % 2 == 0:\n",
    "        mid1 = nums[n // 2]\n",
    "        mid2 = nums[n // 2 - 1]\n",
    "        return (mid1 + mid2) / 2\n",
    "    else:\n",
    "        return nums[n // 2]\n",
    "\n",
    "nums1 = [1, 3]\n",
    "nums2 = [2]\n",
    "print(f\"Input : nums1 = {nums1} , nums2 = {nums2}\")\n",
    "output = findMedianSortedArrays(nums1 , nums2)\n",
    "print(f\"Output : {float(output)}\")\n"
   ]
  },
  {
   "cell_type": "code",
   "execution_count": null,
   "id": "800b215f-1039-4d2f-9766-5c36f441bafe",
   "metadata": {},
   "outputs": [],
   "source": []
  },
  {
   "cell_type": "markdown",
   "id": "5f65c00e-316d-4740-acf7-901ea00efaba",
   "metadata": {},
   "source": [
    "### Problem 21: Given a sorted character array and a target letter, find the smallest letter in the array that is greater than the target."
   ]
  },
  {
   "cell_type": "code",
   "execution_count": null,
   "id": "6203c029-d2f8-4ba2-a80e-b5622c7777ab",
   "metadata": {},
   "outputs": [],
   "source": [
    "Input: letters = ['c', 'f', 'j'], target = a\n",
    "Output: 'c'"
   ]
  },
  {
   "cell_type": "code",
   "execution_count": 24,
   "id": "1d967215-c166-4cfd-903e-fec1f217247c",
   "metadata": {},
   "outputs": [
    {
     "name": "stdout",
     "output_type": "stream",
     "text": [
      "Input : letters = ['c', 'f', 'j'] , target = a\n",
      "Output : 'c'\n"
     ]
    }
   ],
   "source": [
    "def nextGreatestLetter(letters, target):\n",
    "    for letter in letters:\n",
    "        if letter > target:\n",
    "            return letter\n",
    "    return letters[0]\n",
    "\n",
    "letters = ['c', 'f', 'j']\n",
    "target = 'a'\n",
    "print(f\"Input : letters = {letters} , target = {target}\")\n",
    "output = nextGreatestLetter(letters, target)\n",
    "print(f\"Output : '{output}'\")\n"
   ]
  },
  {
   "cell_type": "code",
   "execution_count": null,
   "id": "c789a070-7379-486f-a185-4fe67d614324",
   "metadata": {},
   "outputs": [],
   "source": []
  },
  {
   "cell_type": "markdown",
   "id": "be7e9742-05da-4374-9953-945a0183ac67",
   "metadata": {},
   "source": [
    "### Problem 22: Given an array with n objects colored red, white, or blue, sort them in-place so that objects of the same color are adjacent, with the colors in the order red, white, and blue."
   ]
  },
  {
   "cell_type": "code",
   "execution_count": null,
   "id": "0eefcce9-0a07-4e53-95cc-40795717c1ca",
   "metadata": {},
   "outputs": [],
   "source": [
    "Input: nums = [2, 0, 2, 1, 1, 0]\n",
    "Output: [0, 0, 1, 1, 2, 2]"
   ]
  },
  {
   "cell_type": "code",
   "execution_count": 25,
   "id": "cfc39d8f-336e-42ac-99e5-cfc334427e3c",
   "metadata": {},
   "outputs": [
    {
     "name": "stdout",
     "output_type": "stream",
     "text": [
      "Input : nums = [2, 0, 2, 1, 1, 0]\n",
      "Output : [0, 0, 1, 1, 2, 2]\n"
     ]
    }
   ],
   "source": [
    "def sortColors(nums):\n",
    "    low, mid, high = 0, 0, len(nums) - 1\n",
    "\n",
    "    while mid <= high:\n",
    "        if nums[mid] == 0:\n",
    "            nums[low], nums[mid] = nums[mid], nums[low]\n",
    "            low += 1\n",
    "            mid += 1\n",
    "        elif nums[mid] == 1:\n",
    "            mid += 1\n",
    "        else:\n",
    "            nums[mid], nums[high] = nums[high], nums[mid]\n",
    "            high -= 1\n",
    "\n",
    "# Example usage:\n",
    "nums = [2, 0, 2, 1, 1, 0]\n",
    "print(f\"Input : nums = {nums}\")\n",
    "sortColors(nums)\n",
    "print(f\"Output : {nums}\")  # Output: [0, 0, 1, 1, 2, 2]\n"
   ]
  },
  {
   "cell_type": "code",
   "execution_count": null,
   "id": "625f93ed-788c-43ca-bd27-19e4b4a6d773",
   "metadata": {},
   "outputs": [],
   "source": []
  },
  {
   "cell_type": "markdown",
   "id": "e1074cc6-bdec-4ce2-896d-841bad025571",
   "metadata": {},
   "source": [
    "### Problem 23: Find the kth largest element in an unsorted array."
   ]
  },
  {
   "cell_type": "code",
   "execution_count": null,
   "id": "34874a42-1162-4614-9a0f-39f45761b56c",
   "metadata": {},
   "outputs": [],
   "source": [
    "Input: nums = [3, 2, 1, 5, 6, 4], k = 2\n",
    "Output: 5"
   ]
  },
  {
   "cell_type": "code",
   "execution_count": 67,
   "id": "0ba00f50-7d0d-406f-886a-2569f10c0e21",
   "metadata": {},
   "outputs": [
    {
     "name": "stdout",
     "output_type": "stream",
     "text": [
      "Input : nums = [3, 2, 1, 5, 6, 4] , k = 2\n",
      "Output : 5\n"
     ]
    }
   ],
   "source": [
    "def findKthLargest(nums, k):\n",
    "    nums.sort(reverse=True)\n",
    "    return nums[k - 1]\n",
    "\n",
    "nums = [3, 2, 1, 5, 6, 4]\n",
    "k = 2\n",
    "print(f\"Input : nums = {nums} , k = {k}\")\n",
    "output = findKthLargest(nums, k)\n",
    "print(f\"Output : {output}\")\n"
   ]
  },
  {
   "cell_type": "code",
   "execution_count": null,
   "id": "dada06a7-9390-4c51-94a2-d2b6456c6fdd",
   "metadata": {},
   "outputs": [],
   "source": []
  },
  {
   "cell_type": "markdown",
   "id": "245f7e1f-d7d2-4ed7-a4d8-a0e34a1fe2e5",
   "metadata": {},
   "source": [
    "### Problem 24: Given an unsorted array, reorder it in-place such that nums[0] <= nums[1] >= nums[2] <= nums[3]..."
   ]
  },
  {
   "cell_type": "code",
   "execution_count": null,
   "id": "f4c273e4-56b4-4d83-af32-79cf16b4fc70",
   "metadata": {},
   "outputs": [],
   "source": [
    "Input: nums = [3, 5, 2, 1, 6, 4]\n",
    "Output: [3, 5, 1, 6, 2, 4]"
   ]
  },
  {
   "cell_type": "code",
   "execution_count": 26,
   "id": "22ae3b0e-ac32-40d5-bb92-b4944fd0e61b",
   "metadata": {},
   "outputs": [
    {
     "name": "stdout",
     "output_type": "stream",
     "text": [
      "Input : nums = [3, 5, 2, 1, 6, 4]\n",
      "Output : [3, 6, 2, 5, 1, 4]\n"
     ]
    }
   ],
   "source": [
    "def wiggleSort(nums):\n",
    "    nums.sort()\n",
    "    n = len(nums)\n",
    "    mid = (n - 1) // 2\n",
    "    nums[::2], nums[1::2] = nums[mid::-1], nums[:mid:-1]\n",
    "    \n",
    "    return nums\n",
    "\n",
    "nums = [3, 5, 2, 1, 6, 4]\n",
    "print(f\"Input : nums = {nums}\")\n",
    "result = wiggleSort(nums)\n",
    "print(f\"Output : {result}\")\n"
   ]
  },
  {
   "cell_type": "code",
   "execution_count": null,
   "id": "555455b8-7f09-4dd7-98df-e4b7b7477960",
   "metadata": {},
   "outputs": [],
   "source": [
    "#check the output"
   ]
  },
  {
   "cell_type": "code",
   "execution_count": null,
   "id": "564cc6a4-f328-4af9-8bac-d8cc6a7caadb",
   "metadata": {},
   "outputs": [],
   "source": []
  },
  {
   "cell_type": "markdown",
   "id": "1ece252b-ecc8-4d86-b9e6-b09923f61fc0",
   "metadata": {},
   "source": [
    "### Problem 25: Given an array of integers, calculate the sum of all its elements."
   ]
  },
  {
   "cell_type": "code",
   "execution_count": null,
   "id": "eef288ac-7aaf-4d63-802c-5047b2b0dd75",
   "metadata": {},
   "outputs": [],
   "source": [
    "Input: [1, 2, 3, 4, 5]\n",
    "Output: 15"
   ]
  },
  {
   "cell_type": "code",
   "execution_count": 27,
   "id": "18c61809-fabe-4764-86d5-7555a2eeb5e5",
   "metadata": {},
   "outputs": [
    {
     "name": "stdout",
     "output_type": "stream",
     "text": [
      "Input : nums = [1, 2, 3, 4, 5]\n",
      "Output : 15\n"
     ]
    }
   ],
   "source": [
    "def array_sum(nums):\n",
    "    return sum(nums)\n",
    "\n",
    "nums = [1, 2, 3, 4, 5]\n",
    "print(f\"Input : nums = {nums}\")\n",
    "sum_all = array_sum(nums)\n",
    "print(f\"Output : {sum_all}\")\n"
   ]
  },
  {
   "cell_type": "code",
   "execution_count": null,
   "id": "703f49b9-811c-4451-9e51-cadb99b9af31",
   "metadata": {},
   "outputs": [],
   "source": []
  },
  {
   "cell_type": "markdown",
   "id": "866e9472-da2f-4698-b1c7-e05ce015591e",
   "metadata": {},
   "source": [
    "### Problem 26: Find the maximum element in an array of integers."
   ]
  },
  {
   "cell_type": "code",
   "execution_count": null,
   "id": "dec6626b-f2b8-4941-9e5f-5114105174b1",
   "metadata": {},
   "outputs": [],
   "source": [
    "Input: [3, 7, 2, 9, 4, 1]\n",
    "Output: 9"
   ]
  },
  {
   "cell_type": "code",
   "execution_count": 28,
   "id": "d1f6c9b5-e2d5-497b-bad2-b48702fc3f4a",
   "metadata": {},
   "outputs": [
    {
     "name": "stdout",
     "output_type": "stream",
     "text": [
      "Input : nums = [3, 7, 2, 9, 4, 1]\n",
      "Output : 9\n"
     ]
    }
   ],
   "source": [
    "def find_max_element(nums):\n",
    "    if not nums:\n",
    "        return None\n",
    "\n",
    "    max_element = nums[0]\n",
    "\n",
    "    for num in nums:\n",
    "        if num > max_element:\n",
    "            max_element = num\n",
    "\n",
    "    return max_element\n",
    "\n",
    "\n",
    "# Example usage:\n",
    "nums = [3, 7, 2, 9, 4, 1]\n",
    "print(f\"Input : nums = {nums}\")\n",
    "max_element = find_max_element(nums)\n",
    "print(f\"Output : {max_element}\")  # Output: 9\n"
   ]
  },
  {
   "cell_type": "code",
   "execution_count": null,
   "id": "2a35b9bf-0b58-41fb-a86d-36d3775c0f30",
   "metadata": {},
   "outputs": [],
   "source": []
  },
  {
   "cell_type": "markdown",
   "id": "31e3942c-6cd9-4a7a-9fa3-fe1a26b90e36",
   "metadata": {},
   "source": [
    "### Problem 27: Implement linear search to find the index of a target element in an array."
   ]
  },
  {
   "cell_type": "code",
   "execution_count": null,
   "id": "799e30af-3bd9-48f1-bdb8-26768af19890",
   "metadata": {},
   "outputs": [],
   "source": [
    "Input: [5, 3, 8, 2, 7, 4], target = 8\n",
    "Output: 2"
   ]
  },
  {
   "cell_type": "code",
   "execution_count": 29,
   "id": "4e41f4f5-dba0-48c7-ab61-d2869b25aa82",
   "metadata": {},
   "outputs": [
    {
     "name": "stdout",
     "output_type": "stream",
     "text": [
      "Input : nums = [5, 3, 8, 2, 7, 4] , target = 8 \n",
      "Output : 2\n"
     ]
    }
   ],
   "source": [
    "def linear_search(nums, target):\n",
    "    for i in range(len(nums)):\n",
    "        if nums[i] == target:\n",
    "            return i\n",
    "    return -1\n",
    "\n",
    "# Example usage:\n",
    "nums = [5, 3, 8, 2, 7, 4]\n",
    "target = 8\n",
    "print(f\"Input : nums = {nums} , target = {target} \")\n",
    "index = linear_search(nums, target)\n",
    "print(f\"Output : {index}\")  # Output: 2\n"
   ]
  },
  {
   "cell_type": "code",
   "execution_count": null,
   "id": "ef34b961-5e88-44b7-8c60-3f1537fb63a7",
   "metadata": {},
   "outputs": [],
   "source": []
  },
  {
   "cell_type": "markdown",
   "id": "48b03f72-a80e-4a21-abc5-1195b709602a",
   "metadata": {},
   "source": [
    "### Problem 28 Calculate the factorial of a given number."
   ]
  },
  {
   "cell_type": "code",
   "execution_count": null,
   "id": "42b5737e-8138-4d78-a77e-6a5dbe6c9ac6",
   "metadata": {},
   "outputs": [],
   "source": [
    "Input: 5\n",
    "Output: 120 (as 5! = 5 * 4 * 3 * 2 * 1 = 120)"
   ]
  },
  {
   "cell_type": "code",
   "execution_count": 30,
   "id": "78dcc7bf-d3fa-402e-a52a-54a05103a5b0",
   "metadata": {},
   "outputs": [
    {
     "name": "stdout",
     "output_type": "stream",
     "text": [
      "Input : 5\n",
      "Output : 120\n"
     ]
    }
   ],
   "source": [
    "def factorial(n):\n",
    "    if n == 0 or n == 1:\n",
    "        return 1\n",
    "    else:\n",
    "        return n * factorial(n-1)\n",
    "\n",
    "# Example usage:\n",
    "n = 5\n",
    "print(f\"Input : {n}\")\n",
    "result = factorial(n)\n",
    "print(f\"Output : {result}\")  # Output: 120\n"
   ]
  },
  {
   "cell_type": "code",
   "execution_count": null,
   "id": "3ce873d0-7192-48e7-b12f-6c22dfdb57af",
   "metadata": {},
   "outputs": [],
   "source": []
  },
  {
   "cell_type": "markdown",
   "id": "fc32dcd0-dd83-40af-b769-179c73299008",
   "metadata": {},
   "source": [
    "### Problem 29: Check if a given number is a prime number."
   ]
  },
  {
   "cell_type": "code",
   "execution_count": null,
   "id": "de75d91d-e348-4d4e-9b32-c95ec5ec54b6",
   "metadata": {},
   "outputs": [],
   "source": [
    "Input: 7\n",
    "Output: True"
   ]
  },
  {
   "cell_type": "code",
   "execution_count": 31,
   "id": "b59b7fa6-9c0f-4e39-9560-70b59c560a32",
   "metadata": {},
   "outputs": [
    {
     "name": "stdout",
     "output_type": "stream",
     "text": [
      "Input : 7\n",
      "Output : True\n"
     ]
    }
   ],
   "source": [
    "def is_prime(number):\n",
    "    if number < 2:\n",
    "        return False\n",
    "    for i in range(2, int(number**0.5) + 1):\n",
    "        if number % i == 0:\n",
    "            return False\n",
    "    return True\n",
    "\n",
    "# Example usage:\n",
    "number = 7\n",
    "print(f\"Input : {number}\")\n",
    "result = is_prime(number)\n",
    "print(f\"Output : {result}\")  # Output: True\n"
   ]
  },
  {
   "cell_type": "code",
   "execution_count": null,
   "id": "14607909-ec22-4005-8d59-6515d0584e83",
   "metadata": {},
   "outputs": [],
   "source": []
  },
  {
   "cell_type": "markdown",
   "id": "073470ac-8873-4f1e-8d6d-b6acb97b58c5",
   "metadata": {},
   "source": [
    "### Problem 30: Generate the Fibonacci series up to a given number n."
   ]
  },
  {
   "cell_type": "code",
   "execution_count": null,
   "id": "1ab9f479-b3bc-44e0-a24c-3e4072dc83be",
   "metadata": {},
   "outputs": [],
   "source": [
    "Input: 8\n",
    "Output: [0, 1, 1, 2, 3, 5, 8, 13]"
   ]
  },
  {
   "cell_type": "code",
   "execution_count": 32,
   "id": "d5e03e27-b25f-41e1-8232-95839345144f",
   "metadata": {},
   "outputs": [
    {
     "name": "stdout",
     "output_type": "stream",
     "text": [
      "Input : 13\n",
      "Output : [0, 1, 1, 2, 3, 5, 8, 13]\n"
     ]
    }
   ],
   "source": [
    "def fibonacci_series(n):\n",
    "    fib_series = [0, 1]\n",
    "    while fib_series[-1] + fib_series[-2] <= n:\n",
    "        fib_series.append(fib_series[-1] + fib_series[-2])\n",
    "    return fib_series\n",
    "\n",
    "\n",
    "# Example usage:\n",
    "n = 13\n",
    "print(f\"Input : {n}\")\n",
    "series = fibonacci_series(n)\n",
    "print(f\"Output : {series}\")  # Output: [0, 1, 1, 2, 3, 5, 8, 13]\n"
   ]
  },
  {
   "cell_type": "code",
   "execution_count": null,
   "id": "8042d359-8a92-4b6b-ba6e-91812aed1788",
   "metadata": {},
   "outputs": [],
   "source": []
  },
  {
   "cell_type": "markdown",
   "id": "9f2cf923-07ed-4f5a-8526-16784185bfa5",
   "metadata": {},
   "source": [
    "### Problem 31: Calculate the power of a number using recursion."
   ]
  },
  {
   "cell_type": "code",
   "execution_count": null,
   "id": "165ca3d7-dc8a-4a28-bc82-9fdb402eb901",
   "metadata": {},
   "outputs": [],
   "source": [
    "Input: base = 3, exponent = 4\n",
    "Output: 81 (as 3^4 = 3 * 3 * 3 * 3 = 81)"
   ]
  },
  {
   "cell_type": "code",
   "execution_count": 33,
   "id": "a4a3d7dd-183e-488d-9e47-e4f95d5c1e6d",
   "metadata": {},
   "outputs": [
    {
     "name": "stdout",
     "output_type": "stream",
     "text": [
      "Input : base = 3 , exponent = 4\n",
      "Output : 81\n"
     ]
    }
   ],
   "source": [
    "def power(base, exponent):\n",
    "    if exponent == 0:\n",
    "        return 1\n",
    "    else:\n",
    "        return base * power(base, exponent - 1)\n",
    "\n",
    "# Example usage:\n",
    "base = 3\n",
    "exponent = 4\n",
    "print(f\"Input : base = {base} , exponent = {exponent}\")\n",
    "result = power(base, exponent)\n",
    "print(f\"Output : {result}\")  # Output: 81\n"
   ]
  },
  {
   "cell_type": "code",
   "execution_count": null,
   "id": "75d6b8c2-f98f-4295-b29a-93fdfcb9b7e8",
   "metadata": {},
   "outputs": [],
   "source": []
  },
  {
   "cell_type": "markdown",
   "id": "2ae1b4bd-649a-4515-a547-d10c1aa1279e",
   "metadata": {},
   "source": [
    "### Problem 32: Reverse a given string."
   ]
  },
  {
   "cell_type": "code",
   "execution_count": null,
   "id": "7d411861-527c-4faf-9dab-2ba687cc504e",
   "metadata": {},
   "outputs": [],
   "source": [
    "Input: \"hello\"\n",
    "Output: \"olleh\""
   ]
  },
  {
   "cell_type": "code",
   "execution_count": 34,
   "id": "219a605c-f152-4dac-abf6-b702b1eaaf4a",
   "metadata": {},
   "outputs": [
    {
     "name": "stdout",
     "output_type": "stream",
     "text": [
      "Input : hello\n",
      "output : olleh\n"
     ]
    }
   ],
   "source": [
    "def reverse_string(s):\n",
    "    return s[::-1]\n",
    "\n",
    "# Example usage:\n",
    "s = \"hello\"\n",
    "reversed_str = reverse_string(s)\n",
    "print(f\"Input : {s}\")\n",
    "print(f\"output : {reversed_str}\")  # Output: \"olleh\"\n"
   ]
  },
  {
   "cell_type": "code",
   "execution_count": null,
   "id": "15b83406-fb75-4fea-9670-501253d6d319",
   "metadata": {},
   "outputs": [],
   "source": []
  },
  {
   "cell_type": "code",
   "execution_count": null,
   "id": "e6070168-eeab-4fa3-a8d4-9c947cd5e3d4",
   "metadata": {},
   "outputs": [],
   "source": []
  }
 ],
 "metadata": {
  "kernelspec": {
   "display_name": "Python 3 (ipykernel)",
   "language": "python",
   "name": "python3"
  },
  "language_info": {
   "codemirror_mode": {
    "name": "ipython",
    "version": 3
   },
   "file_extension": ".py",
   "mimetype": "text/x-python",
   "name": "python",
   "nbconvert_exporter": "python",
   "pygments_lexer": "ipython3",
   "version": "3.10.8"
  }
 },
 "nbformat": 4,
 "nbformat_minor": 5
}

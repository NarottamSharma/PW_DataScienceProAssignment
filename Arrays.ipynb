{
 "cells": [
  {
   "cell_type": "markdown",
   "id": "742c69b9-3caf-4b42-8c2b-55e99ca0870c",
   "metadata": {},
   "source": [
    "1. Given an array, check if it contains any duplicates or not.\n",
    "arr = [1, 2, 4, 2, 5, 9]\n",
    "Output = True"
   ]
  },
  {
   "cell_type": "code",
   "execution_count": 58,
   "id": "2d0116ee-c154-4072-b132-783387a8389b",
   "metadata": {
    "tags": []
   },
   "outputs": [
    {
     "name": "stdout",
     "output_type": "stream",
     "text": [
      "True\n"
     ]
    }
   ],
   "source": [
    "#  Method 1 with Time complexity of O(n^2)\n",
    "def duplicates(arr):\n",
    "    for i in arr:\n",
    "        for j in arr:\n",
    "            if i == j:\n",
    "                return True\n",
    "    return False\n",
    "\n",
    "arr = [1, 2, 4, 2, 5, 9]\n",
    "print(duplicates(arr))\n"
   ]
  },
  {
   "cell_type": "code",
   "execution_count": 59,
   "id": "d6a1300b-a3f7-4629-9ccc-58eb27d1366f",
   "metadata": {
    "tags": []
   },
   "outputs": [
    {
     "name": "stdout",
     "output_type": "stream",
     "text": [
      "True\n"
     ]
    }
   ],
   "source": [
    "#  Method 2 with Time complexity of O(n)\n",
    "def has_duplicates(arr):\n",
    "    seen=set()\n",
    "    for elements in arr:\n",
    "        if elements in seen:\n",
    "            return True\n",
    "        seen.add(elements)\n",
    "    return False\n",
    "\n",
    "arr = [1, 2, 4, 2, 5, 9]\n",
    "print(has_duplicates(arr))"
   ]
  },
  {
   "cell_type": "markdown",
   "id": "fcbbe799-b8b4-4901-a51f-85142d8e9f9e",
   "metadata": {},
   "source": [
    "2. Given an array and an integer k, rotate the array to the right by k steps.\n",
    "arr = [1, 2, 3, 4, 5, 6, 7] k = 3\n",
    "Output = [5, 6, 7, 1, 2, 3, 4]"
   ]
  },
  {
   "cell_type": "code",
   "execution_count": 60,
   "id": "4a6198c6-771f-4bd0-b7c1-631e93b80a79",
   "metadata": {},
   "outputs": [
    {
     "name": "stdout",
     "output_type": "stream",
     "text": [
      "[4, 5, 6, 7, 1, 2, 3]\n"
     ]
    }
   ],
   "source": [
    "def rotate_array(arr, k):\n",
    "    n = len(arr)\n",
    "    k %= n \n",
    "\n",
    "    arr[:k] = reversed(arr[:k])\n",
    "\n",
    "\n",
    "    arr[k:] = reversed(arr[k:])\n",
    "\n",
    "\n",
    "    arr[:] = reversed(arr)\n",
    "\n",
    "arr = [1, 2, 3, 4, 5, 6, 7]\n",
    "k = 3\n",
    "rotate_array(arr, k)\n",
    "print(arr)   "
   ]
  },
  {
   "cell_type": "markdown",
   "id": "246d5092-1fac-487b-a20d-47fa408a6a74",
   "metadata": {},
   "source": [
    "3. Reverse the given array in-place, means without using any extra data structure.\n",
    "arr = [2, 4, 5, 7, 9, 12]\n",
    "Output = [12, 9, 7, 5, 4, 2]"
   ]
  },
  {
   "cell_type": "code",
   "execution_count": 61,
   "id": "91392e42-873a-427f-acd3-144c52829721",
   "metadata": {
    "tags": []
   },
   "outputs": [
    {
     "name": "stdout",
     "output_type": "stream",
     "text": [
      "[12, 9, 7, 5, 4, 2]\n"
     ]
    }
   ],
   "source": [
    "def rev_array_in_place(arr):\n",
    "    left = 0\n",
    "    right = len(arr) - 1\n",
    "    while left < right :\n",
    "        arr[left], arr[right] = arr[right] , arr[left]\n",
    "        left = left + 1\n",
    "        right = right - 1\n",
    "    \n",
    "arr = [2, 4, 5, 7, 9, 12]\n",
    "rev_array_in_place(arr)\n",
    "print(arr)"
   ]
  },
  {
   "cell_type": "markdown",
   "id": "841cdafb-68ed-43a6-86a1-56160000b4b9",
   "metadata": {},
   "source": [
    "4. Given an array of integers, find the maximum element in an array\n",
    "arr = [10, 5, 20, 8, 15]\n",
    "Output = 20"
   ]
  },
  {
   "cell_type": "code",
   "execution_count": 62,
   "id": "4c76c049-4a81-4fda-8e60-76bf3b0762ae",
   "metadata": {
    "tags": []
   },
   "outputs": [
    {
     "data": {
      "text/plain": [
       "20"
      ]
     },
     "execution_count": 62,
     "metadata": {},
     "output_type": "execute_result"
    }
   ],
   "source": [
    "def find_max(arr):\n",
    "    max = arr[0]\n",
    "    for element in arr:\n",
    "        if element > max:\n",
    "            max = element\n",
    "    return max\n",
    "   \n",
    "arr = [10, 5, 20, 8, 15]\n",
    "find_max(arr)"
   ]
  },
  {
   "cell_type": "markdown",
   "id": "fed47520-886b-4422-bfe0-0a54d3641325",
   "metadata": {},
   "source": [
    "5. Given a sorted array, remove the duplicate element without using any extra data structure.\n",
    "arr = [1, 1, 2, 2, 2, 3, 3, 4, 4, 4, 5, 5]\n",
    "Output = [1, 2, 3, 4, 5]"
   ]
  },
  {
   "cell_type": "code",
   "execution_count": 50,
   "id": "a8c6c999-dcc8-4656-9a2d-f1e0ebe0177c",
   "metadata": {
    "tags": []
   },
   "outputs": [
    {
     "name": "stdout",
     "output_type": "stream",
     "text": [
      "[1, 2, 3, 4, 5]\n"
     ]
    }
   ],
   "source": [
    "def remove_duplicates_sorted(arr):\n",
    "    nextDistinct = 1 \n",
    "\n",
    "    for i in range(1, len(arr)):\n",
    "        if arr[i] != arr[i - 1]: \n",
    "            arr[nextDistinct] = arr[i]\n",
    "            nextDistinct += 1\n",
    "\n",
    "    return arr[:nextDistinct] \n",
    "\n",
    "arr = [1, 1, 2, 2, 2, 3, 3, 4, 4, 4, 5, 5]\n",
    "result = remove_duplicates_sorted(arr)\n",
    "print(result)  "
   ]
  }
 ],
 "metadata": {
  "kernelspec": {
   "display_name": "Python 3 (ipykernel)",
   "language": "python",
   "name": "python3"
  },
  "language_info": {
   "codemirror_mode": {
    "name": "ipython",
    "version": 3
   },
   "file_extension": ".py",
   "mimetype": "text/x-python",
   "name": "python",
   "nbconvert_exporter": "python",
   "pygments_lexer": "ipython3",
   "version": "3.11.5"
  }
 },
 "nbformat": 4,
 "nbformat_minor": 5
}
